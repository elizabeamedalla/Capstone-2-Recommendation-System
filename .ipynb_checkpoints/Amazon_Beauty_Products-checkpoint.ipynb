{
 "cells": [
  {
   "cell_type": "markdown",
   "metadata": {
    "colab_type": "text",
    "id": "Rrve4HEiSEQe"
   },
   "source": [
    "# Import data and packages"
   ]
  },
  {
   "cell_type": "code",
   "execution_count": 1,
   "metadata": {},
   "outputs": [
    {
     "name": "stderr",
     "output_type": "stream",
     "text": [
      "/Users/bea/opt/anaconda3/lib/python3.7/site-packages/IPython/core/interactiveshell.py:3063: DtypeWarning: Columns (8) have mixed types.Specify dtype option on import or set low_memory=False.\n",
      "  interactivity=interactivity, compiler=compiler, result=result)\n"
     ]
    }
   ],
   "source": [
    "import os\n",
    "import pandas as pd\n",
    "import numpy as np\n",
    "import datetime as dt\n",
    "import matplotlib.pyplot as plt\n",
    "%matplotlib inline\n",
    "import matplotlib as mpl\n",
    "import seaborn as sns\n",
    "sns.set_style(\"darkgrid\")\n",
    "sns.set(style=\"darkgrid\", color_codes=True)\n",
    "\n",
    "# load data\n",
    "df = pd.read_csv('./data/final_amazon_beauty.csv')"
   ]
  },
  {
   "cell_type": "code",
   "execution_count": 2,
   "metadata": {
    "colab": {},
    "colab_type": "code",
    "id": "f5NDXrN2CtH7"
   },
   "outputs": [],
   "source": [
    "# we will be using bokeh but a couple of them will be run using matplotlob.pyplot\n",
    "import matplotlib.pyplot as plt\n",
    "\n",
    "# we need to ensure we are working with the current, stable release of bokeh.\n",
    "# we will use bokeh for data visualization\n",
    "\n",
    "!pip install -q bokeh==2.1.1"
   ]
  },
  {
   "cell_type": "code",
   "execution_count": 3,
   "metadata": {},
   "outputs": [
    {
     "data": {
      "text/html": [
       "<div>\n",
       "<style scoped>\n",
       "    .dataframe tbody tr th:only-of-type {\n",
       "        vertical-align: middle;\n",
       "    }\n",
       "\n",
       "    .dataframe tbody tr th {\n",
       "        vertical-align: top;\n",
       "    }\n",
       "\n",
       "    .dataframe thead th {\n",
       "        text-align: right;\n",
       "    }\n",
       "</style>\n",
       "<table border=\"1\" class=\"dataframe\">\n",
       "  <thead>\n",
       "    <tr style=\"text-align: right;\">\n",
       "      <th></th>\n",
       "      <th>rating</th>\n",
       "      <th>verified</th>\n",
       "      <th>review_time</th>\n",
       "      <th>reviewer_id</th>\n",
       "      <th>product_id</th>\n",
       "      <th>reviewer_name</th>\n",
       "      <th>reviewer_text</th>\n",
       "      <th>summary</th>\n",
       "      <th>vote</th>\n",
       "      <th>title</th>\n",
       "      <th>brand</th>\n",
       "      <th>rank</th>\n",
       "      <th>main_cat</th>\n",
       "      <th>description</th>\n",
       "      <th>also_view</th>\n",
       "      <th>also_buy</th>\n",
       "      <th>price</th>\n",
       "      <th>similar_item</th>\n",
       "      <th>details</th>\n",
       "    </tr>\n",
       "  </thead>\n",
       "  <tbody>\n",
       "    <tr>\n",
       "      <th>0</th>\n",
       "      <td>5</td>\n",
       "      <td>False</td>\n",
       "      <td>2000-06-03</td>\n",
       "      <td>A2XMFX1BR0IJFJ</td>\n",
       "      <td>0061073717</td>\n",
       "      <td>Jonathan Reed (jonathan.reed2@virgin.net)</td>\n",
       "      <td>This calender is brilliant and has plenty of g...</td>\n",
       "      <td>Futurama rules</td>\n",
       "      <td>2</td>\n",
       "      <td>Workout Headphones by Arena Essentials</td>\n",
       "      <td>HarperCollins</td>\n",
       "      <td>3,235,148inBeautyamp;PersonalCare(</td>\n",
       "      <td>All Beauty</td>\n",
       "      <td>NaN</td>\n",
       "      <td>NaN</td>\n",
       "      <td>NaN</td>\n",
       "      <td>NaN</td>\n",
       "      <td>NaN</td>\n",
       "      <td>NaN</td>\n",
       "    </tr>\n",
       "    <tr>\n",
       "      <th>1</th>\n",
       "      <td>5</td>\n",
       "      <td>False</td>\n",
       "      <td>2000-05-06</td>\n",
       "      <td>ATKPYXA8XFKGJ</td>\n",
       "      <td>0061073717</td>\n",
       "      <td>Gwen Bates</td>\n",
       "      <td>This calender really is great.  In addition to...</td>\n",
       "      <td>A great gift for any futurama fan!</td>\n",
       "      <td>NaN</td>\n",
       "      <td>Workout Headphones by Arena Essentials</td>\n",
       "      <td>HarperCollins</td>\n",
       "      <td>3,235,148inBeautyamp;PersonalCare(</td>\n",
       "      <td>All Beauty</td>\n",
       "      <td>NaN</td>\n",
       "      <td>NaN</td>\n",
       "      <td>NaN</td>\n",
       "      <td>NaN</td>\n",
       "      <td>NaN</td>\n",
       "      <td>NaN</td>\n",
       "    </tr>\n",
       "    <tr>\n",
       "      <th>2</th>\n",
       "      <td>1</td>\n",
       "      <td>True</td>\n",
       "      <td>2015-02-19</td>\n",
       "      <td>A1V6B6TNIC10QE</td>\n",
       "      <td>0143026860</td>\n",
       "      <td>theodore j bigham</td>\n",
       "      <td>great</td>\n",
       "      <td>One Star</td>\n",
       "      <td>NaN</td>\n",
       "      <td>Black Diamond</td>\n",
       "      <td>Swedish Beauty</td>\n",
       "      <td>1,462,563inBeautyamp;PersonalCare(</td>\n",
       "      <td>All Beauty</td>\n",
       "      <td>['This is the NEW PURPLE BOTTLE that just came...</td>\n",
       "      <td>['B000LXTNMW']</td>\n",
       "      <td>NaN</td>\n",
       "      <td>NaN</td>\n",
       "      <td>NaN</td>\n",
       "      <td>NaN</td>\n",
       "    </tr>\n",
       "    <tr>\n",
       "      <th>3</th>\n",
       "      <td>4</td>\n",
       "      <td>True</td>\n",
       "      <td>2014-12-18</td>\n",
       "      <td>A2F5GHSXFQ0W6J</td>\n",
       "      <td>0143026860</td>\n",
       "      <td>Mary K. Byke</td>\n",
       "      <td>My  husband wanted to reading about the Negro ...</td>\n",
       "      <td>... to reading about the Negro Baseball and th...</td>\n",
       "      <td>NaN</td>\n",
       "      <td>Black Diamond</td>\n",
       "      <td>Swedish Beauty</td>\n",
       "      <td>1,462,563inBeautyamp;PersonalCare(</td>\n",
       "      <td>All Beauty</td>\n",
       "      <td>['This is the NEW PURPLE BOTTLE that just came...</td>\n",
       "      <td>['B000LXTNMW']</td>\n",
       "      <td>NaN</td>\n",
       "      <td>NaN</td>\n",
       "      <td>NaN</td>\n",
       "      <td>NaN</td>\n",
       "    </tr>\n",
       "    <tr>\n",
       "      <th>4</th>\n",
       "      <td>4</td>\n",
       "      <td>True</td>\n",
       "      <td>2014-08-10</td>\n",
       "      <td>A1572GUYS7DGSR</td>\n",
       "      <td>0143026860</td>\n",
       "      <td>David G</td>\n",
       "      <td>This book was very informative, covering all a...</td>\n",
       "      <td>Worth the Read</td>\n",
       "      <td>NaN</td>\n",
       "      <td>Black Diamond</td>\n",
       "      <td>Swedish Beauty</td>\n",
       "      <td>1,462,563inBeautyamp;PersonalCare(</td>\n",
       "      <td>All Beauty</td>\n",
       "      <td>['This is the NEW PURPLE BOTTLE that just came...</td>\n",
       "      <td>['B000LXTNMW']</td>\n",
       "      <td>NaN</td>\n",
       "      <td>NaN</td>\n",
       "      <td>NaN</td>\n",
       "      <td>NaN</td>\n",
       "    </tr>\n",
       "  </tbody>\n",
       "</table>\n",
       "</div>"
      ],
      "text/plain": [
       "   rating  verified review_time     reviewer_id  product_id  \\\n",
       "0       5     False  2000-06-03  A2XMFX1BR0IJFJ  0061073717   \n",
       "1       5     False  2000-05-06   ATKPYXA8XFKGJ  0061073717   \n",
       "2       1      True  2015-02-19  A1V6B6TNIC10QE  0143026860   \n",
       "3       4      True  2014-12-18  A2F5GHSXFQ0W6J  0143026860   \n",
       "4       4      True  2014-08-10  A1572GUYS7DGSR  0143026860   \n",
       "\n",
       "                               reviewer_name  \\\n",
       "0  Jonathan Reed (jonathan.reed2@virgin.net)   \n",
       "1                                 Gwen Bates   \n",
       "2                          theodore j bigham   \n",
       "3                               Mary K. Byke   \n",
       "4                                    David G   \n",
       "\n",
       "                                       reviewer_text  \\\n",
       "0  This calender is brilliant and has plenty of g...   \n",
       "1  This calender really is great.  In addition to...   \n",
       "2                                              great   \n",
       "3  My  husband wanted to reading about the Negro ...   \n",
       "4  This book was very informative, covering all a...   \n",
       "\n",
       "                                             summary vote  \\\n",
       "0                                     Futurama rules    2   \n",
       "1                 A great gift for any futurama fan!  NaN   \n",
       "2                                           One Star  NaN   \n",
       "3  ... to reading about the Negro Baseball and th...  NaN   \n",
       "4                                     Worth the Read  NaN   \n",
       "\n",
       "                                    title           brand  \\\n",
       "0  Workout Headphones by Arena Essentials   HarperCollins   \n",
       "1  Workout Headphones by Arena Essentials   HarperCollins   \n",
       "2                           Black Diamond  Swedish Beauty   \n",
       "3                           Black Diamond  Swedish Beauty   \n",
       "4                           Black Diamond  Swedish Beauty   \n",
       "\n",
       "                                 rank    main_cat  \\\n",
       "0  3,235,148inBeautyamp;PersonalCare(  All Beauty   \n",
       "1  3,235,148inBeautyamp;PersonalCare(  All Beauty   \n",
       "2  1,462,563inBeautyamp;PersonalCare(  All Beauty   \n",
       "3  1,462,563inBeautyamp;PersonalCare(  All Beauty   \n",
       "4  1,462,563inBeautyamp;PersonalCare(  All Beauty   \n",
       "\n",
       "                                         description       also_view also_buy  \\\n",
       "0                                                NaN             NaN      NaN   \n",
       "1                                                NaN             NaN      NaN   \n",
       "2  ['This is the NEW PURPLE BOTTLE that just came...  ['B000LXTNMW']      NaN   \n",
       "3  ['This is the NEW PURPLE BOTTLE that just came...  ['B000LXTNMW']      NaN   \n",
       "4  ['This is the NEW PURPLE BOTTLE that just came...  ['B000LXTNMW']      NaN   \n",
       "\n",
       "  price similar_item details  \n",
       "0   NaN          NaN     NaN  \n",
       "1   NaN          NaN     NaN  \n",
       "2   NaN          NaN     NaN  \n",
       "3   NaN          NaN     NaN  \n",
       "4   NaN          NaN     NaN  "
      ]
     },
     "execution_count": 3,
     "metadata": {},
     "output_type": "execute_result"
    }
   ],
   "source": [
    "df.head()"
   ]
  },
  {
   "cell_type": "code",
   "execution_count": 4,
   "metadata": {
    "colab": {
     "base_uri": "https://localhost:8080/",
     "height": 225
    },
    "colab_type": "code",
    "id": "Zfbw9t7BY9P8",
    "outputId": "c051c67c-3e2f-4b5a-9740-58c77883f258"
   },
   "outputs": [
    {
     "data": {
      "text/plain": [
       "A2GJX2KCUSR0EI    27\n",
       "A1KSC91G9AIY2Z    23\n",
       "A1EGCED01USBA9    21\n",
       "A22CW0ZHY3NJH8    21\n",
       "AENH50GW3OKDA     20\n",
       "                  ..\n",
       "A16IV2M475WI77     1\n",
       "A2N9UUA0D0397P     1\n",
       "ARWYNIXSU8N7J      1\n",
       "A2SU8JOOZXUA98     1\n",
       "A13LU5IT0S68CG     1\n",
       "Name: reviewer_id, Length: 324038, dtype: int64"
      ]
     },
     "execution_count": 4,
     "metadata": {},
     "output_type": "execute_result"
    }
   ],
   "source": [
    "df['reviewer_id'].value_counts()"
   ]
  },
  {
   "cell_type": "code",
   "execution_count": 5,
   "metadata": {
    "colab": {
     "base_uri": "https://localhost:8080/",
     "height": 489
    },
    "colab_type": "code",
    "id": "b5D3FEUbeL9j",
    "outputId": "e209f170-a6b9-4ab2-b416-d7040d5ca39b"
   },
   "outputs": [
    {
     "data": {
      "text/plain": [
       "reviewer_id     title                                                                                                                                                                        \n",
       "A2GJX2KCUSR0EI  Whish Coconut Shaving Cream - Smooth, All Natural Shave Cream for Men & Women, Leaves Skin so Soft, Shea Butter and Coconut Oil, Natural and Organic Skin Care - 5 oz. pump      4\n",
       "                (3 Pack) e.l.f. Essential All Over Color Stick - Golden Peach                                                                                                                    1\n",
       "                Briogeo - Rosarco Milk Reparative Leave-In Conditioning Spray, Ultra-Lightweight Leave-In Conditioner for Those with Dry, Damaged, and Brittle Hair, 5 oz                        1\n",
       "                COVERGIRL Smoothers Moisturizing Concealer, 1 Tube (0.14 oz), For Fair Skin Tones, Solid Stick Concealer, Fragrance Free, Moisturizing (packaging may vary)                      1\n",
       "                Givenchy Poudre Lumière Originelle - Soft Powder Radiance Enhancer                                                                                                               1\n",
       "                Home Health Evercln, Face Cream, 1.69 Fluid Ounce                                                                                                                                1\n",
       "                Insane Deal! Powerful 3 in 1 Professional Blue Electric Callus Remover, Epilator & Shaver Rechargeable Cordless Gentle and Safe for Healthy and Smooth Skin for Women or Men.    1\n",
       "                Kate Somerville ExfoliKate Intensive Exfoliating Treatment (5 Fl. Oz. Luxury Size)                                                                                               1\n",
       "                Maybelline Color Sensational Vivid Matte Liquid (40 Berry Boost)                                                                                                                 1\n",
       "                Mega Pro 2 Palette 32 Colors Authentic                                                                                                                                           1\n",
       "                Nth Degree Smoothing Argan Oil & Keratin Hair Mask 6.8 fl. oz.                                                                                                                   1\n",
       "                Nth Degree Smoothing Argan Oil and Keratin Collection Shampoo 13.5 oz. …                                                                                                         1\n",
       "                Oral-B Glide Pro-Health Dental Floss, Original Floss, 50m, Pack of 6                                                                                                             1\n",
       "                Peripera Rouge Pang Rich Color Lipstick 0.2 Ounce PP02 Some Story To Tell                                                                                                        1\n",
       "                Rimmel Provocalips 16hr Kissproof Lipstick, Kiss Fatal, 0.14 Fluid Ounce                                                                                                         1\n",
       "                Secret Antiperspirant and Deodorant for Women, Clinical Strength Soft Solid, Light and Fresh, 1.6 Oz                                                                             1\n",
       "                Tara Smith Base Coat Serum                                                                                                                                                       1\n",
       "                Wellage Vita Blue in Jection DIY Mask Moisturizing Care                                                                                                                          1\n",
       "                Yes To Cucumber Hypoallergenic Facial Towelettes, 30 Count (Pack of 6)                                                                                                           1\n",
       "                Yumbutter - Organic Go-Anywhere Superfood Pouch Almond Butter - 7 oz.                                                                                                            1\n",
       "                ZeroShop(TM) Empty Clear Spray Bottles / Portable Refillable Fine Mist Sprayer Bottles for Cleaning Products,Beauty Treatments / Pack Of 3 (Colors may Vary)                     1\n",
       "                [SNP] Aqua Energy Fermentation Mask (10EA)                                                                                                                                       1\n",
       "                clariSEA Pomegranate De-Bump Salt Buff, 15 oz.                                                                                                                                   1\n",
       "                e.l.f. Matte Lip Color, Praline, 0.05 Ounce                                                                                                                                      1\n",
       "Name: title, dtype: int64"
      ]
     },
     "execution_count": 5,
     "metadata": {},
     "output_type": "execute_result"
    }
   ],
   "source": [
    "example = df[df.reviewer_id == 'A2GJX2KCUSR0EI']\n",
    "example.groupby('reviewer_id')['title'].value_counts()"
   ]
  },
  {
   "cell_type": "markdown",
   "metadata": {
    "colab_type": "text",
    "id": "oaapWua1ZVm6"
   },
   "source": [
    "#### Reviewer ID is more unique that reviewer names. We will be using Reviewer ID as our index."
   ]
  },
  {
   "cell_type": "code",
   "execution_count": 6,
   "metadata": {},
   "outputs": [
    {
     "name": "stdout",
     "output_type": "stream",
     "text": [
      "<class 'pandas.core.frame.DataFrame'>\n",
      "RangeIndex: 371345 entries, 0 to 371344\n",
      "Data columns (total 19 columns):\n",
      " #   Column         Non-Null Count   Dtype \n",
      "---  ------         --------------   ----- \n",
      " 0   rating         371345 non-null  int64 \n",
      " 1   verified       371345 non-null  bool  \n",
      " 2   review_time    371345 non-null  object\n",
      " 3   reviewer_id    371345 non-null  object\n",
      " 4   product_id     371345 non-null  object\n",
      " 5   reviewer_name  371293 non-null  object\n",
      " 6   reviewer_text  370946 non-null  object\n",
      " 7   summary        371134 non-null  object\n",
      " 8   vote           51899 non-null   object\n",
      " 9   title          371329 non-null  object\n",
      " 10  brand          283989 non-null  object\n",
      " 11  rank           369010 non-null  object\n",
      " 12  main_cat       371345 non-null  object\n",
      " 13  description    258425 non-null  object\n",
      " 14  also_view      217021 non-null  object\n",
      " 15  also_buy       148452 non-null  object\n",
      " 16  price          186438 non-null  object\n",
      " 17  similar_item   10796 non-null   object\n",
      " 18  details        364427 non-null  object\n",
      "dtypes: bool(1), int64(1), object(17)\n",
      "memory usage: 51.4+ MB\n"
     ]
    }
   ],
   "source": [
    "df.info()"
   ]
  },
  {
   "cell_type": "markdown",
   "metadata": {
    "colab_type": "text",
    "id": "fBwOtqYeHen6"
   },
   "source": [
    "## Number of unique values"
   ]
  },
  {
   "cell_type": "code",
   "execution_count": 7,
   "metadata": {
    "colab": {
     "base_uri": "https://localhost:8080/",
     "height": 173
    },
    "colab_type": "code",
    "id": "CyBPa8XjUcAd",
    "outputId": "299ffb37-d127-401f-eeed-69c4aee2b19a"
   },
   "outputs": [
    {
     "name": "stdout",
     "output_type": "stream",
     "text": [
      "Reviews are taken from: 2000-06-03 to 2016-12-15\n",
      "\n",
      "Number of reviews: 371,345\n",
      "Number of customers: 324,038\n",
      "Number of unique products: 32,586\n",
      "Number of reviewer name: 221,127\n",
      "Number of unique name of products: 32,392\n",
      "Number of product categories: 1\n",
      "Number of unique amount of votes: 392\n"
     ]
    }
   ],
   "source": [
    "print('Reviews are taken from: {} to {}\\n'. format(sorted(df.review_time.head(1)).pop(), \n",
    "                                                   sorted(df.review_time.tail(1)).pop()))\n",
    "print('Number of reviews: {:,}'.format(len(df)))\n",
    "print('Number of customers: {:,}'.format(len(df.reviewer_id.unique())))\n",
    "print('Number of unique products: {:,}'.format(len(df.product_id.unique())))\n",
    "print('Number of reviewer name: {:,}'.format(len(df.reviewer_name.unique())))\n",
    "print('Number of unique name of products: {:,}'.format(len(df.title.unique())))\n",
    "print('Number of product categories: {:,}'.format(len(df.main_cat.unique())))\n",
    "print('Number of unique amount of votes: {:,}'.format(len(df.vote.unique())))\n"
   ]
  },
  {
   "cell_type": "markdown",
   "metadata": {
    "colab_type": "text",
    "id": "oZzXrFl5IRpK"
   },
   "source": [
    "## Missing data inspection\n",
    "\n",
    "#### ask advice with Ana on if there's something I can do with this."
   ]
  },
  {
   "cell_type": "code",
   "execution_count": 8,
   "metadata": {
    "colab": {
     "base_uri": "https://localhost:8080/",
     "height": 364
    },
    "colab_type": "code",
    "id": "5WiRA2BmJVWA",
    "outputId": "414b477d-905b-4546-ff6a-036aa29e5b68"
   },
   "outputs": [
    {
     "name": "stdout",
     "output_type": "stream",
     "text": [
      "MISSING ROWS per COLUMN\n",
      "rating: 0, 0.00%\n",
      "verified: 0, 0.00%\n",
      "review_time: 0, 0.00%\n",
      "reviewer_id: 0, 0.00%\n",
      "product_id: 0, 0.00%\n",
      "reviewer_name: 52, 0.01%\n",
      "reviewer_text: 399, 0.11%\n",
      "summary: 211, 0.06%\n",
      "vote: 319446, 86.02%\n",
      "title: 16, 0.00%\n",
      "brand: 87356, 23.52%\n",
      "rank: 2335, 0.63%\n",
      "main_cat: 0, 0.00%\n",
      "description: 112920, 30.41%\n",
      "also_view: 154324, 41.56%\n",
      "also_buy: 222893, 60.02%\n",
      "price: 184907, 49.79%\n",
      "similar_item: 360549, 97.09%\n",
      "details: 6918, 1.86%\n"
     ]
    }
   ],
   "source": [
    "def missing(dataset):\n",
    "    columns = dataset.columns\n",
    "    print('MISSING ROWS per COLUMN')\n",
    "    for column in columns:\n",
    "        percentage = (dataset[column].isnull().sum() / len(dataset)) * 100\n",
    "        print('{}: {}, {:0.2f}%'.format(column, dataset[column].isnull().sum(), percentage))\n",
    "        \n",
    "missing(df)"
   ]
  },
  {
   "cell_type": "markdown",
   "metadata": {
    "colab_type": "text",
    "id": "loOWJjNR4ujR"
   },
   "source": [
    "## Changing Data types"
   ]
  },
  {
   "cell_type": "markdown",
   "metadata": {
    "colab_type": "text",
    "id": "H2JfK2wP41I1"
   },
   "source": [
    "Many of the columns are of data type \"object\" but we need them as strings."
   ]
  },
  {
   "cell_type": "code",
   "execution_count": 9,
   "metadata": {
    "colab": {
     "base_uri": "https://localhost:8080/",
     "height": 591
    },
    "colab_type": "code",
    "id": "JDMP3jSl5cJH",
    "outputId": "11061131-3616-4e14-8b30-9da228e8e3f2"
   },
   "outputs": [
    {
     "data": {
      "text/html": [
       "<div>\n",
       "<style scoped>\n",
       "    .dataframe tbody tr th:only-of-type {\n",
       "        vertical-align: middle;\n",
       "    }\n",
       "\n",
       "    .dataframe tbody tr th {\n",
       "        vertical-align: top;\n",
       "    }\n",
       "\n",
       "    .dataframe thead th {\n",
       "        text-align: right;\n",
       "    }\n",
       "</style>\n",
       "<table border=\"1\" class=\"dataframe\">\n",
       "  <thead>\n",
       "    <tr style=\"text-align: right;\">\n",
       "      <th></th>\n",
       "      <th>rating</th>\n",
       "      <th>verified</th>\n",
       "      <th>review_time</th>\n",
       "      <th>reviewer_id</th>\n",
       "      <th>product_id</th>\n",
       "      <th>reviewer_name</th>\n",
       "      <th>reviewer_text</th>\n",
       "      <th>summary</th>\n",
       "      <th>vote</th>\n",
       "      <th>title</th>\n",
       "      <th>brand</th>\n",
       "      <th>rank</th>\n",
       "      <th>main_cat</th>\n",
       "      <th>description</th>\n",
       "      <th>also_view</th>\n",
       "      <th>also_buy</th>\n",
       "      <th>price</th>\n",
       "      <th>similar_item</th>\n",
       "      <th>details</th>\n",
       "    </tr>\n",
       "  </thead>\n",
       "  <tbody>\n",
       "    <tr>\n",
       "      <th>0</th>\n",
       "      <td>5</td>\n",
       "      <td>False</td>\n",
       "      <td>2000-06-03</td>\n",
       "      <td>A2XMFX1BR0IJFJ</td>\n",
       "      <td>0061073717</td>\n",
       "      <td>Jonathan Reed (jonathan.reed2@virgin.net)</td>\n",
       "      <td>This calender is brilliant and has plenty of g...</td>\n",
       "      <td>Futurama rules</td>\n",
       "      <td>2</td>\n",
       "      <td>Workout Headphones by Arena Essentials</td>\n",
       "      <td>HarperCollins</td>\n",
       "      <td>3,235,148inBeautyamp;PersonalCare(</td>\n",
       "      <td>All Beauty</td>\n",
       "      <td>NaN</td>\n",
       "      <td>NaN</td>\n",
       "      <td>NaN</td>\n",
       "      <td>NaN</td>\n",
       "      <td>NaN</td>\n",
       "      <td>NaN</td>\n",
       "    </tr>\n",
       "    <tr>\n",
       "      <th>1</th>\n",
       "      <td>5</td>\n",
       "      <td>False</td>\n",
       "      <td>2000-05-06</td>\n",
       "      <td>ATKPYXA8XFKGJ</td>\n",
       "      <td>0061073717</td>\n",
       "      <td>Gwen Bates</td>\n",
       "      <td>This calender really is great.  In addition to...</td>\n",
       "      <td>A great gift for any futurama fan!</td>\n",
       "      <td>NaN</td>\n",
       "      <td>Workout Headphones by Arena Essentials</td>\n",
       "      <td>HarperCollins</td>\n",
       "      <td>3,235,148inBeautyamp;PersonalCare(</td>\n",
       "      <td>All Beauty</td>\n",
       "      <td>NaN</td>\n",
       "      <td>NaN</td>\n",
       "      <td>NaN</td>\n",
       "      <td>NaN</td>\n",
       "      <td>NaN</td>\n",
       "      <td>NaN</td>\n",
       "    </tr>\n",
       "    <tr>\n",
       "      <th>2</th>\n",
       "      <td>1</td>\n",
       "      <td>True</td>\n",
       "      <td>2015-02-19</td>\n",
       "      <td>A1V6B6TNIC10QE</td>\n",
       "      <td>0143026860</td>\n",
       "      <td>theodore j bigham</td>\n",
       "      <td>great</td>\n",
       "      <td>One Star</td>\n",
       "      <td>NaN</td>\n",
       "      <td>Black Diamond</td>\n",
       "      <td>Swedish Beauty</td>\n",
       "      <td>1,462,563inBeautyamp;PersonalCare(</td>\n",
       "      <td>All Beauty</td>\n",
       "      <td>['This is the NEW PURPLE BOTTLE that just came...</td>\n",
       "      <td>['B000LXTNMW']</td>\n",
       "      <td>NaN</td>\n",
       "      <td>NaN</td>\n",
       "      <td>NaN</td>\n",
       "      <td>NaN</td>\n",
       "    </tr>\n",
       "    <tr>\n",
       "      <th>3</th>\n",
       "      <td>4</td>\n",
       "      <td>True</td>\n",
       "      <td>2014-12-18</td>\n",
       "      <td>A2F5GHSXFQ0W6J</td>\n",
       "      <td>0143026860</td>\n",
       "      <td>Mary K. Byke</td>\n",
       "      <td>My  husband wanted to reading about the Negro ...</td>\n",
       "      <td>... to reading about the Negro Baseball and th...</td>\n",
       "      <td>NaN</td>\n",
       "      <td>Black Diamond</td>\n",
       "      <td>Swedish Beauty</td>\n",
       "      <td>1,462,563inBeautyamp;PersonalCare(</td>\n",
       "      <td>All Beauty</td>\n",
       "      <td>['This is the NEW PURPLE BOTTLE that just came...</td>\n",
       "      <td>['B000LXTNMW']</td>\n",
       "      <td>NaN</td>\n",
       "      <td>NaN</td>\n",
       "      <td>NaN</td>\n",
       "      <td>NaN</td>\n",
       "    </tr>\n",
       "    <tr>\n",
       "      <th>4</th>\n",
       "      <td>4</td>\n",
       "      <td>True</td>\n",
       "      <td>2014-08-10</td>\n",
       "      <td>A1572GUYS7DGSR</td>\n",
       "      <td>0143026860</td>\n",
       "      <td>David G</td>\n",
       "      <td>This book was very informative, covering all a...</td>\n",
       "      <td>Worth the Read</td>\n",
       "      <td>NaN</td>\n",
       "      <td>Black Diamond</td>\n",
       "      <td>Swedish Beauty</td>\n",
       "      <td>1,462,563inBeautyamp;PersonalCare(</td>\n",
       "      <td>All Beauty</td>\n",
       "      <td>['This is the NEW PURPLE BOTTLE that just came...</td>\n",
       "      <td>['B000LXTNMW']</td>\n",
       "      <td>NaN</td>\n",
       "      <td>NaN</td>\n",
       "      <td>NaN</td>\n",
       "      <td>NaN</td>\n",
       "    </tr>\n",
       "  </tbody>\n",
       "</table>\n",
       "</div>"
      ],
      "text/plain": [
       "   rating  verified review_time     reviewer_id  product_id  \\\n",
       "0       5     False  2000-06-03  A2XMFX1BR0IJFJ  0061073717   \n",
       "1       5     False  2000-05-06   ATKPYXA8XFKGJ  0061073717   \n",
       "2       1      True  2015-02-19  A1V6B6TNIC10QE  0143026860   \n",
       "3       4      True  2014-12-18  A2F5GHSXFQ0W6J  0143026860   \n",
       "4       4      True  2014-08-10  A1572GUYS7DGSR  0143026860   \n",
       "\n",
       "                               reviewer_name  \\\n",
       "0  Jonathan Reed (jonathan.reed2@virgin.net)   \n",
       "1                                 Gwen Bates   \n",
       "2                          theodore j bigham   \n",
       "3                               Mary K. Byke   \n",
       "4                                    David G   \n",
       "\n",
       "                                       reviewer_text  \\\n",
       "0  This calender is brilliant and has plenty of g...   \n",
       "1  This calender really is great.  In addition to...   \n",
       "2                                              great   \n",
       "3  My  husband wanted to reading about the Negro ...   \n",
       "4  This book was very informative, covering all a...   \n",
       "\n",
       "                                             summary vote  \\\n",
       "0                                     Futurama rules    2   \n",
       "1                 A great gift for any futurama fan!  NaN   \n",
       "2                                           One Star  NaN   \n",
       "3  ... to reading about the Negro Baseball and th...  NaN   \n",
       "4                                     Worth the Read  NaN   \n",
       "\n",
       "                                    title           brand  \\\n",
       "0  Workout Headphones by Arena Essentials   HarperCollins   \n",
       "1  Workout Headphones by Arena Essentials   HarperCollins   \n",
       "2                           Black Diamond  Swedish Beauty   \n",
       "3                           Black Diamond  Swedish Beauty   \n",
       "4                           Black Diamond  Swedish Beauty   \n",
       "\n",
       "                                 rank    main_cat  \\\n",
       "0  3,235,148inBeautyamp;PersonalCare(  All Beauty   \n",
       "1  3,235,148inBeautyamp;PersonalCare(  All Beauty   \n",
       "2  1,462,563inBeautyamp;PersonalCare(  All Beauty   \n",
       "3  1,462,563inBeautyamp;PersonalCare(  All Beauty   \n",
       "4  1,462,563inBeautyamp;PersonalCare(  All Beauty   \n",
       "\n",
       "                                         description       also_view also_buy  \\\n",
       "0                                                NaN             NaN      NaN   \n",
       "1                                                NaN             NaN      NaN   \n",
       "2  ['This is the NEW PURPLE BOTTLE that just came...  ['B000LXTNMW']      NaN   \n",
       "3  ['This is the NEW PURPLE BOTTLE that just came...  ['B000LXTNMW']      NaN   \n",
       "4  ['This is the NEW PURPLE BOTTLE that just came...  ['B000LXTNMW']      NaN   \n",
       "\n",
       "  price similar_item details  \n",
       "0   NaN          NaN     NaN  \n",
       "1   NaN          NaN     NaN  \n",
       "2   NaN          NaN     NaN  \n",
       "3   NaN          NaN     NaN  \n",
       "4   NaN          NaN     NaN  "
      ]
     },
     "execution_count": 9,
     "metadata": {},
     "output_type": "execute_result"
    }
   ],
   "source": [
    "# inspect a few rows\n",
    "df.head(5)"
   ]
  },
  {
   "cell_type": "code",
   "execution_count": 10,
   "metadata": {
    "colab": {
     "base_uri": "https://localhost:8080/",
     "height": 89
    },
    "colab_type": "code",
    "id": "9G-h592f5Ey0",
    "outputId": "0807b232-7561-4623-9069-84c67519b776"
   },
   "outputs": [
    {
     "data": {
      "text/plain": [
       "\"['This is the NEW PURPLE BOTTLE that just came out (not the old black bottle which came out years ago and has been discontinued)\\\\n\\\\nBlack Diamond\\\\nIndoor Lotion\\\\nTingle\\\\nNew\\\\nFull Size Bottle', '', '']\""
      ]
     },
     "execution_count": 10,
     "metadata": {},
     "output_type": "execute_result"
    }
   ],
   "source": [
    "# Why is description an array?\n",
    "df.description[4]"
   ]
  },
  {
   "cell_type": "markdown",
   "metadata": {
    "colab_type": "text",
    "id": "l9YY6Jfp0rfv"
   },
   "source": [
    "\n",
    "# Statistical Inference"
   ]
  },
  {
   "cell_type": "markdown",
   "metadata": {
    "colab": {},
    "colab_type": "code",
    "id": "m9qPAMUV0klr"
   },
   "source": [
    "- Get the confidence interval of the mean/median of the whole dataset. Use bootstrap (check mini-project\n",
    "\n",
    "- How to get the confidence interval using only the sample size?\n",
    "\n",
    "- https://www.evanmiller.org/how-not-to-sort-by-average-rating.html ---> this is basically breaking the 1-5 reviews into \"good\" and \"bad\"."
   ]
  },
  {
   "cell_type": "code",
   "execution_count": 11,
   "metadata": {},
   "outputs": [
    {
     "data": {
      "text/plain": [
       "[5, 5, 1, 4, 4]"
      ]
     },
     "execution_count": 11,
     "metadata": {},
     "output_type": "execute_result"
    }
   ],
   "source": [
    "review_scores = df.rating.values\n",
    "review_scores[:5].tolist()"
   ]
  },
  {
   "cell_type": "code",
   "execution_count": 12,
   "metadata": {},
   "outputs": [],
   "source": [
    "# # We can set 3.0 as the cutoff between good and bad reviews\n",
    "\n",
    "\n",
    "# pos_neg_review_scores = list(\n",
    "#     map(lambda sc: [s >= 4 for s in sc], review_scores.tolist())\n",
    "# )\n",
    "\n",
    "\n"
   ]
  },
  {
   "cell_type": "markdown",
   "metadata": {
    "colab_type": "text",
    "id": "FvIZ573NrNBe"
   },
   "source": [
    "# Machine learning "
   ]
  },
  {
   "cell_type": "code",
   "execution_count": 13,
   "metadata": {
    "colab": {
     "base_uri": "https://localhost:8080/",
     "height": 424
    },
    "colab_type": "code",
    "id": "3RGEgAI_41Jh",
    "outputId": "ba79f4e7-1e8a-4329-f0d4-07bccaf93909"
   },
   "outputs": [
    {
     "data": {
      "text/html": [
       "<div>\n",
       "<style scoped>\n",
       "    .dataframe tbody tr th:only-of-type {\n",
       "        vertical-align: middle;\n",
       "    }\n",
       "\n",
       "    .dataframe tbody tr th {\n",
       "        vertical-align: top;\n",
       "    }\n",
       "\n",
       "    .dataframe thead th {\n",
       "        text-align: right;\n",
       "    }\n",
       "</style>\n",
       "<table border=\"1\" class=\"dataframe\">\n",
       "  <thead>\n",
       "    <tr style=\"text-align: right;\">\n",
       "      <th></th>\n",
       "      <th>rating</th>\n",
       "      <th>reviewer_id</th>\n",
       "      <th>product_id</th>\n",
       "    </tr>\n",
       "  </thead>\n",
       "  <tbody>\n",
       "    <tr>\n",
       "      <th>0</th>\n",
       "      <td>5</td>\n",
       "      <td>A2XMFX1BR0IJFJ</td>\n",
       "      <td>0061073717</td>\n",
       "    </tr>\n",
       "    <tr>\n",
       "      <th>1</th>\n",
       "      <td>5</td>\n",
       "      <td>ATKPYXA8XFKGJ</td>\n",
       "      <td>0061073717</td>\n",
       "    </tr>\n",
       "    <tr>\n",
       "      <th>2</th>\n",
       "      <td>1</td>\n",
       "      <td>A1V6B6TNIC10QE</td>\n",
       "      <td>0143026860</td>\n",
       "    </tr>\n",
       "    <tr>\n",
       "      <th>3</th>\n",
       "      <td>4</td>\n",
       "      <td>A2F5GHSXFQ0W6J</td>\n",
       "      <td>0143026860</td>\n",
       "    </tr>\n",
       "    <tr>\n",
       "      <th>4</th>\n",
       "      <td>4</td>\n",
       "      <td>A1572GUYS7DGSR</td>\n",
       "      <td>0143026860</td>\n",
       "    </tr>\n",
       "    <tr>\n",
       "      <th>...</th>\n",
       "      <td>...</td>\n",
       "      <td>...</td>\n",
       "      <td>...</td>\n",
       "    </tr>\n",
       "    <tr>\n",
       "      <th>371340</th>\n",
       "      <td>1</td>\n",
       "      <td>A202DCI7TV1022</td>\n",
       "      <td>B01HJEGTYK</td>\n",
       "    </tr>\n",
       "    <tr>\n",
       "      <th>371341</th>\n",
       "      <td>5</td>\n",
       "      <td>A3FSOR5IJOFIBE</td>\n",
       "      <td>B01HJEGTYK</td>\n",
       "    </tr>\n",
       "    <tr>\n",
       "      <th>371342</th>\n",
       "      <td>5</td>\n",
       "      <td>A1B5DK6CTP2P24</td>\n",
       "      <td>B01HJEGTYK</td>\n",
       "    </tr>\n",
       "    <tr>\n",
       "      <th>371343</th>\n",
       "      <td>2</td>\n",
       "      <td>A23OUYS5IRMJS9</td>\n",
       "      <td>B01HJEGTYK</td>\n",
       "    </tr>\n",
       "    <tr>\n",
       "      <th>371344</th>\n",
       "      <td>2</td>\n",
       "      <td>A24KQ9RVU81L87</td>\n",
       "      <td>B01HJEGTYK</td>\n",
       "    </tr>\n",
       "  </tbody>\n",
       "</table>\n",
       "<p>371345 rows × 3 columns</p>\n",
       "</div>"
      ],
      "text/plain": [
       "        rating     reviewer_id  product_id\n",
       "0            5  A2XMFX1BR0IJFJ  0061073717\n",
       "1            5   ATKPYXA8XFKGJ  0061073717\n",
       "2            1  A1V6B6TNIC10QE  0143026860\n",
       "3            4  A2F5GHSXFQ0W6J  0143026860\n",
       "4            4  A1572GUYS7DGSR  0143026860\n",
       "...        ...             ...         ...\n",
       "371340       1  A202DCI7TV1022  B01HJEGTYK\n",
       "371341       5  A3FSOR5IJOFIBE  B01HJEGTYK\n",
       "371342       5  A1B5DK6CTP2P24  B01HJEGTYK\n",
       "371343       2  A23OUYS5IRMJS9  B01HJEGTYK\n",
       "371344       2  A24KQ9RVU81L87  B01HJEGTYK\n",
       "\n",
       "[371345 rows x 3 columns]"
      ]
     },
     "execution_count": 13,
     "metadata": {},
     "output_type": "execute_result"
    }
   ],
   "source": [
    "data = df[['rating', 'reviewer_id', 'product_id']]\n",
    "# len(df['asin'].value_counts()), len(df['reviewerID'].value_counts())\n",
    "data"
   ]
  },
  {
   "cell_type": "markdown",
   "metadata": {
    "colab_type": "text",
    "id": "M7A6JFHNHgq_"
   },
   "source": [
    "### Numpy Normalized product matrix\n",
    "\n",
    "## Create a user-product matrix of of the over-all rates\n",
    "\n",
    "https://colab.research.google.com/github/couturierc/tutorials/blob/master/recommender_system/Movie_recommender_system_CF_v2_TOFILL.ipynb#scrollTo=uouELHsfKtOU"
   ]
  },
  {
   "cell_type": "markdown",
   "metadata": {},
   "source": [
    "### Ana's code : "
   ]
  },
  {
   "cell_type": "code",
   "execution_count": 14,
   "metadata": {},
   "outputs": [
    {
     "data": {
      "text/plain": [
       "matrix([[5, 0, 0, ..., 0, 0, 0],\n",
       "        [5, 0, 0, ..., 0, 0, 0],\n",
       "        [0, 1, 0, ..., 0, 0, 0],\n",
       "        ...,\n",
       "        [0, 0, 0, ..., 0, 0, 0],\n",
       "        [0, 0, 0, ..., 0, 0, 0],\n",
       "        [0, 0, 0, ..., 0, 0, 0]], dtype=int64)"
      ]
     },
     "execution_count": 14,
     "metadata": {},
     "output_type": "execute_result"
    }
   ],
   "source": [
    "from scipy.sparse import csr_matrix\n",
    "from pandas.api.types import CategoricalDtype\n",
    "\n",
    "reviewers = data['reviewer_id'].unique().tolist()\n",
    "products = data['product_id'].unique().tolist()\n",
    "reviews = data['rating'].tolist()\n",
    "\n",
    "row = data.reviewer_id.astype(CategoricalDtype(categories=reviewers)).cat.codes\n",
    "\n",
    "col = data.product_id.astype(CategoricalDtype(categories=products)).cat.codes\n",
    "\n",
    "sparse_matrix = csr_matrix((reviews, (row, col)), shape=(len(reviews), len(products)))\n",
    "R = sparse_matrix.todense()\n",
    "R"
   ]
  },
  {
   "cell_type": "code",
   "execution_count": 15,
   "metadata": {},
   "outputs": [],
   "source": [
    "row_cat = data.product_id.astype(CategoricalDtype(categories=products)).cat.categories\n",
    "col_cat = data.reviewer_id.astype(CategoricalDtype(categories=reviewers)).cat.categories"
   ]
  },
  {
   "cell_type": "code",
   "execution_count": 16,
   "metadata": {},
   "outputs": [
    {
     "name": "stdout",
     "output_type": "stream",
     "text": [
      "percentage of user-items that have a rating: 0.00%\n"
     ]
    }
   ],
   "source": [
    "sparsity = float(len(sparse_matrix.nonzero()[0]))\n",
    "sparsity /= (sparse_matrix.shape[0] * sparse_matrix.shape[1])\n",
    "sparsity *= 100\n",
    "print ('percentage of user-items that have a rating: {:.2f}%'.format(sparsity))"
   ]
  },
  {
   "cell_type": "code",
   "execution_count": 17,
   "metadata": {},
   "outputs": [
    {
     "data": {
      "text/plain": [
       "(324038, (371345, 32586))"
      ]
     },
     "execution_count": 17,
     "metadata": {},
     "output_type": "execute_result"
    }
   ],
   "source": [
    "len(col_cat), np.shape(sparse_matrix)"
   ]
  },
  {
   "cell_type": "code",
   "execution_count": 18,
   "metadata": {},
   "outputs": [],
   "source": [
    "# sparse matrix to dataframe\n",
    "c = pd.DataFrame.sparse.from_spmatrix(sparse_matrix)"
   ]
  },
  {
   "cell_type": "code",
   "execution_count": 19,
   "metadata": {},
   "outputs": [],
   "source": [
    "# Save the movie ids for user 165 for later:\n",
    "c.loc[1][:50]\n",
    "\n",
    "user_165 = (c.loc[165][:50] != 0)"
   ]
  },
  {
   "cell_type": "code",
   "execution_count": 20,
   "metadata": {},
   "outputs": [
    {
     "data": {
      "text/plain": [
       "0        5\n",
       "10866    0\n",
       "10853    0\n",
       "10854    0\n",
       "10855    0\n",
       "        ..\n",
       "21728    0\n",
       "21729    0\n",
       "21730    0\n",
       "21731    0\n",
       "16292    0\n",
       "Name: 1, Length: 32586, dtype: Sparse[int64, 0]"
      ]
     },
     "execution_count": 20,
     "metadata": {},
     "output_type": "execute_result"
    }
   ],
   "source": [
    "c.loc[1].dropna().sort_values(ascending=False)"
   ]
  },
  {
   "cell_type": "code",
   "execution_count": 21,
   "metadata": {},
   "outputs": [
    {
     "data": {
      "text/plain": [
       "Int64Index([    0,     1,     2,     3,     4,     5,     6,     7,     8,\n",
       "                9,\n",
       "            ...\n",
       "            32576, 32577, 32578, 32579, 32580, 32581, 32582, 32583, 32584,\n",
       "            32585],\n",
       "           dtype='int64', length=32586)"
      ]
     },
     "execution_count": 21,
     "metadata": {},
     "output_type": "execute_result"
    }
   ],
   "source": [
    "# Save the movie ids for user 1 for later:\n",
    "\n",
    "item_rated_user_1 = c.loc[1].dropna().index\n",
    "item_rated_user_1"
   ]
  },
  {
   "cell_type": "code",
   "execution_count": 22,
   "metadata": {},
   "outputs": [],
   "source": [
    "# Applying SVD using the matrix we made:\n",
    "\n",
    "from scipy.sparse.linalg import svds\n",
    "from scipy.sparse import coo_matrix, csr_matrix\n",
    "\n",
    "R = sparse_matrix.asfptype()\n",
    "U, sigma, Vt = svds(R, k=20)"
   ]
  },
  {
   "cell_type": "code",
   "execution_count": 23,
   "metadata": {},
   "outputs": [
    {
     "data": {
      "text/plain": [
       "array([[ 9.92931982e-20,  3.24261445e-20,  1.29515599e-19, ...,\n",
       "         1.63689742e-19,  1.85786596e-20, -5.12043609e-21],\n",
       "       [ 9.92931982e-20,  3.24261445e-20,  1.29515599e-19, ...,\n",
       "         1.63689742e-19,  1.85786596e-20, -5.12043609e-21],\n",
       "       [-1.34778978e-23,  7.94687501e-23, -2.04848840e-22, ...,\n",
       "        -1.26972815e-22, -3.45332288e-23, -1.37832213e-23],\n",
       "       ...,\n",
       "       [ 0.00000000e+00,  0.00000000e+00,  0.00000000e+00, ...,\n",
       "         0.00000000e+00,  0.00000000e+00,  0.00000000e+00],\n",
       "       [ 0.00000000e+00,  0.00000000e+00,  0.00000000e+00, ...,\n",
       "         0.00000000e+00,  0.00000000e+00,  0.00000000e+00],\n",
       "       [ 0.00000000e+00,  0.00000000e+00,  0.00000000e+00, ...,\n",
       "         0.00000000e+00,  0.00000000e+00,  0.00000000e+00]])"
      ]
     },
     "execution_count": 23,
     "metadata": {},
     "output_type": "execute_result"
    }
   ],
   "source": [
    "U"
   ]
  },
  {
   "cell_type": "code",
   "execution_count": 24,
   "metadata": {},
   "outputs": [
    {
     "data": {
      "text/plain": [
       "array([181.91588078, 184.63456262, 184.94826855, 185.07759279,\n",
       "       189.45588847, 190.67361708, 190.88888856, 199.10164653,\n",
       "       200.25442434, 204.32755201, 205.53554315, 236.81842639,\n",
       "       250.04748233, 279.37914424, 288.12141772, 298.02384234,\n",
       "       315.47887901, 335.65748969, 396.12291467, 586.9313654 ])"
      ]
     },
     "execution_count": 24,
     "metadata": {},
     "output_type": "execute_result"
    }
   ],
   "source": [
    "sigma"
   ]
  },
  {
   "cell_type": "code",
   "execution_count": 25,
   "metadata": {},
   "outputs": [
    {
     "data": {
      "text/plain": [
       "array([[ 3.61260192e-18, -2.45184364e-21, -2.29165858e-09, ...,\n",
       "        -9.27154684e-18, -7.08888057e-20, -2.16282703e-11],\n",
       "       [ 1.19739740e-18,  1.46726779e-20,  5.22723041e-09, ...,\n",
       "        -6.52944485e-18,  9.85889610e-18,  4.29919148e-10],\n",
       "       [ 4.79073715e-18, -3.78864382e-20,  1.44607648e-07, ...,\n",
       "         9.64047908e-18, -4.49949979e-18,  6.95182342e-10],\n",
       "       ...,\n",
       "       [ 1.09887376e-17, -4.26193762e-20,  3.74578877e-11, ...,\n",
       "        -3.93444706e-18, -1.55966815e-17,  8.35883290e-12],\n",
       "       [ 1.47188656e-18, -1.36794033e-20,  9.53231233e-13, ...,\n",
       "         1.14942484e-18, -2.77997089e-18,  4.18814636e-12],\n",
       "       [-6.01068909e-19, -8.08980488e-21, -4.87495946e-09, ...,\n",
       "         2.38354837e-18, -1.08397726e-20, -5.78478491e-13]])"
      ]
     },
     "execution_count": 25,
     "metadata": {},
     "output_type": "execute_result"
    }
   ],
   "source": [
    "Vt"
   ]
  },
  {
   "cell_type": "code",
   "execution_count": 26,
   "metadata": {},
   "outputs": [],
   "source": [
    "# First make sigma a diagonal matrix:\n",
    "sigma = np.diag(sigma)"
   ]
  },
  {
   "cell_type": "code",
   "execution_count": 27,
   "metadata": {},
   "outputs": [],
   "source": [
    "# # It crashes here: I need to apply the new sigma as my diagonal in my matrix!!!\n",
    "\n",
    "# R_after_svd = np.dot(np.dot(U, sigma), Vt)\n",
    "# R_after_svd"
   ]
  },
  {
   "cell_type": "markdown",
   "metadata": {},
   "source": [
    "# Approximate SVD with stochastic gradient descend (SGD)\n",
    "\n",
    "### This time, we do not fill missing values.\n",
    "\n",
    "#### We inject Σ into U and V, and try to find P and q such that 𝑅ˆ=𝑃𝑄𝑇 is close to 𝑅 for the item-user pairs already rated.\n"
   ]
  },
  {
   "cell_type": "code",
   "execution_count": 28,
   "metadata": {
    "colab": {
     "base_uri": "https://localhost:8080/",
     "height": 199
    },
    "colab_type": "code",
    "id": "CEw2W8OCIVsc",
    "outputId": "24c1775d-5b48-4c08-ebac-46dc7e29740c"
   },
   "outputs": [],
   "source": [
    "def encode_ids(data):\n",
    "    '''Takes a rating dataframe and return: \n",
    "    - a simplified rating dataframe with ids in range(nb unique id) for users and movies\n",
    "    - 2 mapping disctionaries\n",
    "    \n",
    "    '''\n",
    "\n",
    "    data_encoded = data.copy()\n",
    "    \n",
    "    users = pd.DataFrame(data_encoded.reviewer_id.unique(),columns=['reviewer_id'])  # df of all unique users\n",
    "    dict_users = users.to_dict()    \n",
    "    inv_dict_users = {v: k for k, v in dict_users['reviewer_id'].items()}\n",
    "\n",
    "    items = pd.DataFrame(data_encoded.product_id.unique(),columns=['product_id']) # df of all unique items\n",
    "    dict_items = items.to_dict()    \n",
    "    inv_dict_items = {v: k for k, v in dict_items['product_id'].items()}\n",
    "\n",
    "    data_encoded.reviewer_id = data_encoded.reviewer_id.map(inv_dict_users)\n",
    "    data_encoded.product_id = data_encoded.product_id.map(inv_dict_items)\n",
    "\n",
    "    return data_encoded, dict_users, dict_items"
   ]
  },
  {
   "cell_type": "code",
   "execution_count": 29,
   "metadata": {},
   "outputs": [],
   "source": [
    "# Adapted from http://nicolas-hug.com/blog/matrix_facto_4\n",
    "def SGD(data,           # dataframe containing 1 user|item|rating per row\n",
    "        n_factors = 10, # number of factors\n",
    "        alpha = .01,    # number of factors\n",
    "        n_epochs = 3,   # number of iteration of the SGD procedure\n",
    "       ):\n",
    "    '''Learn the vectors P and Q (ie all the weights p_u and q_i) with SGD.\n",
    "    '''\n",
    "\n",
    "    # Encoding userId's and itemId's in data\n",
    "    data, dict_users, dict_items = encode_ids(data)\n",
    "    \n",
    "    ##### FILL HERE (2 lines) ######\n",
    "    n_users = data.reviewer_id.nunique()  # number of unique users\n",
    "    n_items = data.product_id.nunique()  # number of unique items\n",
    "    ################################\n",
    "    \n",
    "    # Randomly initialize the user and item factors.\n",
    "    p = np.random.normal(0, .1, (n_users, n_factors))\n",
    "    q = np.random.normal(0, .1, (n_items, n_factors))\n",
    "\n",
    "    # Optimization procedure\n",
    "    for epoch in range(n_epochs):\n",
    "        print ('epoch: ', epoch)\n",
    "        # Loop over the rows in data\n",
    "        for index in range(data.shape[0]):\n",
    "            row = data.iloc[[index]]\n",
    "            u = int(row.reviewer_id)      # current userId = position in the p vector (thanks to the encoding)\n",
    "            i = int(row.product_id)      # current itemId = position in the q vector\n",
    "            r_ui = float(row.rating) # rating associated to the couple (user u , item i)\n",
    "            \n",
    "            ##### FILL HERE (1 line) ######\n",
    "            err = r_ui- np.dot((p[u]),(q[i]).transpose())    # difference between the predicted rating (p_u . q_i) and the known ratings r_ui\n",
    "            ################################\n",
    "            \n",
    "            # Update vectors p_u and q_i\n",
    "            ##### FILL HERE (2 lines) ######\n",
    "            p_old = p[u]\n",
    "            p[u] = p[u] + alpha * err * q[i] # cf. update rule above \n",
    "            q[i] = q[i] + alpha * err * p_old  # use p_old instead of p[u]\n",
    "            ################################\n",
    "            \n",
    "    return p, q\n",
    "    \n",
    "    \n",
    "def estimate(u, i, p, q):\n",
    "    '''Estimate rating of user u for item i.'''\n",
    "    ##### FILL HERE (1 line) ######\n",
    "    return np.dot(p[u], q[i]).transpose()             #scalar product of p[u] and q[i] /!\\ dimensions\n",
    "    ################################  "
   ]
  },
  {
   "cell_type": "code",
   "execution_count": 30,
   "metadata": {},
   "outputs": [],
   "source": [
    "# # Applying SGD to the df we created using encode_ids\n",
    "# p, q = SGD(data)"
   ]
  },
  {
   "cell_type": "code",
   "execution_count": 31,
   "metadata": {},
   "outputs": [],
   "source": [
    "# Applying encode_ids function\n",
    "df_ratings_encoded, dict_users, dict_items = encode_ids(data)"
   ]
  },
  {
   "cell_type": "code",
   "execution_count": 32,
   "metadata": {},
   "outputs": [],
   "source": [
    "# # It crashes here everytime I try to create the user-item matrix filled with predicted ratings:\n",
    "\n",
    "# df_user_item_filled = pd.DataFrame(np.dot(p, q.transpose()))\n",
    "# df_user_item_filled.head()"
   ]
  },
  {
   "cell_type": "code",
   "execution_count": 33,
   "metadata": {},
   "outputs": [],
   "source": [
    "### DO NOT DELETE: Code for creating the matrix\n",
    "\n",
    "# df_user_item_filled.rename(columns=(dict_items['product_id']), inplace=True)\n",
    "# df_user_item_filled.rename(index=(dict_users['reviewer_id']), inplace=True)\n",
    "\n",
    "# # Sort index/rows (userId's) and columns (itemId's)\n",
    "# df_user_item_filled.sort_index(axis=0, inplace=True)\n",
    "# df_user_item_filled.sort_index(axis=1, inplace=True)\n",
    "\n",
    "# df_user_item_filled.head()"
   ]
  },
  {
   "cell_type": "markdown",
   "metadata": {
    "colab_type": "text",
    "id": "KD8MoQCvKqiv"
   },
   "source": [
    "## Pivot Table\n",
    "\n",
    "## Not showing the entire products"
   ]
  },
  {
   "cell_type": "code",
   "execution_count": 34,
   "metadata": {
    "colab": {
     "base_uri": "https://localhost:8080/",
     "height": 34
    },
    "colab_type": "code",
    "id": "nV2MIDx8aXox",
    "outputId": "b6e6225a-2af2-4e8c-b1a2-419f5971e6a8"
   },
   "outputs": [],
   "source": [
    "# data = df[['rating', 'reviewer_id', 'product_id']]\n",
    "# data_table = pd.pivot_table(data,index=[\"reviewer_id\"], columns=[\"product_id\"], values=['rating'], fill_value=0)\n",
    "# data_table\n",
    "\n",
    "# # data.reviewerID.unique().shape[0]"
   ]
  },
  {
   "cell_type": "markdown",
   "metadata": {
    "colab_type": "text",
    "id": "LLn0WSfkyXR4"
   },
   "source": [
    "### Resampling frequent reviewers\n",
    "\n",
    "#### Applying recommender system on frequent reviewers >4 reviews"
   ]
  },
  {
   "cell_type": "code",
   "execution_count": 35,
   "metadata": {
    "colab": {
     "base_uri": "https://localhost:8080/",
     "height": 225
    },
    "colab_type": "code",
    "id": "x6mky7wHyXew",
    "outputId": "e85b5541-7491-418c-acdf-5ea1c77b3f7f"
   },
   "outputs": [],
   "source": [
    "# # frequency = df['reviewerID'].value_counts()\n",
    "# frequent = (df['reviewerID'].value_counts()[df['reviewerID'].value_counts()> 5]).to_frame()\n",
    "# reviewers = frequent.reviewerID.to_list()\n",
    "# top = df['reviewerID'].isin(reviewers)\n",
    "# top"
   ]
  }
 ],
 "metadata": {
  "colab": {
   "collapsed_sections": [
    "ivXgmr3dTNUV",
    "FtcZdWCrkCfB"
   ],
   "name": "Amazon Beauty Products",
   "provenance": [],
   "toc_visible": true
  },
  "kernelspec": {
   "display_name": "Python 3",
   "language": "python",
   "name": "python3"
  },
  "language_info": {
   "codemirror_mode": {
    "name": "ipython",
    "version": 3
   },
   "file_extension": ".py",
   "mimetype": "text/x-python",
   "name": "python",
   "nbconvert_exporter": "python",
   "pygments_lexer": "ipython3",
   "version": "3.7.6"
  }
 },
 "nbformat": 4,
 "nbformat_minor": 1
}

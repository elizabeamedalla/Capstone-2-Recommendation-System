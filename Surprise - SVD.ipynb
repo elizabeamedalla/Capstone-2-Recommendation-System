{
 "cells": [
  {
   "cell_type": "code",
   "execution_count": 1,
   "metadata": {},
   "outputs": [
    {
     "name": "stdout",
     "output_type": "stream",
     "text": [
      "Requirement already satisfied: surprise in /Users/bea/opt/anaconda3/lib/python3.7/site-packages (0.1)\r\n",
      "Requirement already satisfied: scikit-surprise in /Users/bea/opt/anaconda3/lib/python3.7/site-packages (from surprise) (1.1.1)\r\n",
      "Requirement already satisfied: six>=1.10.0 in /Users/bea/opt/anaconda3/lib/python3.7/site-packages (from scikit-surprise->surprise) (1.14.0)\r\n",
      "Requirement already satisfied: joblib>=0.11 in /Users/bea/opt/anaconda3/lib/python3.7/site-packages (from scikit-surprise->surprise) (0.14.1)\r\n",
      "Requirement already satisfied: scipy>=1.0.0 in /Users/bea/opt/anaconda3/lib/python3.7/site-packages (from scikit-surprise->surprise) (1.4.1)\r\n",
      "Requirement already satisfied: numpy>=1.11.2 in /Users/bea/opt/anaconda3/lib/python3.7/site-packages (from scikit-surprise->surprise) (1.18.1)\r\n"
     ]
    }
   ],
   "source": [
    "import os\n",
    "import pandas as pd\n",
    "import numpy as np\n",
    "!pip install surprise\n",
    "#!pip install scikit-surprise # if the first line does not work"
   ]
  },
  {
   "cell_type": "markdown",
   "metadata": {},
   "source": [
    "# Create Dataframe"
   ]
  },
  {
   "cell_type": "code",
   "execution_count": 10,
   "metadata": {},
   "outputs": [
    {
     "name": "stderr",
     "output_type": "stream",
     "text": [
      "/Users/bea/opt/anaconda3/lib/python3.7/site-packages/IPython/core/interactiveshell.py:3063: DtypeWarning: Columns (8) have mixed types.Specify dtype option on import or set low_memory=False.\n",
      "  interactivity=interactivity, compiler=compiler, result=result)\n"
     ]
    },
    {
     "data": {
      "text/html": [
       "<div>\n",
       "<style scoped>\n",
       "    .dataframe tbody tr th:only-of-type {\n",
       "        vertical-align: middle;\n",
       "    }\n",
       "\n",
       "    .dataframe tbody tr th {\n",
       "        vertical-align: top;\n",
       "    }\n",
       "\n",
       "    .dataframe thead th {\n",
       "        text-align: right;\n",
       "    }\n",
       "</style>\n",
       "<table border=\"1\" class=\"dataframe\">\n",
       "  <thead>\n",
       "    <tr style=\"text-align: right;\">\n",
       "      <th></th>\n",
       "      <th>rating</th>\n",
       "      <th>verified</th>\n",
       "      <th>review_time</th>\n",
       "      <th>reviewer_id</th>\n",
       "      <th>product_id</th>\n",
       "      <th>reviewer_name</th>\n",
       "      <th>reviewer_text</th>\n",
       "      <th>summary</th>\n",
       "      <th>vote</th>\n",
       "      <th>title</th>\n",
       "      <th>brand</th>\n",
       "      <th>rank</th>\n",
       "      <th>main_cat</th>\n",
       "      <th>description</th>\n",
       "      <th>also_view</th>\n",
       "      <th>also_buy</th>\n",
       "      <th>price</th>\n",
       "      <th>similar_item</th>\n",
       "      <th>details</th>\n",
       "    </tr>\n",
       "  </thead>\n",
       "  <tbody>\n",
       "    <tr>\n",
       "      <th>0</th>\n",
       "      <td>5</td>\n",
       "      <td>False</td>\n",
       "      <td>2000-06-03</td>\n",
       "      <td>A2XMFX1BR0IJFJ</td>\n",
       "      <td>0061073717</td>\n",
       "      <td>Jonathan Reed (jonathan.reed2@virgin.net)</td>\n",
       "      <td>This calender is brilliant and has plenty of g...</td>\n",
       "      <td>Futurama rules</td>\n",
       "      <td>2</td>\n",
       "      <td>Workout Headphones by Arena Essentials</td>\n",
       "      <td>HarperCollins</td>\n",
       "      <td>3,235,148inBeautyamp;PersonalCare(</td>\n",
       "      <td>All Beauty</td>\n",
       "      <td>NaN</td>\n",
       "      <td>NaN</td>\n",
       "      <td>NaN</td>\n",
       "      <td>NaN</td>\n",
       "      <td>NaN</td>\n",
       "      <td>NaN</td>\n",
       "    </tr>\n",
       "    <tr>\n",
       "      <th>1</th>\n",
       "      <td>5</td>\n",
       "      <td>False</td>\n",
       "      <td>2000-05-06</td>\n",
       "      <td>ATKPYXA8XFKGJ</td>\n",
       "      <td>0061073717</td>\n",
       "      <td>Gwen Bates</td>\n",
       "      <td>This calender really is great.  In addition to...</td>\n",
       "      <td>A great gift for any futurama fan!</td>\n",
       "      <td>NaN</td>\n",
       "      <td>Workout Headphones by Arena Essentials</td>\n",
       "      <td>HarperCollins</td>\n",
       "      <td>3,235,148inBeautyamp;PersonalCare(</td>\n",
       "      <td>All Beauty</td>\n",
       "      <td>NaN</td>\n",
       "      <td>NaN</td>\n",
       "      <td>NaN</td>\n",
       "      <td>NaN</td>\n",
       "      <td>NaN</td>\n",
       "      <td>NaN</td>\n",
       "    </tr>\n",
       "    <tr>\n",
       "      <th>2</th>\n",
       "      <td>1</td>\n",
       "      <td>True</td>\n",
       "      <td>2015-02-19</td>\n",
       "      <td>A1V6B6TNIC10QE</td>\n",
       "      <td>0143026860</td>\n",
       "      <td>theodore j bigham</td>\n",
       "      <td>great</td>\n",
       "      <td>One Star</td>\n",
       "      <td>NaN</td>\n",
       "      <td>Black Diamond</td>\n",
       "      <td>Swedish Beauty</td>\n",
       "      <td>1,462,563inBeautyamp;PersonalCare(</td>\n",
       "      <td>All Beauty</td>\n",
       "      <td>['This is the NEW PURPLE BOTTLE that just came...</td>\n",
       "      <td>['B000LXTNMW']</td>\n",
       "      <td>NaN</td>\n",
       "      <td>NaN</td>\n",
       "      <td>NaN</td>\n",
       "      <td>NaN</td>\n",
       "    </tr>\n",
       "  </tbody>\n",
       "</table>\n",
       "</div>"
      ],
      "text/plain": [
       "   rating  verified review_time     reviewer_id  product_id  \\\n",
       "0       5     False  2000-06-03  A2XMFX1BR0IJFJ  0061073717   \n",
       "1       5     False  2000-05-06   ATKPYXA8XFKGJ  0061073717   \n",
       "2       1      True  2015-02-19  A1V6B6TNIC10QE  0143026860   \n",
       "\n",
       "                               reviewer_name  \\\n",
       "0  Jonathan Reed (jonathan.reed2@virgin.net)   \n",
       "1                                 Gwen Bates   \n",
       "2                          theodore j bigham   \n",
       "\n",
       "                                       reviewer_text  \\\n",
       "0  This calender is brilliant and has plenty of g...   \n",
       "1  This calender really is great.  In addition to...   \n",
       "2                                              great   \n",
       "\n",
       "                              summary vote  \\\n",
       "0                      Futurama rules    2   \n",
       "1  A great gift for any futurama fan!  NaN   \n",
       "2                            One Star  NaN   \n",
       "\n",
       "                                    title           brand  \\\n",
       "0  Workout Headphones by Arena Essentials   HarperCollins   \n",
       "1  Workout Headphones by Arena Essentials   HarperCollins   \n",
       "2                           Black Diamond  Swedish Beauty   \n",
       "\n",
       "                                 rank    main_cat  \\\n",
       "0  3,235,148inBeautyamp;PersonalCare(  All Beauty   \n",
       "1  3,235,148inBeautyamp;PersonalCare(  All Beauty   \n",
       "2  1,462,563inBeautyamp;PersonalCare(  All Beauty   \n",
       "\n",
       "                                         description       also_view also_buy  \\\n",
       "0                                                NaN             NaN      NaN   \n",
       "1                                                NaN             NaN      NaN   \n",
       "2  ['This is the NEW PURPLE BOTTLE that just came...  ['B000LXTNMW']      NaN   \n",
       "\n",
       "  price similar_item details  \n",
       "0   NaN          NaN     NaN  \n",
       "1   NaN          NaN     NaN  \n",
       "2   NaN          NaN     NaN  "
      ]
     },
     "execution_count": 10,
     "metadata": {},
     "output_type": "execute_result"
    }
   ],
   "source": [
    "# load data\n",
    "df = pd.read_csv('./data/final_amazon_beauty.csv')\n",
    "data = df[['rating', 'reviewer_id', 'product_id']]\n",
    "\n",
    "df.head(3)"
   ]
  },
  {
   "cell_type": "markdown",
   "metadata": {},
   "source": [
    "# Using SVD using Surprise"
   ]
  },
  {
   "cell_type": "code",
   "execution_count": 4,
   "metadata": {},
   "outputs": [
    {
     "name": "stdout",
     "output_type": "stream",
     "text": [
      "Evaluating RMSE, MAE of algorithm SVD on 5 split(s).\n",
      "\n",
      "                  Fold 1  Fold 2  Fold 3  Fold 4  Fold 5  Mean    Std     \n",
      "RMSE (testset)    1.2617  1.2516  1.2501  1.2533  1.2553  1.2544  0.0040  \n",
      "MAE (testset)     0.9769  0.9694  0.9675  0.9696  0.9707  0.9708  0.0032  \n",
      "Fit time          19.34   21.63   18.59   20.50   18.67   19.75   1.17    \n",
      "Test time         0.65    0.73    0.62    0.64    0.65    0.66    0.04    \n"
     ]
    },
    {
     "data": {
      "text/plain": [
       "{'test_rmse': array([1.26167553, 1.25159752, 1.25007219, 1.25332594, 1.25526327]),\n",
       " 'test_mae': array([0.97686423, 0.96936802, 0.96754477, 0.96957658, 0.97069615]),\n",
       " 'fit_time': (19.33777403831482,\n",
       "  21.63362216949463,\n",
       "  18.58716607093811,\n",
       "  20.50476884841919,\n",
       "  18.673017978668213),\n",
       " 'test_time': (0.6493268013000488,\n",
       "  0.7254741191864014,\n",
       "  0.6152629852294922,\n",
       "  0.6405749320983887,\n",
       "  0.6515579223632812)}"
      ]
     },
     "execution_count": 4,
     "metadata": {},
     "output_type": "execute_result"
    }
   ],
   "source": [
    "# from surprise import Reader, Dataset, SVD, evaluate\n",
    "\n",
    "# Following Surprise documentation examples \n",
    "# https://surprise.readthedocs.io/en/stable/getting_started.html\n",
    "\n",
    "from surprise import Reader, Dataset, SVD, NormalPredictor\n",
    "from collections import defaultdict\n",
    "\n",
    "\n",
    "from surprise import Dataset\n",
    "from surprise.model_selection import cross_validate\n",
    "\n",
    "\n",
    "# As we're loading a custom dataset, we need to define a reader.\n",
    "reader = Reader(rating_scale=(0.5, 5))\n",
    "\n",
    "# The columns must correspond to user id, item id and ratings (in that order).\n",
    "data = Dataset.load_from_df(data[['reviewer_id', 'product_id', 'rating']], reader)\n",
    "\n",
    "# We'll use the famous SVD algorithm.\n",
    "algo = SVD()\n",
    "\n",
    "# Run 5-fold cross-validation and print results\n",
    "cross_validate(algo, data, measures=['RMSE', 'MAE'], cv=5, verbose=True)"
   ]
  },
  {
   "cell_type": "code",
   "execution_count": 5,
   "metadata": {},
   "outputs": [
    {
     "name": "stdout",
     "output_type": "stream",
     "text": [
      "1.29221333217873\n",
      "{'n_epochs': 10, 'lr_all': 0.005, 'reg_all': 0.4}\n"
     ]
    }
   ],
   "source": [
    "from surprise.model_selection import GridSearchCV\n",
    "\n",
    "param_grid = {'n_epochs': [5, 10], 'lr_all': [0.002, 0.005],\n",
    "              'reg_all': [0.4, 0.6]}\n",
    "gs = GridSearchCV(SVD, param_grid, measures=['rmse', 'mae'], cv=3)\n",
    "\n",
    "gs.fit(data)\n",
    "\n",
    "# best RMSE score\n",
    "print(gs.best_score['rmse'])\n",
    "\n",
    "# combination of parameters that gave the best RMSE score\n",
    "print(gs.best_params['rmse'])"
   ]
  },
  {
   "cell_type": "code",
   "execution_count": 6,
   "metadata": {},
   "outputs": [
    {
     "data": {
      "text/plain": [
       "<surprise.prediction_algorithms.matrix_factorization.SVD at 0x7ffd544a51d0>"
      ]
     },
     "execution_count": 6,
     "metadata": {},
     "output_type": "execute_result"
    }
   ],
   "source": [
    "# We can now use the algorithm that yields the best rmse:\n",
    "algo = gs.best_estimator['rmse']\n",
    "trainset = data.build_full_trainset()\n",
    "algo.fit(trainset)"
   ]
  },
  {
   "cell_type": "code",
   "execution_count": 8,
   "metadata": {},
   "outputs": [
    {
     "data": {
      "text/plain": [
       "Prediction(uid=621, iid=1, r_ui=None, est=4.112092528511223, details={'was_impossible': False})"
      ]
     },
     "execution_count": 8,
     "metadata": {},
     "output_type": "execute_result"
    }
   ],
   "source": [
    "algo.predict(621,1)"
   ]
  },
  {
   "cell_type": "code",
   "execution_count": 17,
   "metadata": {
    "scrolled": true
   },
   "outputs": [
    {
     "data": {
      "text/html": [
       "<div>\n",
       "<style scoped>\n",
       "    .dataframe tbody tr th:only-of-type {\n",
       "        vertical-align: middle;\n",
       "    }\n",
       "\n",
       "    .dataframe tbody tr th {\n",
       "        vertical-align: top;\n",
       "    }\n",
       "\n",
       "    .dataframe thead th {\n",
       "        text-align: right;\n",
       "    }\n",
       "</style>\n",
       "<table border=\"1\" class=\"dataframe\">\n",
       "  <thead>\n",
       "    <tr style=\"text-align: right;\">\n",
       "      <th></th>\n",
       "      <th>reviewer_id</th>\n",
       "      <th>product_id</th>\n",
       "      <th>rating</th>\n",
       "      <th>title</th>\n",
       "    </tr>\n",
       "  </thead>\n",
       "  <tbody>\n",
       "    <tr>\n",
       "      <th>266714</th>\n",
       "      <td>A2GJX2KCUSR0EI</td>\n",
       "      <td>B00WV02MLM</td>\n",
       "      <td>5</td>\n",
       "      <td>Nth Degree Smoothing Argan Oil and Keratin Col...</td>\n",
       "    </tr>\n",
       "    <tr>\n",
       "      <th>282836</th>\n",
       "      <td>A2GJX2KCUSR0EI</td>\n",
       "      <td>B011KWHC84</td>\n",
       "      <td>5</td>\n",
       "      <td>Tara Smith Base Coat Serum</td>\n",
       "    </tr>\n",
       "    <tr>\n",
       "      <th>269716</th>\n",
       "      <td>A2GJX2KCUSR0EI</td>\n",
       "      <td>B00XMR53RI</td>\n",
       "      <td>5</td>\n",
       "      <td>ZeroShop(TM) Empty Clear Spray Bottles / Porta...</td>\n",
       "    </tr>\n",
       "    <tr>\n",
       "      <th>286476</th>\n",
       "      <td>A2GJX2KCUSR0EI</td>\n",
       "      <td>B013J5W6ZE</td>\n",
       "      <td>5</td>\n",
       "      <td>Nth Degree Smoothing Argan Oil &amp; Keratin Hair ...</td>\n",
       "    </tr>\n",
       "    <tr>\n",
       "      <th>223414</th>\n",
       "      <td>A2GJX2KCUSR0EI</td>\n",
       "      <td>B00MGK9Z8U</td>\n",
       "      <td>5</td>\n",
       "      <td>Rimmel Provocalips 16hr Kissproof Lipstick, Ki...</td>\n",
       "    </tr>\n",
       "    <tr>\n",
       "      <th>320367</th>\n",
       "      <td>A2GJX2KCUSR0EI</td>\n",
       "      <td>B019XF1EES</td>\n",
       "      <td>5</td>\n",
       "      <td>Peripera Rouge Pang Rich Color Lipstick 0.2 Ou...</td>\n",
       "    </tr>\n",
       "    <tr>\n",
       "      <th>323724</th>\n",
       "      <td>A2GJX2KCUSR0EI</td>\n",
       "      <td>B01AQYVEC2</td>\n",
       "      <td>5</td>\n",
       "      <td>Mega Pro 2 Palette 32 Colors Authentic</td>\n",
       "    </tr>\n",
       "    <tr>\n",
       "      <th>128328</th>\n",
       "      <td>A2GJX2KCUSR0EI</td>\n",
       "      <td>B0050PSRKA</td>\n",
       "      <td>5</td>\n",
       "      <td>clariSEA Pomegranate De-Bump Salt Buff, 15 oz.</td>\n",
       "    </tr>\n",
       "    <tr>\n",
       "      <th>326064</th>\n",
       "      <td>A2GJX2KCUSR0EI</td>\n",
       "      <td>B01B1G0SBM</td>\n",
       "      <td>5</td>\n",
       "      <td>Yumbutter - Organic Go-Anywhere Superfood Pouc...</td>\n",
       "    </tr>\n",
       "    <tr>\n",
       "      <th>115411</th>\n",
       "      <td>A2GJX2KCUSR0EI</td>\n",
       "      <td>B002RZZXYE</td>\n",
       "      <td>5</td>\n",
       "      <td>Kate Somerville ExfoliKate Intensive Exfoliati...</td>\n",
       "    </tr>\n",
       "  </tbody>\n",
       "</table>\n",
       "</div>"
      ],
      "text/plain": [
       "           reviewer_id  product_id  rating  \\\n",
       "266714  A2GJX2KCUSR0EI  B00WV02MLM       5   \n",
       "282836  A2GJX2KCUSR0EI  B011KWHC84       5   \n",
       "269716  A2GJX2KCUSR0EI  B00XMR53RI       5   \n",
       "286476  A2GJX2KCUSR0EI  B013J5W6ZE       5   \n",
       "223414  A2GJX2KCUSR0EI  B00MGK9Z8U       5   \n",
       "320367  A2GJX2KCUSR0EI  B019XF1EES       5   \n",
       "323724  A2GJX2KCUSR0EI  B01AQYVEC2       5   \n",
       "128328  A2GJX2KCUSR0EI  B0050PSRKA       5   \n",
       "326064  A2GJX2KCUSR0EI  B01B1G0SBM       5   \n",
       "115411  A2GJX2KCUSR0EI  B002RZZXYE       5   \n",
       "\n",
       "                                                    title  \n",
       "266714  Nth Degree Smoothing Argan Oil and Keratin Col...  \n",
       "282836                         Tara Smith Base Coat Serum  \n",
       "269716  ZeroShop(TM) Empty Clear Spray Bottles / Porta...  \n",
       "286476  Nth Degree Smoothing Argan Oil & Keratin Hair ...  \n",
       "223414  Rimmel Provocalips 16hr Kissproof Lipstick, Ki...  \n",
       "320367  Peripera Rouge Pang Rich Color Lipstick 0.2 Ou...  \n",
       "323724             Mega Pro 2 Palette 32 Colors Authentic  \n",
       "128328     clariSEA Pomegranate De-Bump Salt Buff, 15 oz.  \n",
       "326064  Yumbutter - Organic Go-Anywhere Superfood Pouc...  \n",
       "115411  Kate Somerville ExfoliKate Intensive Exfoliati...  "
      ]
     },
     "execution_count": 17,
     "metadata": {},
     "output_type": "execute_result"
    }
   ],
   "source": [
    "df_data = df[['reviewer_id', 'product_id', 'rating', 'title' ]]\n",
    "df_data[df_data['reviewer_id']=='A2GJX2KCUSR0EI'].sort_values(by = 'rating',ascending=False)[:10]"
   ]
  },
  {
   "cell_type": "code",
   "execution_count": 18,
   "metadata": {},
   "outputs": [],
   "source": [
    "# From Surprise documentation: https://surprise.readthedocs.io/en/stable/FAQ.html\n",
    "def get_top_n(predictions, n=10):\n",
    "    '''Return the top-N recommendation for each user from a set of predictions.\n",
    "\n",
    "    Args:\n",
    "        predictions(list of Prediction objects): The list of predictions, as\n",
    "            returned by the test method of an algorithm.\n",
    "        n(int): The number of recommendation to output for each user. Default\n",
    "            is 10.\n",
    "\n",
    "    Returns:\n",
    "    A dict where keys are user (raw) ids and values are lists of tuples:\n",
    "        [(raw item id, rating estimation), ...] of size n.\n",
    "    '''\n",
    "\n",
    "    # First map the predictions to each user.\n",
    "    top_n = defaultdict(list)\n",
    "    for uid, iid, true_r, est, _ in predictions:\n",
    "        top_n[uid].append((iid, est))\n",
    "\n",
    "    # Then sort the predictions for each user and retrieve the k highest ones.\n",
    "    for uid, user_ratings in top_n.items():\n",
    "        user_ratings.sort(key=lambda x: x[1], reverse=True)\n",
    "        top_n[uid] = user_ratings[:n]\n",
    "\n",
    "    return top_n"
   ]
  },
  {
   "cell_type": "code",
   "execution_count": null,
   "metadata": {},
   "outputs": [],
   "source": [
    "# Predict ratings for all pairs (u, i) that are NOT in the training set.\n",
    "testset = trainset.build_anti_testset()\n",
    "predictions = algo.test(testset)"
   ]
  },
  {
   "cell_type": "code",
   "execution_count": null,
   "metadata": {},
   "outputs": [],
   "source": [
    "top_n = get_top_n(predictions, n=10)"
   ]
  },
  {
   "cell_type": "code",
   "execution_count": null,
   "metadata": {},
   "outputs": [],
   "source": [
    "top_n.items()"
   ]
  },
  {
   "cell_type": "code",
   "execution_count": null,
   "metadata": {},
   "outputs": [],
   "source": [
    "# Print the recommended items for all user 1\n",
    "for uid, user_ratings in top_n.items():\n",
    "    print(uid, [iid for (iid, _) in user_ratings])\n",
    "    if uid == 1:\n",
    "        break"
   ]
  },
  {
   "cell_type": "code",
   "execution_count": null,
   "metadata": {},
   "outputs": [],
   "source": []
  },
  {
   "cell_type": "code",
   "execution_count": null,
   "metadata": {},
   "outputs": [],
   "source": []
  },
  {
   "cell_type": "code",
   "execution_count": null,
   "metadata": {},
   "outputs": [],
   "source": []
  },
  {
   "cell_type": "code",
   "execution_count": null,
   "metadata": {},
   "outputs": [],
   "source": []
  },
  {
   "cell_type": "code",
   "execution_count": 15,
   "metadata": {},
   "outputs": [
    {
     "data": {
      "text/html": [
       "<div>\n",
       "<style scoped>\n",
       "    .dataframe tbody tr th:only-of-type {\n",
       "        vertical-align: middle;\n",
       "    }\n",
       "\n",
       "    .dataframe tbody tr th {\n",
       "        vertical-align: top;\n",
       "    }\n",
       "\n",
       "    .dataframe thead th {\n",
       "        text-align: right;\n",
       "    }\n",
       "</style>\n",
       "<table border=\"1\" class=\"dataframe\">\n",
       "  <thead>\n",
       "    <tr style=\"text-align: right;\">\n",
       "      <th></th>\n",
       "      <th>reviewer_id</th>\n",
       "      <th>product_id</th>\n",
       "      <th>rating</th>\n",
       "      <th>title</th>\n",
       "      <th>brand</th>\n",
       "    </tr>\n",
       "  </thead>\n",
       "  <tbody>\n",
       "    <tr>\n",
       "      <th>2</th>\n",
       "      <td>ATKPYXA8XFKGJ</td>\n",
       "      <td>0061073717</td>\n",
       "      <td>5</td>\n",
       "      <td>Workout Headphones by Arena Essentials</td>\n",
       "      <td>HarperCollins</td>\n",
       "    </tr>\n",
       "    <tr>\n",
       "      <th>3</th>\n",
       "      <td>ATKPYXA8XFKGJ</td>\n",
       "      <td>0061073717</td>\n",
       "      <td>5</td>\n",
       "      <td>Workout Headphones by Arena Essentials</td>\n",
       "      <td>HarperCollins</td>\n",
       "    </tr>\n",
       "  </tbody>\n",
       "</table>\n",
       "</div>"
      ],
      "text/plain": [
       "     reviewer_id  product_id  rating                                   title  \\\n",
       "2  ATKPYXA8XFKGJ  0061073717       5  Workout Headphones by Arena Essentials   \n",
       "3  ATKPYXA8XFKGJ  0061073717       5  Workout Headphones by Arena Essentials   \n",
       "\n",
       "           brand  \n",
       "2  HarperCollins  \n",
       "3  HarperCollins  "
      ]
     },
     "execution_count": 15,
     "metadata": {},
     "output_type": "execute_result"
    }
   ],
   "source": [
    "test_reviewer_id = \"ATKPYXA8XFKGJ\"\n",
    "df_data[df_data['reviewer_id']==test_reviewer_id].sort_values(by = 'rating',ascending=False)[:20]"
   ]
  },
  {
   "cell_type": "code",
   "execution_count": null,
   "metadata": {},
   "outputs": [],
   "source": []
  }
 ],
 "metadata": {
  "kernelspec": {
   "display_name": "Python 3",
   "language": "python",
   "name": "python3"
  },
  "language_info": {
   "codemirror_mode": {
    "name": "ipython",
    "version": 3
   },
   "file_extension": ".py",
   "mimetype": "text/x-python",
   "name": "python",
   "nbconvert_exporter": "python",
   "pygments_lexer": "ipython3",
   "version": "3.7.6"
  }
 },
 "nbformat": 4,
 "nbformat_minor": 4
}

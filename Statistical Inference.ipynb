{
 "cells": [
  {
   "cell_type": "code",
   "execution_count": 1,
   "metadata": {},
   "outputs": [
    {
     "name": "stderr",
     "output_type": "stream",
     "text": [
      "/Users/bea/opt/anaconda3/lib/python3.7/site-packages/IPython/core/interactiveshell.py:3063: DtypeWarning: Columns (8) have mixed types.Specify dtype option on import or set low_memory=False.\n",
      "  interactivity=interactivity, compiler=compiler, result=result)\n"
     ]
    }
   ],
   "source": [
    "import os\n",
    "import pandas as pd\n",
    "import numpy as np\n",
    "import datetime as dt\n",
    "import matplotlib.pyplot as plt\n",
    "%matplotlib inline\n",
    "import matplotlib as mpl\n",
    "import seaborn as sns\n",
    "sns.set_style(\"darkgrid\")\n",
    "sns.set(style=\"darkgrid\", color_codes=True)\n",
    "\n",
    "# load data\n",
    "df = pd.read_csv('./data/final_amazon_beauty.csv')"
   ]
  },
  {
   "cell_type": "markdown",
   "metadata": {},
   "source": [
    "# Create dataframe"
   ]
  },
  {
   "cell_type": "code",
   "execution_count": 5,
   "metadata": {},
   "outputs": [
    {
     "data": {
      "text/html": [
       "<div>\n",
       "<style scoped>\n",
       "    .dataframe tbody tr th:only-of-type {\n",
       "        vertical-align: middle;\n",
       "    }\n",
       "\n",
       "    .dataframe tbody tr th {\n",
       "        vertical-align: top;\n",
       "    }\n",
       "\n",
       "    .dataframe thead th {\n",
       "        text-align: right;\n",
       "    }\n",
       "</style>\n",
       "<table border=\"1\" class=\"dataframe\">\n",
       "  <thead>\n",
       "    <tr style=\"text-align: right;\">\n",
       "      <th></th>\n",
       "      <th>rating</th>\n",
       "      <th>product_id</th>\n",
       "      <th>title</th>\n",
       "      <th>reviewer_id</th>\n",
       "    </tr>\n",
       "  </thead>\n",
       "  <tbody>\n",
       "    <tr>\n",
       "      <th>0</th>\n",
       "      <td>5</td>\n",
       "      <td>0061073717</td>\n",
       "      <td>Workout Headphones by Arena Essentials</td>\n",
       "      <td>A2XMFX1BR0IJFJ</td>\n",
       "    </tr>\n",
       "    <tr>\n",
       "      <th>1</th>\n",
       "      <td>5</td>\n",
       "      <td>0061073717</td>\n",
       "      <td>Workout Headphones by Arena Essentials</td>\n",
       "      <td>ATKPYXA8XFKGJ</td>\n",
       "    </tr>\n",
       "    <tr>\n",
       "      <th>2</th>\n",
       "      <td>1</td>\n",
       "      <td>0143026860</td>\n",
       "      <td>Black Diamond</td>\n",
       "      <td>A1V6B6TNIC10QE</td>\n",
       "    </tr>\n",
       "    <tr>\n",
       "      <th>3</th>\n",
       "      <td>4</td>\n",
       "      <td>0143026860</td>\n",
       "      <td>Black Diamond</td>\n",
       "      <td>A2F5GHSXFQ0W6J</td>\n",
       "    </tr>\n",
       "    <tr>\n",
       "      <th>4</th>\n",
       "      <td>4</td>\n",
       "      <td>0143026860</td>\n",
       "      <td>Black Diamond</td>\n",
       "      <td>A1572GUYS7DGSR</td>\n",
       "    </tr>\n",
       "  </tbody>\n",
       "</table>\n",
       "</div>"
      ],
      "text/plain": [
       "   rating  product_id                                   title     reviewer_id\n",
       "0       5  0061073717  Workout Headphones by Arena Essentials  A2XMFX1BR0IJFJ\n",
       "1       5  0061073717  Workout Headphones by Arena Essentials   ATKPYXA8XFKGJ\n",
       "2       1  0143026860                           Black Diamond  A1V6B6TNIC10QE\n",
       "3       4  0143026860                           Black Diamond  A2F5GHSXFQ0W6J\n",
       "4       4  0143026860                           Black Diamond  A1572GUYS7DGSR"
      ]
     },
     "execution_count": 5,
     "metadata": {},
     "output_type": "execute_result"
    }
   ],
   "source": [
    "data = df[['rating', 'product_id', 'title', 'reviewer_id']]\n",
    "data.head(5)"
   ]
  },
  {
   "cell_type": "code",
   "execution_count": 48,
   "metadata": {},
   "outputs": [
    {
     "data": {
      "text/html": [
       "<div>\n",
       "<style scoped>\n",
       "    .dataframe tbody tr th:only-of-type {\n",
       "        vertical-align: middle;\n",
       "    }\n",
       "\n",
       "    .dataframe tbody tr th {\n",
       "        vertical-align: top;\n",
       "    }\n",
       "\n",
       "    .dataframe thead th {\n",
       "        text-align: right;\n",
       "    }\n",
       "</style>\n",
       "<table border=\"1\" class=\"dataframe\">\n",
       "  <thead>\n",
       "    <tr style=\"text-align: right;\">\n",
       "      <th></th>\n",
       "      <th>product_id</th>\n",
       "      <th>rating</th>\n",
       "      <th>number_of_ratings</th>\n",
       "    </tr>\n",
       "  </thead>\n",
       "  <tbody>\n",
       "    <tr>\n",
       "      <th>0</th>\n",
       "      <td>0061073717</td>\n",
       "      <td>[5, 5]</td>\n",
       "      <td>2</td>\n",
       "    </tr>\n",
       "    <tr>\n",
       "      <th>1</th>\n",
       "      <td>0143026860</td>\n",
       "      <td>[1, 4, 4, 5, 5, 5, 4, 5, 5, 5, 5, 3, 5, 5, 3, ...</td>\n",
       "      <td>17</td>\n",
       "    </tr>\n",
       "    <tr>\n",
       "      <th>2</th>\n",
       "      <td>014789302X</td>\n",
       "      <td>[1, 5, 1, 2, 5, 4, 5, 5, 5, 5, 5, 5, 5, 5, 5, ...</td>\n",
       "      <td>20</td>\n",
       "    </tr>\n",
       "    <tr>\n",
       "      <th>3</th>\n",
       "      <td>0571348351</td>\n",
       "      <td>[5, 5, 5]</td>\n",
       "      <td>3</td>\n",
       "    </tr>\n",
       "    <tr>\n",
       "      <th>4</th>\n",
       "      <td>0692508988</td>\n",
       "      <td>[5]</td>\n",
       "      <td>1</td>\n",
       "    </tr>\n",
       "  </tbody>\n",
       "</table>\n",
       "</div>"
      ],
      "text/plain": [
       "   product_id                                             rating  \\\n",
       "0  0061073717                                             [5, 5]   \n",
       "1  0143026860  [1, 4, 4, 5, 5, 5, 4, 5, 5, 5, 5, 3, 5, 5, 3, ...   \n",
       "2  014789302X  [1, 5, 1, 2, 5, 4, 5, 5, 5, 5, 5, 5, 5, 5, 5, ...   \n",
       "3  0571348351                                          [5, 5, 5]   \n",
       "4  0692508988                                                [5]   \n",
       "\n",
       "   number_of_ratings  \n",
       "0                  2  \n",
       "1                 17  \n",
       "2                 20  \n",
       "3                  3  \n",
       "4                  1  "
      ]
     },
     "execution_count": 48,
     "metadata": {},
     "output_type": "execute_result"
    }
   ],
   "source": [
    "product_ratings = data.groupby('product_id').rating.apply(list).reset_index()\n",
    "product_ratings['number_of_ratings'] = product_ratings['rating'].str.len() # len(product_ratings.rating)\n",
    "product_ratings.head()"
   ]
  },
  {
   "cell_type": "markdown",
   "metadata": {},
   "source": [
    "## Categorizing reviews into positive and negative"
   ]
  },
  {
   "cell_type": "code",
   "execution_count": 37,
   "metadata": {},
   "outputs": [],
   "source": [
    "# pos_neg_review_scores = list(map(\n",
    "#         lambda rating: [rating >= 4], data.rating.tolist()\n",
    "# ))\n",
    "# pos_neg_review_scores\n",
    "\n",
    "pos_neg_review_scores = list(\n",
    "    map(\n",
    "        lambda ratings: [r >= 4 for r in ratings], product_ratings.rating.tolist()\n",
    "    )\n",
    ")"
   ]
  },
  {
   "cell_type": "markdown",
   "metadata": {},
   "source": [
    "## Wilson Confidence Interval"
   ]
  },
  {
   "cell_type": "code",
   "execution_count": 38,
   "metadata": {},
   "outputs": [],
   "source": [
    "import scipy.stats as st\n",
    "import numpy as np\n",
    "\n",
    "def wilson_confidence_interval(X, c):\n",
    "    n = len(X)\n",
    "    \n",
    "    z_score = st.norm.ppf(1 - ((1 - c) / 2))\n",
    "    p_hat = np.array(X).astype(int).sum() / n\n",
    "    \n",
    "    correction_1 = z_score * z_score / (2*n)\n",
    "    correction_2 = z_score * np.sqrt((p_hat*(1-p_hat) + z_score * z_score/(4 * n))/n) / (1 + z_score * z_score /n)\n",
    "    additive_part = correction_1 + correction_2\n",
    "\n",
    "    return (p_hat - additive_part, p_hat + additive_part)"
   ]
  },
  {
   "cell_type": "code",
   "execution_count": 39,
   "metadata": {},
   "outputs": [],
   "source": [
    "import matplotlib.pyplot as plt\n",
    "plt.style.use('fivethirtyeight')"
   ]
  },
  {
   "cell_type": "markdown",
   "metadata": {},
   "source": [
    "When applied to a product with an underlying \"recommendation ratio\" of 0.5, the Wilson Confidence Interval converges to 0.5. This isn't so surprising, as it would be a lousy estimator otherwise."
   ]
  },
  {
   "cell_type": "code",
   "execution_count": 40,
   "metadata": {},
   "outputs": [],
   "source": [
    "cis = [wilson_confidence_interval([True]*n + [False]*n, 0.95) for n in range(1, 1000)]"
   ]
  },
  {
   "cell_type": "code",
   "execution_count": 41,
   "metadata": {},
   "outputs": [
    {
     "data": {
      "text/plain": [
       "[<matplotlib.lines.Line2D at 0x7fa42fbd0450>]"
      ]
     },
     "execution_count": 41,
     "metadata": {},
     "output_type": "execute_result"
    },
    {
     "data": {
      "image/png": "[encoded data removed]",
      "text/plain": [
       "<Figure size 432x288 with 1 Axes>"
      ]
     },
     "metadata": {},
     "output_type": "display_data"
    }
   ],
   "source": [
    "plt.plot(range(1, 1000), np.array(cis)[:, 0])\n",
    "plt.plot(range(1, 1000), np.array(cis)[:, 1])"
   ]
  },
  {
   "cell_type": "markdown",
   "metadata": {},
   "source": [
    "The useful part of the Wilson confidence interval is the lower bound, which serves as a good *pessimistic* approximator of how actually recommendable a product is. Per our problem statement, it gets used in particular to account for extremely small-sample products:"
   ]
  },
  {
   "cell_type": "code",
   "execution_count": 42,
   "metadata": {},
   "outputs": [
    {
     "data": {
      "text/plain": [
       "[<matplotlib.lines.Line2D at 0x7fa42103a810>]"
      ]
     },
     "execution_count": 42,
     "metadata": {},
     "output_type": "execute_result"
    },
    {
     "data": {
      "image/png": "[encoded data removed]",
      "text/plain": [
       "<Figure size 432x288 with 1 Axes>"
      ]
     },
     "metadata": {},
     "output_type": "display_data"
    }
   ],
   "source": [
    "plt.plot(range(1, 51), np.array(cis)[:50, 0])"
   ]
  },
  {
   "cell_type": "markdown",
   "metadata": {},
   "source": [
    "## Applying Wilson Confidence Interval to our data"
   ]
  },
  {
   "cell_type": "code",
   "execution_count": 43,
   "metadata": {},
   "outputs": [],
   "source": [
    "# wilson_confidence_interval(pos_neg_review_scores[0], 0.95)\n",
    "# beauty_recommendability_cis = np.array(\n",
    "#     [wilson_confidence_interval(pos_neg_review_scores[n], 0.95) for n in range(len(pos_neg_review_scores))]\n",
    "# )\n",
    "\n",
    "beauty_recommendability_cis = np.array(\n",
    "    [wilson_confidence_interval(pos_neg_review_scores[n], 0.95) for n in range(len(pos_neg_review_scores))]\n",
    ")"
   ]
  },
  {
   "cell_type": "code",
   "execution_count": 44,
   "metadata": {},
   "outputs": [
    {
     "data": {
      "text/plain": [
       "array([[-0.28917459,  2.28917459],\n",
       "       [ 0.46318803,  1.06622373],\n",
       "       [ 0.59993847,  1.10006153],\n",
       "       ...,\n",
       "       [ 0.39861289,  1.60138711],\n",
       "       [-2.31745475,  2.31745475],\n",
       "       [-0.05164589,  0.85164589]])"
      ]
     },
     "execution_count": 44,
     "metadata": {},
     "output_type": "execute_result"
    }
   ],
   "source": [
    "beauty_recommendability_cis"
   ]
  },
  {
   "cell_type": "code",
   "execution_count": 45,
   "metadata": {},
   "outputs": [
    {
     "data": {
      "text/plain": [
       "<matplotlib.axes._subplots.AxesSubplot at 0x7fa41aa9f9d0>"
      ]
     },
     "execution_count": 45,
     "metadata": {},
     "output_type": "execute_result"
    },
    {
     "data": {
      "image/png": "[encoded data removed]",
      "text/plain": [
       "<Figure size 432x288 with 1 Axes>"
      ]
     },
     "metadata": {},
     "output_type": "display_data"
    }
   ],
   "source": [
    "pd.Series(beauty_recommendability_cis[:, 1] - beauty_recommendability_cis[:, 0]).plot.hist(bins=20)"
   ]
  },
  {
   "cell_type": "code",
   "execution_count": null,
   "metadata": {},
   "outputs": [],
   "source": []
  }
 ],
 "metadata": {
  "kernelspec": {
   "display_name": "Python 3",
   "language": "python",
   "name": "python3"
  },
  "language_info": {
   "codemirror_mode": {
    "name": "ipython",
    "version": 3
   },
   "file_extension": ".py",
   "mimetype": "text/x-python",
   "name": "python",
   "nbconvert_exporter": "python",
   "pygments_lexer": "ipython3",
   "version": "3.7.6"
  }
 },
 "nbformat": 4,
 "nbformat_minor": 4
}

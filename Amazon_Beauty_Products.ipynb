{
 "cells": [
  {
   "cell_type": "markdown",
   "metadata": {
    "colab_type": "text",
    "id": "Rrve4HEiSEQe"
   },
   "source": [
    "# Import data and packages"
   ]
  },
  {
   "cell_type": "code",
   "execution_count": 1,
   "metadata": {},
   "outputs": [
    {
     "name": "stderr",
     "output_type": "stream",
     "text": [
      "/Users/bea/opt/anaconda3/lib/python3.7/site-packages/IPython/core/interactiveshell.py:3063: DtypeWarning: Columns (8) have mixed types.Specify dtype option on import or set low_memory=False.\n",
      "  interactivity=interactivity, compiler=compiler, result=result)\n"
     ]
    }
   ],
   "source": [
    "import os\n",
    "import pandas as pd\n",
    "import numpy as np\n",
    "import datetime as dt\n",
    "import matplotlib.pyplot as plt\n",
    "%matplotlib inline\n",
    "import matplotlib as mpl\n",
    "import seaborn as sns\n",
    "sns.set_style(\"darkgrid\")\n",
    "sns.set(style=\"darkgrid\", color_codes=True)\n",
    "\n",
    "# load data\n",
    "df = pd.read_csv('./data/final_amazon_beauty.csv')"
   ]
  },
  {
   "cell_type": "code",
   "execution_count": 2,
   "metadata": {
    "colab": {},
    "colab_type": "code",
    "id": "f5NDXrN2CtH7"
   },
   "outputs": [],
   "source": [
    "# we will be using bokeh but a couple of them will be run using matplotlob.pyplot\n",
    "import matplotlib.pyplot as plt\n",
    "\n",
    "# we need to ensure we are working with the current, stable release of bokeh.\n",
    "# we will use bokeh for data visualization\n",
    "\n",
    "!pip install -q bokeh==2.1.1"
   ]
  },
  {
   "cell_type": "code",
   "execution_count": 3,
   "metadata": {
    "colab": {},
    "colab_type": "code",
    "id": "dmA4cgz03cNS"
   },
   "outputs": [
    {
     "data": {
      "text/html": [
       "\n",
       "    <div class=\"bk-root\">\n",
       "        <a href=\"https://bokeh.org\" target=\"_blank\" class=\"bk-logo bk-logo-small bk-logo-notebook\"></a>\n",
       "        <span id=\"1001\">Loading BokehJS ...</span>\n",
       "    </div>"
      ]
     },
     "metadata": {},
     "output_type": "display_data"
    },
    {
     "data": {
      "application/javascript": [
       "\n",
       "(function(root) {\n",
       "  function now() {\n",
       "    return new Date();\n",
       "  }\n",
       "\n",
       "  var force = true;\n",
       "\n",
       "  if (typeof root._bokeh_onload_callbacks === \"undefined\" || force === true) {\n",
       "    root._bokeh_onload_callbacks = [];\n",
       "    root._bokeh_is_loading = undefined;\n",
       "  }\n",
       "\n",
       "  var JS_MIME_TYPE = 'application/javascript';\n",
       "  var HTML_MIME_TYPE = 'text/html';\n",
       "  var EXEC_MIME_TYPE = 'application/vnd.bokehjs_exec.v0+json';\n",
       "  var CLASS_NAME = 'output_bokeh rendered_html';\n",
       "\n",
       "  /**\n",
       "   * Render data to the DOM node\n",
       "   */\n",
       "  function render(props, node) {\n",
       "    var script = document.createElement(\"script\");\n",
       "    node.appendChild(script);\n",
       "  }\n",
       "\n",
       "  /**\n",
       "   * Handle when an output is cleared or removed\n",
       "   */\n",
       "  function handleClearOutput(event, handle) {\n",
       "    var cell = handle.cell;\n",
       "\n",
       "    var id = cell.output_area._bokeh_element_id;\n",
       "    var server_id = cell.output_area._bokeh_server_id;\n",
       "    // Clean up Bokeh references\n",
       "    if (id != null && id in Bokeh.index) {\n",
       "      Bokeh.index[id].model.document.clear();\n",
       "      delete Bokeh.index[id];\n",
       "    }\n",
       "\n",
       "    if (server_id !== undefined) {\n",
       "      // Clean up Bokeh references\n",
       "      var cmd = \"from bokeh.io.state import curstate; print(curstate().uuid_to_server['\" + server_id + \"'].get_sessions()[0].document.roots[0]._id)\";\n",
       "      cell.notebook.kernel.execute(cmd, {\n",
       "        iopub: {\n",
       "          output: function(msg) {\n",
       "            var id = msg.content.text.trim();\n",
       "            if (id in Bokeh.index) {\n",
       "              Bokeh.index[id].model.document.clear();\n",
       "              delete Bokeh.index[id];\n",
       "            }\n",
       "          }\n",
       "        }\n",
       "      });\n",
       "      // Destroy server and session\n",
       "      var cmd = \"import bokeh.io.notebook as ion; ion.destroy_server('\" + server_id + \"')\";\n",
       "      cell.notebook.kernel.execute(cmd);\n",
       "    }\n",
       "  }\n",
       "\n",
       "  /**\n",
       "   * Handle when a new output is added\n",
       "   */\n",
       "  function handleAddOutput(event, handle) {\n",
       "    var output_area = handle.output_area;\n",
       "    var output = handle.output;\n",
       "\n",
       "    // limit handleAddOutput to display_data with EXEC_MIME_TYPE content only\n",
       "    if ((output.output_type != \"display_data\") || (!output.data.hasOwnProperty(EXEC_MIME_TYPE))) {\n",
       "      return\n",
       "    }\n",
       "\n",
       "    var toinsert = output_area.element.find(\".\" + CLASS_NAME.split(' ')[0]);\n",
       "\n",
       "    if (output.metadata[EXEC_MIME_TYPE][\"id\"] !== undefined) {\n",
       "      toinsert[toinsert.length - 1].firstChild.textContent = output.data[JS_MIME_TYPE];\n",
       "      // store reference to embed id on output_area\n",
       "      output_area._bokeh_element_id = output.metadata[EXEC_MIME_TYPE][\"id\"];\n",
       "    }\n",
       "    if (output.metadata[EXEC_MIME_TYPE][\"server_id\"] !== undefined) {\n",
       "      var bk_div = document.createElement(\"div\");\n",
       "      bk_div.innerHTML = output.data[HTML_MIME_TYPE];\n",
       "      var script_attrs = bk_div.children[0].attributes;\n",
       "      for (var i = 0; i < script_attrs.length; i++) {\n",
       "        toinsert[toinsert.length - 1].firstChild.setAttribute(script_attrs[i].name, script_attrs[i].value);\n",
       "        toinsert[toinsert.length - 1].firstChild.textContent = bk_div.children[0].textContent\n",
       "      }\n",
       "      // store reference to server id on output_area\n",
       "      output_area._bokeh_server_id = output.metadata[EXEC_MIME_TYPE][\"server_id\"];\n",
       "    }\n",
       "  }\n",
       "\n",
       "  function register_renderer(events, OutputArea) {\n",
       "\n",
       "    function append_mime(data, metadata, element) {\n",
       "      // create a DOM node to render to\n",
       "      var toinsert = this.create_output_subarea(\n",
       "        metadata,\n",
       "        CLASS_NAME,\n",
       "        EXEC_MIME_TYPE\n",
       "      );\n",
       "      this.keyboard_manager.register_events(toinsert);\n",
       "      // Render to node\n",
       "      var props = {data: data, metadata: metadata[EXEC_MIME_TYPE]};\n",
       "      render(props, toinsert[toinsert.length - 1]);\n",
       "      element.append(toinsert);\n",
       "      return toinsert\n",
       "    }\n",
       "\n",
       "    /* Handle when an output is cleared or removed */\n",
       "    events.on('clear_output.CodeCell', handleClearOutput);\n",
       "    events.on('delete.Cell', handleClearOutput);\n",
       "\n",
       "    /* Handle when a new output is added */\n",
       "    events.on('output_added.OutputArea', handleAddOutput);\n",
       "\n",
       "    /**\n",
       "     * Register the mime type and append_mime function with output_area\n",
       "     */\n",
       "    OutputArea.prototype.register_mime_type(EXEC_MIME_TYPE, append_mime, {\n",
       "      /* Is output safe? */\n",
       "      safe: true,\n",
       "      /* Index of renderer in `output_area.display_order` */\n",
       "      index: 0\n",
       "    });\n",
       "  }\n",
       "\n",
       "  // register the mime type if in Jupyter Notebook environment and previously unregistered\n",
       "  if (root.Jupyter !== undefined) {\n",
       "    var events = require('base/js/events');\n",
       "    var OutputArea = require('notebook/js/outputarea').OutputArea;\n",
       "\n",
       "    if (OutputArea.prototype.mime_types().indexOf(EXEC_MIME_TYPE) == -1) {\n",
       "      register_renderer(events, OutputArea);\n",
       "    }\n",
       "  }\n",
       "\n",
       "  \n",
       "  if (typeof (root._bokeh_timeout) === \"undefined\" || force === true) {\n",
       "    root._bokeh_timeout = Date.now() + 5000;\n",
       "    root._bokeh_failed_load = false;\n",
       "  }\n",
       "\n",
       "  var NB_LOAD_WARNING = {'data': {'text/html':\n",
       "     \"<div style='background-color: #fdd'>\\n\"+\n",
       "     \"<p>\\n\"+\n",
       "     \"BokehJS does not appear to have successfully loaded. If loading BokehJS from CDN, this \\n\"+\n",
       "     \"may be due to a slow or bad network connection. Possible fixes:\\n\"+\n",
       "     \"</p>\\n\"+\n",
       "     \"<ul>\\n\"+\n",
       "     \"<li>re-rerun `output_notebook()` to attempt to load from CDN again, or</li>\\n\"+\n",
       "     \"<li>use INLINE resources instead, as so:</li>\\n\"+\n",
       "     \"</ul>\\n\"+\n",
       "     \"<code>\\n\"+\n",
       "     \"from bokeh.resources import INLINE\\n\"+\n",
       "     \"output_notebook(resources=INLINE)\\n\"+\n",
       "     \"</code>\\n\"+\n",
       "     \"</div>\"}};\n",
       "\n",
       "  function display_loaded() {\n",
       "    var el = document.getElementById(\"1001\");\n",
       "    if (el != null) {\n",
       "      el.textContent = \"BokehJS is loading...\";\n",
       "    }\n",
       "    if (root.Bokeh !== undefined) {\n",
       "      if (el != null) {\n",
       "        el.textContent = \"BokehJS \" + root.Bokeh.version + \" successfully loaded.\";\n",
       "      }\n",
       "    } else if (Date.now() < root._bokeh_timeout) {\n",
       "      setTimeout(display_loaded, 100)\n",
       "    }\n",
       "  }\n",
       "\n",
       "\n",
       "  function run_callbacks() {\n",
       "    try {\n",
       "      root._bokeh_onload_callbacks.forEach(function(callback) {\n",
       "        if (callback != null)\n",
       "          callback();\n",
       "      });\n",
       "    } finally {\n",
       "      delete root._bokeh_onload_callbacks\n",
       "    }\n",
       "    console.debug(\"Bokeh: all callbacks have finished\");\n",
       "  }\n",
       "\n",
       "  function load_libs(css_urls, js_urls, callback) {\n",
       "    if (css_urls == null) css_urls = [];\n",
       "    if (js_urls == null) js_urls = [];\n",
       "\n",
       "    root._bokeh_onload_callbacks.push(callback);\n",
       "    if (root._bokeh_is_loading > 0) {\n",
       "      console.debug(\"Bokeh: BokehJS is being loaded, scheduling callback at\", now());\n",
       "      return null;\n",
       "    }\n",
       "    if (js_urls == null || js_urls.length === 0) {\n",
       "      run_callbacks();\n",
       "      return null;\n",
       "    }\n",
       "    console.debug(\"Bokeh: BokehJS not loaded, scheduling load and callback at\", now());\n",
       "    root._bokeh_is_loading = css_urls.length + js_urls.length;\n",
       "\n",
       "    function on_load() {\n",
       "      root._bokeh_is_loading--;\n",
       "      if (root._bokeh_is_loading === 0) {\n",
       "        console.debug(\"Bokeh: all BokehJS libraries/stylesheets loaded\");\n",
       "        run_callbacks()\n",
       "      }\n",
       "    }\n",
       "\n",
       "    function on_error() {\n",
       "      console.error(\"failed to load \" + url);\n",
       "    }\n",
       "\n",
       "    for (var i = 0; i < css_urls.length; i++) {\n",
       "      var url = css_urls[i];\n",
       "      const element = document.createElement(\"link\");\n",
       "      element.onload = on_load;\n",
       "      element.onerror = on_error;\n",
       "      element.rel = \"stylesheet\";\n",
       "      element.type = \"text/css\";\n",
       "      element.href = url;\n",
       "      console.debug(\"Bokeh: injecting link tag for BokehJS stylesheet: \", url);\n",
       "      document.body.appendChild(element);\n",
       "    }\n",
       "\n",
       "    const hashes = {\"https://cdn.bokeh.org/bokeh/release/bokeh-2.1.1.min.js\": \"kLr4fYcqcSpbuI95brIH3vnnYCquzzSxHPU6XGQCIkQRGJwhg0StNbj1eegrHs12\", \"https://cdn.bokeh.org/bokeh/release/bokeh-widgets-2.1.1.min.js\": \"xIGPmVtaOm+z0BqfSOMn4lOR6ciex448GIKG4eE61LsAvmGj48XcMQZtKcE/UXZe\", \"https://cdn.bokeh.org/bokeh/release/bokeh-tables-2.1.1.min.js\": \"Dc9u1wF/0zApGIWoBbH77iWEHtdmkuYWG839Uzmv8y8yBLXebjO9ZnERsde5Ln/P\", \"https://cdn.bokeh.org/bokeh/release/bokeh-gl-2.1.1.min.js\": \"cT9JaBz7GiRXdENrJLZNSC6eMNF3nh3fa5fTF51Svp+ukxPdwcU5kGXGPBgDCa2j\"};\n",
       "\n",
       "    for (var i = 0; i < js_urls.length; i++) {\n",
       "      var url = js_urls[i];\n",
       "      var element = document.createElement('script');\n",
       "      element.onload = on_load;\n",
       "      element.onerror = on_error;\n",
       "      element.async = false;\n",
       "      element.src = url;\n",
       "      if (url in hashes) {\n",
       "        element.crossOrigin = \"anonymous\";\n",
       "        element.integrity = \"sha384-\" + hashes[url];\n",
       "      }\n",
       "      console.debug(\"Bokeh: injecting script tag for BokehJS library: \", url);\n",
       "      document.head.appendChild(element);\n",
       "    }\n",
       "  };\n",
       "\n",
       "  function inject_raw_css(css) {\n",
       "    const element = document.createElement(\"style\");\n",
       "    element.appendChild(document.createTextNode(css));\n",
       "    document.body.appendChild(element);\n",
       "  }\n",
       "\n",
       "  \n",
       "  var js_urls = [\"https://cdn.bokeh.org/bokeh/release/bokeh-2.1.1.min.js\", \"https://cdn.bokeh.org/bokeh/release/bokeh-widgets-2.1.1.min.js\", \"https://cdn.bokeh.org/bokeh/release/bokeh-tables-2.1.1.min.js\", \"https://cdn.bokeh.org/bokeh/release/bokeh-gl-2.1.1.min.js\"];\n",
       "  var css_urls = [];\n",
       "  \n",
       "\n",
       "  var inline_js = [\n",
       "    function(Bokeh) {\n",
       "      Bokeh.set_log_level(\"info\");\n",
       "    },\n",
       "    function(Bokeh) {\n",
       "    \n",
       "    \n",
       "    }\n",
       "  ];\n",
       "\n",
       "  function run_inline_js() {\n",
       "    \n",
       "    if (root.Bokeh !== undefined || force === true) {\n",
       "      \n",
       "    for (var i = 0; i < inline_js.length; i++) {\n",
       "      inline_js[i].call(root, root.Bokeh);\n",
       "    }\n",
       "    if (force === true) {\n",
       "        display_loaded();\n",
       "      }} else if (Date.now() < root._bokeh_timeout) {\n",
       "      setTimeout(run_inline_js, 100);\n",
       "    } else if (!root._bokeh_failed_load) {\n",
       "      console.log(\"Bokeh: BokehJS failed to load within specified timeout.\");\n",
       "      root._bokeh_failed_load = true;\n",
       "    } else if (force !== true) {\n",
       "      var cell = $(document.getElementById(\"1001\")).parents('.cell').data().cell;\n",
       "      cell.output_area.append_execute_result(NB_LOAD_WARNING)\n",
       "    }\n",
       "\n",
       "  }\n",
       "\n",
       "  if (root._bokeh_is_loading === 0) {\n",
       "    console.debug(\"Bokeh: BokehJS loaded, going straight to plotting\");\n",
       "    run_inline_js();\n",
       "  } else {\n",
       "    load_libs(css_urls, js_urls, function() {\n",
       "      console.debug(\"Bokeh: BokehJS plotting callback run at\", now());\n",
       "      run_inline_js();\n",
       "    });\n",
       "  }\n",
       "}(window));"
      ],
      "application/vnd.bokehjs_load.v0+json": "\n(function(root) {\n  function now() {\n    return new Date();\n  }\n\n  var force = true;\n\n  if (typeof root._bokeh_onload_callbacks === \"undefined\" || force === true) {\n    root._bokeh_onload_callbacks = [];\n    root._bokeh_is_loading = undefined;\n  }\n\n  \n\n  \n  if (typeof (root._bokeh_timeout) === \"undefined\" || force === true) {\n    root._bokeh_timeout = Date.now() + 5000;\n    root._bokeh_failed_load = false;\n  }\n\n  var NB_LOAD_WARNING = {'data': {'text/html':\n     \"<div style='background-color: #fdd'>\\n\"+\n     \"<p>\\n\"+\n     \"BokehJS does not appear to have successfully loaded. If loading BokehJS from CDN, this \\n\"+\n     \"may be due to a slow or bad network connection. Possible fixes:\\n\"+\n     \"</p>\\n\"+\n     \"<ul>\\n\"+\n     \"<li>re-rerun `output_notebook()` to attempt to load from CDN again, or</li>\\n\"+\n     \"<li>use INLINE resources instead, as so:</li>\\n\"+\n     \"</ul>\\n\"+\n     \"<code>\\n\"+\n     \"from bokeh.resources import INLINE\\n\"+\n     \"output_notebook(resources=INLINE)\\n\"+\n     \"</code>\\n\"+\n     \"</div>\"}};\n\n  function display_loaded() {\n    var el = document.getElementById(\"1001\");\n    if (el != null) {\n      el.textContent = \"BokehJS is loading...\";\n    }\n    if (root.Bokeh !== undefined) {\n      if (el != null) {\n        el.textContent = \"BokehJS \" + root.Bokeh.version + \" successfully loaded.\";\n      }\n    } else if (Date.now() < root._bokeh_timeout) {\n      setTimeout(display_loaded, 100)\n    }\n  }\n\n\n  function run_callbacks() {\n    try {\n      root._bokeh_onload_callbacks.forEach(function(callback) {\n        if (callback != null)\n          callback();\n      });\n    } finally {\n      delete root._bokeh_onload_callbacks\n    }\n    console.debug(\"Bokeh: all callbacks have finished\");\n  }\n\n  function load_libs(css_urls, js_urls, callback) {\n    if (css_urls == null) css_urls = [];\n    if (js_urls == null) js_urls = [];\n\n    root._bokeh_onload_callbacks.push(callback);\n    if (root._bokeh_is_loading > 0) {\n      console.debug(\"Bokeh: BokehJS is being loaded, scheduling callback at\", now());\n      return null;\n    }\n    if (js_urls == null || js_urls.length === 0) {\n      run_callbacks();\n      return null;\n    }\n    console.debug(\"Bokeh: BokehJS not loaded, scheduling load and callback at\", now());\n    root._bokeh_is_loading = css_urls.length + js_urls.length;\n\n    function on_load() {\n      root._bokeh_is_loading--;\n      if (root._bokeh_is_loading === 0) {\n        console.debug(\"Bokeh: all BokehJS libraries/stylesheets loaded\");\n        run_callbacks()\n      }\n    }\n\n    function on_error() {\n      console.error(\"failed to load \" + url);\n    }\n\n    for (var i = 0; i < css_urls.length; i++) {\n      var url = css_urls[i];\n      const element = document.createElement(\"link\");\n      element.onload = on_load;\n      element.onerror = on_error;\n      element.rel = \"stylesheet\";\n      element.type = \"text/css\";\n      element.href = url;\n      console.debug(\"Bokeh: injecting link tag for BokehJS stylesheet: \", url);\n      document.body.appendChild(element);\n    }\n\n    const hashes = {\"https://cdn.bokeh.org/bokeh/release/bokeh-2.1.1.min.js\": \"kLr4fYcqcSpbuI95brIH3vnnYCquzzSxHPU6XGQCIkQRGJwhg0StNbj1eegrHs12\", \"https://cdn.bokeh.org/bokeh/release/bokeh-widgets-2.1.1.min.js\": \"xIGPmVtaOm+z0BqfSOMn4lOR6ciex448GIKG4eE61LsAvmGj48XcMQZtKcE/UXZe\", \"https://cdn.bokeh.org/bokeh/release/bokeh-tables-2.1.1.min.js\": \"Dc9u1wF/0zApGIWoBbH77iWEHtdmkuYWG839Uzmv8y8yBLXebjO9ZnERsde5Ln/P\", \"https://cdn.bokeh.org/bokeh/release/bokeh-gl-2.1.1.min.js\": \"cT9JaBz7GiRXdENrJLZNSC6eMNF3nh3fa5fTF51Svp+ukxPdwcU5kGXGPBgDCa2j\"};\n\n    for (var i = 0; i < js_urls.length; i++) {\n      var url = js_urls[i];\n      var element = document.createElement('script');\n      element.onload = on_load;\n      element.onerror = on_error;\n      element.async = false;\n      element.src = url;\n      if (url in hashes) {\n        element.crossOrigin = \"anonymous\";\n        element.integrity = \"sha384-\" + hashes[url];\n      }\n      console.debug(\"Bokeh: injecting script tag for BokehJS library: \", url);\n      document.head.appendChild(element);\n    }\n  };\n\n  function inject_raw_css(css) {\n    const element = document.createElement(\"style\");\n    element.appendChild(document.createTextNode(css));\n    document.body.appendChild(element);\n  }\n\n  \n  var js_urls = [\"https://cdn.bokeh.org/bokeh/release/bokeh-2.1.1.min.js\", \"https://cdn.bokeh.org/bokeh/release/bokeh-widgets-2.1.1.min.js\", \"https://cdn.bokeh.org/bokeh/release/bokeh-tables-2.1.1.min.js\", \"https://cdn.bokeh.org/bokeh/release/bokeh-gl-2.1.1.min.js\"];\n  var css_urls = [];\n  \n\n  var inline_js = [\n    function(Bokeh) {\n      Bokeh.set_log_level(\"info\");\n    },\n    function(Bokeh) {\n    \n    \n    }\n  ];\n\n  function run_inline_js() {\n    \n    if (root.Bokeh !== undefined || force === true) {\n      \n    for (var i = 0; i < inline_js.length; i++) {\n      inline_js[i].call(root, root.Bokeh);\n    }\n    if (force === true) {\n        display_loaded();\n      }} else if (Date.now() < root._bokeh_timeout) {\n      setTimeout(run_inline_js, 100);\n    } else if (!root._bokeh_failed_load) {\n      console.log(\"Bokeh: BokehJS failed to load within specified timeout.\");\n      root._bokeh_failed_load = true;\n    } else if (force !== true) {\n      var cell = $(document.getElementById(\"1001\")).parents('.cell').data().cell;\n      cell.output_area.append_execute_result(NB_LOAD_WARNING)\n    }\n\n  }\n\n  if (root._bokeh_is_loading === 0) {\n    console.debug(\"Bokeh: BokehJS loaded, going straight to plotting\");\n    run_inline_js();\n  } else {\n    load_libs(css_urls, js_urls, function() {\n      console.debug(\"Bokeh: BokehJS plotting callback run at\", now());\n      run_inline_js();\n    });\n  }\n}(window));"
     },
     "metadata": {},
     "output_type": "display_data"
    }
   ],
   "source": [
    "# standard bokeh imports\n",
    "from bokeh.io import output_notebook, show, reset_output\n",
    "\n",
    "# other bokeh imports\n",
    "import bokeh\n",
    "from bokeh.plotting import figure\n",
    "from bokeh.palettes import Viridis256\n",
    "\n",
    "output_notebook()\n",
    "\n",
    "# more imports in cells below as needed\n"
   ]
  },
  {
   "cell_type": "code",
   "execution_count": 4,
   "metadata": {},
   "outputs": [
    {
     "data": {
      "text/html": [
       "<div>\n",
       "<style scoped>\n",
       "    .dataframe tbody tr th:only-of-type {\n",
       "        vertical-align: middle;\n",
       "    }\n",
       "\n",
       "    .dataframe tbody tr th {\n",
       "        vertical-align: top;\n",
       "    }\n",
       "\n",
       "    .dataframe thead th {\n",
       "        text-align: right;\n",
       "    }\n",
       "</style>\n",
       "<table border=\"1\" class=\"dataframe\">\n",
       "  <thead>\n",
       "    <tr style=\"text-align: right;\">\n",
       "      <th></th>\n",
       "      <th>rating</th>\n",
       "      <th>verified</th>\n",
       "      <th>review_time</th>\n",
       "      <th>reviewer_id</th>\n",
       "      <th>product_id</th>\n",
       "      <th>reviewer_name</th>\n",
       "      <th>reviewer_text</th>\n",
       "      <th>summary</th>\n",
       "      <th>vote</th>\n",
       "      <th>title</th>\n",
       "      <th>brand</th>\n",
       "      <th>rank</th>\n",
       "      <th>main_cat</th>\n",
       "      <th>description</th>\n",
       "      <th>also_view</th>\n",
       "      <th>also_buy</th>\n",
       "      <th>price</th>\n",
       "      <th>similar_item</th>\n",
       "      <th>details</th>\n",
       "    </tr>\n",
       "  </thead>\n",
       "  <tbody>\n",
       "    <tr>\n",
       "      <th>0</th>\n",
       "      <td>5</td>\n",
       "      <td>False</td>\n",
       "      <td>2000-06-03</td>\n",
       "      <td>A2XMFX1BR0IJFJ</td>\n",
       "      <td>0061073717</td>\n",
       "      <td>Jonathan Reed (jonathan.reed2@virgin.net)</td>\n",
       "      <td>This calender is brilliant and has plenty of g...</td>\n",
       "      <td>Futurama rules</td>\n",
       "      <td>2</td>\n",
       "      <td>Workout Headphones by Arena Essentials</td>\n",
       "      <td>HarperCollins</td>\n",
       "      <td>3,235,148inBeautyamp;PersonalCare(</td>\n",
       "      <td>All Beauty</td>\n",
       "      <td>NaN</td>\n",
       "      <td>NaN</td>\n",
       "      <td>NaN</td>\n",
       "      <td>NaN</td>\n",
       "      <td>NaN</td>\n",
       "      <td>NaN</td>\n",
       "    </tr>\n",
       "    <tr>\n",
       "      <th>1</th>\n",
       "      <td>5</td>\n",
       "      <td>False</td>\n",
       "      <td>2000-05-06</td>\n",
       "      <td>ATKPYXA8XFKGJ</td>\n",
       "      <td>0061073717</td>\n",
       "      <td>Gwen Bates</td>\n",
       "      <td>This calender really is great.  In addition to...</td>\n",
       "      <td>A great gift for any futurama fan!</td>\n",
       "      <td>NaN</td>\n",
       "      <td>Workout Headphones by Arena Essentials</td>\n",
       "      <td>HarperCollins</td>\n",
       "      <td>3,235,148inBeautyamp;PersonalCare(</td>\n",
       "      <td>All Beauty</td>\n",
       "      <td>NaN</td>\n",
       "      <td>NaN</td>\n",
       "      <td>NaN</td>\n",
       "      <td>NaN</td>\n",
       "      <td>NaN</td>\n",
       "      <td>NaN</td>\n",
       "    </tr>\n",
       "    <tr>\n",
       "      <th>2</th>\n",
       "      <td>1</td>\n",
       "      <td>True</td>\n",
       "      <td>2015-02-19</td>\n",
       "      <td>A1V6B6TNIC10QE</td>\n",
       "      <td>0143026860</td>\n",
       "      <td>theodore j bigham</td>\n",
       "      <td>great</td>\n",
       "      <td>One Star</td>\n",
       "      <td>NaN</td>\n",
       "      <td>Black Diamond</td>\n",
       "      <td>Swedish Beauty</td>\n",
       "      <td>1,462,563inBeautyamp;PersonalCare(</td>\n",
       "      <td>All Beauty</td>\n",
       "      <td>['This is the NEW PURPLE BOTTLE that just came...</td>\n",
       "      <td>['B000LXTNMW']</td>\n",
       "      <td>NaN</td>\n",
       "      <td>NaN</td>\n",
       "      <td>NaN</td>\n",
       "      <td>NaN</td>\n",
       "    </tr>\n",
       "    <tr>\n",
       "      <th>3</th>\n",
       "      <td>4</td>\n",
       "      <td>True</td>\n",
       "      <td>2014-12-18</td>\n",
       "      <td>A2F5GHSXFQ0W6J</td>\n",
       "      <td>0143026860</td>\n",
       "      <td>Mary K. Byke</td>\n",
       "      <td>My  husband wanted to reading about the Negro ...</td>\n",
       "      <td>... to reading about the Negro Baseball and th...</td>\n",
       "      <td>NaN</td>\n",
       "      <td>Black Diamond</td>\n",
       "      <td>Swedish Beauty</td>\n",
       "      <td>1,462,563inBeautyamp;PersonalCare(</td>\n",
       "      <td>All Beauty</td>\n",
       "      <td>['This is the NEW PURPLE BOTTLE that just came...</td>\n",
       "      <td>['B000LXTNMW']</td>\n",
       "      <td>NaN</td>\n",
       "      <td>NaN</td>\n",
       "      <td>NaN</td>\n",
       "      <td>NaN</td>\n",
       "    </tr>\n",
       "    <tr>\n",
       "      <th>4</th>\n",
       "      <td>4</td>\n",
       "      <td>True</td>\n",
       "      <td>2014-08-10</td>\n",
       "      <td>A1572GUYS7DGSR</td>\n",
       "      <td>0143026860</td>\n",
       "      <td>David G</td>\n",
       "      <td>This book was very informative, covering all a...</td>\n",
       "      <td>Worth the Read</td>\n",
       "      <td>NaN</td>\n",
       "      <td>Black Diamond</td>\n",
       "      <td>Swedish Beauty</td>\n",
       "      <td>1,462,563inBeautyamp;PersonalCare(</td>\n",
       "      <td>All Beauty</td>\n",
       "      <td>['This is the NEW PURPLE BOTTLE that just came...</td>\n",
       "      <td>['B000LXTNMW']</td>\n",
       "      <td>NaN</td>\n",
       "      <td>NaN</td>\n",
       "      <td>NaN</td>\n",
       "      <td>NaN</td>\n",
       "    </tr>\n",
       "  </tbody>\n",
       "</table>\n",
       "</div>"
      ],
      "text/plain": [
       "   rating  verified review_time     reviewer_id  product_id  \\\n",
       "0       5     False  2000-06-03  A2XMFX1BR0IJFJ  0061073717   \n",
       "1       5     False  2000-05-06   ATKPYXA8XFKGJ  0061073717   \n",
       "2       1      True  2015-02-19  A1V6B6TNIC10QE  0143026860   \n",
       "3       4      True  2014-12-18  A2F5GHSXFQ0W6J  0143026860   \n",
       "4       4      True  2014-08-10  A1572GUYS7DGSR  0143026860   \n",
       "\n",
       "                               reviewer_name  \\\n",
       "0  Jonathan Reed (jonathan.reed2@virgin.net)   \n",
       "1                                 Gwen Bates   \n",
       "2                          theodore j bigham   \n",
       "3                               Mary K. Byke   \n",
       "4                                    David G   \n",
       "\n",
       "                                       reviewer_text  \\\n",
       "0  This calender is brilliant and has plenty of g...   \n",
       "1  This calender really is great.  In addition to...   \n",
       "2                                              great   \n",
       "3  My  husband wanted to reading about the Negro ...   \n",
       "4  This book was very informative, covering all a...   \n",
       "\n",
       "                                             summary vote  \\\n",
       "0                                     Futurama rules    2   \n",
       "1                 A great gift for any futurama fan!  NaN   \n",
       "2                                           One Star  NaN   \n",
       "3  ... to reading about the Negro Baseball and th...  NaN   \n",
       "4                                     Worth the Read  NaN   \n",
       "\n",
       "                                    title           brand  \\\n",
       "0  Workout Headphones by Arena Essentials   HarperCollins   \n",
       "1  Workout Headphones by Arena Essentials   HarperCollins   \n",
       "2                           Black Diamond  Swedish Beauty   \n",
       "3                           Black Diamond  Swedish Beauty   \n",
       "4                           Black Diamond  Swedish Beauty   \n",
       "\n",
       "                                 rank    main_cat  \\\n",
       "0  3,235,148inBeautyamp;PersonalCare(  All Beauty   \n",
       "1  3,235,148inBeautyamp;PersonalCare(  All Beauty   \n",
       "2  1,462,563inBeautyamp;PersonalCare(  All Beauty   \n",
       "3  1,462,563inBeautyamp;PersonalCare(  All Beauty   \n",
       "4  1,462,563inBeautyamp;PersonalCare(  All Beauty   \n",
       "\n",
       "                                         description       also_view also_buy  \\\n",
       "0                                                NaN             NaN      NaN   \n",
       "1                                                NaN             NaN      NaN   \n",
       "2  ['This is the NEW PURPLE BOTTLE that just came...  ['B000LXTNMW']      NaN   \n",
       "3  ['This is the NEW PURPLE BOTTLE that just came...  ['B000LXTNMW']      NaN   \n",
       "4  ['This is the NEW PURPLE BOTTLE that just came...  ['B000LXTNMW']      NaN   \n",
       "\n",
       "  price similar_item details  \n",
       "0   NaN          NaN     NaN  \n",
       "1   NaN          NaN     NaN  \n",
       "2   NaN          NaN     NaN  \n",
       "3   NaN          NaN     NaN  \n",
       "4   NaN          NaN     NaN  "
      ]
     },
     "execution_count": 4,
     "metadata": {},
     "output_type": "execute_result"
    }
   ],
   "source": [
    "df.head()"
   ]
  },
  {
   "cell_type": "markdown",
   "metadata": {
    "colab_type": "text",
    "id": "Vj6BayCvXdXp"
   },
   "source": [
    "### Product ID vs Product name\n",
    "\n"
   ]
  },
  {
   "cell_type": "code",
   "execution_count": 5,
   "metadata": {
    "colab": {
     "base_uri": "https://localhost:8080/",
     "height": 573
    },
    "colab_type": "code",
    "id": "yrsfJ5ScXdmt",
    "outputId": "a15a8069-9d22-4c8f-a071-718303b425f8"
   },
   "outputs": [
    {
     "data": {
      "text/plain": [
       "reviewer_id           reviewer_name   \n",
       "A0010876CNE3ILIM9HV0  JR123               1\n",
       "A001170867ZBE9FORRQL  Amber               2\n",
       "A0028738FYF1SKPPC7B1  SHERYL MILLER       1\n",
       "A0045356A23634W7RI4M  Verocruz44          1\n",
       "A006277084SDH2LTUV6X  josh tubman         1\n",
       "A0072285CLEIGDW2A0TB  Amazon Customer     1\n",
       "A0076691MGD6V7MG3T62  Dalia Gutierrez     1\n",
       "A00827299BWJTEFNVKP0  Sydney              1\n",
       "A0087851X5PB4FBUJWQV  Melissa             1\n",
       "A0090495K0FTJUG4CPSA  Serenity            1\n",
       "A0096681Y127OL1H8W3U  Robert L.           1\n",
       "A0114935P4A9MOTU5ESB  Tanya               1\n",
       "A0123107LV997HN8Q1W1  Sandy               1\n",
       "A012671347N9PAVZNSK8  Wwgop               1\n",
       "A0127955G1ZQHYZFUZ0A  Amazon Customer     1\n",
       "A0137540IHMZM8Q3V1QD  Joseline            2\n",
       "A0148728MFRW1Y6J8UD4  Ankur Sharma        1\n",
       "A0153524HC25D09HXMND  Terri Mendes        2\n",
       "A01622269UK3A1DJVQKW  Sandra Farmer       1\n",
       "A0163982I33BFLFLDW0T  Vincent             1\n",
       "A0171852WOZCS4A8NKAR  joy booth           1\n",
       "A01773147JLNASLMSYKG  Margaret            1\n",
       "A019043618EJ5TUNFJDW  Michelle Chapman    1\n",
       "A020135981U0UNEAE4JV  mom of 4            1\n",
       "A0203113HC2KF1AHJHOV  Jenny Quack         1\n",
       "A0210671ENDNADTN5H52  Melissa D           1\n",
       "A0214789XE0QSA4LU6QR  Samantha            1\n",
       "A0219141PLOSKN73XB98  Sophia              1\n",
       "A0226233CX13C295D80M  Amazon Customer     1\n",
       "A0232781C6JWW3M9F7LP  Lorraineliles       1\n",
       "Name: reviewer_name, dtype: int64"
      ]
     },
     "execution_count": 5,
     "metadata": {},
     "output_type": "execute_result"
    }
   ],
   "source": [
    "df.groupby('reviewer_id')['reviewer_name'].value_counts().head(30)"
   ]
  },
  {
   "cell_type": "code",
   "execution_count": 6,
   "metadata": {
    "colab": {
     "base_uri": "https://localhost:8080/",
     "height": 225
    },
    "colab_type": "code",
    "id": "Zfbw9t7BY9P8",
    "outputId": "c051c67c-3e2f-4b5a-9740-58c77883f258"
   },
   "outputs": [
    {
     "data": {
      "text/plain": [
       "A2GJX2KCUSR0EI    27\n",
       "A1KSC91G9AIY2Z    23\n",
       "A1EGCED01USBA9    21\n",
       "A22CW0ZHY3NJH8    21\n",
       "AENH50GW3OKDA     20\n",
       "                  ..\n",
       "A1E2M328ZDC7U3     1\n",
       "A4O58A7LICJ9N      1\n",
       "A8P2DO9VIZLI1      1\n",
       "A36C8N562H9K0U     1\n",
       "AOWKWIZTTOCQM      1\n",
       "Name: reviewer_id, Length: 324038, dtype: int64"
      ]
     },
     "execution_count": 6,
     "metadata": {},
     "output_type": "execute_result"
    }
   ],
   "source": [
    "df['reviewer_id'].value_counts()"
   ]
  },
  {
   "cell_type": "code",
   "execution_count": 7,
   "metadata": {
    "colab": {
     "base_uri": "https://localhost:8080/",
     "height": 489
    },
    "colab_type": "code",
    "id": "b5D3FEUbeL9j",
    "outputId": "e209f170-a6b9-4ab2-b416-d7040d5ca39b"
   },
   "outputs": [
    {
     "data": {
      "text/plain": [
       "reviewer_id     title                                                                                                                                                                        \n",
       "A2GJX2KCUSR0EI  Whish Coconut Shaving Cream - Smooth, All Natural Shave Cream for Men & Women, Leaves Skin so Soft, Shea Butter and Coconut Oil, Natural and Organic Skin Care - 5 oz. pump      4\n",
       "                (3 Pack) e.l.f. Essential All Over Color Stick - Golden Peach                                                                                                                    1\n",
       "                Briogeo - Rosarco Milk Reparative Leave-In Conditioning Spray, Ultra-Lightweight Leave-In Conditioner for Those with Dry, Damaged, and Brittle Hair, 5 oz                        1\n",
       "                COVERGIRL Smoothers Moisturizing Concealer, 1 Tube (0.14 oz), For Fair Skin Tones, Solid Stick Concealer, Fragrance Free, Moisturizing (packaging may vary)                      1\n",
       "                Givenchy Poudre Lumière Originelle - Soft Powder Radiance Enhancer                                                                                                               1\n",
       "                Home Health Evercln, Face Cream, 1.69 Fluid Ounce                                                                                                                                1\n",
       "                Insane Deal! Powerful 3 in 1 Professional Blue Electric Callus Remover, Epilator & Shaver Rechargeable Cordless Gentle and Safe for Healthy and Smooth Skin for Women or Men.    1\n",
       "                Kate Somerville ExfoliKate Intensive Exfoliating Treatment (5 Fl. Oz. Luxury Size)                                                                                               1\n",
       "                Maybelline Color Sensational Vivid Matte Liquid (40 Berry Boost)                                                                                                                 1\n",
       "                Mega Pro 2 Palette 32 Colors Authentic                                                                                                                                           1\n",
       "                Nth Degree Smoothing Argan Oil & Keratin Hair Mask 6.8 fl. oz.                                                                                                                   1\n",
       "                Nth Degree Smoothing Argan Oil and Keratin Collection Shampoo 13.5 oz. …                                                                                                         1\n",
       "                Oral-B Glide Pro-Health Dental Floss, Original Floss, 50m, Pack of 6                                                                                                             1\n",
       "                Peripera Rouge Pang Rich Color Lipstick 0.2 Ounce PP02 Some Story To Tell                                                                                                        1\n",
       "                Rimmel Provocalips 16hr Kissproof Lipstick, Kiss Fatal, 0.14 Fluid Ounce                                                                                                         1\n",
       "                Secret Antiperspirant and Deodorant for Women, Clinical Strength Soft Solid, Light and Fresh, 1.6 Oz                                                                             1\n",
       "                Tara Smith Base Coat Serum                                                                                                                                                       1\n",
       "                Wellage Vita Blue in Jection DIY Mask Moisturizing Care                                                                                                                          1\n",
       "                Yes To Cucumber Hypoallergenic Facial Towelettes, 30 Count (Pack of 6)                                                                                                           1\n",
       "                Yumbutter - Organic Go-Anywhere Superfood Pouch Almond Butter - 7 oz.                                                                                                            1\n",
       "                ZeroShop(TM) Empty Clear Spray Bottles / Portable Refillable Fine Mist Sprayer Bottles for Cleaning Products,Beauty Treatments / Pack Of 3 (Colors may Vary)                     1\n",
       "                [SNP] Aqua Energy Fermentation Mask (10EA)                                                                                                                                       1\n",
       "                clariSEA Pomegranate De-Bump Salt Buff, 15 oz.                                                                                                                                   1\n",
       "                e.l.f. Matte Lip Color, Praline, 0.05 Ounce                                                                                                                                      1\n",
       "Name: title, dtype: int64"
      ]
     },
     "execution_count": 7,
     "metadata": {},
     "output_type": "execute_result"
    }
   ],
   "source": [
    "example = df[df.reviewer_id == 'A2GJX2KCUSR0EI']\n",
    "example.groupby('reviewer_id')['title'].value_counts()"
   ]
  },
  {
   "cell_type": "markdown",
   "metadata": {
    "colab_type": "text",
    "id": "oaapWua1ZVm6"
   },
   "source": [
    "Reviewer ID is more unique that reviewer names "
   ]
  },
  {
   "cell_type": "code",
   "execution_count": 8,
   "metadata": {},
   "outputs": [
    {
     "name": "stdout",
     "output_type": "stream",
     "text": [
      "<class 'pandas.core.frame.DataFrame'>\n",
      "RangeIndex: 371345 entries, 0 to 371344\n",
      "Data columns (total 19 columns):\n",
      " #   Column         Non-Null Count   Dtype \n",
      "---  ------         --------------   ----- \n",
      " 0   rating         371345 non-null  int64 \n",
      " 1   verified       371345 non-null  bool  \n",
      " 2   review_time    371345 non-null  object\n",
      " 3   reviewer_id    371345 non-null  object\n",
      " 4   product_id     371345 non-null  object\n",
      " 5   reviewer_name  371293 non-null  object\n",
      " 6   reviewer_text  370946 non-null  object\n",
      " 7   summary        371134 non-null  object\n",
      " 8   vote           51899 non-null   object\n",
      " 9   title          371329 non-null  object\n",
      " 10  brand          283989 non-null  object\n",
      " 11  rank           369010 non-null  object\n",
      " 12  main_cat       371345 non-null  object\n",
      " 13  description    258425 non-null  object\n",
      " 14  also_view      217021 non-null  object\n",
      " 15  also_buy       148452 non-null  object\n",
      " 16  price          186438 non-null  object\n",
      " 17  similar_item   10796 non-null   object\n",
      " 18  details        364427 non-null  object\n",
      "dtypes: bool(1), int64(1), object(17)\n",
      "memory usage: 51.4+ MB\n"
     ]
    }
   ],
   "source": [
    "df.info()"
   ]
  },
  {
   "cell_type": "markdown",
   "metadata": {
    "colab_type": "text",
    "id": "fBwOtqYeHen6"
   },
   "source": [
    "## Number of unique values"
   ]
  },
  {
   "cell_type": "code",
   "execution_count": 9,
   "metadata": {
    "colab": {
     "base_uri": "https://localhost:8080/",
     "height": 173
    },
    "colab_type": "code",
    "id": "CyBPa8XjUcAd",
    "outputId": "299ffb37-d127-401f-eeed-69c4aee2b19a"
   },
   "outputs": [
    {
     "name": "stdout",
     "output_type": "stream",
     "text": [
      "Reviews are taken from: 2000-06-03 to 2016-12-15\n",
      "\n",
      "Number of reviews: 371,345\n",
      "Number of customers: 324,038\n",
      "Number of unique products: 32,586\n",
      "Number of reviewer name: 221,127\n",
      "Number of unique name of products: 32,392\n",
      "Number of product categories: 1\n",
      "Number of unique amount of votes: 392\n"
     ]
    }
   ],
   "source": [
    "print('Reviews are taken from: {} to {}\\n'. format(sorted(df.review_time.head(1)).pop(), \n",
    "                                                   sorted(df.review_time.tail(1)).pop()))\n",
    "print('Number of reviews: {:,}'.format(len(df)))\n",
    "print('Number of customers: {:,}'.format(len(df.reviewer_id.unique())))\n",
    "print('Number of unique products: {:,}'.format(len(df.product_id.unique())))\n",
    "print('Number of reviewer name: {:,}'.format(len(df.reviewer_name.unique())))\n",
    "print('Number of unique name of products: {:,}'.format(len(df.title.unique())))\n",
    "print('Number of product categories: {:,}'.format(len(df.main_cat.unique())))\n",
    "print('Number of unique amount of votes: {:,}'.format(len(df.vote.unique())))\n"
   ]
  },
  {
   "cell_type": "markdown",
   "metadata": {
    "colab_type": "text",
    "id": "oZzXrFl5IRpK"
   },
   "source": [
    "## Missing data inspection\n",
    "\n",
    "#### ask advice with Ana on if there's something I can do with this."
   ]
  },
  {
   "cell_type": "code",
   "execution_count": 10,
   "metadata": {
    "colab": {
     "base_uri": "https://localhost:8080/",
     "height": 364
    },
    "colab_type": "code",
    "id": "5WiRA2BmJVWA",
    "outputId": "414b477d-905b-4546-ff6a-036aa29e5b68"
   },
   "outputs": [
    {
     "name": "stdout",
     "output_type": "stream",
     "text": [
      "MISSING ROWS per COLUMN\n",
      "rating: 0, 0.00%\n",
      "verified: 0, 0.00%\n",
      "review_time: 0, 0.00%\n",
      "reviewer_id: 0, 0.00%\n",
      "product_id: 0, 0.00%\n",
      "reviewer_name: 52, 0.01%\n",
      "reviewer_text: 399, 0.11%\n",
      "summary: 211, 0.06%\n",
      "vote: 319446, 86.02%\n",
      "title: 16, 0.00%\n",
      "brand: 87356, 23.52%\n",
      "rank: 2335, 0.63%\n",
      "main_cat: 0, 0.00%\n",
      "description: 112920, 30.41%\n",
      "also_view: 154324, 41.56%\n",
      "also_buy: 222893, 60.02%\n",
      "price: 184907, 49.79%\n",
      "similar_item: 360549, 97.09%\n",
      "details: 6918, 1.86%\n"
     ]
    }
   ],
   "source": [
    "def missing(dataset):\n",
    "    columns = dataset.columns\n",
    "    print('MISSING ROWS per COLUMN')\n",
    "    for column in columns:\n",
    "        percentage = (dataset[column].isnull().sum() / len(dataset)) * 100\n",
    "        print('{}: {}, {:0.2f}%'.format(column, dataset[column].isnull().sum(), percentage))\n",
    "        \n",
    "missing(df)"
   ]
  },
  {
   "cell_type": "markdown",
   "metadata": {
    "colab_type": "text",
    "id": "loOWJjNR4ujR"
   },
   "source": [
    "## Changing Data types"
   ]
  },
  {
   "cell_type": "markdown",
   "metadata": {
    "colab_type": "text",
    "id": "H2JfK2wP41I1"
   },
   "source": [
    "Many of the columns are of data type \"object\" but we need them as strings."
   ]
  },
  {
   "cell_type": "code",
   "execution_count": 11,
   "metadata": {
    "colab": {
     "base_uri": "https://localhost:8080/",
     "height": 591
    },
    "colab_type": "code",
    "id": "JDMP3jSl5cJH",
    "outputId": "11061131-3616-4e14-8b30-9da228e8e3f2"
   },
   "outputs": [
    {
     "data": {
      "text/html": [
       "<div>\n",
       "<style scoped>\n",
       "    .dataframe tbody tr th:only-of-type {\n",
       "        vertical-align: middle;\n",
       "    }\n",
       "\n",
       "    .dataframe tbody tr th {\n",
       "        vertical-align: top;\n",
       "    }\n",
       "\n",
       "    .dataframe thead th {\n",
       "        text-align: right;\n",
       "    }\n",
       "</style>\n",
       "<table border=\"1\" class=\"dataframe\">\n",
       "  <thead>\n",
       "    <tr style=\"text-align: right;\">\n",
       "      <th></th>\n",
       "      <th>rating</th>\n",
       "      <th>verified</th>\n",
       "      <th>review_time</th>\n",
       "      <th>reviewer_id</th>\n",
       "      <th>product_id</th>\n",
       "      <th>reviewer_name</th>\n",
       "      <th>reviewer_text</th>\n",
       "      <th>summary</th>\n",
       "      <th>vote</th>\n",
       "      <th>title</th>\n",
       "      <th>brand</th>\n",
       "      <th>rank</th>\n",
       "      <th>main_cat</th>\n",
       "      <th>description</th>\n",
       "      <th>also_view</th>\n",
       "      <th>also_buy</th>\n",
       "      <th>price</th>\n",
       "      <th>similar_item</th>\n",
       "      <th>details</th>\n",
       "    </tr>\n",
       "  </thead>\n",
       "  <tbody>\n",
       "    <tr>\n",
       "      <th>0</th>\n",
       "      <td>5</td>\n",
       "      <td>False</td>\n",
       "      <td>2000-06-03</td>\n",
       "      <td>A2XMFX1BR0IJFJ</td>\n",
       "      <td>0061073717</td>\n",
       "      <td>Jonathan Reed (jonathan.reed2@virgin.net)</td>\n",
       "      <td>This calender is brilliant and has plenty of g...</td>\n",
       "      <td>Futurama rules</td>\n",
       "      <td>2</td>\n",
       "      <td>Workout Headphones by Arena Essentials</td>\n",
       "      <td>HarperCollins</td>\n",
       "      <td>3,235,148inBeautyamp;PersonalCare(</td>\n",
       "      <td>All Beauty</td>\n",
       "      <td>NaN</td>\n",
       "      <td>NaN</td>\n",
       "      <td>NaN</td>\n",
       "      <td>NaN</td>\n",
       "      <td>NaN</td>\n",
       "      <td>NaN</td>\n",
       "    </tr>\n",
       "    <tr>\n",
       "      <th>1</th>\n",
       "      <td>5</td>\n",
       "      <td>False</td>\n",
       "      <td>2000-05-06</td>\n",
       "      <td>ATKPYXA8XFKGJ</td>\n",
       "      <td>0061073717</td>\n",
       "      <td>Gwen Bates</td>\n",
       "      <td>This calender really is great.  In addition to...</td>\n",
       "      <td>A great gift for any futurama fan!</td>\n",
       "      <td>NaN</td>\n",
       "      <td>Workout Headphones by Arena Essentials</td>\n",
       "      <td>HarperCollins</td>\n",
       "      <td>3,235,148inBeautyamp;PersonalCare(</td>\n",
       "      <td>All Beauty</td>\n",
       "      <td>NaN</td>\n",
       "      <td>NaN</td>\n",
       "      <td>NaN</td>\n",
       "      <td>NaN</td>\n",
       "      <td>NaN</td>\n",
       "      <td>NaN</td>\n",
       "    </tr>\n",
       "    <tr>\n",
       "      <th>2</th>\n",
       "      <td>1</td>\n",
       "      <td>True</td>\n",
       "      <td>2015-02-19</td>\n",
       "      <td>A1V6B6TNIC10QE</td>\n",
       "      <td>0143026860</td>\n",
       "      <td>theodore j bigham</td>\n",
       "      <td>great</td>\n",
       "      <td>One Star</td>\n",
       "      <td>NaN</td>\n",
       "      <td>Black Diamond</td>\n",
       "      <td>Swedish Beauty</td>\n",
       "      <td>1,462,563inBeautyamp;PersonalCare(</td>\n",
       "      <td>All Beauty</td>\n",
       "      <td>['This is the NEW PURPLE BOTTLE that just came...</td>\n",
       "      <td>['B000LXTNMW']</td>\n",
       "      <td>NaN</td>\n",
       "      <td>NaN</td>\n",
       "      <td>NaN</td>\n",
       "      <td>NaN</td>\n",
       "    </tr>\n",
       "    <tr>\n",
       "      <th>3</th>\n",
       "      <td>4</td>\n",
       "      <td>True</td>\n",
       "      <td>2014-12-18</td>\n",
       "      <td>A2F5GHSXFQ0W6J</td>\n",
       "      <td>0143026860</td>\n",
       "      <td>Mary K. Byke</td>\n",
       "      <td>My  husband wanted to reading about the Negro ...</td>\n",
       "      <td>... to reading about the Negro Baseball and th...</td>\n",
       "      <td>NaN</td>\n",
       "      <td>Black Diamond</td>\n",
       "      <td>Swedish Beauty</td>\n",
       "      <td>1,462,563inBeautyamp;PersonalCare(</td>\n",
       "      <td>All Beauty</td>\n",
       "      <td>['This is the NEW PURPLE BOTTLE that just came...</td>\n",
       "      <td>['B000LXTNMW']</td>\n",
       "      <td>NaN</td>\n",
       "      <td>NaN</td>\n",
       "      <td>NaN</td>\n",
       "      <td>NaN</td>\n",
       "    </tr>\n",
       "    <tr>\n",
       "      <th>4</th>\n",
       "      <td>4</td>\n",
       "      <td>True</td>\n",
       "      <td>2014-08-10</td>\n",
       "      <td>A1572GUYS7DGSR</td>\n",
       "      <td>0143026860</td>\n",
       "      <td>David G</td>\n",
       "      <td>This book was very informative, covering all a...</td>\n",
       "      <td>Worth the Read</td>\n",
       "      <td>NaN</td>\n",
       "      <td>Black Diamond</td>\n",
       "      <td>Swedish Beauty</td>\n",
       "      <td>1,462,563inBeautyamp;PersonalCare(</td>\n",
       "      <td>All Beauty</td>\n",
       "      <td>['This is the NEW PURPLE BOTTLE that just came...</td>\n",
       "      <td>['B000LXTNMW']</td>\n",
       "      <td>NaN</td>\n",
       "      <td>NaN</td>\n",
       "      <td>NaN</td>\n",
       "      <td>NaN</td>\n",
       "    </tr>\n",
       "  </tbody>\n",
       "</table>\n",
       "</div>"
      ],
      "text/plain": [
       "   rating  verified review_time     reviewer_id  product_id  \\\n",
       "0       5     False  2000-06-03  A2XMFX1BR0IJFJ  0061073717   \n",
       "1       5     False  2000-05-06   ATKPYXA8XFKGJ  0061073717   \n",
       "2       1      True  2015-02-19  A1V6B6TNIC10QE  0143026860   \n",
       "3       4      True  2014-12-18  A2F5GHSXFQ0W6J  0143026860   \n",
       "4       4      True  2014-08-10  A1572GUYS7DGSR  0143026860   \n",
       "\n",
       "                               reviewer_name  \\\n",
       "0  Jonathan Reed (jonathan.reed2@virgin.net)   \n",
       "1                                 Gwen Bates   \n",
       "2                          theodore j bigham   \n",
       "3                               Mary K. Byke   \n",
       "4                                    David G   \n",
       "\n",
       "                                       reviewer_text  \\\n",
       "0  This calender is brilliant and has plenty of g...   \n",
       "1  This calender really is great.  In addition to...   \n",
       "2                                              great   \n",
       "3  My  husband wanted to reading about the Negro ...   \n",
       "4  This book was very informative, covering all a...   \n",
       "\n",
       "                                             summary vote  \\\n",
       "0                                     Futurama rules    2   \n",
       "1                 A great gift for any futurama fan!  NaN   \n",
       "2                                           One Star  NaN   \n",
       "3  ... to reading about the Negro Baseball and th...  NaN   \n",
       "4                                     Worth the Read  NaN   \n",
       "\n",
       "                                    title           brand  \\\n",
       "0  Workout Headphones by Arena Essentials   HarperCollins   \n",
       "1  Workout Headphones by Arena Essentials   HarperCollins   \n",
       "2                           Black Diamond  Swedish Beauty   \n",
       "3                           Black Diamond  Swedish Beauty   \n",
       "4                           Black Diamond  Swedish Beauty   \n",
       "\n",
       "                                 rank    main_cat  \\\n",
       "0  3,235,148inBeautyamp;PersonalCare(  All Beauty   \n",
       "1  3,235,148inBeautyamp;PersonalCare(  All Beauty   \n",
       "2  1,462,563inBeautyamp;PersonalCare(  All Beauty   \n",
       "3  1,462,563inBeautyamp;PersonalCare(  All Beauty   \n",
       "4  1,462,563inBeautyamp;PersonalCare(  All Beauty   \n",
       "\n",
       "                                         description       also_view also_buy  \\\n",
       "0                                                NaN             NaN      NaN   \n",
       "1                                                NaN             NaN      NaN   \n",
       "2  ['This is the NEW PURPLE BOTTLE that just came...  ['B000LXTNMW']      NaN   \n",
       "3  ['This is the NEW PURPLE BOTTLE that just came...  ['B000LXTNMW']      NaN   \n",
       "4  ['This is the NEW PURPLE BOTTLE that just came...  ['B000LXTNMW']      NaN   \n",
       "\n",
       "  price similar_item details  \n",
       "0   NaN          NaN     NaN  \n",
       "1   NaN          NaN     NaN  \n",
       "2   NaN          NaN     NaN  \n",
       "3   NaN          NaN     NaN  \n",
       "4   NaN          NaN     NaN  "
      ]
     },
     "execution_count": 11,
     "metadata": {},
     "output_type": "execute_result"
    }
   ],
   "source": [
    "# inspect a few rows\n",
    "df.head(5)"
   ]
  },
  {
   "cell_type": "code",
   "execution_count": 12,
   "metadata": {
    "colab": {
     "base_uri": "https://localhost:8080/",
     "height": 89
    },
    "colab_type": "code",
    "id": "9G-h592f5Ey0",
    "outputId": "0807b232-7561-4623-9069-84c67519b776"
   },
   "outputs": [
    {
     "data": {
      "text/plain": [
       "\"['This is the NEW PURPLE BOTTLE that just came out (not the old black bottle which came out years ago and has been discontinued)\\\\n\\\\nBlack Diamond\\\\nIndoor Lotion\\\\nTingle\\\\nNew\\\\nFull Size Bottle', '', '']\""
      ]
     },
     "execution_count": 12,
     "metadata": {},
     "output_type": "execute_result"
    }
   ],
   "source": [
    "# Why is description an array?\n",
    "df.description[4]"
   ]
  },
  {
   "cell_type": "markdown",
   "metadata": {
    "colab_type": "text",
    "id": "2_ozaM0THEjq"
   },
   "source": [
    "# Initial data exploration\n",
    "\n",
    "### Using Bokeh for data visualization\n",
    "\n",
    "# *How to fix the size of the graph?*"
   ]
  },
  {
   "cell_type": "code",
   "execution_count": 13,
   "metadata": {
    "colab": {
     "base_uri": "https://localhost:8080/",
     "height": 225
    },
    "colab_type": "code",
    "id": "HWv4Q5-_WmVS",
    "outputId": "c927e6e3-be84-4754-95f7-11f4d44ec55b"
   },
   "outputs": [
    {
     "data": {
      "text/plain": [
       "A2GJX2KCUSR0EI    27\n",
       "A1KSC91G9AIY2Z    23\n",
       "A1EGCED01USBA9    21\n",
       "A22CW0ZHY3NJH8    21\n",
       "AENH50GW3OKDA     20\n",
       "                  ..\n",
       "A1E2M328ZDC7U3     1\n",
       "A4O58A7LICJ9N      1\n",
       "A8P2DO9VIZLI1      1\n",
       "A36C8N562H9K0U     1\n",
       "AOWKWIZTTOCQM      1\n",
       "Name: reviewer_id, Length: 324038, dtype: int64"
      ]
     },
     "execution_count": 13,
     "metadata": {},
     "output_type": "execute_result"
    }
   ],
   "source": [
    "df['reviewer_id'].value_counts()"
   ]
  },
  {
   "cell_type": "code",
   "execution_count": 14,
   "metadata": {
    "colab": {
     "base_uri": "https://localhost:8080/",
     "height": 206
    },
    "colab_type": "code",
    "id": "QXQy_R5QUcC4",
    "outputId": "36b3d30e-dca5-47c4-88cb-27b73b56fbba"
   },
   "outputs": [
    {
     "data": {
      "text/html": [
       "<div>\n",
       "<style scoped>\n",
       "    .dataframe tbody tr th:only-of-type {\n",
       "        vertical-align: middle;\n",
       "    }\n",
       "\n",
       "    .dataframe tbody tr th {\n",
       "        vertical-align: top;\n",
       "    }\n",
       "\n",
       "    .dataframe thead th {\n",
       "        text-align: right;\n",
       "    }\n",
       "</style>\n",
       "<table border=\"1\" class=\"dataframe\">\n",
       "  <thead>\n",
       "    <tr style=\"text-align: right;\">\n",
       "      <th></th>\n",
       "      <th>star_rating</th>\n",
       "      <th>counts</th>\n",
       "    </tr>\n",
       "  </thead>\n",
       "  <tbody>\n",
       "    <tr>\n",
       "      <th>2</th>\n",
       "      <td>1</td>\n",
       "      <td>39261</td>\n",
       "    </tr>\n",
       "    <tr>\n",
       "      <th>4</th>\n",
       "      <td>2</td>\n",
       "      <td>20293</td>\n",
       "    </tr>\n",
       "    <tr>\n",
       "      <th>3</th>\n",
       "      <td>3</td>\n",
       "      <td>29555</td>\n",
       "    </tr>\n",
       "    <tr>\n",
       "      <th>1</th>\n",
       "      <td>4</td>\n",
       "      <td>52687</td>\n",
       "    </tr>\n",
       "    <tr>\n",
       "      <th>0</th>\n",
       "      <td>5</td>\n",
       "      <td>229549</td>\n",
       "    </tr>\n",
       "  </tbody>\n",
       "</table>\n",
       "</div>"
      ],
      "text/plain": [
       "   star_rating  counts\n",
       "2            1   39261\n",
       "4            2   20293\n",
       "3            3   29555\n",
       "1            4   52687\n",
       "0            5  229549"
      ]
     },
     "execution_count": 14,
     "metadata": {},
     "output_type": "execute_result"
    }
   ],
   "source": [
    "ratings_value_counts = df['rating'].value_counts()\n",
    "ratings_value_counts\n",
    "\n",
    "#convert the .value_counts() to a dataframe\n",
    "\n",
    "ratings = ratings_value_counts.rename_axis('star_rating').reset_index(name='counts')\n",
    "ratings = ratings.sort_values('star_rating')\n",
    "ratings"
   ]
  },
  {
   "cell_type": "markdown",
   "metadata": {
    "colab_type": "text",
    "id": "Klfzl64gynvJ"
   },
   "source": [
    "#### The distribution of ratings across the total number of reviews"
   ]
  },
  {
   "cell_type": "code",
   "execution_count": 15,
   "metadata": {
    "colab": {
     "base_uri": "https://localhost:8080/",
     "height": 617
    },
    "colab_type": "code",
    "id": "WCJjFfsIUcFQ",
    "outputId": "ed8416e4-ca74-48bd-ac44-a54fd958206c"
   },
   "outputs": [
    {
     "data": {
      "text/html": [
       "\n",
       "\n",
       "\n",
       "\n",
       "\n",
       "\n",
       "  <div class=\"bk-root\" id=\"d1516d14-2df8-4e1e-a57b-9cc487535015\" data-root-id=\"1003\"></div>\n"
      ]
     },
     "metadata": {},
     "output_type": "display_data"
    },
    {
     "data": {
      "application/javascript": [
       "(function(root) {\n",
       "  function embed_document(root) {\n",
       "    \n",
       "  var docs_json = {\"32a135f5-45a9-4ceb-86bf-06a07125c880\":{\"roots\":{\"references\":[{\"attributes\":{\"below\":[{\"id\":\"1012\"}],\"center\":[{\"id\":\"1014\"},{\"id\":\"1018\"}],\"left\":[{\"id\":\"1015\"}],\"renderers\":[{\"id\":\"1036\"}],\"title\":{\"id\":\"1038\"},\"toolbar\":{\"id\":\"1026\"},\"x_range\":{\"id\":\"1004\"},\"x_scale\":{\"id\":\"1008\"},\"y_range\":{\"id\":\"1006\"},\"y_scale\":{\"id\":\"1010\"}},\"id\":\"1003\",\"subtype\":\"Figure\",\"type\":\"Plot\"},{\"attributes\":{},\"id\":\"1044\",\"type\":\"CategoricalTickFormatter\"},{\"attributes\":{\"fill_alpha\":{\"value\":0.1},\"fill_color\":{\"value\":\"#1f77b4\"},\"line_alpha\":{\"value\":0.1},\"line_color\":{\"value\":\"#1f77b4\"},\"top\":{\"field\":\"counts\"},\"width\":{\"value\":0.5},\"x\":{\"field\":\"star_rating\"}},\"id\":\"1035\",\"type\":\"VBar\"},{\"attributes\":{},\"id\":\"1006\",\"type\":\"DataRange1d\"},{\"attributes\":{},\"id\":\"1020\",\"type\":\"WheelZoomTool\"},{\"attributes\":{},\"id\":\"1049\",\"type\":\"UnionRenderers\"},{\"attributes\":{\"bottom_units\":\"screen\",\"fill_alpha\":0.5,\"fill_color\":\"lightgrey\",\"left_units\":\"screen\",\"level\":\"overlay\",\"line_alpha\":1.0,\"line_color\":\"black\",\"line_dash\":[4,4],\"line_width\":2,\"right_units\":\"screen\",\"top_units\":\"screen\"},\"id\":\"1025\",\"type\":\"BoxAnnotation\"},{\"attributes\":{},\"id\":\"1019\",\"type\":\"PanTool\"},{\"attributes\":{\"fill_color\":{\"value\":\"#1f77b4\"},\"line_color\":{\"value\":\"#1f77b4\"},\"top\":{\"field\":\"counts\"},\"width\":{\"value\":0.5},\"x\":{\"field\":\"star_rating\"}},\"id\":\"1034\",\"type\":\"VBar\"},{\"attributes\":{\"factors\":[\"1\",\"2\",\"3\",\"4\",\"5\"]},\"id\":\"1004\",\"type\":\"FactorRange\"},{\"attributes\":{\"source\":{\"id\":\"1002\"}},\"id\":\"1037\",\"type\":\"CDSView\"},{\"attributes\":{\"overlay\":{\"id\":\"1025\"}},\"id\":\"1021\",\"type\":\"BoxZoomTool\"},{\"attributes\":{},\"id\":\"1022\",\"type\":\"SaveTool\"},{\"attributes\":{\"use_scientific\":false},\"id\":\"1039\",\"type\":\"BasicTickFormatter\"},{\"attributes\":{},\"id\":\"1023\",\"type\":\"ResetTool\"},{\"attributes\":{\"callback\":null,\"tooltips\":[[\"Star Rating\",\"@star_rating\"],[\"Count\",\"@counts\"]]},\"id\":\"1040\",\"type\":\"HoverTool\"},{\"attributes\":{},\"id\":\"1024\",\"type\":\"HelpTool\"},{\"attributes\":{},\"id\":\"1008\",\"type\":\"CategoricalScale\"},{\"attributes\":{\"active_drag\":\"auto\",\"active_inspect\":\"auto\",\"active_multi\":null,\"active_scroll\":\"auto\",\"active_tap\":\"auto\",\"tools\":[{\"id\":\"1019\"},{\"id\":\"1020\"},{\"id\":\"1021\"},{\"id\":\"1022\"},{\"id\":\"1023\"},{\"id\":\"1024\"},{\"id\":\"1040\"}]},\"id\":\"1026\",\"type\":\"Toolbar\"},{\"attributes\":{},\"id\":\"1010\",\"type\":\"LinearScale\"},{\"attributes\":{\"data_source\":{\"id\":\"1002\"},\"glyph\":{\"id\":\"1034\"},\"hover_glyph\":null,\"muted_glyph\":null,\"nonselection_glyph\":{\"id\":\"1035\"},\"selection_glyph\":null,\"view\":{\"id\":\"1037\"}},\"id\":\"1036\",\"type\":\"GlyphRenderer\"},{\"attributes\":{\"axis_label\":\"star reviews\",\"formatter\":{\"id\":\"1044\"},\"ticker\":{\"id\":\"1013\"}},\"id\":\"1012\",\"type\":\"CategoricalAxis\"},{\"attributes\":{\"text\":\"The distribution of ratings across the total number of reviews\"},\"id\":\"1038\",\"type\":\"Title\"},{\"attributes\":{},\"id\":\"1016\",\"type\":\"BasicTicker\"},{\"attributes\":{},\"id\":\"1013\",\"type\":\"CategoricalTicker\"},{\"attributes\":{\"axis\":{\"id\":\"1012\"},\"ticker\":null},\"id\":\"1014\",\"type\":\"Grid\"},{\"attributes\":{\"data\":{\"counts\":[39261,20293,29555,52687,229549],\"index\":[2,4,3,1,0],\"star_rating\":[1,2,3,4,5]},\"selected\":{\"id\":\"1050\"},\"selection_policy\":{\"id\":\"1049\"}},\"id\":\"1002\",\"type\":\"ColumnDataSource\"},{\"attributes\":{\"axis\":{\"id\":\"1015\"},\"dimension\":1,\"ticker\":null},\"id\":\"1018\",\"type\":\"Grid\"},{\"attributes\":{\"axis_label\":\"count\",\"formatter\":{\"id\":\"1039\"},\"ticker\":{\"id\":\"1016\"}},\"id\":\"1015\",\"type\":\"LinearAxis\"},{\"attributes\":{},\"id\":\"1050\",\"type\":\"Selection\"}],\"root_ids\":[\"1003\"]},\"title\":\"Bokeh Application\",\"version\":\"2.1.1\"}};\n",
       "  var render_items = [{\"docid\":\"32a135f5-45a9-4ceb-86bf-06a07125c880\",\"root_ids\":[\"1003\"],\"roots\":{\"1003\":\"d1516d14-2df8-4e1e-a57b-9cc487535015\"}}];\n",
       "  root.Bokeh.embed.embed_items_notebook(docs_json, render_items);\n",
       "\n",
       "  }\n",
       "  if (root.Bokeh !== undefined) {\n",
       "    embed_document(root);\n",
       "  } else {\n",
       "    var attempts = 0;\n",
       "    var timer = setInterval(function(root) {\n",
       "      if (root.Bokeh !== undefined) {\n",
       "        clearInterval(timer);\n",
       "        embed_document(root);\n",
       "      } else {\n",
       "        attempts++;\n",
       "        if (attempts > 100) {\n",
       "          clearInterval(timer);\n",
       "          console.log(\"Bokeh: ERROR: Unable to run BokehJS code because BokehJS library is missing\");\n",
       "        }\n",
       "      }\n",
       "    }, 10, root)\n",
       "  }\n",
       "})(window);"
      ],
      "application/vnd.bokehjs_exec.v0+json": ""
     },
     "metadata": {
      "application/vnd.bokehjs_exec.v0+json": {
       "id": "1003"
      }
     },
     "output_type": "display_data"
    }
   ],
   "source": [
    "from bokeh.models import NumeralTickFormatter\n",
    "from bokeh.models import ColumnDataSource\n",
    "from bokeh.models.tools import HoverTool\n",
    "from bokeh.palettes import Spectral6\n",
    "from bokeh.transform import factor_cmap\n",
    "\n",
    "sample = ratings\n",
    "source = ColumnDataSource(sample)\n",
    "\n",
    "x = ratings['star_rating'].astype(str)\n",
    "# y = ratings['counts']\n",
    "\n",
    "p = figure(x_range=x)\n",
    "\n",
    "# color_map = factor_cmap(field_name='star_rating',\n",
    "#                     palette=Spectral5, factors=ratings['star_rating'].astype(str))\n",
    "\n",
    "p.vbar(x='star_rating', top='counts', source=source, width=0.5)\n",
    "\n",
    "p.title.text ='The distribution of ratings across the total number of reviews'\n",
    "p.xaxis.axis_label = 'star reviews'\n",
    "p.yaxis.axis_label = 'count'\n",
    "\n",
    "p.left[0].formatter.use_scientific = False # to remove scientific notation\n",
    "\n",
    "hover = HoverTool()\n",
    "hover.tooltips=[\n",
    "    ('Star Rating', '@star_rating'),\n",
    "    ('Count', '@counts'),\n",
    "]\n",
    "\n",
    "p.add_tools(hover)\n",
    "\n",
    "\n",
    "show(p)\n"
   ]
  },
  {
   "cell_type": "markdown",
   "metadata": {
    "colab_type": "text",
    "id": "mVjopK4liWW1"
   },
   "source": [
    "The reviewers rated most of the products listed in Amazon as 5-star. Looks like the customers liked the products from the Beauty section of the website."
   ]
  },
  {
   "cell_type": "markdown",
   "metadata": {
    "colab_type": "text",
    "id": "2w4BCXn4ydiJ"
   },
   "source": [
    "#### Plotting the total number if reviews by year"
   ]
  },
  {
   "cell_type": "code",
   "execution_count": 16,
   "metadata": {
    "colab": {
     "base_uri": "https://localhost:8080/",
     "height": 206
    },
    "colab_type": "code",
    "id": "_rSCV_DOUcIF",
    "outputId": "b40bd42a-6de9-44a2-db20-6c028f7d551f"
   },
   "outputs": [
    {
     "data": {
      "text/html": [
       "<div>\n",
       "<style scoped>\n",
       "    .dataframe tbody tr th:only-of-type {\n",
       "        vertical-align: middle;\n",
       "    }\n",
       "\n",
       "    .dataframe tbody tr th {\n",
       "        vertical-align: top;\n",
       "    }\n",
       "\n",
       "    .dataframe thead th {\n",
       "        text-align: right;\n",
       "    }\n",
       "</style>\n",
       "<table border=\"1\" class=\"dataframe\">\n",
       "  <thead>\n",
       "    <tr style=\"text-align: right;\">\n",
       "      <th></th>\n",
       "      <th>year</th>\n",
       "      <th>counts</th>\n",
       "    </tr>\n",
       "  </thead>\n",
       "  <tbody>\n",
       "    <tr>\n",
       "      <th>18</th>\n",
       "      <td>2000</td>\n",
       "      <td>13</td>\n",
       "    </tr>\n",
       "    <tr>\n",
       "      <th>17</th>\n",
       "      <td>2001</td>\n",
       "      <td>66</td>\n",
       "    </tr>\n",
       "    <tr>\n",
       "      <th>16</th>\n",
       "      <td>2002</td>\n",
       "      <td>78</td>\n",
       "    </tr>\n",
       "    <tr>\n",
       "      <th>15</th>\n",
       "      <td>2003</td>\n",
       "      <td>119</td>\n",
       "    </tr>\n",
       "    <tr>\n",
       "      <th>14</th>\n",
       "      <td>2004</td>\n",
       "      <td>292</td>\n",
       "    </tr>\n",
       "  </tbody>\n",
       "</table>\n",
       "</div>"
      ],
      "text/plain": [
       "    year  counts\n",
       "18  2000      13\n",
       "17  2001      66\n",
       "16  2002      78\n",
       "15  2003     119\n",
       "14  2004     292"
      ]
     },
     "execution_count": 16,
     "metadata": {},
     "output_type": "execute_result"
    }
   ],
   "source": [
    "# converting to datetime format\n",
    "df['review_time'] = pd.to_datetime(df['review_time'])\n",
    "df['year'] = df.review_time.apply(lambda x: x.year)\n",
    "df['month'] = df.review_time.apply(lambda x: x.month)\n",
    "# df.head()\n",
    "# yearly = df.groupby(['year']).sum().reset_index()\n",
    "yearly = df['year'].value_counts()\n",
    "\n",
    "yearly = yearly.rename_axis('year').reset_index(name='counts')\n",
    "yearly = yearly.sort_values('year')\n",
    "yearly.head()"
   ]
  },
  {
   "cell_type": "code",
   "execution_count": 17,
   "metadata": {
    "colab": {
     "base_uri": "https://localhost:8080/",
     "height": 417
    },
    "colab_type": "code",
    "id": "6OEhcpmgUcK7",
    "outputId": "bc943ec9-12c2-45a5-9213-f988f2926c29"
   },
   "outputs": [
    {
     "data": {
      "text/html": [
       "\n",
       "\n",
       "\n",
       "\n",
       "\n",
       "\n",
       "  <div class=\"bk-root\" id=\"abccbc52-3ab5-4df0-ae53-09692939350c\" data-root-id=\"1105\"></div>\n"
      ]
     },
     "metadata": {},
     "output_type": "display_data"
    },
    {
     "data": {
      "application/javascript": [
       "(function(root) {\n",
       "  function embed_document(root) {\n",
       "    \n",
       "  var docs_json = {\"7369687d-1531-4cf2-bb11-54312ebee039\":{\"roots\":{\"references\":[{\"attributes\":{\"below\":[{\"id\":\"1116\"}],\"center\":[{\"id\":\"1119\"},{\"id\":\"1123\"}],\"left\":[{\"id\":\"1120\"}],\"plot_height\":400,\"plot_width\":800,\"renderers\":[{\"id\":\"1142\"},{\"id\":\"1147\"}],\"title\":{\"id\":\"1106\"},\"toolbar\":{\"id\":\"1131\"},\"x_range\":{\"id\":\"1108\"},\"x_scale\":{\"id\":\"1112\"},\"y_range\":{\"id\":\"1110\"},\"y_scale\":{\"id\":\"1114\"}},\"id\":\"1105\",\"subtype\":\"Figure\",\"type\":\"Plot\"},{\"attributes\":{\"text\":\"Yearly total number of reviews\"},\"id\":\"1106\",\"type\":\"Title\"},{\"attributes\":{},\"id\":\"1114\",\"type\":\"LinearScale\"},{\"attributes\":{},\"id\":\"1112\",\"type\":\"LinearScale\"},{\"attributes\":{\"source\":{\"id\":\"1139\"}},\"id\":\"1143\",\"type\":\"CDSView\"},{\"attributes\":{},\"id\":\"1157\",\"type\":\"UnionRenderers\"},{\"attributes\":{\"line_color\":\"purple\",\"line_width\":3,\"x\":{\"field\":\"x\"},\"y\":{\"field\":\"y\"}},\"id\":\"1145\",\"type\":\"Line\"},{\"attributes\":{\"data_source\":{\"id\":\"1139\"},\"glyph\":{\"id\":\"1140\"},\"hover_glyph\":null,\"muted_glyph\":null,\"nonselection_glyph\":{\"id\":\"1141\"},\"selection_glyph\":null,\"view\":{\"id\":\"1143\"}},\"id\":\"1142\",\"type\":\"GlyphRenderer\"},{\"attributes\":{\"source\":{\"id\":\"1144\"}},\"id\":\"1148\",\"type\":\"CDSView\"},{\"attributes\":{},\"id\":\"1128\",\"type\":\"WheelZoomTool\"},{\"attributes\":{\"fill_alpha\":{\"value\":0.1},\"fill_color\":{\"value\":\"red\"},\"line_alpha\":{\"value\":0.1},\"line_color\":{\"value\":\"red\"},\"size\":{\"units\":\"screen\",\"value\":10},\"x\":{\"value\":2016},\"y\":{\"value\":101425}},\"id\":\"1141\",\"type\":\"Circle\"},{\"attributes\":{\"fill_color\":{\"value\":\"red\"},\"line_color\":{\"value\":\"red\"},\"size\":{\"units\":\"screen\",\"value\":10},\"x\":{\"value\":2016},\"y\":{\"value\":101425}},\"id\":\"1140\",\"type\":\"Circle\"},{\"attributes\":{},\"id\":\"1110\",\"type\":\"DataRange1d\"},{\"attributes\":{\"data_source\":{\"id\":\"1144\"},\"glyph\":{\"id\":\"1145\"},\"hover_glyph\":null,\"muted_glyph\":null,\"nonselection_glyph\":{\"id\":\"1146\"},\"selection_glyph\":null,\"view\":{\"id\":\"1148\"}},\"id\":\"1147\",\"type\":\"GlyphRenderer\"},{\"attributes\":{\"data\":{},\"selected\":{\"id\":\"1156\"},\"selection_policy\":{\"id\":\"1155\"}},\"id\":\"1139\",\"type\":\"ColumnDataSource\"},{\"attributes\":{\"axis_label\":\"counts\",\"formatter\":{\"id\":\"1138\"},\"ticker\":{\"id\":\"1121\"}},\"id\":\"1120\",\"type\":\"LinearAxis\"},{\"attributes\":{\"line_alpha\":0.1,\"line_color\":\"purple\",\"line_width\":3,\"x\":{\"field\":\"x\"},\"y\":{\"field\":\"y\"}},\"id\":\"1146\",\"type\":\"Line\"},{\"attributes\":{},\"id\":\"1125\",\"type\":\"PanTool\"},{\"attributes\":{\"axis_label\":\"Year\",\"formatter\":{\"id\":\"1150\"},\"ticker\":{\"id\":\"1117\"}},\"id\":\"1116\",\"type\":\"LinearAxis\"},{\"attributes\":{\"axis\":{\"id\":\"1116\"},\"ticker\":null},\"id\":\"1119\",\"type\":\"Grid\"},{\"attributes\":{\"use_scientific\":false},\"id\":\"1138\",\"type\":\"BasicTickFormatter\"},{\"attributes\":{},\"id\":\"1150\",\"type\":\"BasicTickFormatter\"},{\"attributes\":{},\"id\":\"1127\",\"type\":\"ResetTool\"},{\"attributes\":{\"active_drag\":\"auto\",\"active_inspect\":\"auto\",\"active_multi\":null,\"active_scroll\":\"auto\",\"active_tap\":\"auto\",\"tools\":[{\"id\":\"1124\"},{\"id\":\"1125\"},{\"id\":\"1126\"},{\"id\":\"1127\"},{\"id\":\"1128\"},{\"id\":\"1129\"}]},\"id\":\"1131\",\"type\":\"Toolbar\"},{\"attributes\":{},\"id\":\"1108\",\"type\":\"DataRange1d\"},{\"attributes\":{},\"id\":\"1155\",\"type\":\"UnionRenderers\"},{\"attributes\":{\"callback\":null,\"tooltips\":[[\"year\",\"@x\"],[\"# of reviews\",\"@y\"]]},\"id\":\"1129\",\"type\":\"HoverTool\"},{\"attributes\":{},\"id\":\"1156\",\"type\":\"Selection\"},{\"attributes\":{\"axis\":{\"id\":\"1120\"},\"dimension\":1,\"ticker\":null},\"id\":\"1123\",\"type\":\"Grid\"},{\"attributes\":{\"overlay\":{\"id\":\"1130\"}},\"id\":\"1126\",\"type\":\"BoxZoomTool\"},{\"attributes\":{},\"id\":\"1121\",\"type\":\"BasicTicker\"},{\"attributes\":{\"data\":{\"x\":[2000,2001,2002,2003,2004,2005,2006,2007,2008,2009,2010,2011,2012,2013,2014,2015,2016,2017,2018],\"y\":[13,66,78,119,292,560,946,3072,3683,4029,5084,6591,9584,26407,39257,69508,101425,70254,30377]},\"selected\":{\"id\":\"1158\"},\"selection_policy\":{\"id\":\"1157\"}},\"id\":\"1144\",\"type\":\"ColumnDataSource\"},{\"attributes\":{},\"id\":\"1158\",\"type\":\"Selection\"},{\"attributes\":{\"bottom_units\":\"screen\",\"fill_alpha\":0.5,\"fill_color\":\"lightgrey\",\"left_units\":\"screen\",\"level\":\"overlay\",\"line_alpha\":1.0,\"line_color\":\"black\",\"line_dash\":[4,4],\"line_width\":2,\"right_units\":\"screen\",\"top_units\":\"screen\"},\"id\":\"1130\",\"type\":\"BoxAnnotation\"},{\"attributes\":{},\"id\":\"1117\",\"type\":\"BasicTicker\"},{\"attributes\":{},\"id\":\"1124\",\"type\":\"SaveTool\"}],\"root_ids\":[\"1105\"]},\"title\":\"Bokeh Application\",\"version\":\"2.1.1\"}};\n",
       "  var render_items = [{\"docid\":\"7369687d-1531-4cf2-bb11-54312ebee039\",\"root_ids\":[\"1105\"],\"roots\":{\"1105\":\"abccbc52-3ab5-4df0-ae53-09692939350c\"}}];\n",
       "  root.Bokeh.embed.embed_items_notebook(docs_json, render_items);\n",
       "\n",
       "  }\n",
       "  if (root.Bokeh !== undefined) {\n",
       "    embed_document(root);\n",
       "  } else {\n",
       "    var attempts = 0;\n",
       "    var timer = setInterval(function(root) {\n",
       "      if (root.Bokeh !== undefined) {\n",
       "        clearInterval(timer);\n",
       "        embed_document(root);\n",
       "      } else {\n",
       "        attempts++;\n",
       "        if (attempts > 100) {\n",
       "          clearInterval(timer);\n",
       "          console.log(\"Bokeh: ERROR: Unable to run BokehJS code because BokehJS library is missing\");\n",
       "        }\n",
       "      }\n",
       "    }, 10, root)\n",
       "  }\n",
       "})(window);"
      ],
      "application/vnd.bokehjs_exec.v0+json": ""
     },
     "metadata": {
      "application/vnd.bokehjs_exec.v0+json": {
       "id": "1105"
      }
     },
     "output_type": "display_data"
    }
   ],
   "source": [
    "TOOLS = 'save,pan,box_zoom,reset,wheel_zoom,hover'\n",
    "p = figure(title=\"Yearly total number of reviews\", y_axis_type=\"linear\", plot_height = 400,\n",
    "           tools = TOOLS, plot_width = 800)\n",
    "p.xaxis.axis_label = 'Year'\n",
    "p.yaxis.axis_label = 'counts'\n",
    "\n",
    "p.left[0].formatter.use_scientific = False\n",
    "\n",
    "# this code creates a big circle in a graph\n",
    "p.circle(2016, yearly.counts.max(), size = 10, color = 'red')\n",
    "\n",
    "\n",
    "p.line(yearly.year, yearly.counts,line_color=\"purple\", line_width = 3)\n",
    "p.select_one(HoverTool).tooltips = [\n",
    "    ('year', '@x'),\n",
    "    ('# of reviews', '@y'),\n",
    "]\n",
    "\n",
    "show(p)"
   ]
  },
  {
   "cell_type": "markdown",
   "metadata": {
    "colab_type": "text",
    "id": "zZeltXwoh5Eu"
   },
   "source": [
    "2016 is the year with the highest amount of reviews with 101,425 reviews total."
   ]
  },
  {
   "cell_type": "markdown",
   "metadata": {
    "colab_type": "text",
    "id": "zeB1hOWdwuiU"
   },
   "source": [
    "### The average ratings across the number of years\n",
    "\n",
    "#### x values = average reviews\n",
    "\n",
    "#### y values = years"
   ]
  },
  {
   "cell_type": "code",
   "execution_count": 18,
   "metadata": {
    "colab": {
     "base_uri": "https://localhost:8080/",
     "height": 645
    },
    "colab_type": "code",
    "id": "3pvUnJ4E706r",
    "outputId": "6eb087ac-a943-4ee4-c23c-a46bf7cf206c"
   },
   "outputs": [
    {
     "data": {
      "text/html": [
       "<div>\n",
       "<style scoped>\n",
       "    .dataframe tbody tr th:only-of-type {\n",
       "        vertical-align: middle;\n",
       "    }\n",
       "\n",
       "    .dataframe tbody tr th {\n",
       "        vertical-align: top;\n",
       "    }\n",
       "\n",
       "    .dataframe thead th {\n",
       "        text-align: right;\n",
       "    }\n",
       "</style>\n",
       "<table border=\"1\" class=\"dataframe\">\n",
       "  <thead>\n",
       "    <tr style=\"text-align: right;\">\n",
       "      <th></th>\n",
       "      <th>year</th>\n",
       "      <th>rating</th>\n",
       "      <th>verified</th>\n",
       "      <th>month</th>\n",
       "    </tr>\n",
       "  </thead>\n",
       "  <tbody>\n",
       "    <tr>\n",
       "      <th>0</th>\n",
       "      <td>2000</td>\n",
       "      <td>4.846154</td>\n",
       "      <td>0.000000</td>\n",
       "      <td>9.692308</td>\n",
       "    </tr>\n",
       "    <tr>\n",
       "      <th>1</th>\n",
       "      <td>2001</td>\n",
       "      <td>4.151515</td>\n",
       "      <td>0.227273</td>\n",
       "      <td>6.878788</td>\n",
       "    </tr>\n",
       "    <tr>\n",
       "      <th>2</th>\n",
       "      <td>2002</td>\n",
       "      <td>4.153846</td>\n",
       "      <td>0.192308</td>\n",
       "      <td>7.500000</td>\n",
       "    </tr>\n",
       "    <tr>\n",
       "      <th>3</th>\n",
       "      <td>2003</td>\n",
       "      <td>4.100840</td>\n",
       "      <td>0.218487</td>\n",
       "      <td>6.873950</td>\n",
       "    </tr>\n",
       "    <tr>\n",
       "      <th>4</th>\n",
       "      <td>2004</td>\n",
       "      <td>3.907534</td>\n",
       "      <td>0.243151</td>\n",
       "      <td>7.465753</td>\n",
       "    </tr>\n",
       "    <tr>\n",
       "      <th>5</th>\n",
       "      <td>2005</td>\n",
       "      <td>3.953571</td>\n",
       "      <td>0.267857</td>\n",
       "      <td>7.539286</td>\n",
       "    </tr>\n",
       "    <tr>\n",
       "      <th>6</th>\n",
       "      <td>2006</td>\n",
       "      <td>3.921776</td>\n",
       "      <td>0.346723</td>\n",
       "      <td>6.948203</td>\n",
       "    </tr>\n",
       "    <tr>\n",
       "      <th>7</th>\n",
       "      <td>2007</td>\n",
       "      <td>4.110677</td>\n",
       "      <td>0.401367</td>\n",
       "      <td>6.427409</td>\n",
       "    </tr>\n",
       "    <tr>\n",
       "      <th>8</th>\n",
       "      <td>2008</td>\n",
       "      <td>4.106978</td>\n",
       "      <td>0.440673</td>\n",
       "      <td>6.359761</td>\n",
       "    </tr>\n",
       "    <tr>\n",
       "      <th>9</th>\n",
       "      <td>2009</td>\n",
       "      <td>4.068752</td>\n",
       "      <td>0.534872</td>\n",
       "      <td>6.474311</td>\n",
       "    </tr>\n",
       "    <tr>\n",
       "      <th>10</th>\n",
       "      <td>2010</td>\n",
       "      <td>4.126475</td>\n",
       "      <td>0.777144</td>\n",
       "      <td>6.777734</td>\n",
       "    </tr>\n",
       "    <tr>\n",
       "      <th>11</th>\n",
       "      <td>2011</td>\n",
       "      <td>4.124716</td>\n",
       "      <td>0.771355</td>\n",
       "      <td>6.846457</td>\n",
       "    </tr>\n",
       "    <tr>\n",
       "      <th>12</th>\n",
       "      <td>2012</td>\n",
       "      <td>4.119366</td>\n",
       "      <td>0.809683</td>\n",
       "      <td>7.520346</td>\n",
       "    </tr>\n",
       "    <tr>\n",
       "      <th>13</th>\n",
       "      <td>2013</td>\n",
       "      <td>4.241224</td>\n",
       "      <td>0.874049</td>\n",
       "      <td>6.542205</td>\n",
       "    </tr>\n",
       "    <tr>\n",
       "      <th>14</th>\n",
       "      <td>2014</td>\n",
       "      <td>4.198640</td>\n",
       "      <td>0.819064</td>\n",
       "      <td>7.245816</td>\n",
       "    </tr>\n",
       "    <tr>\n",
       "      <th>15</th>\n",
       "      <td>2015</td>\n",
       "      <td>4.196236</td>\n",
       "      <td>0.901508</td>\n",
       "      <td>6.622792</td>\n",
       "    </tr>\n",
       "    <tr>\n",
       "      <th>16</th>\n",
       "      <td>2016</td>\n",
       "      <td>4.066857</td>\n",
       "      <td>0.885097</td>\n",
       "      <td>6.455253</td>\n",
       "    </tr>\n",
       "    <tr>\n",
       "      <th>17</th>\n",
       "      <td>2017</td>\n",
       "      <td>4.049805</td>\n",
       "      <td>0.906368</td>\n",
       "      <td>5.830458</td>\n",
       "    </tr>\n",
       "    <tr>\n",
       "      <th>18</th>\n",
       "      <td>2018</td>\n",
       "      <td>3.999967</td>\n",
       "      <td>0.945386</td>\n",
       "      <td>3.934951</td>\n",
       "    </tr>\n",
       "  </tbody>\n",
       "</table>\n",
       "</div>"
      ],
      "text/plain": [
       "    year    rating  verified     month\n",
       "0   2000  4.846154  0.000000  9.692308\n",
       "1   2001  4.151515  0.227273  6.878788\n",
       "2   2002  4.153846  0.192308  7.500000\n",
       "3   2003  4.100840  0.218487  6.873950\n",
       "4   2004  3.907534  0.243151  7.465753\n",
       "5   2005  3.953571  0.267857  7.539286\n",
       "6   2006  3.921776  0.346723  6.948203\n",
       "7   2007  4.110677  0.401367  6.427409\n",
       "8   2008  4.106978  0.440673  6.359761\n",
       "9   2009  4.068752  0.534872  6.474311\n",
       "10  2010  4.126475  0.777144  6.777734\n",
       "11  2011  4.124716  0.771355  6.846457\n",
       "12  2012  4.119366  0.809683  7.520346\n",
       "13  2013  4.241224  0.874049  6.542205\n",
       "14  2014  4.198640  0.819064  7.245816\n",
       "15  2015  4.196236  0.901508  6.622792\n",
       "16  2016  4.066857  0.885097  6.455253\n",
       "17  2017  4.049805  0.906368  5.830458\n",
       "18  2018  3.999967  0.945386  3.934951"
      ]
     },
     "execution_count": 18,
     "metadata": {},
     "output_type": "execute_result"
    }
   ],
   "source": [
    "# average = df.groupby('year')['overall'].mean().sort_values(ascending=False)\n",
    "\n",
    "# ave_df = pd.Categorical(df['year'], ordered=True, categories=average.index)\n",
    "# ave_df = df.sort_values('year')\n",
    "# ave_df \n",
    "\n",
    "df['rating'] = pd.to_numeric(df['rating'], errors='coerce')\n",
    "ave = df.groupby('year').agg(np.mean).reset_index().sort_values(by='year')\n",
    "ave\n"
   ]
  },
  {
   "cell_type": "code",
   "execution_count": 19,
   "metadata": {
    "colab": {
     "base_uri": "https://localhost:8080/",
     "height": 417
    },
    "colab_type": "code",
    "id": "uXAmfnAzSYPL",
    "outputId": "9d865f72-c54e-4d29-f644-07f069c38893"
   },
   "outputs": [
    {
     "data": {
      "text/html": [
       "\n",
       "\n",
       "\n",
       "\n",
       "\n",
       "\n",
       "  <div class=\"bk-root\" id=\"17b6dea5-97a0-4049-ae6f-bedcf495f363\" data-root-id=\"1239\"></div>\n"
      ]
     },
     "metadata": {},
     "output_type": "display_data"
    },
    {
     "data": {
      "application/javascript": [
       "(function(root) {\n",
       "  function embed_document(root) {\n",
       "    \n",
       "  var docs_json = {\"25213c3a-355d-4e8a-8b78-a9cfdfbe88e7\":{\"roots\":{\"references\":[{\"attributes\":{\"below\":[{\"id\":\"1250\"}],\"center\":[{\"id\":\"1253\"},{\"id\":\"1257\"}],\"left\":[{\"id\":\"1254\"}],\"plot_height\":400,\"plot_width\":800,\"renderers\":[{\"id\":\"1276\"},{\"id\":\"1281\"}],\"title\":{\"id\":\"1240\"},\"toolbar\":{\"id\":\"1265\"},\"x_range\":{\"id\":\"1242\"},\"x_scale\":{\"id\":\"1246\"},\"y_range\":{\"id\":\"1244\"},\"y_scale\":{\"id\":\"1248\"}},\"id\":\"1239\",\"subtype\":\"Figure\",\"type\":\"Plot\"},{\"attributes\":{\"line_color\":\"purple\",\"line_width\":3,\"x\":{\"field\":\"year\"},\"y\":{\"field\":\"rating\"}},\"id\":\"1279\",\"type\":\"Line\"},{\"attributes\":{\"data\":{\"index\":[0,1,2,3,4,5,6,7,8,9,10,11,12,13,14,15,16,17,18],\"month\":{\"__ndarray__\":\"J3ZiJ3ZiI0CEDz744IMbQAAAAAAAAB5Ao+x+o+x+G0DPnTt37twdQIQ6qIM6KB5AocZ5t/XKG0CrqqqqqrUZQFMGVzRlcBlAcZG72LHlGUAcZcZRZhwbQF49LLPFYhtAV+yBsNUUHkD42LW2NysaQPf+tjK3+xxAb4gzFr19GkAVOSjALdIZQNbGe5hjUhdAkyQsesd6D0A=\",\"dtype\":\"float64\",\"order\":\"little\",\"shape\":[19]},\"rating\":{\"__ndarray__\":\"J3ZiJ3ZiE0CbbLLJJpsQQNmJndiJnRBAsEJnsEJnEEAqVKhQoUIPQA/qoA7qoA9ABhTTCsxfD0BVVVVVVXEQQLrYhqSLbRBAD7uAzmZGEECCKxi4goEQQDzV8my1fxBAzK5x+jp6EEBilRlnA/cQQKlk1DZoyxBAnHYtMvLIEEA5Flw8dkQQQI/GhRQAMxBAlqyZve7/D0A=\",\"dtype\":\"float64\",\"order\":\"little\",\"shape\":[19]},\"verified\":{\"__ndarray__\":\"AAAAAAAAAAAXXXTRRRfNP9mJndiJncg/HGX3G2X3yz/58ePHjx/PP0mSJEmSJNE/6Tkd2rUw1j8AAAAAALDZP+E/ww3+M9w/XoVRQawd4T/e0OUNXd7oP94dwWzwrug/MbvG6evo6T+nOPSoNPjrPz0q6/LFNeo/C3ycwibZ7D/KQkK0t1LsP7Rf7CL4AO0/ILyFy5pA7j8=\",\"dtype\":\"float64\",\"order\":\"little\",\"shape\":[19]},\"year\":[2000,2001,2002,2003,2004,2005,2006,2007,2008,2009,2010,2011,2012,2013,2014,2015,2016,2017,2018]},\"selected\":{\"id\":\"1292\"},\"selection_policy\":{\"id\":\"1291\"}},\"id\":\"1238\",\"type\":\"ColumnDataSource\"},{\"attributes\":{},\"id\":\"1292\",\"type\":\"Selection\"},{\"attributes\":{\"fill_color\":{\"value\":\"red\"},\"line_color\":{\"value\":\"red\"},\"size\":{\"units\":\"screen\",\"value\":10},\"x\":{\"value\":2000},\"y\":{\"value\":4.846153846153846}},\"id\":\"1274\",\"type\":\"Circle\"},{\"attributes\":{\"bottom_units\":\"screen\",\"fill_alpha\":0.5,\"fill_color\":\"lightgrey\",\"left_units\":\"screen\",\"level\":\"overlay\",\"line_alpha\":1.0,\"line_color\":\"black\",\"line_dash\":[4,4],\"line_width\":2,\"right_units\":\"screen\",\"top_units\":\"screen\"},\"id\":\"1264\",\"type\":\"BoxAnnotation\"},{\"attributes\":{\"active_drag\":\"auto\",\"active_inspect\":\"auto\",\"active_multi\":null,\"active_scroll\":\"auto\",\"active_tap\":\"auto\",\"tools\":[{\"id\":\"1258\"},{\"id\":\"1259\"},{\"id\":\"1260\"},{\"id\":\"1261\"},{\"id\":\"1262\"},{\"id\":\"1263\"}]},\"id\":\"1265\",\"type\":\"Toolbar\"},{\"attributes\":{},\"id\":\"1242\",\"type\":\"DataRange1d\"},{\"attributes\":{},\"id\":\"1258\",\"type\":\"SaveTool\"},{\"attributes\":{},\"id\":\"1259\",\"type\":\"PanTool\"},{\"attributes\":{\"overlay\":{\"id\":\"1264\"}},\"id\":\"1260\",\"type\":\"BoxZoomTool\"},{\"attributes\":{},\"id\":\"1244\",\"type\":\"DataRange1d\"},{\"attributes\":{},\"id\":\"1261\",\"type\":\"ResetTool\"},{\"attributes\":{\"source\":{\"id\":\"1273\"}},\"id\":\"1277\",\"type\":\"CDSView\"},{\"attributes\":{\"line_alpha\":0.1,\"line_color\":\"purple\",\"line_width\":3,\"x\":{\"field\":\"year\"},\"y\":{\"field\":\"rating\"}},\"id\":\"1280\",\"type\":\"Line\"},{\"attributes\":{\"fill_alpha\":{\"value\":0.1},\"fill_color\":{\"value\":\"red\"},\"line_alpha\":{\"value\":0.1},\"line_color\":{\"value\":\"red\"},\"size\":{\"units\":\"screen\",\"value\":10},\"x\":{\"value\":2000},\"y\":{\"value\":4.846153846153846}},\"id\":\"1275\",\"type\":\"Circle\"},{\"attributes\":{\"data_source\":{\"id\":\"1273\"},\"glyph\":{\"id\":\"1274\"},\"hover_glyph\":null,\"muted_glyph\":null,\"nonselection_glyph\":{\"id\":\"1275\"},\"selection_glyph\":null,\"view\":{\"id\":\"1277\"}},\"id\":\"1276\",\"type\":\"GlyphRenderer\"},{\"attributes\":{},\"id\":\"1262\",\"type\":\"WheelZoomTool\"},{\"attributes\":{},\"id\":\"1284\",\"type\":\"BasicTickFormatter\"},{\"attributes\":{\"text\":\"Year vs. average reviews\"},\"id\":\"1240\",\"type\":\"Title\"},{\"attributes\":{\"data\":{},\"selected\":{\"id\":\"1290\"},\"selection_policy\":{\"id\":\"1289\"}},\"id\":\"1273\",\"type\":\"ColumnDataSource\"},{\"attributes\":{},\"id\":\"1246\",\"type\":\"LinearScale\"},{\"attributes\":{},\"id\":\"1248\",\"type\":\"LinearScale\"},{\"attributes\":{\"use_scientific\":false},\"id\":\"1272\",\"type\":\"BasicTickFormatter\"},{\"attributes\":{\"callback\":null,\"tooltips\":[[\"year\",\"@year\"],[\"avg rating\",\"@overall\"]]},\"id\":\"1263\",\"type\":\"HoverTool\"},{\"attributes\":{\"axis_label\":\"Year\",\"formatter\":{\"id\":\"1284\"},\"ticker\":{\"id\":\"1251\"}},\"id\":\"1250\",\"type\":\"LinearAxis\"},{\"attributes\":{\"source\":{\"id\":\"1238\"}},\"id\":\"1282\",\"type\":\"CDSView\"},{\"attributes\":{\"data_source\":{\"id\":\"1238\"},\"glyph\":{\"id\":\"1279\"},\"hover_glyph\":null,\"muted_glyph\":null,\"nonselection_glyph\":{\"id\":\"1280\"},\"selection_glyph\":null,\"view\":{\"id\":\"1282\"}},\"id\":\"1281\",\"type\":\"GlyphRenderer\"},{\"attributes\":{},\"id\":\"1255\",\"type\":\"BasicTicker\"},{\"attributes\":{},\"id\":\"1251\",\"type\":\"BasicTicker\"},{\"attributes\":{\"axis\":{\"id\":\"1250\"},\"ticker\":null},\"id\":\"1253\",\"type\":\"Grid\"},{\"attributes\":{},\"id\":\"1289\",\"type\":\"UnionRenderers\"},{\"attributes\":{\"axis\":{\"id\":\"1254\"},\"dimension\":1,\"ticker\":null},\"id\":\"1257\",\"type\":\"Grid\"},{\"attributes\":{},\"id\":\"1290\",\"type\":\"Selection\"},{\"attributes\":{\"axis_label\":\"counts\",\"formatter\":{\"id\":\"1272\"},\"ticker\":{\"id\":\"1255\"}},\"id\":\"1254\",\"type\":\"LinearAxis\"},{\"attributes\":{},\"id\":\"1291\",\"type\":\"UnionRenderers\"}],\"root_ids\":[\"1239\"]},\"title\":\"Bokeh Application\",\"version\":\"2.1.1\"}};\n",
       "  var render_items = [{\"docid\":\"25213c3a-355d-4e8a-8b78-a9cfdfbe88e7\",\"root_ids\":[\"1239\"],\"roots\":{\"1239\":\"17b6dea5-97a0-4049-ae6f-bedcf495f363\"}}];\n",
       "  root.Bokeh.embed.embed_items_notebook(docs_json, render_items);\n",
       "\n",
       "  }\n",
       "  if (root.Bokeh !== undefined) {\n",
       "    embed_document(root);\n",
       "  } else {\n",
       "    var attempts = 0;\n",
       "    var timer = setInterval(function(root) {\n",
       "      if (root.Bokeh !== undefined) {\n",
       "        clearInterval(timer);\n",
       "        embed_document(root);\n",
       "      } else {\n",
       "        attempts++;\n",
       "        if (attempts > 100) {\n",
       "          clearInterval(timer);\n",
       "          console.log(\"Bokeh: ERROR: Unable to run BokehJS code because BokehJS library is missing\");\n",
       "        }\n",
       "      }\n",
       "    }, 10, root)\n",
       "  }\n",
       "})(window);"
      ],
      "application/vnd.bokehjs_exec.v0+json": ""
     },
     "metadata": {
      "application/vnd.bokehjs_exec.v0+json": {
       "id": "1239"
      }
     },
     "output_type": "display_data"
    }
   ],
   "source": [
    "sample = ave\n",
    "source = ColumnDataSource(sample)\n",
    "\n",
    "x = ave['year'].astype(str)\n",
    "# y = ratings['counts']\n",
    "\n",
    "# p = figure(x_range=x)\n",
    "\n",
    "\n",
    "TOOLS = 'save,pan,box_zoom,reset,wheel_zoom,hover'\n",
    "p = figure(title=\"Year vs. average reviews\", y_axis_type=\"linear\", plot_height = 400,\n",
    "           tools = TOOLS, plot_width = 800)\n",
    "p.xaxis.axis_label = 'Year'\n",
    "p.yaxis.axis_label = 'counts'\n",
    "\n",
    "p.left[0].formatter.use_scientific = False\n",
    "\n",
    "# this code creates a big circle in a graph\n",
    "p.circle(2000, ave.rating.max(), size = 10, color = 'red')\n",
    "\n",
    "\n",
    "p.line(x='year', y='rating',line_color=\"purple\", line_width = 3, source=source)\n",
    "p.select_one(HoverTool).tooltips = [\n",
    "    ('year', '@year'),\n",
    "    ('avg rating', '@overall'),\n",
    "]\n",
    "\n",
    "show(p)"
   ]
  },
  {
   "cell_type": "code",
   "execution_count": 20,
   "metadata": {
    "colab": {
     "base_uri": "https://localhost:8080/",
     "height": 262
    },
    "colab_type": "code",
    "id": "70YHU-dFXV20",
    "outputId": "77102bc3-8d0e-4840-eb82-01c16bcd687f"
   },
   "outputs": [
    {
     "data": {
      "image/png": "[encoded data removed]",
      "text/plain": [
       "<Figure size 1440x288 with 1 Axes>"
      ]
     },
     "metadata": {},
     "output_type": "display_data"
    }
   ],
   "source": [
    "plt.figure(figsize=(20,4))\n",
    "\n",
    "# # Find last rating date\n",
    "# print('Last recorded rating was on {}'.format(df.reviewTime.tail(1).iloc[0]))\n",
    "\n",
    "# Make sure all ratings have the same time frame\n",
    "time = ['2001', '2002', '2003',\n",
    "        '2004', '2005', '2006', '2007', '2008', '2009', '2010', '2011', '2012',\n",
    "       '2013', '2014', '2015', '2016', '2017', '2018']\n",
    "# time = df['year'].unique().tolist()\n",
    "# time = sorted(time)\n",
    "\n",
    "# Separate ratings\n",
    "one = df[df.rating == 1]\n",
    "two = df[df.rating == 2]\n",
    "three = df[df.rating == 3]\n",
    "four = df[df.rating == 4]\n",
    "five = df[df.rating == 5]\n",
    "\n",
    "\n",
    "one_by_year = one.groupby('year').count().rating\n",
    "two_by_year = two.groupby('year').count().rating\n",
    "three_by_year = three.groupby('year').count().rating\n",
    "four_by_year = four.groupby('year').count().rating\n",
    "five_by_year = five.groupby('year').count().rating\n",
    "\n",
    "\n",
    "# Plot number of ratings per year per rating\n",
    "one_by_year.plot()\n",
    "two_by_year.plot()\n",
    "three_by_year.plot()\n",
    "four_by_year.plot()\n",
    "five_by_year.plot()\n",
    "\n",
    "# Plot number of ratings per year\n",
    "plt.plot(df.groupby('year').count().rating[2:], linestyle='--')\n",
    "plt.title('Number of Ratings per Year by Rating', fontsize=15)\n",
    "\n",
    "plt.legend(['1 star', '2 stars', '3 stars', '4 stars', '5 star', 'Total'], loc='upper left', fontsize='x-large')\n",
    "plt.show()\n",
    "\n",
    "# ***** ASK ANA IF THIS IS NECESSARY *****\n",
    "\n",
    "\n",
    "# # Plot number of ratings per year per rating\n",
    "# plt.figure(figsize=(20,7))\n",
    "# plt.plot(time,  \n",
    "#               # one.groupby('year').count().overall,\n",
    "#               two_by_year, \n",
    "#               three_by_year[1:], \n",
    "#               # four.groupby('year').count().overall, \n",
    "#               # five.groupby('year').count()[1:].overall\n",
    "#          )\n",
    "# plt.title('Number of Ratings per Year Stacked', fontsize=18)\n",
    "\n",
    "# plt.legend(['1 star', '2 stars', '3 stars', '4 stars', '5 star'], loc='upper left', fontsize='x-large')\n",
    "\n",
    "# # plt.tight_layout()\n",
    "# plt.show()"
   ]
  },
  {
   "cell_type": "markdown",
   "metadata": {
    "colab_type": "text",
    "id": "JsPb8wchDb-J"
   },
   "source": [
    "### Top 20 Most Reviewed Brands\n",
    "\n",
    "#### * *Will need to sort this in descending order* *"
   ]
  },
  {
   "cell_type": "code",
   "execution_count": 21,
   "metadata": {
    "colab": {
     "base_uri": "https://localhost:8080/",
     "height": 503
    },
    "colab_type": "code",
    "id": "962giQ7qDcPZ",
    "outputId": "bffaeea2-37f7-4f41-e922-57e978187d33"
   },
   "outputs": [
    {
     "name": "stdout",
     "output_type": "stream",
     "text": [
      "<class 'pandas.core.frame.DataFrame'>\n",
      "RangeIndex: 371345 entries, 0 to 371344\n",
      "Data columns (total 21 columns):\n",
      " #   Column         Non-Null Count   Dtype         \n",
      "---  ------         --------------   -----         \n",
      " 0   rating         371345 non-null  int64         \n",
      " 1   verified       371345 non-null  bool          \n",
      " 2   review_time    371345 non-null  datetime64[ns]\n",
      " 3   reviewer_id    371345 non-null  object        \n",
      " 4   product_id     371345 non-null  object        \n",
      " 5   reviewer_name  371293 non-null  object        \n",
      " 6   reviewer_text  370946 non-null  object        \n",
      " 7   summary        371134 non-null  object        \n",
      " 8   vote           51899 non-null   object        \n",
      " 9   title          371329 non-null  object        \n",
      " 10  brand          283989 non-null  object        \n",
      " 11  rank           369010 non-null  object        \n",
      " 12  main_cat       371345 non-null  object        \n",
      " 13  description    258425 non-null  object        \n",
      " 14  also_view      217021 non-null  object        \n",
      " 15  also_buy       148452 non-null  object        \n",
      " 16  price          186438 non-null  object        \n",
      " 17  similar_item   10796 non-null   object        \n",
      " 18  details        364427 non-null  object        \n",
      " 19  year           371345 non-null  int64         \n",
      " 20  month          371345 non-null  int64         \n",
      "dtypes: bool(1), datetime64[ns](1), int64(3), object(16)\n",
      "memory usage: 57.0+ MB\n"
     ]
    }
   ],
   "source": [
    "df.info()"
   ]
  },
  {
   "cell_type": "code",
   "execution_count": 22,
   "metadata": {
    "colab": {
     "base_uri": "https://localhost:8080/",
     "height": 677
    },
    "colab_type": "code",
    "id": "F4J52A8J5lWF",
    "outputId": "896b75bc-19a9-420b-bae5-f667e9cba420"
   },
   "outputs": [
    {
     "data": {
      "text/html": [
       "<div>\n",
       "<style scoped>\n",
       "    .dataframe tbody tr th:only-of-type {\n",
       "        vertical-align: middle;\n",
       "    }\n",
       "\n",
       "    .dataframe tbody tr th {\n",
       "        vertical-align: top;\n",
       "    }\n",
       "\n",
       "    .dataframe thead th {\n",
       "        text-align: right;\n",
       "    }\n",
       "</style>\n",
       "<table border=\"1\" class=\"dataframe\">\n",
       "  <thead>\n",
       "    <tr style=\"text-align: right;\">\n",
       "      <th></th>\n",
       "      <th>brand</th>\n",
       "      <th>counts</th>\n",
       "    </tr>\n",
       "  </thead>\n",
       "  <tbody>\n",
       "    <tr>\n",
       "      <th>0</th>\n",
       "      <td>Waterpik</td>\n",
       "      <td>17061</td>\n",
       "    </tr>\n",
       "    <tr>\n",
       "      <th>1</th>\n",
       "      <td>Philips Norelco</td>\n",
       "      <td>12427</td>\n",
       "    </tr>\n",
       "    <tr>\n",
       "      <th>2</th>\n",
       "      <td>Perfecto</td>\n",
       "      <td>4862</td>\n",
       "    </tr>\n",
       "    <tr>\n",
       "      <th>3</th>\n",
       "      <td>Astra</td>\n",
       "      <td>4578</td>\n",
       "    </tr>\n",
       "    <tr>\n",
       "      <th>4</th>\n",
       "      <td>Pre de Provence</td>\n",
       "      <td>3588</td>\n",
       "    </tr>\n",
       "    <tr>\n",
       "      <th>5</th>\n",
       "      <td>Helen Of Troy</td>\n",
       "      <td>3386</td>\n",
       "    </tr>\n",
       "    <tr>\n",
       "      <th>6</th>\n",
       "      <td>Aquaphor</td>\n",
       "      <td>2882</td>\n",
       "    </tr>\n",
       "    <tr>\n",
       "      <th>7</th>\n",
       "      <td>Braun</td>\n",
       "      <td>2636</td>\n",
       "    </tr>\n",
       "    <tr>\n",
       "      <th>8</th>\n",
       "      <td>Gillette</td>\n",
       "      <td>2576</td>\n",
       "    </tr>\n",
       "    <tr>\n",
       "      <th>9</th>\n",
       "      <td>Bath &amp; Body Works</td>\n",
       "      <td>2525</td>\n",
       "    </tr>\n",
       "    <tr>\n",
       "      <th>10</th>\n",
       "      <td>Panasonic</td>\n",
       "      <td>2473</td>\n",
       "    </tr>\n",
       "    <tr>\n",
       "      <th>11</th>\n",
       "      <td>Fiery Youth</td>\n",
       "      <td>2177</td>\n",
       "    </tr>\n",
       "    <tr>\n",
       "      <th>12</th>\n",
       "      <td>Italia-Deluxe</td>\n",
       "      <td>1964</td>\n",
       "    </tr>\n",
       "    <tr>\n",
       "      <th>13</th>\n",
       "      <td>Williams</td>\n",
       "      <td>1887</td>\n",
       "    </tr>\n",
       "    <tr>\n",
       "      <th>14</th>\n",
       "      <td>Philips Sonicare</td>\n",
       "      <td>1862</td>\n",
       "    </tr>\n",
       "    <tr>\n",
       "      <th>15</th>\n",
       "      <td>Style Edit</td>\n",
       "      <td>1770</td>\n",
       "    </tr>\n",
       "    <tr>\n",
       "      <th>16</th>\n",
       "      <td>Crest</td>\n",
       "      <td>1744</td>\n",
       "    </tr>\n",
       "    <tr>\n",
       "      <th>17</th>\n",
       "      <td>NARS</td>\n",
       "      <td>1719</td>\n",
       "    </tr>\n",
       "    <tr>\n",
       "      <th>18</th>\n",
       "      <td>Oral-B</td>\n",
       "      <td>1642</td>\n",
       "    </tr>\n",
       "    <tr>\n",
       "      <th>19</th>\n",
       "      <td>Avalon</td>\n",
       "      <td>1344</td>\n",
       "    </tr>\n",
       "  </tbody>\n",
       "</table>\n",
       "</div>"
      ],
      "text/plain": [
       "                brand  counts\n",
       "0            Waterpik   17061\n",
       "1     Philips Norelco   12427\n",
       "2            Perfecto    4862\n",
       "3               Astra    4578\n",
       "4     Pre de Provence    3588\n",
       "5       Helen Of Troy    3386\n",
       "6            Aquaphor    2882\n",
       "7               Braun    2636\n",
       "8            Gillette    2576\n",
       "9   Bath & Body Works    2525\n",
       "10          Panasonic    2473\n",
       "11        Fiery Youth    2177\n",
       "12      Italia-Deluxe    1964\n",
       "13           Williams    1887\n",
       "14   Philips Sonicare    1862\n",
       "15         Style Edit    1770\n",
       "16              Crest    1744\n",
       "17               NARS    1719\n",
       "18             Oral-B    1642\n",
       "19             Avalon    1344"
      ]
     },
     "execution_count": 22,
     "metadata": {},
     "output_type": "execute_result"
    }
   ],
   "source": [
    "# Getting the top 20 brands with most reviews\n",
    "\n",
    "most_brands = df['brand'].value_counts()\n",
    "\n",
    "# convert the .value_counts() to a dataframe\n",
    "\n",
    "most_brands = most_brands.rename_axis('brand').reset_index(name='counts')\n",
    "most_brands = most_brands.sort_values('counts', ascending=False)\n",
    "most_brands = most_brands.head(20)\n",
    "most_brands"
   ]
  },
  {
   "cell_type": "code",
   "execution_count": 23,
   "metadata": {
    "colab": {},
    "colab_type": "code",
    "id": "H8VReu-C5o6J"
   },
   "outputs": [],
   "source": [
    "# Preparing the data for Bokeh\n",
    "source = ColumnDataSource(most_brands)\n",
    "brands = most_brands['brand']\n",
    "counts = most_brands['counts']"
   ]
  },
  {
   "cell_type": "code",
   "execution_count": 24,
   "metadata": {
    "colab": {},
    "colab_type": "code",
    "id": "BxiCQJBnAAnu"
   },
   "outputs": [],
   "source": [
    "# We need to sort the brands from highest to lowest reviews\n",
    "brands = brands.tolist()     # Convert to list to prevent issues sorting\n",
    "counts = counts.tolist()\n",
    "\n",
    "# sorting the bars means sorting the range factors\n",
    "sorted_brands = sorted(brands, key=lambda x: counts[brands.index(x)], reverse=False)\n",
    "\n",
    "# for x in brands:\n",
    "    # i = brands.index(brand)  # Give me the index of the brand i'm on rn and put it in i\n",
    "    # count_for_this_brand = counts[i]  # Use the same index to get the count for that brand\n",
    "    # return count_for_this_brand\n",
    "\n",
    "# Why does reverse=False show the plot in the opposite direction ?????\n",
    "# sorted_brands"
   ]
  },
  {
   "cell_type": "code",
   "execution_count": 25,
   "metadata": {
    "colab": {
     "base_uri": "https://localhost:8080/",
     "height": 617
    },
    "colab_type": "code",
    "id": "5Vb57r9fmeEW",
    "outputId": "b6eee5bf-9b1f-4627-926b-efa8fc3c4cef"
   },
   "outputs": [
    {
     "data": {
      "text/html": [
       "\n",
       "\n",
       "\n",
       "\n",
       "\n",
       "\n",
       "  <div class=\"bk-root\" id=\"668c71a9-8653-459a-a28a-4a5e8b481119\" data-root-id=\"1383\"></div>\n"
      ]
     },
     "metadata": {},
     "output_type": "display_data"
    },
    {
     "data": {
      "application/javascript": [
       "(function(root) {\n",
       "  function embed_document(root) {\n",
       "    \n",
       "  var docs_json = {\"67d96119-8f92-4da1-a7c7-6015352a9025\":{\"roots\":{\"references\":[{\"attributes\":{\"below\":[{\"id\":\"1394\"}],\"center\":[{\"id\":\"1397\"},{\"id\":\"1400\"}],\"left\":[{\"id\":\"1398\"}],\"plot_width\":800,\"renderers\":[{\"id\":\"1405\"}],\"title\":{\"id\":\"1384\"},\"toolbar\":{\"id\":\"1401\"},\"x_range\":{\"id\":\"1386\"},\"x_scale\":{\"id\":\"1390\"},\"y_range\":{\"id\":\"1388\"},\"y_scale\":{\"id\":\"1392\"}},\"id\":\"1383\",\"subtype\":\"Figure\",\"type\":\"Plot\"},{\"attributes\":{\"text\":\"Top 20 Brand with Most Reviews\"},\"id\":\"1384\",\"type\":\"Title\"},{\"attributes\":{},\"id\":\"1443\",\"type\":\"Selection\"},{\"attributes\":{\"source\":{\"id\":\"1382\"}},\"id\":\"1406\",\"type\":\"CDSView\"},{\"attributes\":{},\"id\":\"1386\",\"type\":\"DataRange1d\"},{\"attributes\":{\"axis\":{\"id\":\"1394\"},\"ticker\":null},\"id\":\"1397\",\"type\":\"Grid\"},{\"attributes\":{\"axis\":{\"id\":\"1398\"},\"dimension\":1,\"ticker\":null},\"id\":\"1400\",\"type\":\"Grid\"},{\"attributes\":{\"formatter\":{\"id\":\"1440\"},\"ticker\":{\"id\":\"1399\"}},\"id\":\"1398\",\"type\":\"CategoricalAxis\"},{\"attributes\":{\"factors\":[\"Avalon\",\"Oral-B\",\"NARS\",\"Crest\",\"Style Edit\",\"Philips Sonicare\",\"Williams\",\"Italia-Deluxe\",\"Fiery Youth\",\"Panasonic\",\"Bath & Body Works\",\"Gillette\",\"Braun\",\"Aquaphor\",\"Helen Of Troy\",\"Pre de Provence\",\"Astra\",\"Perfecto\",\"Philips Norelco\",\"Waterpik\"]},\"id\":\"1388\",\"type\":\"FactorRange\"},{\"attributes\":{\"fill_alpha\":{\"value\":0.5},\"fill_color\":{\"value\":\"blue\"},\"height\":{\"value\":0.4},\"line_color\":{\"value\":\"blue\"},\"right\":{\"field\":\"counts\"},\"y\":{\"field\":\"brand\"}},\"id\":\"1403\",\"type\":\"HBar\"},{\"attributes\":{},\"id\":\"1440\",\"type\":\"CategoricalTickFormatter\"},{\"attributes\":{\"axis_label\":\"# of reviews\",\"formatter\":{\"id\":\"1438\"},\"ticker\":{\"id\":\"1395\"}},\"id\":\"1394\",\"type\":\"LinearAxis\"},{\"attributes\":{\"active_drag\":\"auto\",\"active_inspect\":\"auto\",\"active_multi\":null,\"active_scroll\":\"auto\",\"active_tap\":\"auto\",\"tools\":[{\"id\":\"1040\"}]},\"id\":\"1401\",\"type\":\"Toolbar\"},{\"attributes\":{},\"id\":\"1442\",\"type\":\"UnionRenderers\"},{\"attributes\":{},\"id\":\"1390\",\"type\":\"LinearScale\"},{\"attributes\":{\"callback\":null,\"tooltips\":[[\"# of reviews\",\"@counts\"],[\"brand\",\"@brand\"]]},\"id\":\"1040\",\"type\":\"HoverTool\"},{\"attributes\":{\"fill_alpha\":{\"value\":0.1},\"fill_color\":{\"value\":\"blue\"},\"height\":{\"value\":0.4},\"line_alpha\":{\"value\":0.1},\"line_color\":{\"value\":\"blue\"},\"right\":{\"field\":\"counts\"},\"y\":{\"field\":\"brand\"}},\"id\":\"1404\",\"type\":\"HBar\"},{\"attributes\":{},\"id\":\"1399\",\"type\":\"CategoricalTicker\"},{\"attributes\":{\"data_source\":{\"id\":\"1382\"},\"glyph\":{\"id\":\"1403\"},\"hover_glyph\":null,\"muted_glyph\":null,\"nonselection_glyph\":{\"id\":\"1404\"},\"selection_glyph\":null,\"view\":{\"id\":\"1406\"}},\"id\":\"1405\",\"type\":\"GlyphRenderer\"},{\"attributes\":{\"data\":{\"brand\":[\"Waterpik\",\"Philips Norelco\",\"Perfecto\",\"Astra\",\"Pre de Provence\",\"Helen Of Troy\",\"Aquaphor\",\"Braun\",\"Gillette\",\"Bath & Body Works\",\"Panasonic\",\"Fiery Youth\",\"Italia-Deluxe\",\"Williams\",\"Philips Sonicare\",\"Style Edit\",\"Crest\",\"NARS\",\"Oral-B\",\"Avalon\"],\"counts\":[17061,12427,4862,4578,3588,3386,2882,2636,2576,2525,2473,2177,1964,1887,1862,1770,1744,1719,1642,1344],\"index\":[0,1,2,3,4,5,6,7,8,9,10,11,12,13,14,15,16,17,18,19]},\"selected\":{\"id\":\"1443\"},\"selection_policy\":{\"id\":\"1442\"}},\"id\":\"1382\",\"type\":\"ColumnDataSource\"},{\"attributes\":{},\"id\":\"1395\",\"type\":\"BasicTicker\"},{\"attributes\":{},\"id\":\"1438\",\"type\":\"BasicTickFormatter\"},{\"attributes\":{},\"id\":\"1392\",\"type\":\"CategoricalScale\"}],\"root_ids\":[\"1383\"]},\"title\":\"Bokeh Application\",\"version\":\"2.1.1\"}};\n",
       "  var render_items = [{\"docid\":\"67d96119-8f92-4da1-a7c7-6015352a9025\",\"root_ids\":[\"1383\"],\"roots\":{\"1383\":\"668c71a9-8653-459a-a28a-4a5e8b481119\"}}];\n",
       "  root.Bokeh.embed.embed_items_notebook(docs_json, render_items);\n",
       "\n",
       "  }\n",
       "  if (root.Bokeh !== undefined) {\n",
       "    embed_document(root);\n",
       "  } else {\n",
       "    var attempts = 0;\n",
       "    var timer = setInterval(function(root) {\n",
       "      if (root.Bokeh !== undefined) {\n",
       "        clearInterval(timer);\n",
       "        embed_document(root);\n",
       "      } else {\n",
       "        attempts++;\n",
       "        if (attempts > 100) {\n",
       "          clearInterval(timer);\n",
       "          console.log(\"Bokeh: ERROR: Unable to run BokehJS code because BokehJS library is missing\");\n",
       "        }\n",
       "      }\n",
       "    }, 10, root)\n",
       "  }\n",
       "})(window);"
      ],
      "application/vnd.bokehjs_exec.v0+json": ""
     },
     "metadata": {
      "application/vnd.bokehjs_exec.v0+json": {
       "id": "1383"
      }
     },
     "output_type": "display_data"
    }
   ],
   "source": [
    "  # Plotting\n",
    "p = figure(\n",
    "  y_range=sorted_brands,\n",
    "  title = 'Top 20 Brand with Most Reviews',\n",
    "  x_axis_label ='# of reviews',\n",
    "  plot_width=800,\n",
    "  plot_height=600,\n",
    "  tools=\"\"\n",
    ")\n",
    "\n",
    "p.hbar(\n",
    "    y='brand',\n",
    "    right='counts',\n",
    "    source=source,\n",
    "    left=0,\n",
    "    height=0.4,\n",
    "    color='blue',\n",
    "    fill_alpha=0.5\n",
    ")\n",
    "hover.tooltips=[('# of reviews', '@counts'),\n",
    "                ('brand', '@brand')]\n",
    "\n",
    "p.add_tools(hover)\n",
    "\n",
    "show(p)\n"
   ]
  },
  {
   "cell_type": "markdown",
   "metadata": {
    "colab_type": "text",
    "id": "FtcZdWCrkCfB"
   },
   "source": [
    "### Top 20 Most Reviewed Products"
   ]
  },
  {
   "cell_type": "code",
   "execution_count": 26,
   "metadata": {
    "colab": {
     "base_uri": "https://localhost:8080/",
     "height": 1000
    },
    "colab_type": "code",
    "id": "KqDs0O2FkFlc",
    "outputId": "1e6b6e95-3b9a-4a6f-b6e8-54657edbee7b"
   },
   "outputs": [
    {
     "data": {
      "text/html": [
       "\n",
       "\n",
       "\n",
       "\n",
       "\n",
       "\n",
       "  <div class=\"bk-root\" id=\"9ba9b798-8fc6-4782-8916-83d6e1a55270\" data-root-id=\"1487\"></div>\n"
      ]
     },
     "metadata": {},
     "output_type": "display_data"
    },
    {
     "data": {
      "application/javascript": [
       "(function(root) {\n",
       "  function embed_document(root) {\n",
       "    \n",
       "  var docs_json = {\"f36230c6-9565-4d00-9ee8-6d8a3426cfac\":{\"roots\":{\"references\":[{\"attributes\":{\"below\":[{\"id\":\"1498\"}],\"center\":[{\"id\":\"1501\"},{\"id\":\"1504\"}],\"left\":[{\"id\":\"1502\"}],\"plot_height\":1000,\"plot_width\":900,\"renderers\":[{\"id\":\"1509\"}],\"title\":{\"id\":\"1488\"},\"toolbar\":{\"id\":\"1505\"},\"x_range\":{\"id\":\"1490\"},\"x_scale\":{\"id\":\"1494\"},\"y_range\":{\"id\":\"1492\"},\"y_scale\":{\"id\":\"1496\"}},\"id\":\"1487\",\"subtype\":\"Figure\",\"type\":\"Plot\"},{\"attributes\":{},\"id\":\"1551\",\"type\":\"CategoricalTickFormatter\"},{\"attributes\":{},\"id\":\"1499\",\"type\":\"BasicTicker\"},{\"attributes\":{},\"id\":\"1494\",\"type\":\"LinearScale\"},{\"attributes\":{\"axis_label\":\"# of reviews\",\"formatter\":{\"id\":\"1549\"},\"ticker\":{\"id\":\"1499\"}},\"id\":\"1498\",\"type\":\"LinearAxis\"},{\"attributes\":{\"source\":{\"id\":\"1486\"}},\"id\":\"1510\",\"type\":\"CDSView\"},{\"attributes\":{\"data\":{\"counts\":[17013,4792,4578,4246,2959,2790,2389,2249,2234,1964,1850,1770,1540,1330,1329,1223,1136,1128,1088,1080],\"index\":[0,1,2,3,4,5,6,7,8,9,10,11,12,13,14,15,16,17,18,19],\"title\":[\"Waterpik Ultra Water Flosser\",\"2016 Monthly Wall Calendar - Boyd's Bears\",\"Astra Platinum Double Edge Safety Razor Blades ,10\",\"Bali Secrets Natural Deodorant - Organic & Vegan -\",\"Pre de Provence Artisanal French Soap Bar Enriched\",\"Aquaphor Healing Ointment,Advanced Therapy Skin Pr\",\"Helen of Troy 1579 Tangle Free Hot Air Brush, Whit\",\"Panasonic Bikini Shaper and Trimmer for Women ES24\",\"Bath & Body Works Ile De Tahiti Moana Coconut Vani\",\"Italia Deluxe Ultra Fine Lip Liner set (Pack Of 12\",\"Eyelash Growth Serum - 100% Natural Eyelash Eyebro\",\"Style Edit Root Concealer 2 oz, Medium Brown\",\"Braun Clean & Renew Refill Cartridges CCR - 2 Coun\",\"Philips Norelco G370 All-in-1 Grooming System\",\"Philips Norelco 7310 Men's Shaving System\",\"FOONEE Rhinestones Nail Art Gems Mixed Colours Sha\",\"Urban Spa Moisturizing Booties to Keep your Feet S\",\"Philips Norelco BG2020 BodyGroom\",\"Williams Lectric Shave, 7 Ounce\",\"Philips Sonicare Sonic Electric Rechargeable Tooth\"]},\"selected\":{\"id\":\"1554\"},\"selection_policy\":{\"id\":\"1553\"}},\"id\":\"1486\",\"type\":\"ColumnDataSource\"},{\"attributes\":{\"axis\":{\"id\":\"1502\"},\"dimension\":1,\"ticker\":null},\"id\":\"1504\",\"type\":\"Grid\"},{\"attributes\":{\"active_drag\":\"auto\",\"active_inspect\":\"auto\",\"active_multi\":null,\"active_scroll\":\"auto\",\"active_tap\":\"auto\",\"tools\":[{\"id\":\"1040\"}]},\"id\":\"1505\",\"type\":\"Toolbar\"},{\"attributes\":{\"callback\":null,\"tooltips\":[[\"# of reviews\",\"@counts\"],[\"product\",\"@title\"]]},\"id\":\"1040\",\"type\":\"HoverTool\"},{\"attributes\":{\"fill_alpha\":{\"value\":0.5},\"fill_color\":{\"value\":\"blue\"},\"height\":{\"value\":0.4},\"line_color\":{\"value\":\"blue\"},\"right\":{\"field\":\"counts\"},\"y\":{\"field\":\"title\"}},\"id\":\"1507\",\"type\":\"HBar\"},{\"attributes\":{},\"id\":\"1503\",\"type\":\"CategoricalTicker\"},{\"attributes\":{},\"id\":\"1553\",\"type\":\"UnionRenderers\"},{\"attributes\":{\"text\":\"Top 20 Products with Most Reviews\"},\"id\":\"1488\",\"type\":\"Title\"},{\"attributes\":{\"fill_alpha\":{\"value\":0.1},\"fill_color\":{\"value\":\"blue\"},\"height\":{\"value\":0.4},\"line_alpha\":{\"value\":0.1},\"line_color\":{\"value\":\"blue\"},\"right\":{\"field\":\"counts\"},\"y\":{\"field\":\"title\"}},\"id\":\"1508\",\"type\":\"HBar\"},{\"attributes\":{\"factors\":[\"Philips Sonicare Sonic Electric Rechargeable Tooth\",\"Williams Lectric Shave, 7 Ounce\",\"Philips Norelco BG2020 BodyGroom\",\"Urban Spa Moisturizing Booties to Keep your Feet S\",\"FOONEE Rhinestones Nail Art Gems Mixed Colours Sha\",\"Philips Norelco 7310 Men's Shaving System\",\"Philips Norelco G370 All-in-1 Grooming System\",\"Braun Clean & Renew Refill Cartridges CCR - 2 Coun\",\"Style Edit Root Concealer 2 oz, Medium Brown\",\"Eyelash Growth Serum - 100% Natural Eyelash Eyebro\",\"Italia Deluxe Ultra Fine Lip Liner set (Pack Of 12\",\"Bath & Body Works Ile De Tahiti Moana Coconut Vani\",\"Panasonic Bikini Shaper and Trimmer for Women ES24\",\"Helen of Troy 1579 Tangle Free Hot Air Brush, Whit\",\"Aquaphor Healing Ointment,Advanced Therapy Skin Pr\",\"Pre de Provence Artisanal French Soap Bar Enriched\",\"Bali Secrets Natural Deodorant - Organic & Vegan -\",\"Astra Platinum Double Edge Safety Razor Blades ,10\",\"2016 Monthly Wall Calendar - Boyd's Bears\",\"Waterpik Ultra Water Flosser\"]},\"id\":\"1492\",\"type\":\"FactorRange\"},{\"attributes\":{\"data_source\":{\"id\":\"1486\"},\"glyph\":{\"id\":\"1507\"},\"hover_glyph\":null,\"muted_glyph\":null,\"nonselection_glyph\":{\"id\":\"1508\"},\"selection_glyph\":null,\"view\":{\"id\":\"1510\"}},\"id\":\"1509\",\"type\":\"GlyphRenderer\"},{\"attributes\":{},\"id\":\"1496\",\"type\":\"CategoricalScale\"},{\"attributes\":{\"axis\":{\"id\":\"1498\"},\"ticker\":null},\"id\":\"1501\",\"type\":\"Grid\"},{\"attributes\":{},\"id\":\"1490\",\"type\":\"DataRange1d\"},{\"attributes\":{},\"id\":\"1549\",\"type\":\"BasicTickFormatter\"},{\"attributes\":{\"formatter\":{\"id\":\"1551\"},\"ticker\":{\"id\":\"1503\"}},\"id\":\"1502\",\"type\":\"CategoricalAxis\"},{\"attributes\":{},\"id\":\"1554\",\"type\":\"Selection\"}],\"root_ids\":[\"1487\"]},\"title\":\"Bokeh Application\",\"version\":\"2.1.1\"}};\n",
       "  var render_items = [{\"docid\":\"f36230c6-9565-4d00-9ee8-6d8a3426cfac\",\"root_ids\":[\"1487\"],\"roots\":{\"1487\":\"9ba9b798-8fc6-4782-8916-83d6e1a55270\"}}];\n",
       "  root.Bokeh.embed.embed_items_notebook(docs_json, render_items);\n",
       "\n",
       "  }\n",
       "  if (root.Bokeh !== undefined) {\n",
       "    embed_document(root);\n",
       "  } else {\n",
       "    var attempts = 0;\n",
       "    var timer = setInterval(function(root) {\n",
       "      if (root.Bokeh !== undefined) {\n",
       "        clearInterval(timer);\n",
       "        embed_document(root);\n",
       "      } else {\n",
       "        attempts++;\n",
       "        if (attempts > 100) {\n",
       "          clearInterval(timer);\n",
       "          console.log(\"Bokeh: ERROR: Unable to run BokehJS code because BokehJS library is missing\");\n",
       "        }\n",
       "      }\n",
       "    }, 10, root)\n",
       "  }\n",
       "})(window);"
      ],
      "application/vnd.bokehjs_exec.v0+json": ""
     },
     "metadata": {
      "application/vnd.bokehjs_exec.v0+json": {
       "id": "1487"
      }
     },
     "output_type": "display_data"
    }
   ],
   "source": [
    "product_df = df['title'].value_counts()\n",
    "product_df = product_df.rename_axis('title').reset_index(name='counts')\n",
    "product_df = product_df.sort_values('counts', ascending=False)\n",
    "product_df = product_df.head(20)\n",
    "\n",
    "# Shorten title\n",
    "product_df[\"title\"] = product_df[\"title\"].str[:50]\n",
    "\n",
    "\n",
    "source = ColumnDataSource(product_df)\n",
    "product = product_df['title']\n",
    "count = product_df['counts']\n",
    "\n",
    "# We need to sort the brands from highest to lowest reviews\n",
    "products = product.tolist()     # Convert to list to prevent issues sorting\n",
    "counts = count.tolist()\n",
    "\n",
    "# sorting the bars means sorting the range factors\n",
    "sorted_products = sorted(products, key=lambda x: counts[products.index(x)], reverse=False)\n",
    "\n",
    "\n",
    "p = figure(\n",
    "  y_range=sorted_products,\n",
    "  title = 'Top 20 Products with Most Reviews',\n",
    "  x_axis_label ='# of reviews',\n",
    "  plot_width=900,\n",
    "  plot_height=1000,\n",
    "  tools=\"\"\n",
    ")\n",
    "\n",
    "p.hbar(\n",
    "    y='title',\n",
    "    right='counts',\n",
    "    source=source,\n",
    "    left=0,\n",
    "    height=0.4,\n",
    "    color='blue',\n",
    "    fill_alpha=0.5\n",
    ")\n",
    "\n",
    "hover.tooltips=[('# of reviews', '@counts'),\n",
    "                ('product', '@title')]\n",
    "\n",
    "p.add_tools(hover)\n",
    "\n",
    "show(p)"
   ]
  },
  {
   "cell_type": "markdown",
   "metadata": {
    "colab_type": "text",
    "id": "qkUIOgoxux4p"
   },
   "source": [
    "most number of reviews - Waterpik Ultra Water Flosser\n",
    "\n",
    "least number of reviews - Philips Sonicare Sonis Electric Rechargeable Toothbrush "
   ]
  },
  {
   "cell_type": "markdown",
   "metadata": {
    "colab_type": "text",
    "id": "NDv1sNUkwyAb"
   },
   "source": [
    "### Number of ratings per year\n",
    "\n"
   ]
  },
  {
   "cell_type": "code",
   "execution_count": 27,
   "metadata": {
    "colab": {
     "base_uri": "https://localhost:8080/",
     "height": 539
    },
    "colab_type": "code",
    "id": "eZ-KzmVDT__U",
    "outputId": "04ef5ebc-1ed7-4ec1-fd0f-9faf34287096"
   },
   "outputs": [
    {
     "data": {
      "text/html": [
       "<div>\n",
       "<style scoped>\n",
       "    .dataframe tbody tr th:only-of-type {\n",
       "        vertical-align: middle;\n",
       "    }\n",
       "\n",
       "    .dataframe tbody tr th {\n",
       "        vertical-align: top;\n",
       "    }\n",
       "\n",
       "    .dataframe thead th {\n",
       "        text-align: right;\n",
       "    }\n",
       "</style>\n",
       "<table border=\"1\" class=\"dataframe\">\n",
       "  <thead>\n",
       "    <tr style=\"text-align: right;\">\n",
       "      <th></th>\n",
       "      <th>rating</th>\n",
       "      <th>verified</th>\n",
       "      <th>review_time</th>\n",
       "      <th>reviewer_id</th>\n",
       "      <th>product_id</th>\n",
       "      <th>reviewer_name</th>\n",
       "      <th>reviewer_text</th>\n",
       "      <th>summary</th>\n",
       "      <th>vote</th>\n",
       "      <th>title</th>\n",
       "      <th>...</th>\n",
       "      <th>rank</th>\n",
       "      <th>main_cat</th>\n",
       "      <th>description</th>\n",
       "      <th>also_view</th>\n",
       "      <th>also_buy</th>\n",
       "      <th>price</th>\n",
       "      <th>similar_item</th>\n",
       "      <th>details</th>\n",
       "      <th>year</th>\n",
       "      <th>month</th>\n",
       "    </tr>\n",
       "  </thead>\n",
       "  <tbody>\n",
       "    <tr>\n",
       "      <th>0</th>\n",
       "      <td>5</td>\n",
       "      <td>False</td>\n",
       "      <td>2000-06-03</td>\n",
       "      <td>A2XMFX1BR0IJFJ</td>\n",
       "      <td>0061073717</td>\n",
       "      <td>Jonathan Reed (jonathan.reed2@virgin.net)</td>\n",
       "      <td>This calender is brilliant and has plenty of g...</td>\n",
       "      <td>Futurama rules</td>\n",
       "      <td>2</td>\n",
       "      <td>Workout Headphones by Arena Essentials</td>\n",
       "      <td>...</td>\n",
       "      <td>3,235,148inBeautyamp;PersonalCare(</td>\n",
       "      <td>All Beauty</td>\n",
       "      <td>NaN</td>\n",
       "      <td>NaN</td>\n",
       "      <td>NaN</td>\n",
       "      <td>NaN</td>\n",
       "      <td>NaN</td>\n",
       "      <td>NaN</td>\n",
       "      <td>2000</td>\n",
       "      <td>6</td>\n",
       "    </tr>\n",
       "    <tr>\n",
       "      <th>7195</th>\n",
       "      <td>3</td>\n",
       "      <td>False</td>\n",
       "      <td>2000-12-27</td>\n",
       "      <td>A2JQJ540SQL126</td>\n",
       "      <td>B000050FED</td>\n",
       "      <td>Amazon Customer</td>\n",
       "      <td>This system does what it promises.. Removes ha...</td>\n",
       "      <td>Finally Free??</td>\n",
       "      <td>156</td>\n",
       "      <td>Finally Free F-140 Ultra-Permanent Hair Remova...</td>\n",
       "      <td>...</td>\n",
       "      <td>3,138,970inBeautyPersonalCare(</td>\n",
       "      <td>All Beauty</td>\n",
       "      <td>[\"This convenient hair removal system offers t...</td>\n",
       "      <td>NaN</td>\n",
       "      <td>NaN</td>\n",
       "      <td>NaN</td>\n",
       "      <td>NaN</td>\n",
       "      <td>\\n      &lt;div class=\"content\"&gt;\\n\\n\\n\\n\\n\\n\\n&lt;ul...</td>\n",
       "      <td>2000</td>\n",
       "      <td>12</td>\n",
       "    </tr>\n",
       "    <tr>\n",
       "      <th>5013</th>\n",
       "      <td>5</td>\n",
       "      <td>False</td>\n",
       "      <td>2000-01-10</td>\n",
       "      <td>AL2PQBKHP7LM4</td>\n",
       "      <td>3317005939</td>\n",
       "      <td>thomas e chorba</td>\n",
       "      <td>M (company) is about real people, and real exp...</td>\n",
       "      <td>Best book on Vietnam!</td>\n",
       "      <td>13</td>\n",
       "      <td>M.</td>\n",
       "      <td>...</td>\n",
       "      <td>3,349,014inBeautyamp;PersonalCare(</td>\n",
       "      <td>All Beauty</td>\n",
       "      <td>['M? scara Red SOS Anti unravels and moisturiz...</td>\n",
       "      <td>NaN</td>\n",
       "      <td>NaN</td>\n",
       "      <td>NaN</td>\n",
       "      <td>NaN</td>\n",
       "      <td>NaN</td>\n",
       "      <td>2000</td>\n",
       "      <td>1</td>\n",
       "    </tr>\n",
       "    <tr>\n",
       "      <th>5204</th>\n",
       "      <td>5</td>\n",
       "      <td>False</td>\n",
       "      <td>2000-11-27</td>\n",
       "      <td>A131YSUOCKTSXK</td>\n",
       "      <td>B000050B60</td>\n",
       "      <td>Amazon Customer</td>\n",
       "      <td>I got this for my fiance. he has the softest f...</td>\n",
       "      <td>Awesome</td>\n",
       "      <td>18</td>\n",
       "      <td>Norelco 4821XL Micro Action Corded/Cordless Re...</td>\n",
       "      <td>...</td>\n",
       "      <td>3,022,008inBeautyPersonalCare(</td>\n",
       "      <td>All Beauty</td>\n",
       "      <td>NaN</td>\n",
       "      <td>['B01859QG3W', 'B00JITDVD2']</td>\n",
       "      <td>NaN</td>\n",
       "      <td>NaN</td>\n",
       "      <td>NaN</td>\n",
       "      <td>\\n      &lt;div class=\"content\"&gt;\\n\\n\\n\\n\\n\\n\\n&lt;ul...</td>\n",
       "      <td>2000</td>\n",
       "      <td>11</td>\n",
       "    </tr>\n",
       "    <tr>\n",
       "      <th>5208</th>\n",
       "      <td>5</td>\n",
       "      <td>False</td>\n",
       "      <td>2000-10-29</td>\n",
       "      <td>A1U7T7UCCV3SBN</td>\n",
       "      <td>B000050B62</td>\n",
       "      <td>Afshin Azimi Taleghani</td>\n",
       "      <td>Very good shaver, I have always purchased Nore...</td>\n",
       "      <td>Fabulous Shaver</td>\n",
       "      <td>19</td>\n",
       "      <td>Norelco 5841XL Deluxe Reflex Action Cord/Cordl...</td>\n",
       "      <td>...</td>\n",
       "      <td>3,359,846inBeautyamp;PersonalCare(</td>\n",
       "      <td>All Beauty</td>\n",
       "      <td>['Model No. 5841XL. Rechargeable cord/cordless...</td>\n",
       "      <td>['B00JITDVD2']</td>\n",
       "      <td>NaN</td>\n",
       "      <td>NaN</td>\n",
       "      <td>NaN</td>\n",
       "      <td>\\n      &lt;div class=\"content\"&gt;\\n\\n\\n\\n\\n\\n\\n\\n\\...</td>\n",
       "      <td>2000</td>\n",
       "      <td>10</td>\n",
       "    </tr>\n",
       "  </tbody>\n",
       "</table>\n",
       "<p>5 rows × 21 columns</p>\n",
       "</div>"
      ],
      "text/plain": [
       "      rating  verified review_time     reviewer_id  product_id  \\\n",
       "0          5     False  2000-06-03  A2XMFX1BR0IJFJ  0061073717   \n",
       "7195       3     False  2000-12-27  A2JQJ540SQL126  B000050FED   \n",
       "5013       5     False  2000-01-10   AL2PQBKHP7LM4  3317005939   \n",
       "5204       5     False  2000-11-27  A131YSUOCKTSXK  B000050B60   \n",
       "5208       5     False  2000-10-29  A1U7T7UCCV3SBN  B000050B62   \n",
       "\n",
       "                                  reviewer_name  \\\n",
       "0     Jonathan Reed (jonathan.reed2@virgin.net)   \n",
       "7195                            Amazon Customer   \n",
       "5013                            thomas e chorba   \n",
       "5204                            Amazon Customer   \n",
       "5208                     Afshin Azimi Taleghani   \n",
       "\n",
       "                                          reviewer_text  \\\n",
       "0     This calender is brilliant and has plenty of g...   \n",
       "7195  This system does what it promises.. Removes ha...   \n",
       "5013  M (company) is about real people, and real exp...   \n",
       "5204  I got this for my fiance. he has the softest f...   \n",
       "5208  Very good shaver, I have always purchased Nore...   \n",
       "\n",
       "                    summary vote  \\\n",
       "0            Futurama rules    2   \n",
       "7195         Finally Free??  156   \n",
       "5013  Best book on Vietnam!   13   \n",
       "5204                Awesome   18   \n",
       "5208        Fabulous Shaver   19   \n",
       "\n",
       "                                                  title  ...  \\\n",
       "0                Workout Headphones by Arena Essentials  ...   \n",
       "7195  Finally Free F-140 Ultra-Permanent Hair Remova...  ...   \n",
       "5013                                                 M.  ...   \n",
       "5204  Norelco 4821XL Micro Action Corded/Cordless Re...  ...   \n",
       "5208  Norelco 5841XL Deluxe Reflex Action Cord/Cordl...  ...   \n",
       "\n",
       "                                    rank    main_cat  \\\n",
       "0     3,235,148inBeautyamp;PersonalCare(  All Beauty   \n",
       "7195      3,138,970inBeautyPersonalCare(  All Beauty   \n",
       "5013  3,349,014inBeautyamp;PersonalCare(  All Beauty   \n",
       "5204      3,022,008inBeautyPersonalCare(  All Beauty   \n",
       "5208  3,359,846inBeautyamp;PersonalCare(  All Beauty   \n",
       "\n",
       "                                            description  \\\n",
       "0                                                   NaN   \n",
       "7195  [\"This convenient hair removal system offers t...   \n",
       "5013  ['M? scara Red SOS Anti unravels and moisturiz...   \n",
       "5204                                                NaN   \n",
       "5208  ['Model No. 5841XL. Rechargeable cord/cordless...   \n",
       "\n",
       "                         also_view also_buy price similar_item  \\\n",
       "0                              NaN      NaN   NaN          NaN   \n",
       "7195                           NaN      NaN   NaN          NaN   \n",
       "5013                           NaN      NaN   NaN          NaN   \n",
       "5204  ['B01859QG3W', 'B00JITDVD2']      NaN   NaN          NaN   \n",
       "5208                ['B00JITDVD2']      NaN   NaN          NaN   \n",
       "\n",
       "                                                details  year  month  \n",
       "0                                                   NaN  2000      6  \n",
       "7195  \\n      <div class=\"content\">\\n\\n\\n\\n\\n\\n\\n<ul...  2000     12  \n",
       "5013                                                NaN  2000      1  \n",
       "5204  \\n      <div class=\"content\">\\n\\n\\n\\n\\n\\n\\n<ul...  2000     11  \n",
       "5208  \\n      <div class=\"content\">\\n\\n\\n\\n\\n\\n\\n\\n\\...  2000     10  \n",
       "\n",
       "[5 rows x 21 columns]"
      ]
     },
     "execution_count": 27,
     "metadata": {},
     "output_type": "execute_result"
    }
   ],
   "source": [
    "df.sort_values(by='year').head()"
   ]
  },
  {
   "cell_type": "markdown",
   "metadata": {
    "colab_type": "text",
    "id": "l9YY6Jfp0rfv"
   },
   "source": [
    "\n",
    "# Statistical Inference"
   ]
  },
  {
   "cell_type": "markdown",
   "metadata": {
    "colab": {},
    "colab_type": "code",
    "id": "m9qPAMUV0klr"
   },
   "source": [
    "- Get the confidence interval of the mean/median of the whole dataset. Use bootstrap (check mini-project)\n",
    "- What is the best way to adjust the average score per item in order to take into account the number of scores it received?\n",
    "\n",
    "- How to get the confidence interval using only the sample size?\n",
    "\n",
    "- https://www.evanmiller.org/how-not-to-sort-by-average-rating.html ---> this is basically breaking the 1-5 reviews into \"good\" and \"bad\"."
   ]
  },
  {
   "cell_type": "code",
   "execution_count": 28,
   "metadata": {},
   "outputs": [],
   "source": [
    "# df['rating'][:5].tolist()"
   ]
  },
  {
   "cell_type": "code",
   "execution_count": 29,
   "metadata": {},
   "outputs": [],
   "source": [
    "# We can set 3.0 as the cutoff between good and bad reviews\n",
    "\n",
    "\n",
    "# pos_neg_review_scores = list(\n",
    "#     map(lambda sc: [s >= 4 for s in sc], df.rating.tolist())\n",
    "# )\n"
   ]
  },
  {
   "cell_type": "markdown",
   "metadata": {
    "colab_type": "text",
    "id": "FvIZ573NrNBe"
   },
   "source": [
    "# Machine learning "
   ]
  },
  {
   "cell_type": "code",
   "execution_count": 30,
   "metadata": {
    "colab": {
     "base_uri": "https://localhost:8080/",
     "height": 424
    },
    "colab_type": "code",
    "id": "3RGEgAI_41Jh",
    "outputId": "ba79f4e7-1e8a-4329-f0d4-07bccaf93909"
   },
   "outputs": [
    {
     "data": {
      "text/html": [
       "<div>\n",
       "<style scoped>\n",
       "    .dataframe tbody tr th:only-of-type {\n",
       "        vertical-align: middle;\n",
       "    }\n",
       "\n",
       "    .dataframe tbody tr th {\n",
       "        vertical-align: top;\n",
       "    }\n",
       "\n",
       "    .dataframe thead th {\n",
       "        text-align: right;\n",
       "    }\n",
       "</style>\n",
       "<table border=\"1\" class=\"dataframe\">\n",
       "  <thead>\n",
       "    <tr style=\"text-align: right;\">\n",
       "      <th></th>\n",
       "      <th>rating</th>\n",
       "      <th>reviewer_id</th>\n",
       "      <th>product_id</th>\n",
       "    </tr>\n",
       "  </thead>\n",
       "  <tbody>\n",
       "    <tr>\n",
       "      <th>0</th>\n",
       "      <td>5</td>\n",
       "      <td>A2XMFX1BR0IJFJ</td>\n",
       "      <td>0061073717</td>\n",
       "    </tr>\n",
       "    <tr>\n",
       "      <th>1</th>\n",
       "      <td>5</td>\n",
       "      <td>ATKPYXA8XFKGJ</td>\n",
       "      <td>0061073717</td>\n",
       "    </tr>\n",
       "    <tr>\n",
       "      <th>2</th>\n",
       "      <td>1</td>\n",
       "      <td>A1V6B6TNIC10QE</td>\n",
       "      <td>0143026860</td>\n",
       "    </tr>\n",
       "    <tr>\n",
       "      <th>3</th>\n",
       "      <td>4</td>\n",
       "      <td>A2F5GHSXFQ0W6J</td>\n",
       "      <td>0143026860</td>\n",
       "    </tr>\n",
       "    <tr>\n",
       "      <th>4</th>\n",
       "      <td>4</td>\n",
       "      <td>A1572GUYS7DGSR</td>\n",
       "      <td>0143026860</td>\n",
       "    </tr>\n",
       "    <tr>\n",
       "      <th>...</th>\n",
       "      <td>...</td>\n",
       "      <td>...</td>\n",
       "      <td>...</td>\n",
       "    </tr>\n",
       "    <tr>\n",
       "      <th>371340</th>\n",
       "      <td>1</td>\n",
       "      <td>A202DCI7TV1022</td>\n",
       "      <td>B01HJEGTYK</td>\n",
       "    </tr>\n",
       "    <tr>\n",
       "      <th>371341</th>\n",
       "      <td>5</td>\n",
       "      <td>A3FSOR5IJOFIBE</td>\n",
       "      <td>B01HJEGTYK</td>\n",
       "    </tr>\n",
       "    <tr>\n",
       "      <th>371342</th>\n",
       "      <td>5</td>\n",
       "      <td>A1B5DK6CTP2P24</td>\n",
       "      <td>B01HJEGTYK</td>\n",
       "    </tr>\n",
       "    <tr>\n",
       "      <th>371343</th>\n",
       "      <td>2</td>\n",
       "      <td>A23OUYS5IRMJS9</td>\n",
       "      <td>B01HJEGTYK</td>\n",
       "    </tr>\n",
       "    <tr>\n",
       "      <th>371344</th>\n",
       "      <td>2</td>\n",
       "      <td>A24KQ9RVU81L87</td>\n",
       "      <td>B01HJEGTYK</td>\n",
       "    </tr>\n",
       "  </tbody>\n",
       "</table>\n",
       "<p>371345 rows × 3 columns</p>\n",
       "</div>"
      ],
      "text/plain": [
       "        rating     reviewer_id  product_id\n",
       "0            5  A2XMFX1BR0IJFJ  0061073717\n",
       "1            5   ATKPYXA8XFKGJ  0061073717\n",
       "2            1  A1V6B6TNIC10QE  0143026860\n",
       "3            4  A2F5GHSXFQ0W6J  0143026860\n",
       "4            4  A1572GUYS7DGSR  0143026860\n",
       "...        ...             ...         ...\n",
       "371340       1  A202DCI7TV1022  B01HJEGTYK\n",
       "371341       5  A3FSOR5IJOFIBE  B01HJEGTYK\n",
       "371342       5  A1B5DK6CTP2P24  B01HJEGTYK\n",
       "371343       2  A23OUYS5IRMJS9  B01HJEGTYK\n",
       "371344       2  A24KQ9RVU81L87  B01HJEGTYK\n",
       "\n",
       "[371345 rows x 3 columns]"
      ]
     },
     "execution_count": 30,
     "metadata": {},
     "output_type": "execute_result"
    }
   ],
   "source": [
    "data = df[['rating', 'reviewer_id', 'product_id']]\n",
    "# len(df['asin'].value_counts()), len(df['reviewerID'].value_counts())\n",
    "data"
   ]
  },
  {
   "cell_type": "markdown",
   "metadata": {
    "colab_type": "text",
    "id": "M7A6JFHNHgq_"
   },
   "source": [
    "### Numpy Normalized product matrix\n",
    "\n",
    "## Create a user-product matrix of of the over-all rates"
   ]
  },
  {
   "cell_type": "code",
   "execution_count": 31,
   "metadata": {
    "colab": {
     "base_uri": "https://localhost:8080/",
     "height": 234
    },
    "colab_type": "code",
    "id": "aPHJQ5YBHu_a",
    "outputId": "caea6930-8511-46eb-82b3-7d5061d7334a"
   },
   "outputs": [],
   "source": [
    "# from https://analyticsindiamag.com/singular-value-decomposition-svd-application-recommender-system/\n",
    "\n",
    "\n",
    "# # This code crashes whenever I run this:\n",
    "# ratings_mat = np.ndarray(\n",
    "#     shape=(len(df['reviewerID']), len(df['asin'])),\n",
    "#     dtype=np.uint8)\n",
    "\n",
    "# ratings_mat[data.reviewerID.values-1, data.asin.values-1] = data.overall.values # I want to understand how this code works\n",
    "# ratings_mat, np.shape(ratings_mat)"
   ]
  },
  {
   "cell_type": "markdown",
   "metadata": {},
   "source": [
    "### Ana's code : "
   ]
  },
  {
   "cell_type": "code",
   "execution_count": 32,
   "metadata": {},
   "outputs": [
    {
     "data": {
      "text/plain": [
       "<32586x371345 sparse matrix of type '<class 'numpy.longlong'>'\n",
       "\twith 361605 stored elements in Compressed Sparse Row format>"
      ]
     },
     "execution_count": 32,
     "metadata": {},
     "output_type": "execute_result"
    }
   ],
   "source": [
    "from scipy.sparse import csr_matrix\n",
    "from pandas.api.types import CategoricalDtype\n",
    "\n",
    "reviewers = data['reviewer_id'].unique().tolist()\n",
    "products = data['product_id'].unique().tolist()\n",
    "reviews = data['rating'].tolist()\n",
    "\n",
    "row = data.product_id.astype(CategoricalDtype(categories=products)).cat.codes\n",
    "\n",
    "col = data.reviewer_id.astype(CategoricalDtype(categories=reviewers)).cat.codes\n",
    "\n",
    "sparse_matrix = csr_matrix((reviews, (row, col)), shape=(len(products), len(reviews)))\n",
    "sparse_matrix"
   ]
  },
  {
   "cell_type": "code",
   "execution_count": 33,
   "metadata": {},
   "outputs": [],
   "source": [
    "# Initiating DF from the matrix\n",
    "\n",
    "\n",
    "# dfs = pd.SparseDataFrame(sparse_matrix, \\\n",
    "#                          index=row.categories, \\\n",
    "#                          columns=col.categories)"
   ]
  },
  {
   "cell_type": "code",
   "execution_count": 34,
   "metadata": {},
   "outputs": [
    {
     "data": {
      "text/plain": [
       "<pandas.core.arrays.categorical.CategoricalAccessor object at 0x7fe7a6605090>"
      ]
     },
     "execution_count": 34,
     "metadata": {},
     "output_type": "execute_result"
    }
   ],
   "source": [
    "d = data.product_id.astype(CategoricalDtype(categories=products))\n",
    "d.cat"
   ]
  },
  {
   "cell_type": "code",
   "execution_count": 35,
   "metadata": {},
   "outputs": [
    {
     "data": {
      "text/plain": [
       "0             0\n",
       "1             0\n",
       "2             1\n",
       "3             1\n",
       "4             1\n",
       "          ...  \n",
       "371340    32585\n",
       "371341    32585\n",
       "371342    32585\n",
       "371343    32585\n",
       "371344    32585\n",
       "Length: 371345, dtype: int16"
      ]
     },
     "execution_count": 35,
     "metadata": {},
     "output_type": "execute_result"
    }
   ],
   "source": [
    "col.value_counts(), df['reviewer_id'].value_counts()\n",
    "row"
   ]
  },
  {
   "cell_type": "code",
   "execution_count": 36,
   "metadata": {
    "colab": {
     "base_uri": "https://localhost:8080/",
     "height": 199
    },
    "colab_type": "code",
    "id": "CEw2W8OCIVsc",
    "outputId": "24c1775d-5b48-4c08-ebac-46dc7e29740c"
   },
   "outputs": [
    {
     "data": {
      "text/plain": [
       "(324038, 32586)"
      ]
     },
     "execution_count": 36,
     "metadata": {},
     "output_type": "execute_result"
    }
   ],
   "source": [
    "n_users = data.reviewer_id.unique().shape[0]\n",
    "n_items = data.product_id.unique().shape[0]\n",
    "n_users, n_items\n",
    "\n",
    "\n",
    "# # This code crashes whenever I run this:\n",
    "\n",
    "\n",
    "# data_matrix = np.zeros((n_users, n_items))\n",
    "\n",
    "# # Maybe the same as the cell above?\n",
    "# for line in ratings.itertuples():\n",
    "#     data_matrix[line[1]-1, line[2]-1] = line[3]"
   ]
  },
  {
   "cell_type": "code",
   "execution_count": 37,
   "metadata": {},
   "outputs": [],
   "source": [
    "user_c = CategoricalDtype(sorted(df.reviewer_id.unique()), ordered=True)\n",
    "movie_c = CategoricalDtype(sorted(df.product_id.unique()), ordered=True)\n",
    "\n",
    "row = df.reviewer_id.astype(user_c).cat.codes\n",
    "col = df.product_id.astype(movie_c).cat.codes\n",
    "sparse_matrix = csr_matrix((df['rating'], (row, col)), \\\n",
    "                           shape=(user_c.categories.size, movie_c.categories.size))\n"
   ]
  },
  {
   "cell_type": "code",
   "execution_count": null,
   "metadata": {},
   "outputs": [],
   "source": []
  },
  {
   "cell_type": "markdown",
   "metadata": {
    "colab_type": "text",
    "id": "KD8MoQCvKqiv"
   },
   "source": [
    "## Pivot Table\n",
    "\n",
    "## Not showing the entire products"
   ]
  },
  {
   "cell_type": "code",
   "execution_count": 38,
   "metadata": {
    "colab": {
     "base_uri": "https://localhost:8080/",
     "height": 34
    },
    "colab_type": "code",
    "id": "nV2MIDx8aXox",
    "outputId": "b6e6225a-2af2-4e8c-b1a2-419f5971e6a8"
   },
   "outputs": [],
   "source": [
    "# data = df[['rating', 'reviewer_id', 'product_id']]\n",
    "# data_table = pd.pivot_table(data,index=[\"reviewer_id\"], columns=[\"product_id\"], values=['rating'], fill_value=0)\n",
    "# data_table\n",
    "\n",
    "# # data.reviewerID.unique().shape[0]"
   ]
  },
  {
   "cell_type": "markdown",
   "metadata": {
    "colab_type": "text",
    "id": "LLn0WSfkyXR4"
   },
   "source": [
    "### Resampling frequent reviewers\n",
    "\n",
    "#### Applying recommender system on frequent reviewers >4 reviews"
   ]
  },
  {
   "cell_type": "code",
   "execution_count": 39,
   "metadata": {
    "colab": {
     "base_uri": "https://localhost:8080/",
     "height": 225
    },
    "colab_type": "code",
    "id": "x6mky7wHyXew",
    "outputId": "e85b5541-7491-418c-acdf-5ea1c77b3f7f"
   },
   "outputs": [],
   "source": [
    "# # frequency = df['reviewerID'].value_counts()\n",
    "# frequent = (df['reviewerID'].value_counts()[df['reviewerID'].value_counts()> 5]).to_frame()\n",
    "# reviewers = frequent.reviewerID.to_list()\n",
    "# top = df['reviewerID'].isin(reviewers)\n",
    "# top"
   ]
  },
  {
   "cell_type": "code",
   "execution_count": null,
   "metadata": {
    "colab": {
     "base_uri": "https://localhost:8080/",
     "height": 744
    },
    "colab_type": "code",
    "id": "m7AUpSXDoPWh",
    "outputId": "b3e37e38-d89c-4c90-fd7b-a8fb7d785e6a"
   },
   "outputs": [],
   "source": []
  },
  {
   "cell_type": "code",
   "execution_count": null,
   "metadata": {
    "colab": {},
    "colab_type": "code",
    "id": "EabB1BbhzPwh"
   },
   "outputs": [],
   "source": []
  }
 ],
 "metadata": {
  "colab": {
   "collapsed_sections": [
    "ivXgmr3dTNUV",
    "FtcZdWCrkCfB"
   ],
   "name": "Amazon Beauty Products",
   "provenance": [],
   "toc_visible": true
  },
  "kernelspec": {
   "display_name": "Python 3",
   "language": "python",
   "name": "python3"
  },
  "language_info": {
   "codemirror_mode": {
    "name": "ipython",
    "version": 3
   },
   "file_extension": ".py",
   "mimetype": "text/x-python",
   "name": "python",
   "nbconvert_exporter": "python",
   "pygments_lexer": "ipython3",
   "version": "3.7.6"
  }
 },
 "nbformat": 4,
 "nbformat_minor": 1
}

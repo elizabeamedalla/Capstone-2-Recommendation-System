{
  "nbformat": 4,
  "nbformat_minor": 0,
  "metadata": {
    "colab": {
      "name": "Recommendation Engine - Surprise",
      "provenance": [],
      "collapsed_sections": [
        "oTuDgKRPSmaB",
        "jFBWvnn8Sr7h"
      ],
      "toc_visible": true,
      "machine_shape": "hm",
      "include_colab_link": true
    },
    "kernelspec": {
      "name": "python3",
      "display_name": "Python 3"
    }
  },
  "cells": [
    {
      "cell_type": "markdown",
      "metadata": {
        "id": "view-in-github",
        "colab_type": "text"
      },
      "source": [
        "<a href=\"https://colab.research.google.com/github/elizabeamedalla/Capstone-2-Recommendation-System/blob/master/Recommendation_Engine_Surprise.ipynb\" target=\"_parent\"><img src=\"https://colab.research.google.com/assets/colab-badge.svg\" alt=\"Open In Colab\"/></a>"
      ]
    },
    {
      "cell_type": "markdown",
      "metadata": {
        "id": "W412AALZSMjt",
        "colab_type": "text"
      },
      "source": [
        "Source: https://bmanohar16.github.io/blog/recsys-evaluation-in-surprise\n"
      ]
    },
    {
      "cell_type": "code",
      "metadata": {
        "id": "CczEs_1tOtne",
        "colab_type": "code",
        "colab": {}
      },
      "source": [
        "# fastmode = True"
      ],
      "execution_count": null,
      "outputs": []
    },
    {
      "cell_type": "markdown",
      "metadata": {
        "id": "oTuDgKRPSmaB",
        "colab_type": "text"
      },
      "source": [
        "# Import packages"
      ]
    },
    {
      "cell_type": "code",
      "metadata": {
        "id": "-Rn98llESJzD",
        "colab_type": "code",
        "colab": {
          "base_uri": "https://localhost:8080/",
          "height": 315
        },
        "outputId": "2334788d-45b2-4fb0-ebb8-3687b275f385"
      },
      "source": [
        "import os\n",
        "import gzip\n",
        "import json\n",
        "!pip install surprise\n",
        "#!pip install scikit-surprise # if the first line does not work\n",
        "\n",
        "import pandas as pd\n",
        "import numpy as np\n",
        "\n",
        "import matplotlib.pyplot as plt\n",
        "%matplotlib inline\n",
        "\n",
        "import surprise\n",
        "from surprise import Dataset\n",
        "from surprise import Reader\n",
        "from surprise import accuracy\n",
        "from surprise.model_selection import cross_validate, train_test_split\n",
        "from surprise.model_selection import GridSearchCV\n",
        "from surprise import KNNBasic, KNNWithMeans, KNNWithZScore\n",
        "from surprise import SVD, SVDpp, NMF\n",
        "from surprise import SlopeOne, CoClustering"
      ],
      "execution_count": 1,
      "outputs": [
        {
          "output_type": "stream",
          "text": [
            "Collecting surprise\n",
            "  Downloading https://files.pythonhosted.org/packages/61/de/e5cba8682201fcf9c3719a6fdda95693468ed061945493dea2dd37c5618b/surprise-0.1-py2.py3-none-any.whl\n",
            "Collecting scikit-surprise\n",
            "\u001b[?25l  Downloading https://files.pythonhosted.org/packages/97/37/5d334adaf5ddd65da99fc65f6507e0e4599d092ba048f4302fe8775619e8/scikit-surprise-1.1.1.tar.gz (11.8MB)\n",
            "\u001b[K     |████████████████████████████████| 11.8MB 348kB/s \n",
            "\u001b[?25hRequirement already satisfied: joblib>=0.11 in /usr/local/lib/python3.6/dist-packages (from scikit-surprise->surprise) (0.16.0)\n",
            "Requirement already satisfied: numpy>=1.11.2 in /usr/local/lib/python3.6/dist-packages (from scikit-surprise->surprise) (1.18.5)\n",
            "Requirement already satisfied: scipy>=1.0.0 in /usr/local/lib/python3.6/dist-packages (from scikit-surprise->surprise) (1.4.1)\n",
            "Requirement already satisfied: six>=1.10.0 in /usr/local/lib/python3.6/dist-packages (from scikit-surprise->surprise) (1.15.0)\n",
            "Building wheels for collected packages: scikit-surprise\n",
            "  Building wheel for scikit-surprise (setup.py) ... \u001b[?25l\u001b[?25hdone\n",
            "  Created wheel for scikit-surprise: filename=scikit_surprise-1.1.1-cp36-cp36m-linux_x86_64.whl size=1670911 sha256=56865b05088f6847e8ab42ddff322b509dfc590520f8f88c2ffb6f4836a3155f\n",
            "  Stored in directory: /root/.cache/pip/wheels/78/9c/3d/41b419c9d2aff5b6e2b4c0fc8d25c538202834058f9ed110d0\n",
            "Successfully built scikit-surprise\n",
            "Installing collected packages: scikit-surprise, surprise\n",
            "Successfully installed scikit-surprise-1.1.1 surprise-0.1\n"
          ],
          "name": "stdout"
        }
      ]
    },
    {
      "cell_type": "markdown",
      "metadata": {
        "id": "Ju5C5KqqSqJj",
        "colab_type": "text"
      },
      "source": [
        "# Create Dataframe\n"
      ]
    },
    {
      "cell_type": "markdown",
      "metadata": {
        "id": "jFBWvnn8Sr7h",
        "colab_type": "text"
      },
      "source": [
        "## Load Data"
      ]
    },
    {
      "cell_type": "code",
      "metadata": {
        "id": "sbB8UurOSzNx",
        "colab_type": "code",
        "colab": {
          "base_uri": "https://localhost:8080/"
        },
        "outputId": "d70ed1e6-d7af-4263-9e0f-2b944b03fb21"
      },
      "source": [
        "!wget http://deepyeti.ucsd.edu/jianmo/amazon/metaFiles/meta_All_Beauty.json.gz # Metadata\n",
        "!wget http://deepyeti.ucsd.edu/jianmo/amazon/categoryFiles/All_Beauty.json.gz # Review Data\n",
        "\n",
        "### load the meta data\n",
        "meta = []\n",
        "reviews = []\n",
        "\n",
        "# Beauty products metadata\n",
        "with gzip.open('meta_All_Beauty.json.gz') as f:\n",
        "    for l in f:\n",
        "        meta.append(json.loads(l.strip()))\n",
        "\n",
        "# Beauty products reviews\n",
        "with gzip.open('All_Beauty.json.gz') as f:\n",
        "    for l in f:\n",
        "        reviews.append(json.loads(l.strip()))\n",
        "\n",
        "df_meta = pd.DataFrame.from_dict(meta)\n",
        "df_reviews = pd.DataFrame.from_dict(reviews)\n",
        "\n",
        "# Reset meta and reviews array\n",
        "meta = None\n",
        "reviews = None"
      ],
      "execution_count": null,
      "outputs": [
        {
          "output_type": "stream",
          "text": [
            "--2020-09-13 00:59:27--  http://deepyeti.ucsd.edu/jianmo/amazon/metaFiles/meta_All_Beauty.json.gz\n",
            "Resolving deepyeti.ucsd.edu (deepyeti.ucsd.edu)... 169.228.63.50\n",
            "Connecting to deepyeti.ucsd.edu (deepyeti.ucsd.edu)|169.228.63.50|:80... connected.\n",
            "HTTP request sent, awaiting response... 200 OK\n",
            "Length: 10032305 (9.6M) [application/octet-stream]\n",
            "Saving to: ‘meta_All_Beauty.json.gz.1’\n",
            "\n",
            "meta_All_Beauty.jso 100%[===================>]   9.57M  19.7MB/s    in 0.5s    \n",
            "\n",
            "2020-09-13 00:59:28 (19.7 MB/s) - ‘meta_All_Beauty.json.gz.1’ saved [10032305/10032305]\n",
            "\n",
            "--2020-09-13 00:59:28--  http://deepyeti.ucsd.edu/jianmo/amazon/categoryFiles/All_Beauty.json.gz\n",
            "Resolving deepyeti.ucsd.edu (deepyeti.ucsd.edu)... 169.228.63.50\n",
            "Connecting to deepyeti.ucsd.edu (deepyeti.ucsd.edu)|169.228.63.50|:80... connected.\n",
            "HTTP request sent, awaiting response... 200 OK\n",
            "Length: 47350910 (45M) [application/octet-stream]\n",
            "Saving to: ‘All_Beauty.json.gz.1’\n",
            "\n",
            "All_Beauty.json.gz. 100%[===================>]  45.16M  38.7MB/s    in 1.2s    \n",
            "\n",
            "2020-09-13 00:59:29 (38.7 MB/s) - ‘All_Beauty.json.gz.1’ saved [47350910/47350910]\n",
            "\n"
          ],
          "name": "stdout"
        }
      ]
    },
    {
      "cell_type": "markdown",
      "metadata": {
        "id": "YfcVrQrhSujj",
        "colab_type": "text"
      },
      "source": [
        "## Clean Data"
      ]
    },
    {
      "cell_type": "code",
      "metadata": {
        "id": "0veWIKlMS7Vy",
        "colab_type": "code",
        "colab": {
          "base_uri": "https://localhost:8080/"
        },
        "outputId": "219defed-6f56-4560-e258-95c0766d7ea7"
      },
      "source": [
        "#drop duplicates\n",
        "df_meta = df_meta.drop_duplicates('asin', keep=\"first\")\n",
        "\n",
        "# filling the NaN values\n",
        "df_reviews = df_reviews.fillna('NaN')\n",
        "\n",
        "## remove rows with unformatted title (i.e. some 'title' may still contain html style content)\n",
        "df_meta = df_meta.fillna('NaN')\n",
        "\n",
        "# converting to 'reviewTime' to datetime format\n",
        "df_reviews['reviewTime'] = pd.to_datetime(df_reviews['reviewTime'])\n",
        "df_reviews['unixReviewTime'] = pd.to_datetime(df_reviews['unixReviewTime'],unit='s')\n",
        "\n",
        "# merging 2 df together and selecting only relevant columns\n",
        "data = pd.merge(df_reviews, df_meta, on='asin', sort='reviewTime')\n",
        "data = data.drop(columns=['style', 'image_x', 'image_y', 'feature', 'tech1', 'date', 'unixReviewTime'])\n",
        "\n",
        "# renaming columns\n",
        "rename_dict = {\n",
        "    \"overall\": \"rating\", \n",
        "    \"asin\": \"product_id\",\n",
        "    \"reviewTime\": \"review_time\",\n",
        "    \"reviewerID\": \"reviewer_id\",\n",
        "    \"reviewerName\": \"reviewer_name\",\n",
        "    \"reviewText\": \"reviewer_text\"  \n",
        "}\n",
        "\n",
        "data = data.rename(columns=rename_dict)\n",
        "data = data[['rating', 'reviewer_id', 'product_id', 'title']]\n",
        "\n",
        "# Reset df_reviews and df_meta\n",
        "# df_reviews = None\n",
        "# df_meta = None\n",
        "\n",
        "data.info(verbose=True, memory_usage=\"deep\")"
      ],
      "execution_count": null,
      "outputs": [
        {
          "output_type": "stream",
          "text": [
            "<class 'pandas.core.frame.DataFrame'>\n",
            "Int64Index: 366223 entries, 0 to 366222\n",
            "Data columns (total 4 columns):\n",
            " #   Column       Non-Null Count   Dtype  \n",
            "---  ------       --------------   -----  \n",
            " 0   rating       366223 non-null  float64\n",
            " 1   reviewer_id  366223 non-null  object \n",
            " 2   product_id   366223 non-null  object \n",
            " 3   title        366223 non-null  object \n",
            "dtypes: float64(1), object(3)\n",
            "memory usage: 101.4 MB\n"
          ],
          "name": "stdout"
        }
      ]
    },
    {
      "cell_type": "markdown",
      "metadata": {
        "id": "QYAXbickTBEq",
        "colab_type": "text"
      },
      "source": [
        "Reduce memory usage of data by changing the dtype\n",
        "https://pythonspeed.com/articles/pandas-load-less-data/"
      ]
    },
    {
      "cell_type": "code",
      "metadata": {
        "id": "JmvH49M9S8Ne",
        "colab_type": "code",
        "colab": {
          "base_uri": "https://localhost:8080/"
        },
        "outputId": "c2a6ce0d-2055-48a8-8de6-d8d0e80067bf"
      },
      "source": [
        "data['rating'] = data['rating'].astype('int8')\n",
        "data['reviewer_id'] = data['reviewer_id'].astype('string')\n",
        "data['product_id'] = data['product_id'].astype('string')\n",
        "data['title'] = data['title'].astype('string')\n",
        "data.info(verbose=True, memory_usage=\"deep\")"
      ],
      "execution_count": null,
      "outputs": [
        {
          "output_type": "stream",
          "text": [
            "<class 'pandas.core.frame.DataFrame'>\n",
            "Int64Index: 366223 entries, 0 to 366222\n",
            "Data columns (total 4 columns):\n",
            " #   Column       Non-Null Count   Dtype \n",
            "---  ------       --------------   ----- \n",
            " 0   rating       366223 non-null  int8  \n",
            " 1   reviewer_id  366223 non-null  string\n",
            " 2   product_id   366223 non-null  string\n",
            " 3   title        366223 non-null  string\n",
            "dtypes: int8(1), string(3)\n",
            "memory usage: 11.5 MB\n"
          ],
          "name": "stdout"
        }
      ]
    },
    {
      "cell_type": "markdown",
      "metadata": {
        "id": "PlrqOYgyTOxf",
        "colab_type": "text"
      },
      "source": [
        "Filter the dataset to include only the top 20k reviewers"
      ]
    },
    {
      "cell_type": "code",
      "metadata": {
        "id": "jAYEyIgBTMp3",
        "colab_type": "code",
        "colab": {
          "base_uri": "https://localhost:8080/"
        },
        "outputId": "80a6db93-0748-443c-86b9-7f076e612cc7"
      },
      "source": [
        "num_reviewers = 20000\n",
        "top_reviewers = list(data.reviewer_id.value_counts().head(num_reviewers).index)\n",
        "data = data[data['reviewer_id'].isin(top_reviewers)]\n",
        "\n",
        "# Reset top_reviewers\n",
        "top_reviewers = None\n",
        "\n",
        "data.info(verbose=True, memory_usage=\"deep\")"
      ],
      "execution_count": null,
      "outputs": [
        {
          "output_type": "stream",
          "text": [
            "<class 'pandas.core.frame.DataFrame'>\n",
            "Int64Index: 50988 entries, 1 to 366222\n",
            "Data columns (total 4 columns):\n",
            " #   Column       Non-Null Count  Dtype \n",
            "---  ------       --------------  ----- \n",
            " 0   rating       50988 non-null  int8  \n",
            " 1   reviewer_id  50988 non-null  string\n",
            " 2   product_id   50988 non-null  string\n",
            " 3   title        50988 non-null  string\n",
            "dtypes: int8(1), string(3)\n",
            "memory usage: 1.6 MB\n"
          ],
          "name": "stdout"
        }
      ]
    },
    {
      "cell_type": "markdown",
      "metadata": {
        "id": "2BNLyCcuT8w3",
        "colab_type": "text"
      },
      "source": [
        "# Inspect Data"
      ]
    },
    {
      "cell_type": "code",
      "metadata": {
        "id": "sG26cy7zVah7",
        "colab_type": "code",
        "colab": {
          "base_uri": "https://localhost:8080/",
          "height": 206
        },
        "outputId": "dfa653e5-2ff6-4cef-c116-b609d349be29"
      },
      "source": [
        "data.head()"
      ],
      "execution_count": null,
      "outputs": [
        {
          "output_type": "execute_result",
          "data": {
            "text/html": [
              "<div>\n",
              "<style scoped>\n",
              "    .dataframe tbody tr th:only-of-type {\n",
              "        vertical-align: middle;\n",
              "    }\n",
              "\n",
              "    .dataframe tbody tr th {\n",
              "        vertical-align: top;\n",
              "    }\n",
              "\n",
              "    .dataframe thead th {\n",
              "        text-align: right;\n",
              "    }\n",
              "</style>\n",
              "<table border=\"1\" class=\"dataframe\">\n",
              "  <thead>\n",
              "    <tr style=\"text-align: right;\">\n",
              "      <th></th>\n",
              "      <th>rating</th>\n",
              "      <th>reviewer_id</th>\n",
              "      <th>product_id</th>\n",
              "      <th>title</th>\n",
              "    </tr>\n",
              "  </thead>\n",
              "  <tbody>\n",
              "    <tr>\n",
              "      <th>1</th>\n",
              "      <td>1</td>\n",
              "      <td>A1OMHUU58XHQNG</td>\n",
              "      <td>6546546450</td>\n",
              "      <td>Loud 'N Clear&amp;trade; Personal Sound Amplifier</td>\n",
              "    </tr>\n",
              "    <tr>\n",
              "      <th>19</th>\n",
              "      <td>5</td>\n",
              "      <td>A21ZAW5THHFM96</td>\n",
              "      <td>7414204790</td>\n",
              "      <td>Lacto Calamine Skin Balance Oil control 120 ml...</td>\n",
              "    </tr>\n",
              "    <tr>\n",
              "      <th>20</th>\n",
              "      <td>5</td>\n",
              "      <td>AA0ACUPEPT1RN</td>\n",
              "      <td>7535842801</td>\n",
              "      <td>Mary Kay Satin Hands Hand Cream Travel MINI Si...</td>\n",
              "    </tr>\n",
              "    <tr>\n",
              "      <th>28</th>\n",
              "      <td>5</td>\n",
              "      <td>A3DNSZT2HIB30J</td>\n",
              "      <td>7535842801</td>\n",
              "      <td>Mary Kay Satin Hands Hand Cream Travel MINI Si...</td>\n",
              "    </tr>\n",
              "    <tr>\n",
              "      <th>46</th>\n",
              "      <td>5</td>\n",
              "      <td>A2T34FXFYVZCL1</td>\n",
              "      <td>8867326759</td>\n",
              "      <td>Moleskine Payne's Grey Card Wallet (Moleskine ...</td>\n",
              "    </tr>\n",
              "  </tbody>\n",
              "</table>\n",
              "</div>"
            ],
            "text/plain": [
              "    rating  ...                                              title\n",
              "1        1  ...      Loud 'N Clear&trade; Personal Sound Amplifier\n",
              "19       5  ...  Lacto Calamine Skin Balance Oil control 120 ml...\n",
              "20       5  ...  Mary Kay Satin Hands Hand Cream Travel MINI Si...\n",
              "28       5  ...  Mary Kay Satin Hands Hand Cream Travel MINI Si...\n",
              "46       5  ...  Moleskine Payne's Grey Card Wallet (Moleskine ...\n",
              "\n",
              "[5 rows x 4 columns]"
            ]
          },
          "metadata": {
            "tags": []
          },
          "execution_count": 7
        }
      ]
    },
    {
      "cell_type": "markdown",
      "metadata": {
        "id": "cE8QdMOcW_jY",
        "colab_type": "text"
      },
      "source": [
        "## Basic Stats of Review Ratings"
      ]
    },
    {
      "cell_type": "code",
      "metadata": {
        "id": "BHPMq9FhT_BZ",
        "colab_type": "code",
        "colab": {
          "base_uri": "https://localhost:8080/",
          "height": 300
        },
        "outputId": "6350b31c-c73f-418f-cc02-fd3fa21de169"
      },
      "source": [
        "data.describe()"
      ],
      "execution_count": null,
      "outputs": [
        {
          "output_type": "execute_result",
          "data": {
            "text/html": [
              "<div>\n",
              "<style scoped>\n",
              "    .dataframe tbody tr th:only-of-type {\n",
              "        vertical-align: middle;\n",
              "    }\n",
              "\n",
              "    .dataframe tbody tr th {\n",
              "        vertical-align: top;\n",
              "    }\n",
              "\n",
              "    .dataframe thead th {\n",
              "        text-align: right;\n",
              "    }\n",
              "</style>\n",
              "<table border=\"1\" class=\"dataframe\">\n",
              "  <thead>\n",
              "    <tr style=\"text-align: right;\">\n",
              "      <th></th>\n",
              "      <th>rating</th>\n",
              "    </tr>\n",
              "  </thead>\n",
              "  <tbody>\n",
              "    <tr>\n",
              "      <th>count</th>\n",
              "      <td>50988.000000</td>\n",
              "    </tr>\n",
              "    <tr>\n",
              "      <th>mean</th>\n",
              "      <td>4.343198</td>\n",
              "    </tr>\n",
              "    <tr>\n",
              "      <th>std</th>\n",
              "      <td>1.156353</td>\n",
              "    </tr>\n",
              "    <tr>\n",
              "      <th>min</th>\n",
              "      <td>1.000000</td>\n",
              "    </tr>\n",
              "    <tr>\n",
              "      <th>25%</th>\n",
              "      <td>4.000000</td>\n",
              "    </tr>\n",
              "    <tr>\n",
              "      <th>50%</th>\n",
              "      <td>5.000000</td>\n",
              "    </tr>\n",
              "    <tr>\n",
              "      <th>75%</th>\n",
              "      <td>5.000000</td>\n",
              "    </tr>\n",
              "    <tr>\n",
              "      <th>max</th>\n",
              "      <td>5.000000</td>\n",
              "    </tr>\n",
              "  </tbody>\n",
              "</table>\n",
              "</div>"
            ],
            "text/plain": [
              "             rating\n",
              "count  50988.000000\n",
              "mean       4.343198\n",
              "std        1.156353\n",
              "min        1.000000\n",
              "25%        4.000000\n",
              "50%        5.000000\n",
              "75%        5.000000\n",
              "max        5.000000"
            ]
          },
          "metadata": {
            "tags": []
          },
          "execution_count": 8
        }
      ]
    },
    {
      "cell_type": "markdown",
      "metadata": {
        "id": "vThQoA7lW6Wu",
        "colab_type": "text"
      },
      "source": [
        "## Unique Counts"
      ]
    },
    {
      "cell_type": "code",
      "metadata": {
        "id": "9E1SB2g8XQTV",
        "colab_type": "code",
        "colab": {
          "base_uri": "https://localhost:8080/",
          "height": 69
        },
        "outputId": "e5b2084e-9a03-412f-8773-204d28018ec9"
      },
      "source": [
        "print('No. of Unique Users    :', data.reviewer_id.nunique())\n",
        "print('No. of Unique Items :', data.product_id.nunique())\n",
        "print('No. of Unique Ratings  :', data.rating.nunique())"
      ],
      "execution_count": null,
      "outputs": [
        {
          "output_type": "stream",
          "text": [
            "No. of Unique Users    : 20000\n",
            "No. of Unique Items : 8368\n",
            "No. of Unique Ratings  : 5\n"
          ],
          "name": "stdout"
        }
      ]
    },
    {
      "cell_type": "markdown",
      "metadata": {
        "id": "RbyR0cl3W7Gy",
        "colab_type": "text"
      },
      "source": [
        "## Overall Count of Ratings given by Users"
      ]
    },
    {
      "cell_type": "code",
      "metadata": {
        "id": "OR33Ai6cVXbT",
        "colab_type": "code",
        "colab": {
          "base_uri": "https://localhost:8080/",
          "height": 206
        },
        "outputId": "3ea27f84-6013-47ae-c453-d340b4917acb"
      },
      "source": [
        "rts_gp = data.groupby(by=['rating']).agg({'reviewer_id': 'count'}).reset_index()\n",
        "rts_gp.columns = ['Rating', 'Count']\n",
        "rts_gp"
      ],
      "execution_count": null,
      "outputs": [
        {
          "output_type": "execute_result",
          "data": {
            "text/html": [
              "<div>\n",
              "<style scoped>\n",
              "    .dataframe tbody tr th:only-of-type {\n",
              "        vertical-align: middle;\n",
              "    }\n",
              "\n",
              "    .dataframe tbody tr th {\n",
              "        vertical-align: top;\n",
              "    }\n",
              "\n",
              "    .dataframe thead th {\n",
              "        text-align: right;\n",
              "    }\n",
              "</style>\n",
              "<table border=\"1\" class=\"dataframe\">\n",
              "  <thead>\n",
              "    <tr style=\"text-align: right;\">\n",
              "      <th></th>\n",
              "      <th>Rating</th>\n",
              "      <th>Count</th>\n",
              "    </tr>\n",
              "  </thead>\n",
              "  <tbody>\n",
              "    <tr>\n",
              "      <th>0</th>\n",
              "      <td>1</td>\n",
              "      <td>3051</td>\n",
              "    </tr>\n",
              "    <tr>\n",
              "      <th>1</th>\n",
              "      <td>2</td>\n",
              "      <td>2118</td>\n",
              "    </tr>\n",
              "    <tr>\n",
              "      <th>2</th>\n",
              "      <td>3</td>\n",
              "      <td>3682</td>\n",
              "    </tr>\n",
              "    <tr>\n",
              "      <th>3</th>\n",
              "      <td>4</td>\n",
              "      <td>7567</td>\n",
              "    </tr>\n",
              "    <tr>\n",
              "      <th>4</th>\n",
              "      <td>5</td>\n",
              "      <td>34570</td>\n",
              "    </tr>\n",
              "  </tbody>\n",
              "</table>\n",
              "</div>"
            ],
            "text/plain": [
              "   Rating  Count\n",
              "0       1   3051\n",
              "1       2   2118\n",
              "2       3   3682\n",
              "3       4   7567\n",
              "4       5  34570"
            ]
          },
          "metadata": {
            "tags": []
          },
          "execution_count": 10
        }
      ]
    },
    {
      "cell_type": "code",
      "metadata": {
        "id": "QKgd_pXcmh9e",
        "colab_type": "code",
        "colab": {
          "base_uri": "https://localhost:8080/",
          "height": 302
        },
        "outputId": "184618c0-329a-49c2-c69c-578c25bd9cce"
      },
      "source": [
        "plt.barh(rts_gp.Rating, rts_gp.Count, color='royalblue')\n",
        "plt.title('Overall Count of Ratings', fontsize=15)\n",
        "plt.xlabel('Count', fontsize=15)\n",
        "plt.ylabel('Rating', fontsize=15)\n",
        "plt.grid(ls='dotted')\n",
        "plt.show()"
      ],
      "execution_count": null,
      "outputs": [
        {
          "output_type": "display_data",
          "data": {
            "image/png": "[encoded data removed]",
            "text/plain": [
              "<Figure size 432x288 with 1 Axes>"
            ]
          },
          "metadata": {
            "tags": [],
            "needs_background": "light"
          }
        }
      ]
    },
    {
      "cell_type": "code",
      "metadata": {
        "id": "UIeuqiG9moaP",
        "colab_type": "code",
        "colab": {}
      },
      "source": [
        ""
      ],
      "execution_count": null,
      "outputs": []
    },
    {
      "cell_type": "markdown",
      "metadata": {
        "id": "4QwDKNrxnFmI",
        "colab_type": "text"
      },
      "source": [
        "# Machine Learning"
      ]
    },
    {
      "cell_type": "code",
      "metadata": {
        "id": "hJCOuD6dnGkB",
        "colab_type": "code",
        "colab": {}
      },
      "source": [
        "# As we're loading a custom dataset, we need to define a reader.\n",
        "reader = Reader(rating_scale=(1, 5))\n",
        "\n",
        "# The columns must correspond to user id, item id and ratings (in that order).\n",
        "surprise_data = Dataset.load_from_df(data[['reviewer_id', 'product_id', 'rating']], reader)"
      ],
      "execution_count": null,
      "outputs": []
    },
    {
      "cell_type": "markdown",
      "metadata": {
        "id": "101kjJognccT",
        "colab_type": "text"
      },
      "source": [
        "## Evaluation with various Algorithms available in Surprise"
      ]
    },
    {
      "cell_type": "markdown",
      "metadata": {
        "id": "aBssHYqfnlG1",
        "colab_type": "text"
      },
      "source": [
        "**k-NN Based Algorithms:** *KNNBasic, KNNWithMeans and KNNWithZScore*\n",
        "\n",
        "**Matrix Factorization Based Algorithms:** *SVD, SVDpp and NMF*\n",
        "\n",
        "**Other Collaborative Filtering Algorithms:**: *SlopeOne, CoClustering*\n",
        "\n",
        "**Cross Validation**: 5-Fold\n",
        "\n",
        "**Optimization Metric:** RMSE"
      ]
    },
    {
      "cell_type": "markdown",
      "metadata": {
        "id": "M5ITzmC-oLza",
        "colab_type": "text"
      },
      "source": [
        "### k-NN Based Algorithms\n",
        "\n",
        "For the memory-based approaches, the algorithm that would fit the bill is Centered k-NN because the algorithm is very close to the centered cosine similarity formula."
      ]
    },
    {
      "cell_type": "code",
      "metadata": {
        "id": "_D1fxZ81ne_C",
        "colab_type": "code",
        "colab": {
          "base_uri": "https://localhost:8080/",
          "height": 538
        },
        "outputId": "b5967182-e058-4ff6-deb4-db62fc28f120"
      },
      "source": [
        "knnbasic_cv = cross_validate(KNNBasic(), surprise_data, cv=5, n_jobs=1, verbose=False)\n",
        "knnmeans_cv = cross_validate(KNNWithMeans(), surprise_data, cv=5, n_jobs=1, verbose=False)\n",
        "knnz_cv = cross_validate(KNNWithZScore(), surprise_data, cv=5, n_jobs=1, verbose=False)"
      ],
      "execution_count": null,
      "outputs": [
        {
          "output_type": "stream",
          "text": [
            "Computing the msd similarity matrix...\n",
            "Done computing similarity matrix.\n",
            "Computing the msd similarity matrix...\n",
            "Done computing similarity matrix.\n",
            "Computing the msd similarity matrix...\n",
            "Done computing similarity matrix.\n",
            "Computing the msd similarity matrix...\n",
            "Done computing similarity matrix.\n",
            "Computing the msd similarity matrix...\n",
            "Done computing similarity matrix.\n",
            "Computing the msd similarity matrix...\n",
            "Done computing similarity matrix.\n",
            "Computing the msd similarity matrix...\n",
            "Done computing similarity matrix.\n",
            "Computing the msd similarity matrix...\n",
            "Done computing similarity matrix.\n",
            "Computing the msd similarity matrix...\n",
            "Done computing similarity matrix.\n",
            "Computing the msd similarity matrix...\n",
            "Done computing similarity matrix.\n",
            "Computing the msd similarity matrix...\n",
            "Done computing similarity matrix.\n",
            "Computing the msd similarity matrix...\n",
            "Done computing similarity matrix.\n",
            "Computing the msd similarity matrix...\n",
            "Done computing similarity matrix.\n",
            "Computing the msd similarity matrix...\n",
            "Done computing similarity matrix.\n",
            "Computing the msd similarity matrix...\n",
            "Done computing similarity matrix.\n"
          ],
          "name": "stdout"
        }
      ]
    },
    {
      "cell_type": "markdown",
      "metadata": {
        "id": "tmPydN39qGx4",
        "colab_type": "text"
      },
      "source": [
        "### Matrix Factorization Based Algorithms\n",
        "\n",
        "For model-based algorithms, we are going to use SVD(), SVDpp() and NMF. Singular Value Decomposition (SVD) is a matrix decomposition method for reducing a matrix to its constituent parts in order to make certain subsequent matrix calculations simpler. "
      ]
    },
    {
      "cell_type": "code",
      "metadata": {
        "id": "LrKdJG8DqHhI",
        "colab_type": "code",
        "colab": {}
      },
      "source": [
        "svd_cv = cross_validate(SVD(), surprise_data, cv=5, n_jobs=1, verbose=False)\n",
        "svdpp_cv = cross_validate(SVDpp(), surprise_data, cv=5, n_jobs=1, verbose=False)\n",
        "nmf_cv = cross_validate(NMF(), surprise_data, cv=5, n_jobs=1, verbose=False)"
      ],
      "execution_count": null,
      "outputs": []
    },
    {
      "cell_type": "markdown",
      "metadata": {
        "id": "XxEXUUUyqdkX",
        "colab_type": "text"
      },
      "source": [
        "### Other Collaborative Filtering Algorithms"
      ]
    },
    {
      "cell_type": "code",
      "metadata": {
        "id": "7wHGfxDAqVf-",
        "colab_type": "code",
        "colab": {}
      },
      "source": [
        "slope_cv = cross_validate(SlopeOne(), surprise_data, cv=5, n_jobs=1, verbose=False)\n",
        "coclus_cv = cross_validate(CoClustering(), surprise_data, cv=5, n_jobs=1, verbose=False)"
      ],
      "execution_count": null,
      "outputs": []
    },
    {
      "cell_type": "markdown",
      "metadata": {
        "id": "cFQBS9loqsIh",
        "colab_type": "text"
      },
      "source": [
        "### Comparison of all algorithms on RMSE and MAE"
      ]
    },
    {
      "cell_type": "code",
      "metadata": {
        "id": "C8LtchGeqvex",
        "colab_type": "code",
        "colab": {
          "base_uri": "https://localhost:8080/",
          "height": 243
        },
        "outputId": "5b809469-b0a5-4f48-9bb1-bfc08660d1d8"
      },
      "source": [
        "print('Algorithm\\t RMSE\\t\\t MAE')\n",
        "print()\n",
        "print('KNN Basic', '\\t', round(knnbasic_cv['test_rmse'].mean(), 4), '\\t', round(knnbasic_cv['test_mae'].mean(), 4))\n",
        "print('KNN Means', '\\t', round(knnmeans_cv['test_rmse'].mean(), 4), '\\t', round(knnmeans_cv['test_mae'].mean(), 4))\n",
        "print('KNN ZScore', '\\t', round(knnz_cv['test_rmse'].mean(), 4), '\\t', round(knnz_cv['test_mae'].mean(), 4))\n",
        "print()\n",
        "print('SVD', '\\t\\t', round(svd_cv['test_rmse'].mean(), 4), '\\t', round(svd_cv['test_mae'].mean(), 4))\n",
        "print('SVDpp', '\\t\\t', round(svdpp_cv['test_rmse'].mean(), 4), '\\t', round(svdpp_cv['test_mae'].mean(), 4))\n",
        "print('NMF', '\\t\\t', round(nmf_cv['test_rmse'].mean(), 4), '\\t', round(nmf_cv['test_mae'].mean(), 4))\n",
        "print()\n",
        "print('SlopeOne', '\\t', round(slope_cv['test_rmse'].mean(), 4), '\\t', round(slope_cv['test_mae'].mean(), 4))\n",
        "print('CoClustering', '\\t', round(coclus_cv['test_rmse'].mean(), 4), '\\t', round(coclus_cv['test_mae'].mean(), 4))\n",
        "print()"
      ],
      "execution_count": null,
      "outputs": [
        {
          "output_type": "stream",
          "text": [
            "Algorithm\t RMSE\t\t MAE\n",
            "\n",
            "KNN Basic \t 0.9402 \t 0.5397\n",
            "KNN Means \t 0.999 \t 0.5152\n",
            "KNN ZScore \t 1.0018 \t 0.5193\n",
            "\n",
            "SVD \t\t 0.9633 \t 0.6705\n",
            "SVDpp \t\t 0.9598 \t 0.667\n",
            "NMF \t\t 1.1066 \t 0.7861\n",
            "\n",
            "SlopeOne \t 1.0037 \t 0.5087\n",
            "CoClustering \t 1.0372 \t 0.594\n",
            "\n"
          ],
          "name": "stdout"
        }
      ]
    },
    {
      "cell_type": "markdown",
      "metadata": {
        "id": "anPgtiJdsWF2",
        "colab_type": "text"
      },
      "source": [
        "### Plot the Error Scores"
      ]
    },
    {
      "cell_type": "code",
      "metadata": {
        "id": "_JnCy84Xq1AF",
        "colab_type": "code",
        "colab": {
          "base_uri": "https://localhost:8080/",
          "height": 269
        },
        "outputId": "2185141e-54a6-49fc-e25b-1e90f6411bd7"
      },
      "source": [
        "x_algo = ['KNN Basic', 'KNN Means', 'KNN ZScore', 'SVD', 'SVDpp', 'NMF', 'SlopeOne', 'CoClustering']\n",
        "all_algos_cv = [knnbasic_cv, knnmeans_cv, knnz_cv, svd_cv, svdpp_cv, nmf_cv, slope_cv, coclus_cv]\n",
        "\n",
        "rmse_cv = [round(res['test_rmse'].mean(), 4) for res in all_algos_cv]\n",
        "mae_cv = [round(res['test_mae'].mean(), 4) for res in all_algos_cv]\n",
        "\n",
        "plt.figure(figsize=(20,5))\n",
        "\n",
        "plt.subplot(1, 2, 1)\n",
        "plt.title('Comparison of Algorithms on RMSE', loc='center', fontsize=15)\n",
        "plt.plot(x_algo, rmse_cv, label='RMSE', color='darkgreen', marker='o')\n",
        "plt.xlabel('Algorithms', fontsize=15)\n",
        "plt.ylabel('RMSE Value', fontsize=15)\n",
        "plt.legend()\n",
        "plt.grid(ls='dashed')\n",
        "\n",
        "plt.subplot(1, 2, 2)\n",
        "plt.title('Comparison of Algorithms on MAE', loc='center', fontsize=15)\n",
        "plt.plot(x_algo, mae_cv, label='MAE', color='navy', marker='o')\n",
        "plt.xlabel('Algorithms', fontsize=15)\n",
        "plt.ylabel('MAE Value', fontsize=15)\n",
        "plt.legend()\n",
        "plt.grid(ls='dashed')\n",
        "\n",
        "plt.show()\n"
      ],
      "execution_count": null,
      "outputs": [
        {
          "output_type": "display_data",
          "data": {
            "image/png": "[encoded data removed]",
            "text/plain": [
              "<Figure size 1440x360 with 2 Axes>"
            ]
          },
          "metadata": {
            "tags": [],
            "needs_background": "light"
          }
        }
      ]
    },
    {
      "cell_type": "markdown",
      "metadata": {
        "id": "gdnCxY4kreeE",
        "colab_type": "text"
      },
      "source": [
        "### Evaluation Results\n",
        "\n",
        "**RMSE**:\n",
        " - Winner: KNN Basic (0.9372)\n",
        " - 2nd place: SVDpp (0.9576)\n",
        " - 3rd place: SVD (0.9698)\n",
        "\n",
        "**MAE**:\n",
        " - Winner: KNN with means (0.5175)\n",
        " - 2nd place: KNN with Zscore (0.5207)\n",
        " - 3rd place: KNN Basic (0.5394)\n",
        "\n"
      ]
    },
    {
      "cell_type": "markdown",
      "metadata": {
        "id": "3cp_pyLLs7XK",
        "colab_type": "text"
      },
      "source": [
        "**QUESTION FOR MENTOR**\n",
        " - Why does SVDpp and SVD have 2nd and 3rd best RMSE, but all KNNs have the best MAE? \n",
        " - So what metric should I use, RMSE or MAE? "
      ]
    },
    {
      "cell_type": "markdown",
      "metadata": {
        "id": "hExRcfKSJB32",
        "colab_type": "text"
      },
      "source": [
        "## Perform GridSearch CV on top three algorithms - KNN Basic, SVDpp and SVD "
      ]
    },
    {
      "cell_type": "markdown",
      "metadata": {
        "id": "pD05JoGAJdfs",
        "colab_type": "text"
      },
      "source": [
        "### Hypertuning SVDpp"
      ]
    },
    {
      "cell_type": "code",
      "metadata": {
        "id": "2EM7fi39rAUj",
        "colab_type": "code",
        "colab": {}
      },
      "source": [
        "# Parameter space\n",
        "svd_param_grid = {'n_epochs': [20, 25], \n",
        "                  'lr_all': [0.007, 0.009, 0.01],\n",
        "                  'reg_all': [0.4, 0.6]}\n",
        "\n",
        "svdpp_gs = GridSearchCV(SVDpp, svd_param_grid, measures=['rmse', 'mae'], cv=5, n_jobs=5)\n",
        "svdpp_gs.fit(surprise_data)\n",
        "\n",
        "svd_gs = GridSearchCV(SVD, svd_param_grid, measures=['rmse', 'mae'], cv=5, n_jobs=5)\n",
        "svd_gs.fit(surprise_data)"
      ],
      "execution_count": null,
      "outputs": []
    },
    {
      "cell_type": "code",
      "metadata": {
        "id": "JN54V8ArJ6bD",
        "colab_type": "code",
        "colab": {
          "base_uri": "https://localhost:8080/",
          "height": 69
        },
        "outputId": "b057f071-3478-4c12-942c-c2480b1243e8"
      },
      "source": [
        "print('SVDpp = RMSE:', round(svdpp_gs.best_score['rmse'], 4), '; MAE:', round(svdpp_gs.best_score['mae'], 4))\n",
        "print('RMSE =', svdpp_gs.best_params['rmse'])\n",
        "print('MAE =', svdpp_gs.best_params['mae'])\n"
      ],
      "execution_count": null,
      "outputs": [
        {
          "output_type": "stream",
          "text": [
            "SVDpp = RMSE: 1.0049 ; MAE: 0.7299\n",
            "RMSE = {'n_epochs': 25, 'lr_all': 0.01, 'reg_all': 0.4}\n",
            "MAE = {'n_epochs': 25, 'lr_all': 0.01, 'reg_all': 0.4}\n"
          ],
          "name": "stdout"
        }
      ]
    },
    {
      "cell_type": "markdown",
      "metadata": {
        "id": "Vf9083EoKPsk",
        "colab_type": "text"
      },
      "source": [
        "### Hypertuning SVD"
      ]
    },
    {
      "cell_type": "code",
      "metadata": {
        "id": "5led-5GPJsxi",
        "colab_type": "code",
        "colab": {
          "base_uri": "https://localhost:8080/"
        },
        "outputId": "1283178e-a183-465f-b6be-d3ce62282fd0"
      },
      "source": [
        "print('SVD = RMSE:', round(svd_gs.best_score['rmse'], 4), '; MAE:', round(svd_gs.best_score['mae'], 4))\n",
        "print('RMSE =', svd_gs.best_params['rmse'])\n",
        "print('MAE =', svd_gs.best_params['mae'])"
      ],
      "execution_count": null,
      "outputs": [
        {
          "output_type": "stream",
          "text": [
            "SVD = RMSE: 1.0014 ; MAE: 0.7265\n",
            "RMSE = {'n_epochs': 25, 'lr_all': 0.01, 'reg_all': 0.4}\n",
            "MAE = {'n_epochs': 25, 'lr_all': 0.01, 'reg_all': 0.4}\n"
          ],
          "name": "stdout"
        }
      ]
    },
    {
      "cell_type": "markdown",
      "metadata": {
        "id": "q5vM5aK0MhAv",
        "colab_type": "text"
      },
      "source": [
        "### Hypertuning KNNBasic, KNNWithMeans, KNNZScore\n",
        "\n",
        "Due to RAM issues, we will only run the KNNBasic()"
      ]
    },
    {
      "cell_type": "code",
      "metadata": {
        "id": "I_7Hy1ZSL-_6",
        "colab_type": "code",
        "colab": {}
      },
      "source": [
        "param_grid = {'k': [15, 20, 25, 30, 40, 50, 60]}\n",
        "\n",
        "knnbasic_gs = GridSearchCV(KNNBasic, param_grid, measures=['rmse', 'mae'], cv=5, n_jobs=1)\n",
        "knnbasic_gs.fit(surprise_data)"
      ],
      "execution_count": null,
      "outputs": []
    },
    {
      "cell_type": "code",
      "metadata": {
        "id": "mhC9BKLJS2fT",
        "colab_type": "code",
        "colab": {}
      },
      "source": [
        "x = [15, 20, 25, 30, 40, 50, 60]\n",
        "y1 = knnbasic_gs.cv_results['mean_test_rmse']\n",
        "y2 = knnbasic_gs.cv_results['mean_test_mae']\n",
        "\n",
        "y3 = knnmeans_gs.cv_results['mean_test_rmse']\n",
        "y4 = knnmeans_gs.cv_results['mean_test_mae']\n",
        "\n",
        "y5 = knnz_gs.cv_results['mean_test_rmse']\n",
        "y6 = knnz_gs.cv_results['mean_test_mae']"
      ],
      "execution_count": null,
      "outputs": []
    },
    {
      "cell_type": "code",
      "metadata": {
        "id": "dhABs2ksUlOM",
        "colab_type": "code",
        "colab": {
          "base_uri": "https://localhost:8080/",
          "height": 299
        },
        "outputId": "7015d58c-f7e8-4855-cc80-086f101ff92d"
      },
      "source": [
        "plt.figure(figsize=(18,5))\n",
        "\n",
        "plt.subplot(1, 2, 1)\n",
        "plt.title('K Neighbors vs RMSE', loc='center', fontsize=15)\n",
        "plt.plot(x, y1, label='KNNBasic', color='lightcoral', marker='o')\n",
        "plt.plot(x, y5, label='KNNWithZScore', color='indianred', marker='o')\n",
        "plt.plot(x, y3, label='KNNWithMeans', color='darkred', marker='o')\n",
        "plt.xlabel('K Neighbor', fontsize=15)\n",
        "plt.ylabel('RMSE Value', fontsize=15)\n",
        "plt.legend()\n",
        "plt.grid(ls='dotted')\n",
        "\n",
        "plt.subplot(1, 2, 2)\n",
        "plt.title('K Neighbors vs MAE', loc='center', fontsize=15)\n",
        "plt.plot(x, y2, label='KNNBasic', color='lightcoral', marker='o')\n",
        "plt.plot(x, y4, label='KNNWithMeans', color='indianred', marker='o')\n",
        "plt.plot(x, y6, label='KNNWithZScore', color='darkred', marker='o')\n",
        "plt.xlabel('K Neighbor', fontsize=15)\n",
        "plt.ylabel('MAE Value', fontsize=15)\n",
        "plt.legend()\n",
        "plt.grid(ls='dotted')\n",
        "\n",
        "plt.show()\n"
      ],
      "execution_count": null,
      "outputs": [
        {
          "output_type": "display_data",
          "data": {
            "image/png": "[encoded data removed]",
            "text/plain": [
              "<Figure size 1296x360 with 2 Axes>"
            ]
          },
          "metadata": {
            "tags": [],
            "needs_background": "light"
          }
        }
      ]
    },
    {
      "cell_type": "markdown",
      "metadata": {
        "id": "vvCMxbKpjJ5b",
        "colab_type": "text"
      },
      "source": [
        "### Print out the best model and scores"
      ]
    },
    {
      "cell_type": "code",
      "metadata": {
        "id": "GuWXPW62hQRT",
        "colab_type": "code",
        "colab": {}
      },
      "source": [
        "print('KNN Basic = RMSE:', round(knnbasic_gs.best_score['rmse'], 4), '; MAE:', round(knnbasic_gs.best_score['mae'], 4))\n",
        "print('SVDpp = RMSE:', round(svdpp_gs.best_score['rmse'], 4), '; MAE:', round(svdpp_gs.best_score['mae'], 4))\n",
        "print('SVD = RMSE:', round(svd_gs.best_score['rmse'], 4), '; MAE:', round(svd_gs.best_score['mae'], 4))\n"
      ],
      "execution_count": null,
      "outputs": []
    },
    {
      "cell_type": "markdown",
      "metadata": {
        "id": "tpiN7F4Glds-",
        "colab_type": "text"
      },
      "source": [
        "The best performing model is the KNN basic with an RMSE score of 0.9339 and MAE of 0.5276"
      ]
    },
    {
      "cell_type": "markdown",
      "metadata": {
        "id": "e-W6gj5uj-Lh",
        "colab_type": "text"
      },
      "source": [
        "### Get the best parameter for KNN Basic"
      ]
    },
    {
      "cell_type": "code",
      "metadata": {
        "id": "FioyVEDNg5Yb",
        "colab_type": "code",
        "colab": {
          "base_uri": "https://localhost:8080/",
          "height": 34
        },
        "outputId": "ea5200cc-0f69-4393-edd4-276f20001eb3"
      },
      "source": [
        "print(knnbasic_gs.best_params['rmse'])"
      ],
      "execution_count": null,
      "outputs": [
        {
          "output_type": "stream",
          "text": [
            "{'k': 15}\n"
          ],
          "name": "stdout"
        }
      ]
    },
    {
      "cell_type": "markdown",
      "metadata": {
        "id": "AA7H0rtKrCW1",
        "colab_type": "text"
      },
      "source": [
        "## Apply Hypertuned Model"
      ]
    },
    {
      "cell_type": "markdown",
      "metadata": {
        "id": "xGqHXZMEwoJy",
        "colab_type": "text"
      },
      "source": [
        "Comment this out to choose which model to use.\n",
        "\n",
        "For best parameters:\n",
        "\n",
        "\n",
        "\n",
        "*   KNNBasic(k = 15)\n",
        "*   SVDpp(n_epochs=25, lr_all=0.01, reg_all=0.4)\n",
        "\n"
      ]
    },
    {
      "cell_type": "code",
      "metadata": {
        "id": "zbTa4e8rpmqp",
        "colab_type": "code",
        "colab": {}
      },
      "source": [
        "# best parameters for knn basic is k=15\n",
        "algo = KNNBasic(k = 15)"
      ],
      "execution_count": null,
      "outputs": []
    },
    {
      "cell_type": "code",
      "metadata": {
        "id": "OisB99QEuU58",
        "colab_type": "code",
        "colab": {}
      },
      "source": [
        "# # best parameters for SVDpp (we already hypertuned this)\n",
        "# algo = SVDpp(n_epochs=25, lr_all=0.01, reg_all=0.4)"
      ],
      "execution_count": null,
      "outputs": []
    },
    {
      "cell_type": "markdown",
      "metadata": {
        "id": "qKMJ8xgJrvYK",
        "colab_type": "text"
      },
      "source": [
        "### Create a train set and test set"
      ]
    },
    {
      "cell_type": "code",
      "metadata": {
        "id": "NZ87C_NmbH7F",
        "colab_type": "code",
        "colab": {}
      },
      "source": [
        "# As we're loading a custom dataset, we need to define a reader.\n",
        "reader = Reader(rating_scale=(1, 5))\n",
        "\n",
        "# The columns must correspond to user id, item id and ratings (in that order).\n",
        "surprise_data = Dataset.load_from_df(data[['reviewer_id', 'product_id', 'rating']], reader)"
      ],
      "execution_count": null,
      "outputs": []
    },
    {
      "cell_type": "code",
      "metadata": {
        "id": "6Xbyrt6yss0e",
        "colab_type": "code",
        "colab": {
          "base_uri": "https://localhost:8080/",
          "height": 86
        },
        "outputId": "b8b00ae9-bcff-45be-e593-3827f484e69f"
      },
      "source": [
        "trainset, testset = train_test_split(surprise_data, test_size=0.2)\n",
        "print('Number of users: ', trainset.n_users, '\\n')\n",
        "print('Number of items: ', trainset.n_items, '\\n')"
      ],
      "execution_count": null,
      "outputs": [
        {
          "output_type": "stream",
          "text": [
            "Number of users:  19395 \n",
            "\n",
            "Number of items:  7309 \n",
            "\n"
          ],
          "name": "stdout"
        }
      ]
    },
    {
      "cell_type": "code",
      "metadata": {
        "id": "uDYGU1ZOrkLM",
        "colab_type": "code",
        "colab": {}
      },
      "source": [
        "# trainsetfull = surprise_data.build_full_trainset()\n",
        "# print('Number of users: ', trainsetfull.n_users, '\\n')\n",
        "# print('Number of items: ', trainsetfull.n_items, '\\n')\n",
        "# testsetfull = trainsetfull.build_anti_testset()"
      ],
      "execution_count": null,
      "outputs": []
    },
    {
      "cell_type": "markdown",
      "metadata": {
        "id": "i7pjL9jTwJCp",
        "colab_type": "text"
      },
      "source": [
        "### Train the model on the train set"
      ]
    },
    {
      "cell_type": "code",
      "metadata": {
        "id": "zwMDLWdwwiJz",
        "colab_type": "code",
        "colab": {
          "base_uri": "https://localhost:8080/",
          "height": 69
        },
        "outputId": "dda55055-c567-46d3-c079-6431e3e50ddd"
      },
      "source": [
        "algo.fit(trainset)"
      ],
      "execution_count": null,
      "outputs": [
        {
          "output_type": "stream",
          "text": [
            "Computing the msd similarity matrix...\n",
            "Done computing similarity matrix.\n"
          ],
          "name": "stdout"
        },
        {
          "output_type": "execute_result",
          "data": {
            "text/plain": [
              "<surprise.prediction_algorithms.knns.KNNBasic at 0x7fe7350c9e80>"
            ]
          },
          "metadata": {
            "tags": []
          },
          "execution_count": 33
        }
      ]
    },
    {
      "cell_type": "markdown",
      "metadata": {
        "id": "9KAazsv8wSlE",
        "colab_type": "text"
      },
      "source": [
        "### Test the model on the test set"
      ]
    },
    {
      "cell_type": "code",
      "metadata": {
        "id": "cxOZa_xkvA0A",
        "colab_type": "code",
        "colab": {}
      },
      "source": [
        "predictions = algo.test(testset)"
      ],
      "execution_count": null,
      "outputs": []
    },
    {
      "cell_type": "code",
      "metadata": {
        "id": "A5PUd_Z0fj3P",
        "colab_type": "code",
        "colab": {
          "base_uri": "https://localhost:8080/",
          "height": 211
        },
        "outputId": "b2ce71b9-2e90-48ae-b7a1-197cbf3cda3f"
      },
      "source": [
        "predictions[:10]"
      ],
      "execution_count": null,
      "outputs": [
        {
          "output_type": "execute_result",
          "data": {
            "text/plain": [
              "[Prediction(uid='A1ZWQROX1DE4ZZ', iid='B006LTTBMW', r_ui=5.0, est=5, details={'actual_k': 1, 'was_impossible': False}),\n",
              " Prediction(uid='AZL5JL3EYGPGH', iid='B018JXDO2U', r_ui=5.0, est=4.341162049521942, details={'was_impossible': True, 'reason': 'Not enough neighbors.'}),\n",
              " Prediction(uid='A30R8JPPD0P1KC', iid='B00JS5N56O', r_ui=5.0, est=4.341162049521942, details={'was_impossible': True, 'reason': 'User and/or item is unknown.'}),\n",
              " Prediction(uid='A8KB4X4BRD00L', iid='B001OHV1H4', r_ui=5.0, est=5, details={'actual_k': 15, 'was_impossible': False}),\n",
              " Prediction(uid='A3CD2XV17M8FWK', iid='B00BMVV3MK', r_ui=4.0, est=4.0, details={'actual_k': 15, 'was_impossible': False}),\n",
              " Prediction(uid='A3F3B6HY9RJI04', iid='B0010ZBORW', r_ui=5.0, est=1, details={'actual_k': 2, 'was_impossible': False}),\n",
              " Prediction(uid='A100UD67AHFODS', iid='B00OGZ39C6', r_ui=5.0, est=4.341162049521942, details={'was_impossible': True, 'reason': 'Not enough neighbors.'}),\n",
              " Prediction(uid='A2EBR70V6P9W0N', iid='B0001428BY', r_ui=3.0, est=4.341162049521942, details={'was_impossible': True, 'reason': 'User and/or item is unknown.'}),\n",
              " Prediction(uid='A1E462A3A9MKPA', iid='B000X2FPXC', r_ui=4.0, est=4.0, details={'actual_k': 15, 'was_impossible': False}),\n",
              " Prediction(uid='A1RWTO5QBLE0X', iid='B000XV745A', r_ui=5.0, est=5, details={'actual_k': 15, 'was_impossible': False})]"
            ]
          },
          "metadata": {
            "tags": []
          },
          "execution_count": 35
        }
      ]
    },
    {
      "cell_type": "markdown",
      "metadata": {
        "id": "Iy693o3gxlZ7",
        "colab_type": "text"
      },
      "source": [
        "### Get the predictions"
      ]
    },
    {
      "cell_type": "code",
      "metadata": {
        "id": "NlOJ3xATgA_9",
        "colab_type": "code",
        "colab": {}
      },
      "source": [
        "def custom_get_predictions(user_id, num_predictions): \n",
        "\n",
        "  # all the unique product_id values \n",
        "  iids = data['product_id'].unique()\n",
        "\n",
        "  # get every product_id reviewed by the user\n",
        "  iids_rated_by_user = data.loc[data['reviewer_id'] == user_id, 'product_id']\n",
        "\n",
        "  # get the product_ids that were not reviewed by the user\n",
        "  iids_to_predict = np.setdiff1d(iids, iids_rated_by_user)\n",
        "\n",
        "  # For this we have to create another dataset with the iids we want to predict \n",
        "  # in the sparse format as before of: uid, iid, rating. \n",
        "  # We'll just arbitrarily set all the ratings of this test set to 4,\n",
        "  # as they are not needed. Let's do this, then output the first prediction.\n",
        "  testset = [[user_id, iid, 4] for iid in iids_to_predict]\n",
        "  \n",
        "  # Test the algorithm and get the predictions\n",
        "  predictions = algo.test(testset)\n",
        "  \n",
        "  # Gets the number of predictions wanted\n",
        "  neg_num_predictions = num_predictions * -1\n",
        "\n",
        "  # Gets just the rating estimate \n",
        "  pred_ratings = np.array([pred.est for pred in predictions])\n",
        "\n",
        "  # # Find the index of the highest predicted rating\n",
        "  i_max = np.argpartition(pred_ratings, neg_num_predictions)[neg_num_predictions:]\n",
        "  \n",
        "  # Use this to find the corresponding iid to recommmed\n",
        "  iids = iids_to_predict[i_max]\n",
        "\n",
        "  for i in range(len(iids)):\n",
        "    iid = iids[i]\n",
        "    item_title = df_meta.loc[df_meta.asin == iid, \"title\"].values[0]\n",
        "    print('#{0} ({1}) recommendation for user A2GJX2KCUSR0EI is {2}: {3}'.format(i, pred_ratings[i_max[i]], iid, item_title))\n",
        "\n"
      ],
      "execution_count": null,
      "outputs": []
    },
    {
      "cell_type": "code",
      "metadata": {
        "id": "SgseVOfmmt7s",
        "colab_type": "code",
        "colab": {}
      },
      "source": [
        "# def get_every_prediction(user_id): \n",
        "\n",
        "#   # We have to do this because surprise.build_anti_testset always crashes RAM\n",
        "\n",
        "#   # all the unique product_id values \n",
        "#   iids = data['product_id'].unique()\n",
        "\n",
        "#   # get every product_id reviewed by the user\n",
        "#   iids_rated_by_user = data.loc[data['reviewer_id'] == user_id, 'product_id']\n",
        "\n",
        "#   # get the product_ids that were not reviewed by the user\n",
        "#   iids_to_predict = np.setdiff1d(iids, iids_rated_by_user)\n",
        "\n",
        "#   # For this we have to create another dataset with the iids we want to predict \n",
        "#   # in the sparse format as before of: uid, iid, rating. \n",
        "#   # We'll just arbitrarily set all the ratings of this test set to 4,\n",
        "#   # as they are not needed. Let's do this, then output the first prediction.\n",
        "#   testset = [[user_id, iid, 4] for iid in iids_to_predict]\n",
        "  \n",
        "#   # Test the algorithm and get the predictions\n",
        "#   predictions = algo.test(testset)\n",
        "\n",
        "#   return predictions"
      ],
      "execution_count": null,
      "outputs": []
    },
    {
      "cell_type": "code",
      "metadata": {
        "id": "XTO9pqHlgeMo",
        "colab_type": "code",
        "colab": {
          "base_uri": "https://localhost:8080/",
          "height": 141
        },
        "outputId": "d8f7b2af-e79e-4e02-efe3-450677e9f31e"
      },
      "source": [
        "reviewer = testset[0][0]\n",
        "print(\"Getting predictions for reviewer:\", reviewer)\n",
        "custom_get_predictions(reviewer, 5)"
      ],
      "execution_count": null,
      "outputs": [
        {
          "output_type": "stream",
          "text": [
            "Getting predictions for reviewer: A1ZWQROX1DE4ZZ\n",
            "#0 (5.0) recommendation for user A2GJX2KCUSR0EI is B00006L9LC: Citre Shine Moisture Burst Shampoo - 16 fl oz\n",
            "#1 (5.0) recommendation for user A2GJX2KCUSR0EI is B0014BB6WA: Summer's Eve Simply Sensitive Cleansing Wash for Sensitive Skin 9 oz\n",
            "#2 (5.0) recommendation for user A2GJX2KCUSR0EI is B0151MF970: Lifetrons Essential Oil Booster Micro-Vibration Eye &amp; Face Massager\n",
            "#3 (5.0) recommendation for user A2GJX2KCUSR0EI is B000NN7FT8: Ambi Skincare Even &amp; Clear Foaming Cleanser, 6 Ounce\n",
            "#4 (5.0) recommendation for user A2GJX2KCUSR0EI is B00AG4OUOM: Organic Sweet Orange 100% Pure Therapeutic Grade Essential Oil- 10 ml\n"
          ],
          "name": "stdout"
        }
      ]
    },
    {
      "cell_type": "code",
      "metadata": {
        "id": "wkmGZMNIghtX",
        "colab_type": "code",
        "colab": {}
      },
      "source": [
        "# predictions = get_every_prediction(reviewer)\n",
        "# predictions"
      ],
      "execution_count": null,
      "outputs": []
    },
    {
      "cell_type": "code",
      "metadata": {
        "id": "y4sS_7Q37hoG",
        "colab_type": "code",
        "colab": {}
      },
      "source": [
        "# print('RMSE:', accuracy.rmse(predictions))"
      ],
      "execution_count": null,
      "outputs": []
    },
    {
      "cell_type": "code",
      "metadata": {
        "id": "YpYJP4tKo1K8",
        "colab_type": "code",
        "colab": {}
      },
      "source": [
        ""
      ],
      "execution_count": null,
      "outputs": []
    }
  ]
}
{
  "nbformat": 4,
  "nbformat_minor": 0,
  "metadata": {
    "colab": {
      "name": "Recommendation Engine - Surprise",
      "provenance": [],
      "collapsed_sections": [
        "oTuDgKRPSmaB",
        "jFBWvnn8Sr7h"
      ],
      "toc_visible": true,
      "machine_shape": "hm",
      "include_colab_link": true
    },
    "kernelspec": {
      "name": "python3",
      "display_name": "Python 3"
    }
  },
  "cells": [
    {
      "cell_type": "markdown",
      "metadata": {
        "id": "view-in-github",
        "colab_type": "text"
      },
      "source": [
        "<a href=\"https://colab.research.google.com/github/elizabeamedalla/Capstone-2-Recommendation-System/blob/master/Recommendation_Engine_Surprise.ipynb\" target=\"_parent\"><img src=\"https://colab.research.google.com/assets/colab-badge.svg\" alt=\"Open In Colab\"/></a>"
      ]
    },
    {
      "cell_type": "markdown",
      "metadata": {
        "id": "oTuDgKRPSmaB"
      },
      "source": [
        "# Import packages"
      ]
    },
    {
      "cell_type": "code",
      "metadata": {
        "id": "-Rn98llESJzD",
        "outputId": "00c802e3-7e9f-4491-c565-d52ba29e2d5e",
        "colab": {
          "base_uri": "https://localhost:8080/",
          "height": 419
        }
      },
      "source": [
        "# Source: https://bmanohar16.github.io/blog/recsys-evaluation-in-surprise\n",
        "\n",
        "import os\n",
        "# file compression for loading data\n",
        "import gzip\n",
        "# importing json file\n",
        "import json\n",
        "# installing\n",
        "!pip install surprise\n",
        "#!pip install scikit-surprise # if the first line does not work\n",
        "\n",
        "import pandas as pd\n",
        "import numpy as np\n",
        "\n",
        "import matplotlib.pyplot as plt\n",
        "%matplotlib inline\n",
        "\n",
        "# import ML packages\n",
        "!pip install surprise\n",
        "\n",
        "import surprise\n",
        "from surprise import Dataset\n",
        "from surprise import Reader\n",
        "from surprise import accuracy\n",
        "from surprise.model_selection import cross_validate, train_test_split\n",
        "from surprise.model_selection import GridSearchCV\n",
        "from surprise import KNNBasic, KNNWithMeans, KNNWithZScore\n",
        "from surprise import SVD, SVDpp, NMF\n",
        "from surprise import SlopeOne, CoClustering"
      ],
      "execution_count": null,
      "outputs": [
        {
          "output_type": "stream",
          "text": [
            "Collecting surprise\n",
            "  Downloading https://files.pythonhosted.org/packages/61/de/e5cba8682201fcf9c3719a6fdda95693468ed061945493dea2dd37c5618b/surprise-0.1-py2.py3-none-any.whl\n",
            "Collecting scikit-surprise\n",
            "\u001b[?25l  Downloading https://files.pythonhosted.org/packages/97/37/5d334adaf5ddd65da99fc65f6507e0e4599d092ba048f4302fe8775619e8/scikit-surprise-1.1.1.tar.gz (11.8MB)\n",
            "\u001b[K     |████████████████████████████████| 11.8MB 2.1MB/s \n",
            "\u001b[?25hRequirement already satisfied: joblib>=0.11 in /usr/local/lib/python3.6/dist-packages (from scikit-surprise->surprise) (0.16.0)\n",
            "Requirement already satisfied: numpy>=1.11.2 in /usr/local/lib/python3.6/dist-packages (from scikit-surprise->surprise) (1.18.5)\n",
            "Requirement already satisfied: scipy>=1.0.0 in /usr/local/lib/python3.6/dist-packages (from scikit-surprise->surprise) (1.4.1)\n",
            "Requirement already satisfied: six>=1.10.0 in /usr/local/lib/python3.6/dist-packages (from scikit-surprise->surprise) (1.15.0)\n",
            "Building wheels for collected packages: scikit-surprise\n",
            "  Building wheel for scikit-surprise (setup.py) ... \u001b[?25l\u001b[?25hdone\n",
            "  Created wheel for scikit-surprise: filename=scikit_surprise-1.1.1-cp36-cp36m-linux_x86_64.whl size=1670915 sha256=978c843578b39e72af85c485dfb0d08ae0cb1bbf50a7f8689e4faab7432ddadf\n",
            "  Stored in directory: /root/.cache/pip/wheels/78/9c/3d/41b419c9d2aff5b6e2b4c0fc8d25c538202834058f9ed110d0\n",
            "Successfully built scikit-surprise\n",
            "Installing collected packages: scikit-surprise, surprise\n",
            "Successfully installed scikit-surprise-1.1.1 surprise-0.1\n",
            "Requirement already satisfied: surprise in /usr/local/lib/python3.6/dist-packages (0.1)\n",
            "Requirement already satisfied: scikit-surprise in /usr/local/lib/python3.6/dist-packages (from surprise) (1.1.1)\n",
            "Requirement already satisfied: six>=1.10.0 in /usr/local/lib/python3.6/dist-packages (from scikit-surprise->surprise) (1.15.0)\n",
            "Requirement already satisfied: scipy>=1.0.0 in /usr/local/lib/python3.6/dist-packages (from scikit-surprise->surprise) (1.4.1)\n",
            "Requirement already satisfied: numpy>=1.11.2 in /usr/local/lib/python3.6/dist-packages (from scikit-surprise->surprise) (1.18.5)\n",
            "Requirement already satisfied: joblib>=0.11 in /usr/local/lib/python3.6/dist-packages (from scikit-surprise->surprise) (0.16.0)\n"
          ],
          "name": "stdout"
        }
      ]
    },
    {
      "cell_type": "markdown",
      "metadata": {
        "id": "Ju5C5KqqSqJj"
      },
      "source": [
        "# Create Dataframe\n"
      ]
    },
    {
      "cell_type": "markdown",
      "metadata": {
        "id": "jFBWvnn8Sr7h"
      },
      "source": [
        "## Load Data"
      ]
    },
    {
      "cell_type": "code",
      "metadata": {
        "id": "sbB8UurOSzNx",
        "outputId": "4500b45c-111f-49b6-a86e-e7a5da981d5b",
        "colab": {
          "base_uri": "https://localhost:8080/",
          "height": 399
        }
      },
      "source": [
        "!wget http://deepyeti.ucsd.edu/jianmo/amazon/metaFiles/meta_All_Beauty.json.gz # Metadata\n",
        "!wget http://deepyeti.ucsd.edu/jianmo/amazon/categoryFiles/All_Beauty.json.gz # Review Data\n",
        "\n",
        "### load the meta data\n",
        "meta = []\n",
        "reviews = []\n",
        "\n",
        "# Beauty products metadata\n",
        "with gzip.open('meta_All_Beauty.json.gz') as f:\n",
        "    for l in f:\n",
        "        meta.append(json.loads(l.strip()))\n",
        "\n",
        "# Beauty products reviews\n",
        "with gzip.open('All_Beauty.json.gz') as f:\n",
        "    for l in f:\n",
        "        reviews.append(json.loads(l.strip()))\n",
        "\n",
        "# information about the products\n",
        "df_meta = pd.DataFrame.from_dict(meta)\n",
        "\n",
        "# user reviews on each products\n",
        "df_reviews = pd.DataFrame.from_dict(reviews)\n",
        "\n",
        "# Reset meta and reviews array\n",
        "meta = None\n",
        "reviews = None"
      ],
      "execution_count": null,
      "outputs": [
        {
          "output_type": "stream",
          "text": [
            "--2020-10-03 16:21:31--  http://deepyeti.ucsd.edu/jianmo/amazon/metaFiles/meta_All_Beauty.json.gz\n",
            "Resolving deepyeti.ucsd.edu (deepyeti.ucsd.edu)... 169.228.63.50\n",
            "Connecting to deepyeti.ucsd.edu (deepyeti.ucsd.edu)|169.228.63.50|:80... connected.\n",
            "HTTP request sent, awaiting response... 200 OK\n",
            "Length: 10032305 (9.6M) [application/octet-stream]\n",
            "Saving to: ‘meta_All_Beauty.json.gz’\n",
            "\n",
            "meta_All_Beauty.jso 100%[===================>]   9.57M  14.8MB/s    in 0.6s    \n",
            "\n",
            "2020-10-03 16:21:32 (14.8 MB/s) - ‘meta_All_Beauty.json.gz’ saved [10032305/10032305]\n",
            "\n",
            "--2020-10-03 16:21:32--  http://deepyeti.ucsd.edu/jianmo/amazon/categoryFiles/All_Beauty.json.gz\n",
            "Resolving deepyeti.ucsd.edu (deepyeti.ucsd.edu)... 169.228.63.50\n",
            "Connecting to deepyeti.ucsd.edu (deepyeti.ucsd.edu)|169.228.63.50|:80... connected.\n",
            "HTTP request sent, awaiting response... 200 OK\n",
            "Length: 47350910 (45M) [application/octet-stream]\n",
            "Saving to: ‘All_Beauty.json.gz’\n",
            "\n",
            "All_Beauty.json.gz  100%[===================>]  45.16M  31.1MB/s    in 1.4s    \n",
            "\n",
            "2020-10-03 16:21:34 (31.1 MB/s) - ‘All_Beauty.json.gz’ saved [47350910/47350910]\n",
            "\n"
          ],
          "name": "stdout"
        }
      ]
    },
    {
      "cell_type": "markdown",
      "metadata": {
        "id": "YfcVrQrhSujj"
      },
      "source": [
        "## Clean Data"
      ]
    },
    {
      "cell_type": "code",
      "metadata": {
        "id": "0veWIKlMS7Vy",
        "outputId": "9f237098-52f3-454f-ec6b-61b1f4996d9b",
        "colab": {
          "base_uri": "https://localhost:8080/",
          "height": 208
        }
      },
      "source": [
        "#drop duplicates\n",
        "df_meta = df_meta.drop_duplicates('asin', keep=\"first\")\n",
        "\n",
        "# filling the NaN values\n",
        "df_reviews = df_reviews.fillna('NaN')\n",
        "\n",
        "## remove rows with unformatted title (i.e. some 'title' may still contain html style content)\n",
        "df_meta = df_meta.fillna('NaN')\n",
        "\n",
        "# converting to 'reviewTime' to datetime format\n",
        "df_reviews['reviewTime'] = pd.to_datetime(df_reviews['reviewTime'])\n",
        "df_reviews['unixReviewTime'] = pd.to_datetime(df_reviews['unixReviewTime'],unit='s')\n",
        "\n",
        "# merging 2 df together and selecting only relevant columns\n",
        "data = pd.merge(df_reviews, df_meta, on='asin', sort='reviewTime')\n",
        "data = data.drop(columns=['style', 'image_x', 'image_y', 'feature', 'tech1', 'date', 'unixReviewTime'])\n",
        "\n",
        "# renaming columns\n",
        "rename_dict = {\n",
        "    \"overall\": \"rating\", \n",
        "    \"asin\": \"product_id\",\n",
        "    \"reviewTime\": \"review_time\",\n",
        "    \"reviewerID\": \"reviewer_id\",\n",
        "    \"reviewerName\": \"reviewer_name\",\n",
        "    \"reviewText\": \"reviewer_text\"  \n",
        "}\n",
        "\n",
        "data = data.rename(columns=rename_dict)\n",
        "# Selecting columns to be used\n",
        "data = data[['rating', 'reviewer_id', 'product_id', 'title']]\n",
        "\n",
        "# Uncomment if RAM crashes\n",
        "# # Reset df_reviews and df_meta\n",
        "# # df_reviews = None\n",
        "# # df_meta = None\n",
        "\n",
        "data.info(verbose=True, memory_usage=\"deep\")"
      ],
      "execution_count": null,
      "outputs": [
        {
          "output_type": "stream",
          "text": [
            "<class 'pandas.core.frame.DataFrame'>\n",
            "Int64Index: 366223 entries, 0 to 366222\n",
            "Data columns (total 4 columns):\n",
            " #   Column       Non-Null Count   Dtype  \n",
            "---  ------       --------------   -----  \n",
            " 0   rating       366223 non-null  float64\n",
            " 1   reviewer_id  366223 non-null  object \n",
            " 2   product_id   366223 non-null  object \n",
            " 3   title        366223 non-null  object \n",
            "dtypes: float64(1), object(3)\n",
            "memory usage: 101.4 MB\n"
          ],
          "name": "stdout"
        }
      ]
    },
    {
      "cell_type": "markdown",
      "metadata": {
        "id": "QYAXbickTBEq"
      },
      "source": [
        "Reduce memory usage of data by changing the dtype\n",
        "https://pythonspeed.com/articles/pandas-load-less-data/"
      ]
    },
    {
      "cell_type": "code",
      "metadata": {
        "id": "JmvH49M9S8Ne",
        "outputId": "2088210e-2862-4d27-bca1-09b48e8a0af3",
        "colab": {
          "base_uri": "https://localhost:8080/",
          "height": 208
        }
      },
      "source": [
        "# Shrink 'rating' column with smaller dtypes\n",
        "data['rating'] = data['rating'].astype('int8')\n",
        "# Converting object dtypes to string\n",
        "data['reviewer_id'] = data['reviewer_id'].astype('string')\n",
        "data['product_id'] = data['product_id'].astype('string')\n",
        "data['title'] = data['title'].astype('string')\n",
        "data.info(verbose=True, memory_usage=\"deep\")"
      ],
      "execution_count": null,
      "outputs": [
        {
          "output_type": "stream",
          "text": [
            "<class 'pandas.core.frame.DataFrame'>\n",
            "Int64Index: 366223 entries, 0 to 366222\n",
            "Data columns (total 4 columns):\n",
            " #   Column       Non-Null Count   Dtype \n",
            "---  ------       --------------   ----- \n",
            " 0   rating       366223 non-null  int8  \n",
            " 1   reviewer_id  366223 non-null  string\n",
            " 2   product_id   366223 non-null  string\n",
            " 3   title        366223 non-null  string\n",
            "dtypes: int8(1), string(3)\n",
            "memory usage: 98.9 MB\n"
          ],
          "name": "stdout"
        }
      ]
    },
    {
      "cell_type": "markdown",
      "metadata": {
        "id": "PlrqOYgyTOxf"
      },
      "source": [
        "Filter the dataset to include only the top 20k reviewers"
      ]
    },
    {
      "cell_type": "code",
      "metadata": {
        "id": "jAYEyIgBTMp3",
        "outputId": "10564a3c-f4a9-4b62-cd6c-57b7700ffa2e",
        "colab": {
          "base_uri": "https://localhost:8080/",
          "height": 208
        }
      },
      "source": [
        "# Get top 20k reviewers\n",
        "num_reviewers = 20000\n",
        "top_reviewers = list(data.reviewer_id.value_counts().head(num_reviewers).index)\n",
        "data = data[data['reviewer_id'].isin(top_reviewers)]\n",
        "\n",
        "# Reset top_reviewers\n",
        "top_reviewers = None\n",
        "\n",
        "data.info(verbose=True, memory_usage=\"deep\")"
      ],
      "execution_count": null,
      "outputs": [
        {
          "output_type": "stream",
          "text": [
            "<class 'pandas.core.frame.DataFrame'>\n",
            "Int64Index: 50988 entries, 1 to 366222\n",
            "Data columns (total 4 columns):\n",
            " #   Column       Non-Null Count  Dtype \n",
            "---  ------       --------------  ----- \n",
            " 0   rating       50988 non-null  int8  \n",
            " 1   reviewer_id  50988 non-null  string\n",
            " 2   product_id   50988 non-null  string\n",
            " 3   title        50988 non-null  string\n",
            "dtypes: int8(1), string(3)\n",
            "memory usage: 13.2 MB\n"
          ],
          "name": "stdout"
        }
      ]
    },
    {
      "cell_type": "markdown",
      "metadata": {
        "id": "2BNLyCcuT8w3"
      },
      "source": [
        "# Inspect Data"
      ]
    },
    {
      "cell_type": "markdown",
      "metadata": {
        "id": "cE8QdMOcW_jY"
      },
      "source": [
        "## Basic Statistics of the Filtered Data"
      ]
    },
    {
      "cell_type": "code",
      "metadata": {
        "id": "sG26cy7zVah7",
        "outputId": "6d52ad33-295e-4e77-b95a-e6834e56099a",
        "colab": {
          "base_uri": "https://localhost:8080/",
          "height": 206
        }
      },
      "source": [
        "data.head()"
      ],
      "execution_count": null,
      "outputs": [
        {
          "output_type": "execute_result",
          "data": {
            "text/html": [
              "<div>\n",
              "<style scoped>\n",
              "    .dataframe tbody tr th:only-of-type {\n",
              "        vertical-align: middle;\n",
              "    }\n",
              "\n",
              "    .dataframe tbody tr th {\n",
              "        vertical-align: top;\n",
              "    }\n",
              "\n",
              "    .dataframe thead th {\n",
              "        text-align: right;\n",
              "    }\n",
              "</style>\n",
              "<table border=\"1\" class=\"dataframe\">\n",
              "  <thead>\n",
              "    <tr style=\"text-align: right;\">\n",
              "      <th></th>\n",
              "      <th>rating</th>\n",
              "      <th>reviewer_id</th>\n",
              "      <th>product_id</th>\n",
              "      <th>title</th>\n",
              "    </tr>\n",
              "  </thead>\n",
              "  <tbody>\n",
              "    <tr>\n",
              "      <th>1</th>\n",
              "      <td>1</td>\n",
              "      <td>A1OMHUU58XHQNG</td>\n",
              "      <td>6546546450</td>\n",
              "      <td>Loud 'N Clear&amp;trade; Personal Sound Amplifier</td>\n",
              "    </tr>\n",
              "    <tr>\n",
              "      <th>13</th>\n",
              "      <td>4</td>\n",
              "      <td>A1TZ1QV2QD7QZV</td>\n",
              "      <td>7414204790</td>\n",
              "      <td>Lacto Calamine Skin Balance Oil control 120 ml...</td>\n",
              "    </tr>\n",
              "    <tr>\n",
              "      <th>20</th>\n",
              "      <td>5</td>\n",
              "      <td>AA0ACUPEPT1RN</td>\n",
              "      <td>7535842801</td>\n",
              "      <td>Mary Kay Satin Hands Hand Cream Travel MINI Si...</td>\n",
              "    </tr>\n",
              "    <tr>\n",
              "      <th>51</th>\n",
              "      <td>5</td>\n",
              "      <td>A2DKXR9XDNA44Q</td>\n",
              "      <td>9197882747</td>\n",
              "      <td>Hall of Femmes: Lella Vignelli (Hall of Femmes)</td>\n",
              "    </tr>\n",
              "    <tr>\n",
              "      <th>57</th>\n",
              "      <td>5</td>\n",
              "      <td>A3QQK2K2BEJRQ</td>\n",
              "      <td>9742121109</td>\n",
              "      <td>Estee Lauder Resilience Lift Night Firming/scu...</td>\n",
              "    </tr>\n",
              "  </tbody>\n",
              "</table>\n",
              "</div>"
            ],
            "text/plain": [
              "    rating  ...                                              title\n",
              "1        1  ...      Loud 'N Clear&trade; Personal Sound Amplifier\n",
              "13       4  ...  Lacto Calamine Skin Balance Oil control 120 ml...\n",
              "20       5  ...  Mary Kay Satin Hands Hand Cream Travel MINI Si...\n",
              "51       5  ...    Hall of Femmes: Lella Vignelli (Hall of Femmes)\n",
              "57       5  ...  Estee Lauder Resilience Lift Night Firming/scu...\n",
              "\n",
              "[5 rows x 4 columns]"
            ]
          },
          "metadata": {
            "tags": []
          },
          "execution_count": 6
        }
      ]
    },
    {
      "cell_type": "code",
      "metadata": {
        "id": "9E1SB2g8XQTV",
        "outputId": "3318d449-3e07-40c6-9d7b-cbe767a53417",
        "colab": {
          "base_uri": "https://localhost:8080/",
          "height": 69
        }
      },
      "source": [
        "print('No. of Unique Users    :', data.reviewer_id.nunique())\n",
        "print('No. of Unique Items :', data.product_id.nunique())\n",
        "print('No. of Unique Ratings  :', data.rating.nunique())"
      ],
      "execution_count": null,
      "outputs": [
        {
          "output_type": "stream",
          "text": [
            "No. of Unique Users    : 20000\n",
            "No. of Unique Items : 8338\n",
            "No. of Unique Ratings  : 5\n"
          ],
          "name": "stdout"
        }
      ]
    },
    {
      "cell_type": "code",
      "metadata": {
        "id": "UIeuqiG9moaP",
        "outputId": "49e28858-7c79-4a5c-dc4f-de2478a73416",
        "colab": {
          "base_uri": "https://localhost:8080/",
          "height": 300
        }
      },
      "source": [
        "data.describe()"
      ],
      "execution_count": null,
      "outputs": [
        {
          "output_type": "execute_result",
          "data": {
            "text/html": [
              "<div>\n",
              "<style scoped>\n",
              "    .dataframe tbody tr th:only-of-type {\n",
              "        vertical-align: middle;\n",
              "    }\n",
              "\n",
              "    .dataframe tbody tr th {\n",
              "        vertical-align: top;\n",
              "    }\n",
              "\n",
              "    .dataframe thead th {\n",
              "        text-align: right;\n",
              "    }\n",
              "</style>\n",
              "<table border=\"1\" class=\"dataframe\">\n",
              "  <thead>\n",
              "    <tr style=\"text-align: right;\">\n",
              "      <th></th>\n",
              "      <th>rating</th>\n",
              "    </tr>\n",
              "  </thead>\n",
              "  <tbody>\n",
              "    <tr>\n",
              "      <th>count</th>\n",
              "      <td>50988.000000</td>\n",
              "    </tr>\n",
              "    <tr>\n",
              "      <th>mean</th>\n",
              "      <td>4.337707</td>\n",
              "    </tr>\n",
              "    <tr>\n",
              "      <th>std</th>\n",
              "      <td>1.163072</td>\n",
              "    </tr>\n",
              "    <tr>\n",
              "      <th>min</th>\n",
              "      <td>1.000000</td>\n",
              "    </tr>\n",
              "    <tr>\n",
              "      <th>25%</th>\n",
              "      <td>4.000000</td>\n",
              "    </tr>\n",
              "    <tr>\n",
              "      <th>50%</th>\n",
              "      <td>5.000000</td>\n",
              "    </tr>\n",
              "    <tr>\n",
              "      <th>75%</th>\n",
              "      <td>5.000000</td>\n",
              "    </tr>\n",
              "    <tr>\n",
              "      <th>max</th>\n",
              "      <td>5.000000</td>\n",
              "    </tr>\n",
              "  </tbody>\n",
              "</table>\n",
              "</div>"
            ],
            "text/plain": [
              "             rating\n",
              "count  50988.000000\n",
              "mean       4.337707\n",
              "std        1.163072\n",
              "min        1.000000\n",
              "25%        4.000000\n",
              "50%        5.000000\n",
              "75%        5.000000\n",
              "max        5.000000"
            ]
          },
          "metadata": {
            "tags": []
          },
          "execution_count": 8
        }
      ]
    },
    {
      "cell_type": "markdown",
      "metadata": {
        "id": "RbyR0cl3W7Gy"
      },
      "source": [
        "## Overall Count of Ratings given by Users"
      ]
    },
    {
      "cell_type": "code",
      "metadata": {
        "id": "OR33Ai6cVXbT",
        "outputId": "196b4f78-64ec-42d8-9807-178df6dc9c3e",
        "colab": {
          "base_uri": "https://localhost:8080/",
          "height": 206
        }
      },
      "source": [
        "rts_gp = data.groupby(by=['rating']).agg({'reviewer_id': 'count'}).reset_index()\n",
        "rts_gp.columns = ['Rating', 'Count']\n",
        "rts_gp"
      ],
      "execution_count": null,
      "outputs": [
        {
          "output_type": "execute_result",
          "data": {
            "text/html": [
              "<div>\n",
              "<style scoped>\n",
              "    .dataframe tbody tr th:only-of-type {\n",
              "        vertical-align: middle;\n",
              "    }\n",
              "\n",
              "    .dataframe tbody tr th {\n",
              "        vertical-align: top;\n",
              "    }\n",
              "\n",
              "    .dataframe thead th {\n",
              "        text-align: right;\n",
              "    }\n",
              "</style>\n",
              "<table border=\"1\" class=\"dataframe\">\n",
              "  <thead>\n",
              "    <tr style=\"text-align: right;\">\n",
              "      <th></th>\n",
              "      <th>Rating</th>\n",
              "      <th>Count</th>\n",
              "    </tr>\n",
              "  </thead>\n",
              "  <tbody>\n",
              "    <tr>\n",
              "      <th>0</th>\n",
              "      <td>1</td>\n",
              "      <td>3138</td>\n",
              "    </tr>\n",
              "    <tr>\n",
              "      <th>1</th>\n",
              "      <td>2</td>\n",
              "      <td>2084</td>\n",
              "    </tr>\n",
              "    <tr>\n",
              "      <th>2</th>\n",
              "      <td>3</td>\n",
              "      <td>3704</td>\n",
              "    </tr>\n",
              "    <tr>\n",
              "      <th>3</th>\n",
              "      <td>4</td>\n",
              "      <td>7557</td>\n",
              "    </tr>\n",
              "    <tr>\n",
              "      <th>4</th>\n",
              "      <td>5</td>\n",
              "      <td>34505</td>\n",
              "    </tr>\n",
              "  </tbody>\n",
              "</table>\n",
              "</div>"
            ],
            "text/plain": [
              "   Rating  Count\n",
              "0       1   3138\n",
              "1       2   2084\n",
              "2       3   3704\n",
              "3       4   7557\n",
              "4       5  34505"
            ]
          },
          "metadata": {
            "tags": []
          },
          "execution_count": 9
        }
      ]
    },
    {
      "cell_type": "code",
      "metadata": {
        "id": "QKgd_pXcmh9e",
        "outputId": "3039059d-b5ce-4935-83d2-d9982393af56",
        "colab": {
          "base_uri": "https://localhost:8080/",
          "height": 302
        }
      },
      "source": [
        "plt.barh(rts_gp.Rating, rts_gp.Count, color='royalblue')\n",
        "plt.title('Overall Count of Ratings', fontsize=15)\n",
        "plt.xlabel('Count', fontsize=15)\n",
        "plt.ylabel('Rating', fontsize=15)\n",
        "plt.grid(ls='dotted')\n",
        "plt.show()"
      ],
      "execution_count": null,
      "outputs": [
        {
          "output_type": "display_data",
          "data": {
            "image/png": "[encoded data removed]",
            "text/plain": [
              "<Figure size 432x288 with 1 Axes>"
            ]
          },
          "metadata": {
            "tags": [],
            "needs_background": "light"
          }
        }
      ]
    },
    {
      "cell_type": "markdown",
      "metadata": {
        "id": "4QwDKNrxnFmI"
      },
      "source": [
        "# Machine Learning\n",
        "\n",
        "We're going to use models commonly applied for classification problems."
      ]
    },
    {
      "cell_type": "code",
      "metadata": {
        "id": "hJCOuD6dnGkB"
      },
      "source": [
        "# As we're loading a custom dataset, we need to define a reader. (Surprise way of encoding the data)\n",
        "reader = Reader(rating_scale=(1, 5))\n",
        "\n",
        "# The columns must correspond to user id, item id and ratings (in that order).\n",
        "surprise_data = Dataset.load_from_df(data[['reviewer_id', 'product_id', 'rating']], reader)"
      ],
      "execution_count": null,
      "outputs": []
    },
    {
      "cell_type": "markdown",
      "metadata": {
        "id": "101kjJognccT"
      },
      "source": [
        "## Evaluation with various Algorithms available in Surprise"
      ]
    },
    {
      "cell_type": "markdown",
      "metadata": {
        "id": "aBssHYqfnlG1"
      },
      "source": [
        "**k-NN Based Algorithms:** *KNNBasic, KNNWithMeans and KNNWithZScore*\n",
        "\n",
        "**Matrix Factorization Based Algorithms:** *SVD, SVDpp and Non-Negative Matrix Factorization (NMF)*\n",
        "\n",
        "**Other Collaborative Filtering Algorithms:**: *SlopeOne, CoClustering*\n",
        "\n",
        "**Cross Validation**: 5-Fold\n",
        "\n",
        "**Optimization Metric:** RMSE"
      ]
    },
    {
      "cell_type": "markdown",
      "metadata": {
        "id": "M5ITzmC-oLza"
      },
      "source": [
        "### k-NN Based Algorithms\n",
        "\n",
        "For the memory-based approaches, the algorithm that would fit the bill is Centered k-NN because the algorithm is very close to the centered cosine similarity formula."
      ]
    },
    {
      "cell_type": "code",
      "metadata": {
        "id": "_D1fxZ81ne_C",
        "outputId": "8fc399b5-3741-4a5d-9bd4-752f079c2c10",
        "colab": {
          "base_uri": "https://localhost:8080/",
          "height": 538
        }
      },
      "source": [
        "# cross-validation for KNN Basic\n",
        "knnbasic_cv = cross_validate(KNNBasic(), surprise_data, cv=5, n_jobs=1, verbose=False)\n",
        "# cross-validation for KNN Means\n",
        "knnmeans_cv = cross_validate(KNNWithMeans(), surprise_data, cv=5, n_jobs=1, verbose=False)\n",
        "# cross-validation for KNN with Z-score\n",
        "knnz_cv = cross_validate(KNNWithZScore(), surprise_data, cv=5, n_jobs=1, verbose=False)"
      ],
      "execution_count": null,
      "outputs": [
        {
          "output_type": "stream",
          "text": [
            "Computing the msd similarity matrix...\n",
            "Done computing similarity matrix.\n",
            "Computing the msd similarity matrix...\n",
            "Done computing similarity matrix.\n",
            "Computing the msd similarity matrix...\n",
            "Done computing similarity matrix.\n",
            "Computing the msd similarity matrix...\n",
            "Done computing similarity matrix.\n",
            "Computing the msd similarity matrix...\n",
            "Done computing similarity matrix.\n",
            "Computing the msd similarity matrix...\n",
            "Done computing similarity matrix.\n",
            "Computing the msd similarity matrix...\n",
            "Done computing similarity matrix.\n",
            "Computing the msd similarity matrix...\n",
            "Done computing similarity matrix.\n",
            "Computing the msd similarity matrix...\n",
            "Done computing similarity matrix.\n",
            "Computing the msd similarity matrix...\n",
            "Done computing similarity matrix.\n",
            "Computing the msd similarity matrix...\n",
            "Done computing similarity matrix.\n",
            "Computing the msd similarity matrix...\n",
            "Done computing similarity matrix.\n",
            "Computing the msd similarity matrix...\n",
            "Done computing similarity matrix.\n",
            "Computing the msd similarity matrix...\n",
            "Done computing similarity matrix.\n",
            "Computing the msd similarity matrix...\n",
            "Done computing similarity matrix.\n"
          ],
          "name": "stdout"
        }
      ]
    },
    {
      "cell_type": "markdown",
      "metadata": {
        "id": "tmPydN39qGx4"
      },
      "source": [
        "### Matrix Factorization Based Algorithms\n",
        "\n",
        "For model-based algorithms, we are going to use SVD(), SVDpp() and NMF. Singular Value Decomposition (SVD) is a matrix decomposition method for reducing a matrix to its constituent parts in order to make certain subsequent matrix calculations simpler. "
      ]
    },
    {
      "cell_type": "code",
      "metadata": {
        "id": "LrKdJG8DqHhI"
      },
      "source": [
        "# cross-validation for SVD\n",
        "svd_cv = cross_validate(SVD(), surprise_data, cv=5, n_jobs=1, verbose=False)\n",
        "# cross-validation for SVDpp\n",
        "svdpp_cv = cross_validate(SVDpp(), surprise_data, cv=5, n_jobs=1, verbose=False)\n",
        "# cross-validation for Non-Negative Matrix Factorization (NMF)\n",
        "nmf_cv = cross_validate(NMF(), surprise_data, cv=5, n_jobs=1, verbose=False)"
      ],
      "execution_count": null,
      "outputs": []
    },
    {
      "cell_type": "markdown",
      "metadata": {
        "id": "XxEXUUUyqdkX"
      },
      "source": [
        "### Other Collaborative Filtering Algorithms"
      ]
    },
    {
      "cell_type": "code",
      "metadata": {
        "id": "7wHGfxDAqVf-"
      },
      "source": [
        "# cross-validation for SlopeOne\n",
        "slope_cv = cross_validate(SlopeOne(), surprise_data, cv=5, n_jobs=1, verbose=False)\n",
        "#cross-validation for Co-clustering\n",
        "coclus_cv = cross_validate(CoClustering(), surprise_data, cv=5, n_jobs=1, verbose=False)"
      ],
      "execution_count": null,
      "outputs": []
    },
    {
      "cell_type": "markdown",
      "metadata": {
        "id": "cFQBS9loqsIh"
      },
      "source": [
        "### Comparison of all algorithms on RMSE and MAE"
      ]
    },
    {
      "cell_type": "code",
      "metadata": {
        "id": "C8LtchGeqvex",
        "outputId": "64404e2e-bfbe-4c61-abbd-7ab02d649078",
        "colab": {
          "base_uri": "https://localhost:8080/",
          "height": 243
        }
      },
      "source": [
        "# Get the scores for each Vanilla version of the models\n",
        "print('Algorithm\\t RMSE\\t\\t MAE')\n",
        "print()\n",
        "print('KNN Basic', '\\t', round(knnbasic_cv['test_rmse'].mean(), 4), '\\t', round(knnbasic_cv['test_mae'].mean(), 4))\n",
        "print('KNN Means', '\\t', round(knnmeans_cv['test_rmse'].mean(), 4), '\\t', round(knnmeans_cv['test_mae'].mean(), 4))\n",
        "print('KNN ZScore', '\\t', round(knnz_cv['test_rmse'].mean(), 4), '\\t', round(knnz_cv['test_mae'].mean(), 4))\n",
        "print()\n",
        "print('SVD', '\\t\\t', round(svd_cv['test_rmse'].mean(), 4), '\\t', round(svd_cv['test_mae'].mean(), 4))\n",
        "print('SVDpp', '\\t\\t', round(svdpp_cv['test_rmse'].mean(), 4), '\\t', round(svdpp_cv['test_mae'].mean(), 4))\n",
        "print('NMF', '\\t\\t', round(nmf_cv['test_rmse'].mean(), 4), '\\t', round(nmf_cv['test_mae'].mean(), 4))\n",
        "print()\n",
        "print('SlopeOne', '\\t', round(slope_cv['test_rmse'].mean(), 4), '\\t', round(slope_cv['test_mae'].mean(), 4))\n",
        "print('CoClustering', '\\t', round(coclus_cv['test_rmse'].mean(), 4), '\\t', round(coclus_cv['test_mae'].mean(), 4))\n",
        "print()"
      ],
      "execution_count": null,
      "outputs": [
        {
          "output_type": "stream",
          "text": [
            "Algorithm\t RMSE\t\t MAE\n",
            "\n",
            "KNN Basic \t 0.9345 \t 0.5364\n",
            "KNN Means \t 1.0086 \t 0.5204\n",
            "KNN ZScore \t 1.008 \t 0.5231\n",
            "\n",
            "SVD \t\t 0.9649 \t 0.6663\n",
            "SVDpp \t\t 0.9602 \t 0.6581\n",
            "NMF \t\t 1.1249 \t 0.804\n",
            "\n",
            "SlopeOne \t 1.0087 \t 0.511\n",
            "CoClustering \t 1.0504 \t 0.6144\n",
            "\n"
          ],
          "name": "stdout"
        }
      ]
    },
    {
      "cell_type": "markdown",
      "metadata": {
        "id": "anPgtiJdsWF2"
      },
      "source": [
        "### Plot the Error Scores"
      ]
    },
    {
      "cell_type": "code",
      "metadata": {
        "id": "_JnCy84Xq1AF",
        "outputId": "a7f4bc29-4ab4-4db7-9d3f-c524ae6d37c8",
        "colab": {
          "base_uri": "https://localhost:8080/",
          "height": 268
        }
      },
      "source": [
        "# Plot the scores\n",
        "\n",
        "x_algo = ['KNN Basic', 'KNN Means', 'KNN ZScore', 'SVD', 'SVDpp', 'NMF', 'SlopeOne', 'CoClustering']\n",
        "all_algos_cv = [knnbasic_cv, knnmeans_cv, knnz_cv, svd_cv, svdpp_cv, nmf_cv, slope_cv, coclus_cv]\n",
        "\n",
        "rmse_cv = [round(res['test_rmse'].mean(), 4) for res in all_algos_cv]\n",
        "mae_cv = [round(res['test_mae'].mean(), 4) for res in all_algos_cv]\n",
        "\n",
        "plt.figure(figsize=(20,5))\n",
        "\n",
        "plt.subplot(1, 2, 1)\n",
        "plt.title('Comparison of Algorithms on RMSE', loc='center', fontsize=15)\n",
        "plt.plot(x_algo, rmse_cv, label='RMSE', color='darkgreen', marker='o')\n",
        "plt.xlabel('Algorithms', fontsize=15)\n",
        "plt.ylabel('RMSE Value', fontsize=15)\n",
        "plt.legend()\n",
        "plt.grid(ls='dashed')\n",
        "\n",
        "plt.subplot(1, 2, 2)\n",
        "plt.title('Comparison of Algorithms on MAE', loc='center', fontsize=15)\n",
        "plt.plot(x_algo, mae_cv, label='MAE', color='navy', marker='o')\n",
        "plt.xlabel('Algorithms', fontsize=15)\n",
        "plt.ylabel('MAE Value', fontsize=15)\n",
        "plt.legend()\n",
        "plt.grid(ls='dashed')\n",
        "\n",
        "plt.show()\n"
      ],
      "execution_count": null,
      "outputs": [
        {
          "output_type": "display_data",
          "data": {
            "image/png": "[encoded data removed]",
            "text/plain": [
              "<Figure size 1440x360 with 2 Axes>"
            ]
          },
          "metadata": {
            "tags": [],
            "needs_background": "light"
          }
        }
      ]
    },
    {
      "cell_type": "markdown",
      "metadata": {
        "id": "gdnCxY4kreeE"
      },
      "source": [
        "### Evaluation Results\n",
        "\n",
        "We will use RMSE score as our metric for our accuracy score. RMSE punishes more larger errors the same while MAE only punishes every error.\n",
        "\n",
        "**RMSE**:\n",
        " - Winner: KNN Basic (0.9372)\n",
        " - 2nd place: SVDpp (0.9576)\n",
        " - 3rd place: SVD (0.9698)\n",
        "\n",
        "**MAE**:\n",
        " - Winner: KNN with means (0.5175)\n",
        " - 2nd place: KNN with Zscore (0.5207)\n",
        " - 3rd place: KNN Basic (0.5394)\n",
        "\n"
      ]
    },
    {
      "cell_type": "markdown",
      "metadata": {
        "id": "hExRcfKSJB32"
      },
      "source": [
        "## Perform GridSearch CV on top three algorithms - KNN Basic, SVDpp and SVD "
      ]
    },
    {
      "cell_type": "markdown",
      "metadata": {
        "id": "pD05JoGAJdfs"
      },
      "source": [
        "### Hypertuning SVDpp and SVD"
      ]
    },
    {
      "cell_type": "code",
      "metadata": {
        "id": "2EM7fi39rAUj"
      },
      "source": [
        "# Parameter space\n",
        "svd_param_grid = {'n_epochs': [20, 25], \n",
        "                  'lr_all': [0.007, 0.009, 0.01],\n",
        "                  'reg_all': [0.4, 0.6]}\n",
        "\n",
        "# Loop through predefined hyperparameters for SVDpp\n",
        "svdpp_gs = GridSearchCV(SVDpp, svd_param_grid, measures=['rmse', 'mae'], cv=5, n_jobs=5)\n",
        "# Fit your estimator (model) on the training set\n",
        "svdpp_gs.fit(surprise_data)\n",
        "\n",
        "# Loop through predefined hyperparameters for SVD\n",
        "svd_gs = GridSearchCV(SVD, svd_param_grid, measures=['rmse', 'mae'], cv=5, n_jobs=5)\n",
        "# Fit your estimator (model) on the training set\n",
        "svd_gs.fit(surprise_data)"
      ],
      "execution_count": null,
      "outputs": []
    },
    {
      "cell_type": "code",
      "metadata": {
        "id": "JN54V8ArJ6bD",
        "outputId": "af8c2f58-1e87-4d8f-89b5-29d4b21e8630",
        "colab": {
          "base_uri": "https://localhost:8080/",
          "height": 69
        }
      },
      "source": [
        "# SVDpp accuracy score and best parameters\n",
        "print('SVDpp = RMSE:', round(svdpp_gs.best_score['rmse'], 4), '; MAE:', round(svdpp_gs.best_score['mae'], 4))\n",
        "print('RMSE =', svdpp_gs.best_params['rmse'])\n",
        "print('MAE =', svdpp_gs.best_params['mae'])\n"
      ],
      "execution_count": null,
      "outputs": [
        {
          "output_type": "stream",
          "text": [
            "SVDpp = RMSE: 1.0157 ; MAE: 0.7362\n",
            "RMSE = {'n_epochs': 25, 'lr_all': 0.01, 'reg_all': 0.4}\n",
            "MAE = {'n_epochs': 25, 'lr_all': 0.01, 'reg_all': 0.4}\n"
          ],
          "name": "stdout"
        }
      ]
    },
    {
      "cell_type": "code",
      "metadata": {
        "id": "5led-5GPJsxi",
        "outputId": "629f1ae2-49fd-42ad-8eb4-67787061f593",
        "colab": {
          "base_uri": "https://localhost:8080/",
          "height": 69
        }
      },
      "source": [
        "# SVD accuracy score and best parameters\n",
        "print('SVD = RMSE:', round(svd_gs.best_score['rmse'], 4), '; MAE:', round(svd_gs.best_score['mae'], 4))\n",
        "print('RMSE =', svd_gs.best_params['rmse'])\n",
        "print('MAE =', svd_gs.best_params['mae'])"
      ],
      "execution_count": null,
      "outputs": [
        {
          "output_type": "stream",
          "text": [
            "SVD = RMSE: 1.0097 ; MAE: 0.7312\n",
            "RMSE = {'n_epochs': 25, 'lr_all': 0.01, 'reg_all': 0.4}\n",
            "MAE = {'n_epochs': 25, 'lr_all': 0.01, 'reg_all': 0.4}\n"
          ],
          "name": "stdout"
        }
      ]
    },
    {
      "cell_type": "markdown",
      "metadata": {
        "id": "q5vM5aK0MhAv"
      },
      "source": [
        "### Hypertuning KNNBasic, KNNWithMeans, KNNZScore\n",
        "\n",
        "Due to RAM issues, we will only run the KNNBasic()"
      ]
    },
    {
      "cell_type": "code",
      "metadata": {
        "id": "I_7Hy1ZSL-_6",
        "outputId": "e379ae56-e84a-4a28-8726-8939b2a0d59f",
        "colab": {
          "base_uri": "https://localhost:8080/",
          "height": 1000
        }
      },
      "source": [
        "# Selecting the K-neighbors\n",
        "param_grid = {'k': [15, 20, 25, 30, 40, 50, 60]}\n",
        "\n",
        "\n",
        "# Loop through each K-neighbors\n",
        "knnbasic_gs = GridSearchCV(KNNBasic, param_grid, measures=['rmse', 'mae'], cv=5, n_jobs=1)\n",
        "# Train the model on the train set\n",
        "knnbasic_gs.fit(surprise_data)\n"
      ],
      "execution_count": null,
      "outputs": [
        {
          "output_type": "stream",
          "text": [
            "Computing the msd similarity matrix...\n",
            "Done computing similarity matrix.\n",
            "Computing the msd similarity matrix...\n",
            "Done computing similarity matrix.\n",
            "Computing the msd similarity matrix...\n",
            "Done computing similarity matrix.\n",
            "Computing the msd similarity matrix...\n",
            "Done computing similarity matrix.\n",
            "Computing the msd similarity matrix...\n",
            "Done computing similarity matrix.\n",
            "Computing the msd similarity matrix...\n",
            "Done computing similarity matrix.\n",
            "Computing the msd similarity matrix...\n",
            "Done computing similarity matrix.\n",
            "Computing the msd similarity matrix...\n",
            "Done computing similarity matrix.\n",
            "Computing the msd similarity matrix...\n",
            "Done computing similarity matrix.\n",
            "Computing the msd similarity matrix...\n",
            "Done computing similarity matrix.\n",
            "Computing the msd similarity matrix...\n",
            "Done computing similarity matrix.\n",
            "Computing the msd similarity matrix...\n",
            "Done computing similarity matrix.\n",
            "Computing the msd similarity matrix...\n",
            "Done computing similarity matrix.\n",
            "Computing the msd similarity matrix...\n",
            "Done computing similarity matrix.\n",
            "Computing the msd similarity matrix...\n",
            "Done computing similarity matrix.\n",
            "Computing the msd similarity matrix...\n",
            "Done computing similarity matrix.\n",
            "Computing the msd similarity matrix...\n",
            "Done computing similarity matrix.\n",
            "Computing the msd similarity matrix...\n",
            "Done computing similarity matrix.\n",
            "Computing the msd similarity matrix...\n",
            "Done computing similarity matrix.\n",
            "Computing the msd similarity matrix...\n",
            "Done computing similarity matrix.\n",
            "Computing the msd similarity matrix...\n",
            "Done computing similarity matrix.\n",
            "Computing the msd similarity matrix...\n",
            "Done computing similarity matrix.\n",
            "Computing the msd similarity matrix...\n",
            "Done computing similarity matrix.\n",
            "Computing the msd similarity matrix...\n",
            "Done computing similarity matrix.\n",
            "Computing the msd similarity matrix...\n",
            "Done computing similarity matrix.\n",
            "Computing the msd similarity matrix...\n",
            "Done computing similarity matrix.\n",
            "Computing the msd similarity matrix...\n",
            "Done computing similarity matrix.\n",
            "Computing the msd similarity matrix...\n",
            "Done computing similarity matrix.\n",
            "Computing the msd similarity matrix...\n",
            "Done computing similarity matrix.\n",
            "Computing the msd similarity matrix...\n",
            "Done computing similarity matrix.\n",
            "Computing the msd similarity matrix...\n",
            "Done computing similarity matrix.\n",
            "Computing the msd similarity matrix...\n",
            "Done computing similarity matrix.\n",
            "Computing the msd similarity matrix...\n",
            "Done computing similarity matrix.\n",
            "Computing the msd similarity matrix...\n",
            "Done computing similarity matrix.\n",
            "Computing the msd similarity matrix...\n",
            "Done computing similarity matrix.\n"
          ],
          "name": "stdout"
        }
      ]
    },
    {
      "cell_type": "code",
      "metadata": {
        "id": "mhC9BKLJS2fT"
      },
      "source": [
        "x = [15, 20, 25, 30, 40, 50, 60]\n",
        "y1 = knnbasic_gs.cv_results['mean_test_rmse']"
      ],
      "execution_count": null,
      "outputs": []
    },
    {
      "cell_type": "code",
      "metadata": {
        "id": "dhABs2ksUlOM",
        "outputId": "038fd9e1-6696-4630-a5d1-39869ee5444c",
        "colab": {
          "base_uri": "https://localhost:8080/",
          "height": 357
        }
      },
      "source": [
        "# Plot the RMSE scores for each K in KnnBasic\n",
        "plt.figure(figsize=(18,5))\n",
        "\n",
        "plt.subplot(1, 2, 1)\n",
        "plt.title('K Neighbors vs RMSE', loc='center', fontsize=15)\n",
        "plt.plot(x, y1, label='KNNBasic', color='lightcoral', marker='o')\n",
        "plt.xlabel('K Neighbor', fontsize=15)\n",
        "plt.ylabel('RMSE Value', fontsize=15)\n",
        "plt.legend()\n",
        "plt.grid(ls='dotted')\n",
        "\n",
        "plt.show()\n"
      ],
      "execution_count": null,
      "outputs": [
        {
          "output_type": "display_data",
          "data": {
            "image/png": "[encoded data removed]",
            "text/plain": [
              "<Figure size 1296x360 with 1 Axes>"
            ]
          },
          "metadata": {
            "tags": [],
            "needs_background": "light"
          }
        }
      ]
    },
    {
      "cell_type": "markdown",
      "metadata": {
        "id": "vvCMxbKpjJ5b"
      },
      "source": [
        "### Print out the best model and scores"
      ]
    },
    {
      "cell_type": "code",
      "metadata": {
        "id": "GuWXPW62hQRT",
        "outputId": "2a28d291-d5bd-4766-a6a4-9128e8a92367",
        "colab": {
          "base_uri": "https://localhost:8080/",
          "height": 69
        }
      },
      "source": [
        "print('KNN Basic = RMSE:', round(knnbasic_gs.best_score['rmse'], 4), '; MAE:', round(knnbasic_gs.best_score['mae'], 4))\n",
        "print('SVDpp = RMSE:', round(svdpp_gs.best_score['rmse'], 4), '; MAE:', round(svdpp_gs.best_score['mae'], 4))\n",
        "print('SVD = RMSE:', round(svd_gs.best_score['rmse'], 4), '; MAE:', round(svd_gs.best_score['mae'], 4))\n"
      ],
      "execution_count": null,
      "outputs": [
        {
          "output_type": "stream",
          "text": [
            "KNN Basic = RMSE: 0.9344 ; MAE: 0.5261\n",
            "SVDpp = RMSE: 1.0157 ; MAE: 0.7362\n",
            "SVD = RMSE: 1.0097 ; MAE: 0.7312\n"
          ],
          "name": "stdout"
        }
      ]
    },
    {
      "cell_type": "markdown",
      "metadata": {
        "id": "tpiN7F4Glds-"
      },
      "source": [
        "The best performing model is the KNN basic with an RMSE score of 0.9339 and MAE of 0.5276"
      ]
    },
    {
      "cell_type": "markdown",
      "metadata": {
        "id": "e-W6gj5uj-Lh"
      },
      "source": [
        "### Get the best parameter for KNN Basic"
      ]
    },
    {
      "cell_type": "code",
      "metadata": {
        "id": "FioyVEDNg5Yb",
        "outputId": "1068b723-6698-4dfd-ed16-96664e8e608d",
        "colab": {
          "base_uri": "https://localhost:8080/",
          "height": 34
        }
      },
      "source": [
        "print(knnbasic_gs.best_params['rmse'])"
      ],
      "execution_count": null,
      "outputs": [
        {
          "output_type": "stream",
          "text": [
            "{'k': 15}\n"
          ],
          "name": "stdout"
        }
      ]
    },
    {
      "cell_type": "markdown",
      "metadata": {
        "id": "AA7H0rtKrCW1"
      },
      "source": [
        "## Apply Hypertuned Model"
      ]
    },
    {
      "cell_type": "markdown",
      "metadata": {
        "id": "xGqHXZMEwoJy"
      },
      "source": [
        "Comment this out to choose which model to use.\n",
        "\n",
        "For best parameters:\n",
        "\n",
        "\n",
        "\n",
        "*   KNNBasic(k = 15)\n",
        "*   SVDpp(n_epochs=25, lr_all=0.01, reg_all=0.4)\n",
        "\n"
      ]
    },
    {
      "cell_type": "code",
      "metadata": {
        "id": "zbTa4e8rpmqp"
      },
      "source": [
        "# best parameters for knn basic is k=15\n",
        "algo = KNNBasic(k = 15)"
      ],
      "execution_count": null,
      "outputs": []
    },
    {
      "cell_type": "code",
      "metadata": {
        "id": "OisB99QEuU58"
      },
      "source": [
        "# # best parameters for SVDpp (we already hypertuned this)\n",
        "# algo = SVDpp(n_epochs=25, lr_all=0.01, reg_all=0.4)"
      ],
      "execution_count": null,
      "outputs": []
    },
    {
      "cell_type": "markdown",
      "metadata": {
        "id": "qKMJ8xgJrvYK"
      },
      "source": [
        "### Create a train set and test set"
      ]
    },
    {
      "cell_type": "code",
      "metadata": {
        "id": "NZ87C_NmbH7F"
      },
      "source": [
        "# As we're loading a custom dataset, we need to define a reader.\n",
        "reader = Reader(rating_scale=(1, 5))\n",
        "\n",
        "# The columns must correspond to user id, item id and ratings (in that order).\n",
        "surprise_data = Dataset.load_from_df(data[['reviewer_id', 'product_id', 'rating']], reader)"
      ],
      "execution_count": null,
      "outputs": []
    },
    {
      "cell_type": "code",
      "metadata": {
        "id": "6Xbyrt6yss0e",
        "outputId": "1740332e-41ca-432e-a66c-591d427fc787",
        "colab": {
          "base_uri": "https://localhost:8080/",
          "height": 86
        }
      },
      "source": [
        "# Split the data into train and validation set\n",
        "trainset, testset = train_test_split(surprise_data, test_size=0.2)\n",
        "print('Number of users: ', trainset.n_users, '\\n')\n",
        "print('Number of items: ', trainset.n_items, '\\n')"
      ],
      "execution_count": null,
      "outputs": [
        {
          "output_type": "stream",
          "text": [
            "Number of users:  19451 \n",
            "\n",
            "Number of items:  7340 \n",
            "\n"
          ],
          "name": "stdout"
        }
      ]
    },
    {
      "cell_type": "markdown",
      "metadata": {
        "id": "i7pjL9jTwJCp"
      },
      "source": [
        "### Train the model on the train set"
      ]
    },
    {
      "cell_type": "code",
      "metadata": {
        "id": "zwMDLWdwwiJz",
        "outputId": "164be820-7c4c-49d0-b1f8-69272ef42194",
        "colab": {
          "base_uri": "https://localhost:8080/",
          "height": 69
        }
      },
      "source": [
        "algo.fit(trainset)"
      ],
      "execution_count": null,
      "outputs": [
        {
          "output_type": "stream",
          "text": [
            "Computing the msd similarity matrix...\n",
            "Done computing similarity matrix.\n"
          ],
          "name": "stdout"
        },
        {
          "output_type": "execute_result",
          "data": {
            "text/plain": [
              "<surprise.prediction_algorithms.knns.KNNBasic at 0x7fd985c16dd8>"
            ]
          },
          "metadata": {
            "tags": []
          },
          "execution_count": 29
        }
      ]
    },
    {
      "cell_type": "markdown",
      "metadata": {
        "id": "9KAazsv8wSlE"
      },
      "source": [
        "### Test the model on the test set"
      ]
    },
    {
      "cell_type": "code",
      "metadata": {
        "id": "cxOZa_xkvA0A"
      },
      "source": [
        "predictions = algo.test(testset)"
      ],
      "execution_count": null,
      "outputs": []
    },
    {
      "cell_type": "code",
      "metadata": {
        "id": "A5PUd_Z0fj3P",
        "outputId": "84540116-3db4-407a-a862-3718b5722658",
        "colab": {
          "base_uri": "https://localhost:8080/",
          "height": 211
        }
      },
      "source": [
        "predictions[:10]"
      ],
      "execution_count": null,
      "outputs": [
        {
          "output_type": "execute_result",
          "data": {
            "text/plain": [
              "[Prediction(uid='A3PZARP3I8BWZH', iid='B00STURRUO', r_ui=5.0, est=4.337778867369454, details={'was_impossible': True, 'reason': 'User and/or item is unknown.'}),\n",
              " Prediction(uid='ASCS6MNT06EG3', iid='B0013J90AS', r_ui=5.0, est=5, details={'actual_k': 15, 'was_impossible': False}),\n",
              " Prediction(uid='AX6WUQ0AN080R', iid='B01ALFOC0W', r_ui=5.0, est=4.337778867369454, details={'was_impossible': True, 'reason': 'Not enough neighbors.'}),\n",
              " Prediction(uid='A2JEYPE7344UAT', iid='B0014SQQ3M', r_ui=5.0, est=4.337778867369454, details={'was_impossible': True, 'reason': 'User and/or item is unknown.'}),\n",
              " Prediction(uid='A39M4GS55JCQCM', iid='B000FOI48G', r_ui=5.0, est=5, details={'actual_k': 15, 'was_impossible': False}),\n",
              " Prediction(uid='AQ4CVUUMW9ZZC', iid='B00MQTR48E', r_ui=1.0, est=4.337778867369454, details={'was_impossible': True, 'reason': 'Not enough neighbors.'}),\n",
              " Prediction(uid='AV3S23LM21YGM', iid='B014VQ890G', r_ui=4.0, est=4.337778867369454, details={'was_impossible': True, 'reason': 'User and/or item is unknown.'}),\n",
              " Prediction(uid='A1P37DAY13X0QJ', iid='B0091OCDRE', r_ui=5.0, est=4.8, details={'actual_k': 3, 'was_impossible': False}),\n",
              " Prediction(uid='AWDVA5CAQFLTP', iid='B0013NB7DW', r_ui=3.0, est=3.0, details={'actual_k': 15, 'was_impossible': False}),\n",
              " Prediction(uid='A1DTAZVQZAJVTA', iid='B00UQWL43O', r_ui=5.0, est=4.337778867369454, details={'was_impossible': True, 'reason': 'User and/or item is unknown.'})]"
            ]
          },
          "metadata": {
            "tags": []
          },
          "execution_count": 31
        }
      ]
    },
    {
      "cell_type": "markdown",
      "metadata": {
        "id": "Iy693o3gxlZ7"
      },
      "source": [
        "### Get the predictions\n",
        "\n",
        "We'll have to create a function to get the recommended product and its rating that was not reviewed by the user"
      ]
    },
    {
      "cell_type": "code",
      "metadata": {
        "id": "NlOJ3xATgA_9"
      },
      "source": [
        "def custom_get_predictions(user_id, num_predictions): \n",
        "\n",
        "  # all the unique product_id values \n",
        "  iids = data['product_id'].unique()\n",
        "\n",
        "  # get every product_id reviewed by the user\n",
        "  iids_rated_by_user = data.loc[data['reviewer_id'] == user_id, 'product_id']\n",
        "\n",
        "  # get the product_ids that were not reviewed by the user\n",
        "  iids_to_predict = np.setdiff1d(iids, iids_rated_by_user)\n",
        "\n",
        "  # For this we have to create another dataset with the iids we want to predict \n",
        "  # in the sparse format as before of: uid, iid, rating. \n",
        "  \n",
        "  # We'll just arbitrarily set all the ratings of this test set to 4,\n",
        "  # as they are not needed. Let's do this, then output the first prediction.\n",
        "  testset = [[user_id, iid, 4] for iid in iids_to_predict]\n",
        "  \n",
        "  # Test the algorithm and get the predictions\n",
        "  predictions = algo.test(testset)\n",
        "  \n",
        "  # Gets the number of predictions wanted\n",
        "  neg_num_predictions = num_predictions * -1\n",
        "\n",
        "  # Gets just the rating estimate \n",
        "  pred_ratings = np.array([pred.est for pred in predictions])\n",
        "\n",
        "  # # Find the index of the highest predicted rating\n",
        "  i_max = np.argpartition(pred_ratings, neg_num_predictions)[neg_num_predictions:]\n",
        "  \n",
        "  # Use this to find the corresponding iid to recommmed\n",
        "  iids = iids_to_predict[i_max]\n",
        "\n",
        "  for i in range(len(iids)):\n",
        "    iid = iids[i]\n",
        "    item_title = df_meta.loc[df_meta.asin == iid, \"title\"].values[0]\n",
        "    print('#{0} ({1}) recommendation for user A2GJX2KCUSR0EI is {2}: {3}'.format(i, pred_ratings[i_max[i]], iid, item_title))\n",
        "\n"
      ],
      "execution_count": null,
      "outputs": []
    },
    {
      "cell_type": "code",
      "metadata": {
        "id": "XTO9pqHlgeMo",
        "outputId": "1c7cc450-3d10-4cc1-98b7-fdc661c18333",
        "colab": {
          "base_uri": "https://localhost:8080/",
          "height": 141
        }
      },
      "source": [
        "# Apply the function we created from the test set\n",
        "reviewer = testset[0][0]\n",
        "print(\"Getting predictions for reviewer:\", reviewer)\n",
        "custom_get_predictions(reviewer, 5)"
      ],
      "execution_count": null,
      "outputs": [
        {
          "output_type": "stream",
          "text": [
            "Getting predictions for reviewer: A3PZARP3I8BWZH\n",
            "#0 (5.0) recommendation for user A2GJX2KCUSR0EI is B01C4ZAPGM: IntiMD COOCHY PLUS Intimate Shave Cream Gel Rash-Free With MOISTURIZING+ 8oz Squeeze Bottle\n",
            "#1 (5.0) recommendation for user A2GJX2KCUSR0EI is B00NE5Q9JO: Andalou Naturals 1000 Roses Soothing Body Lotion, 8 Ounce\n",
            "#2 (5.0) recommendation for user A2GJX2KCUSR0EI is B01CRSWZAU: Bona Fide Beauty Czech Glass Nail Files, Pearl Black Red Color Combination, Medium Size,\n",
            "#3 (5.0) recommendation for user A2GJX2KCUSR0EI is B00JGZNL4W: MasksCraft by Zappbo&reg; Best White Polka Dot Black Silk Mask with Carry Pouch for Men and Ladies of All Ages and All Shift Works - 100% Money Back Guarantee - Best Contoured Concave Sleeping Eye Mask Light As a Feather for Sleeping and Relaxation. The color is Black and the Convex Cup Shaped Mask is Essential for tight fit on the face to prevent light from coming in. Also cute and best for Novelty, Kids, Children, Teens and Women.\n",
            "#4 (5.0) recommendation for user A2GJX2KCUSR0EI is B0113JFW9U: Banggood 1 Set Nose Up Lifting Shaping Clipper Shaper 3 Size\n"
          ],
          "name": "stdout"
        }
      ]
    }
  ]
}
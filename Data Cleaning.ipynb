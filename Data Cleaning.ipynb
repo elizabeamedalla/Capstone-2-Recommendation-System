{
 "cells": [
  {
   "cell_type": "markdown",
   "metadata": {},
   "source": [
    "# Data Cleaning"
   ]
  },
  {
   "cell_type": "markdown",
   "metadata": {},
   "source": [
    "# Import Packages"
   ]
  },
  {
   "cell_type": "code",
   "execution_count": 1,
   "metadata": {},
   "outputs": [],
   "source": [
    "import os\n",
    "import json \n",
    "import gzip\n",
    "import pandas as pd"
   ]
  },
  {
   "cell_type": "markdown",
   "metadata": {},
   "source": [
    "# Load Data"
   ]
  },
  {
   "cell_type": "code",
   "execution_count": 2,
   "metadata": {},
   "outputs": [
    {
     "ename": "SyntaxError",
     "evalue": "invalid syntax (<ipython-input-2-86a513e50e8a>, line 18)",
     "output_type": "error",
     "traceback": [
      "\u001b[0;36m  File \u001b[0;32m\"<ipython-input-2-86a513e50e8a>\"\u001b[0;36m, line \u001b[0;32m18\u001b[0m\n\u001b[0;31m    print(len(meta), len(reviews))\u001b[0m\n\u001b[0m        ^\u001b[0m\n\u001b[0;31mSyntaxError\u001b[0m\u001b[0;31m:\u001b[0m invalid syntax\n"
     ]
    }
   ],
   "source": [
    "### load the meta data\n",
    "\n",
    "meta = []\n",
    "reviews = []\n",
    "\n",
    "# Beauty products metadata\n",
    "with gzip.open('data/meta_All_Beauty.json.gz') as f:\n",
    "    for l in f:\n",
    "        meta.append(json.loads(l.strip()))\n",
    "\n",
    "# Beauty products reviews\n",
    "with gzip.open('data/All_Beauty.json.gz') as f:\n",
    "    for l in f:\n",
    "        reviews.append(json.loads(l.strip())\n",
    "        \n",
    "    \n",
    "# total length of list, this number equals total number of products\n",
    "print(len(meta), len(reviews))\n",
    "\n",
    "# first row of the list\n",
    "print(meta[0])\n",
    "print(reviews[0])"
   ]
  },
  {
   "cell_type": "code",
   "execution_count": null,
   "metadata": {},
   "outputs": [],
   "source": [
    "df_meta = pd.DataFrame.from_dict(meta)\n",
    "df_reviews = pd.DataFrame.from_dict(reviews)"
   ]
  },
  {
   "cell_type": "markdown",
   "metadata": {},
   "source": [
    "# Inspect Data"
   ]
  },
  {
   "cell_type": "markdown",
   "metadata": {},
   "source": [
    "## Metadata"
   ]
  },
  {
   "cell_type": "code",
   "execution_count": null,
   "metadata": {},
   "outputs": [],
   "source": [
    "df_meta.head(3)"
   ]
  },
  {
   "cell_type": "code",
   "execution_count": null,
   "metadata": {},
   "outputs": [],
   "source": [
    "df_meta.info()"
   ]
  },
  {
   "cell_type": "markdown",
   "metadata": {},
   "source": [
    "*   title - product name\n",
    "*   image - link of the source of image\n",
    "*   brand - the name of the brand of the product\n",
    "*   rank - information relevant to the rank of the sales\n",
    "*   main_cat - the categories the product belong to\n",
    "*   asin - Amazon product id\n",
    "*   description - brief description of the product\n",
    "*   also_view\n",
    "*   also_buy\n",
    "*   price\n",
    "*   similar_item\n",
    "*   details\n",
    "*   feature\n",
    "*   tech1\n",
    "*    date "
   ]
  },
  {
   "cell_type": "markdown",
   "metadata": {},
   "source": [
    "### Inspecting item frequency in 'asin' column"
   ]
  },
  {
   "cell_type": "code",
   "execution_count": null,
   "metadata": {},
   "outputs": [],
   "source": [
    "print(len(df_meta['asin'].unique().tolist()))\n",
    "df_meta['asin'].value_counts()"
   ]
  },
  {
   "cell_type": "code",
   "execution_count": null,
   "metadata": {},
   "outputs": [],
   "source": [
    "# Let's inspect the 'asin' with ID: B00008WMNI\n",
    "id = \"B0002CD01M\"\n",
    "df_meta.loc[df_meta['asin'] == id]"
   ]
  },
  {
   "cell_type": "markdown",
   "metadata": {},
   "source": [
    "There are duplicate entries for the same product ID. The `asin` column needs to be compltely unique, so we will want to drop duplicates."
   ]
  },
  {
   "cell_type": "markdown",
   "metadata": {},
   "source": [
    "## Reviews"
   ]
  },
  {
   "cell_type": "code",
   "execution_count": null,
   "metadata": {},
   "outputs": [],
   "source": [
    "df_reviews.head(3)"
   ]
  },
  {
   "cell_type": "code",
   "execution_count": null,
   "metadata": {},
   "outputs": [],
   "source": [
    "df_reviews.info()"
   ]
  },
  {
   "cell_type": "markdown",
   "metadata": {},
   "source": [
    "*   overall - the rating of the product ranging from 1 to 5\n",
    "\n",
    "*   verified - if the reviewer is a verified customer in Amazon\n",
    "\n",
    "*   reviewTime - the time of the review\n",
    "\n",
    "*   reviewerID - the id of the user who has given the review\n",
    "\n",
    "*   asin - Amazon product id\n",
    "\n",
    "*   reviewerName - name of the user who has given the review\n",
    "\n",
    "*   reviewText - the actual content of the review\n",
    "\n",
    "*   summary - the title of the review\n",
    "\n",
    "*   unixReviewTime - the time of the review in Unix format\n",
    "\n",
    "*   vote - amount of votes regarding the review\n",
    "\n",
    "*   style - \n",
    "\n",
    "*   image - \n"
   ]
  },
  {
   "cell_type": "markdown",
   "metadata": {},
   "source": [
    "### Inspect the Reviewer by reviewerID\n",
    "This will give us the reviews by a certain reviewer"
   ]
  },
  {
   "cell_type": "code",
   "execution_count": null,
   "metadata": {},
   "outputs": [],
   "source": [
    "# Let's inspect the Reviewer by ID: A2GJX2KCUSR0EI\n",
    "id = \"A1KSC91G9AIY2Z\"\n",
    "df_reviews.loc[df_reviews['reviewerID'] == id]"
   ]
  },
  {
   "cell_type": "markdown",
   "metadata": {},
   "source": [
    "### Show all of the reviewer ID for a specific name\n",
    "\n",
    "Different reviewerIDs can have the same name. Let's who all the different reviewerDs for the same name.\n",
    "Even uf they have the same, reviewers are mainly identified by their reviewerID.\n"
   ]
  },
  {
   "cell_type": "code",
   "execution_count": null,
   "metadata": {},
   "outputs": [],
   "source": [
    "# Let's inspect the reviewer with reviewerName: Sarah\n",
    "name = \"Sarah\"\n",
    "reviewer_name = df_reviews.loc[df_reviews['reviewerName'] == name]\n",
    "print(reviewer_name['reviewerID'].value_counts())\n",
    "reviewer_name"
   ]
  },
  {
   "cell_type": "markdown",
   "metadata": {},
   "source": [
    "# Clean data before merge"
   ]
  },
  {
   "cell_type": "markdown",
   "metadata": {},
   "source": [
    "## Drop duplicates of metadata df \n",
    "We need to make sure that the `asin` column is completely unique"
   ]
  },
  {
   "cell_type": "code",
   "execution_count": null,
   "metadata": {},
   "outputs": [],
   "source": [
    "df_meta = df_meta.drop_duplicates('asin', keep=\"first\")\n",
    "df_meta['asin'].value_counts()"
   ]
  },
  {
   "cell_type": "markdown",
   "metadata": {},
   "source": [
    "## Fill missing values in the review and metadata df"
   ]
  },
  {
   "cell_type": "code",
   "execution_count": null,
   "metadata": {},
   "outputs": [],
   "source": [
    "def missing(dataset):\n",
    "    columns = dataset.columns\n",
    "    print('MISSING ROWS per COLUMN')\n",
    "    for column in columns:\n",
    "        percentage = (dataset[column].isnull().sum() / len(dataset)) * 100\n",
    "        print('{}: {}, {:0.2f}%'.format(column, dataset[column].isnull().sum(), percentage))"
   ]
  },
  {
   "cell_type": "code",
   "execution_count": null,
   "metadata": {},
   "outputs": [],
   "source": [
    "## remove rows with unformatted title (i.e. some 'title' may still contain html style content)\n",
    "df_meta = df_meta.fillna('NaN')\n",
    "missing(df_meta)"
   ]
  },
  {
   "cell_type": "code",
   "execution_count": null,
   "metadata": {},
   "outputs": [],
   "source": [
    "df_reviews = df_reviews.fillna('NaN')\n",
    "missing(df_reviews)"
   ]
  },
  {
   "cell_type": "markdown",
   "metadata": {},
   "source": [
    "## Convert times to datetimes in the review df"
   ]
  },
  {
   "cell_type": "code",
   "execution_count": null,
   "metadata": {},
   "outputs": [],
   "source": [
    "# converting to 'reviewName' to datetime format\n",
    "df_reviews['reviewTime'] = pd.to_datetime(df_reviews['reviewTime'])\n",
    "df_reviews['unixReviewTime'] = pd.to_datetime(df_reviews['unixReviewTime'],unit='s')\n",
    "\n",
    "print(type(df_reviews['reviewTime'][0]), type(df_reviews['unixReviewTime'][0]))"
   ]
  },
  {
   "cell_type": "markdown",
   "metadata": {},
   "source": [
    "# Merge review and metadata by `asin` column"
   ]
  },
  {
   "cell_type": "code",
   "execution_count": null,
   "metadata": {},
   "outputs": [],
   "source": [
    "df = pd.merge(df_reviews, df_meta, on='asin', sort='reviewTime')\n",
    "df.head(3)"
   ]
  },
  {
   "cell_type": "code",
   "execution_count": null,
   "metadata": {},
   "outputs": [],
   "source": [
    "df.info()"
   ]
  },
  {
   "cell_type": "markdown",
   "metadata": {},
   "source": [
    "# Clean data after merge"
   ]
  },
  {
   "cell_type": "markdown",
   "metadata": {},
   "source": [
    "## Drop and rename columns"
   ]
  },
  {
   "cell_type": "code",
   "execution_count": null,
   "metadata": {},
   "outputs": [],
   "source": [
    "df = df.drop(columns=['style', 'image_x', 'image_y', 'feature', 'tech1', 'date', 'unixReviewTime'])\n",
    "\n",
    "rename_dict = {\n",
    "    \"overall\": \"rating\", \n",
    "    \"asin\": \"product_id\",\n",
    "    \"reviewTime\": \"review_time\",\n",
    "    \"reviewerID\": \"reviewer_id\",\n",
    "    \"reviewerName\": \"reviewer_name\",\n",
    "    \"reviewText\": \"reviewer_text\"  \n",
    "}\n",
    "\n",
    "df = df.rename(columns=rename_dict)"
   ]
  },
  {
   "cell_type": "code",
   "execution_count": null,
   "metadata": {},
   "outputs": [],
   "source": [
    "df.head(3)"
   ]
  },
  {
   "cell_type": "markdown",
   "metadata": {},
   "source": [
    "## Change `rating` to integer data type"
   ]
  },
  {
   "cell_type": "code",
   "execution_count": null,
   "metadata": {},
   "outputs": [],
   "source": [
    "df['rating'] = df['rating'].astype(int)\n",
    "df['rating'].head(3)"
   ]
  },
  {
   "cell_type": "markdown",
   "metadata": {},
   "source": [
    "# Export data"
   ]
  },
  {
   "cell_type": "code",
   "execution_count": null,
   "metadata": {},
   "outputs": [],
   "source": [
    "df.to_csv('./data/final_amazon_beauty.csv', index=False)"
   ]
  },
  {
   "cell_type": "code",
   "execution_count": null,
   "metadata": {},
   "outputs": [],
   "source": []
  }
 ],
 "metadata": {
  "kernelspec": {
   "display_name": "Python 3",
   "language": "python",
   "name": "python3"
  },
  "language_info": {
   "codemirror_mode": {
    "name": "ipython",
    "version": 3
   },
   "file_extension": ".py",
   "mimetype": "text/x-python",
   "name": "python",
   "nbconvert_exporter": "python",
   "pygments_lexer": "ipython3",
   "version": "3.7.6"
  }
 },
 "nbformat": 4,
 "nbformat_minor": 4
}

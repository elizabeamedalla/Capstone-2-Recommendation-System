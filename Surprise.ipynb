{
 "cells": [
  {
   "cell_type": "code",
   "execution_count": 1,
   "metadata": {},
   "outputs": [
    {
     "name": "stdout",
     "output_type": "stream",
     "text": [
      "Requirement already satisfied: surprise in /Users/bea/opt/anaconda3/lib/python3.7/site-packages (0.1)\r\n",
      "Requirement already satisfied: scikit-surprise in /Users/bea/opt/anaconda3/lib/python3.7/site-packages (from surprise) (1.1.1)\r\n",
      "Requirement already satisfied: numpy>=1.11.2 in /Users/bea/opt/anaconda3/lib/python3.7/site-packages (from scikit-surprise->surprise) (1.18.1)\r\n",
      "Requirement already satisfied: scipy>=1.0.0 in /Users/bea/opt/anaconda3/lib/python3.7/site-packages (from scikit-surprise->surprise) (1.4.1)\r\n",
      "Requirement already satisfied: six>=1.10.0 in /Users/bea/opt/anaconda3/lib/python3.7/site-packages (from scikit-surprise->surprise) (1.14.0)\r\n",
      "Requirement already satisfied: joblib>=0.11 in /Users/bea/opt/anaconda3/lib/python3.7/site-packages (from scikit-surprise->surprise) (0.14.1)\r\n"
     ]
    }
   ],
   "source": [
    "import os\n",
    "import pandas as pd\n",
    "import numpy as np\n",
    "!pip install surprise\n",
    "#!pip install scikit-surprise # if the first line does not work"
   ]
  },
  {
   "cell_type": "markdown",
   "metadata": {},
   "source": [
    "# Create Dataframe"
   ]
  },
  {
   "cell_type": "code",
   "execution_count": 2,
   "metadata": {},
   "outputs": [
    {
     "name": "stderr",
     "output_type": "stream",
     "text": [
      "/Users/bea/opt/anaconda3/lib/python3.7/site-packages/IPython/core/interactiveshell.py:3063: DtypeWarning: Columns (8) have mixed types.Specify dtype option on import or set low_memory=False.\n",
      "  interactivity=interactivity, compiler=compiler, result=result)\n"
     ]
    }
   ],
   "source": [
    "# load data\n",
    "df = pd.read_csv('./data/final_amazon_beauty.csv')\n",
    "data = df[['rating', 'reviewer_id', 'product_id']]"
   ]
  },
  {
   "cell_type": "markdown",
   "metadata": {},
   "source": [
    "# Using Surprise"
   ]
  },
  {
   "cell_type": "code",
   "execution_count": 3,
   "metadata": {},
   "outputs": [],
   "source": [
    "# from surprise import SVD, Reader\n",
    "# from surprise import Dataset\n",
    "# from surprise.model_selection import cross_validate\n",
    "\n",
    "# # # Load the dataset (download it if needed)\n",
    "# # data = Dataset.load_builtin('ml-100k')\n",
    "\n",
    "# # As we're loading a custom dataset, we need to define a reader.\n",
    "# reader = Reader(rating_scale=(0.5, 5))\n",
    "\n",
    "# # Use the famous SVD algorithm\n",
    "# algo = SVD()\n",
    "\n",
    "# # Run 5-fold cross-validation and then print results\n",
    "# cross_validate(algo, data, measures=['RMSE', 'MAE'], cv=5, verbose=True)"
   ]
  },
  {
   "cell_type": "code",
   "execution_count": 4,
   "metadata": {},
   "outputs": [
    {
     "name": "stdout",
     "output_type": "stream",
     "text": [
      "Evaluating RMSE, MAE of algorithm SVD on 5 split(s).\n",
      "\n",
      "                  Fold 1  Fold 2  Fold 3  Fold 4  Fold 5  Mean    Std     \n",
      "RMSE (testset)    1.2492  1.2545  1.2506  1.2597  1.2595  1.2547  0.0044  \n",
      "MAE (testset)     0.9694  0.9707  0.9702  0.9765  0.9749  0.9723  0.0028  \n",
      "Fit time          20.76   18.00   17.60   20.91   17.54   18.96   1.54    \n",
      "Test time         0.61    0.57    0.57    0.62    0.57    0.59    0.02    \n"
     ]
    },
    {
     "data": {
      "text/plain": [
       "{'test_rmse': array([1.24915503, 1.25449262, 1.25056818, 1.25974427, 1.25945471]),\n",
       " 'test_mae': array([0.96942168, 0.9706695 , 0.97015962, 0.97652494, 0.97490023]),\n",
       " 'fit_time': (20.75985813140869,\n",
       "  18.00378680229187,\n",
       "  17.60459327697754,\n",
       "  20.90755581855774,\n",
       "  17.543304920196533),\n",
       " 'test_time': (0.6109521389007568,\n",
       "  0.5674901008605957,\n",
       "  0.5658318996429443,\n",
       "  0.6197917461395264,\n",
       "  0.5749969482421875)}"
      ]
     },
     "execution_count": 4,
     "metadata": {},
     "output_type": "execute_result"
    }
   ],
   "source": [
    "# from surprise import Reader, Dataset, SVD, evaluate\n",
    "\n",
    "# Following Surprise documentation examples \n",
    "# https://surprise.readthedocs.io/en/stable/getting_started.html\n",
    "\n",
    "from surprise import Reader, Dataset, SVD, NormalPredictor\n",
    "from collections import defaultdict\n",
    "\n",
    "\n",
    "from surprise import Dataset\n",
    "from surprise.model_selection import cross_validate\n",
    "\n",
    "\n",
    "# As we're loading a custom dataset, we need to define a reader.\n",
    "reader = Reader(rating_scale=(0.5, 5))\n",
    "\n",
    "# The columns must correspond to user id, item id and ratings (in that order).\n",
    "data = Dataset.load_from_df(data[['reviewer_id', 'product_id', 'rating']], reader)\n",
    "\n",
    "# We'll use the famous SVD algorithm.\n",
    "algo = SVD()\n",
    "\n",
    "# Run 5-fold cross-validation and print results\n",
    "cross_validate(algo, data, measures=['RMSE', 'MAE'], cv=5, verbose=True)"
   ]
  },
  {
   "cell_type": "code",
   "execution_count": 5,
   "metadata": {},
   "outputs": [
    {
     "name": "stdout",
     "output_type": "stream",
     "text": [
      "1.2924536527485295\n",
      "{'n_epochs': 10, 'lr_all': 0.005, 'reg_all': 0.4}\n"
     ]
    }
   ],
   "source": [
    "from surprise.model_selection import GridSearchCV\n",
    "\n",
    "param_grid = {'n_epochs': [5, 10], 'lr_all': [0.002, 0.005],\n",
    "              'reg_all': [0.4, 0.6]}\n",
    "gs = GridSearchCV(SVD, param_grid, measures=['rmse', 'mae'], cv=3)\n",
    "\n",
    "gs.fit(data)\n",
    "\n",
    "# best RMSE score\n",
    "print(gs.best_score['rmse'])\n",
    "\n",
    "# combination of parameters that gave the best RMSE score\n",
    "print(gs.best_params['rmse'])"
   ]
  },
  {
   "cell_type": "code",
   "execution_count": 6,
   "metadata": {},
   "outputs": [
    {
     "data": {
      "text/plain": [
       "<surprise.prediction_algorithms.matrix_factorization.SVD at 0x7f8e69272e10>"
      ]
     },
     "execution_count": 6,
     "metadata": {},
     "output_type": "execute_result"
    }
   ],
   "source": [
    "# We can now use the algorithm that yields the best rmse:\n",
    "algo = gs.best_estimator['rmse']\n",
    "trainset = data.build_full_trainset()\n",
    "algo.fit(trainset)"
   ]
  },
  {
   "cell_type": "code",
   "execution_count": 7,
   "metadata": {},
   "outputs": [
    {
     "data": {
      "text/plain": [
       "Prediction(uid=621, iid=1, r_ui=None, est=4.112092528511223, details={'was_impossible': False})"
      ]
     },
     "execution_count": 7,
     "metadata": {},
     "output_type": "execute_result"
    }
   ],
   "source": [
    "algo.predict(621,1)"
   ]
  },
  {
   "cell_type": "code",
   "execution_count": 8,
   "metadata": {},
   "outputs": [
    {
     "data": {
      "text/html": [
       "<div>\n",
       "<style scoped>\n",
       "    .dataframe tbody tr th:only-of-type {\n",
       "        vertical-align: middle;\n",
       "    }\n",
       "\n",
       "    .dataframe tbody tr th {\n",
       "        vertical-align: top;\n",
       "    }\n",
       "\n",
       "    .dataframe thead th {\n",
       "        text-align: right;\n",
       "    }\n",
       "</style>\n",
       "<table border=\"1\" class=\"dataframe\">\n",
       "  <thead>\n",
       "    <tr style=\"text-align: right;\">\n",
       "      <th></th>\n",
       "      <th>rating</th>\n",
       "      <th>verified</th>\n",
       "      <th>review_time</th>\n",
       "      <th>reviewer_id</th>\n",
       "      <th>product_id</th>\n",
       "      <th>reviewer_name</th>\n",
       "      <th>reviewer_text</th>\n",
       "      <th>summary</th>\n",
       "      <th>vote</th>\n",
       "      <th>title</th>\n",
       "      <th>brand</th>\n",
       "      <th>rank</th>\n",
       "      <th>main_cat</th>\n",
       "      <th>description</th>\n",
       "      <th>also_view</th>\n",
       "      <th>also_buy</th>\n",
       "      <th>price</th>\n",
       "      <th>similar_item</th>\n",
       "      <th>details</th>\n",
       "    </tr>\n",
       "  </thead>\n",
       "  <tbody>\n",
       "    <tr>\n",
       "      <th>0</th>\n",
       "      <td>5</td>\n",
       "      <td>False</td>\n",
       "      <td>2000-06-03</td>\n",
       "      <td>A2XMFX1BR0IJFJ</td>\n",
       "      <td>0061073717</td>\n",
       "      <td>Jonathan Reed (jonathan.reed2@virgin.net)</td>\n",
       "      <td>This calender is brilliant and has plenty of g...</td>\n",
       "      <td>Futurama rules</td>\n",
       "      <td>2</td>\n",
       "      <td>Workout Headphones by Arena Essentials</td>\n",
       "      <td>HarperCollins</td>\n",
       "      <td>3,235,148inBeautyamp;PersonalCare(</td>\n",
       "      <td>All Beauty</td>\n",
       "      <td>NaN</td>\n",
       "      <td>NaN</td>\n",
       "      <td>NaN</td>\n",
       "      <td>NaN</td>\n",
       "      <td>NaN</td>\n",
       "      <td>NaN</td>\n",
       "    </tr>\n",
       "    <tr>\n",
       "      <th>1</th>\n",
       "      <td>5</td>\n",
       "      <td>False</td>\n",
       "      <td>2000-05-06</td>\n",
       "      <td>ATKPYXA8XFKGJ</td>\n",
       "      <td>0061073717</td>\n",
       "      <td>Gwen Bates</td>\n",
       "      <td>This calender really is great.  In addition to...</td>\n",
       "      <td>A great gift for any futurama fan!</td>\n",
       "      <td>NaN</td>\n",
       "      <td>Workout Headphones by Arena Essentials</td>\n",
       "      <td>HarperCollins</td>\n",
       "      <td>3,235,148inBeautyamp;PersonalCare(</td>\n",
       "      <td>All Beauty</td>\n",
       "      <td>NaN</td>\n",
       "      <td>NaN</td>\n",
       "      <td>NaN</td>\n",
       "      <td>NaN</td>\n",
       "      <td>NaN</td>\n",
       "      <td>NaN</td>\n",
       "    </tr>\n",
       "    <tr>\n",
       "      <th>2</th>\n",
       "      <td>1</td>\n",
       "      <td>True</td>\n",
       "      <td>2015-02-19</td>\n",
       "      <td>A1V6B6TNIC10QE</td>\n",
       "      <td>0143026860</td>\n",
       "      <td>theodore j bigham</td>\n",
       "      <td>great</td>\n",
       "      <td>One Star</td>\n",
       "      <td>NaN</td>\n",
       "      <td>Black Diamond</td>\n",
       "      <td>Swedish Beauty</td>\n",
       "      <td>1,462,563inBeautyamp;PersonalCare(</td>\n",
       "      <td>All Beauty</td>\n",
       "      <td>['This is the NEW PURPLE BOTTLE that just came...</td>\n",
       "      <td>['B000LXTNMW']</td>\n",
       "      <td>NaN</td>\n",
       "      <td>NaN</td>\n",
       "      <td>NaN</td>\n",
       "      <td>NaN</td>\n",
       "    </tr>\n",
       "  </tbody>\n",
       "</table>\n",
       "</div>"
      ],
      "text/plain": [
       "   rating  verified review_time     reviewer_id  product_id  \\\n",
       "0       5     False  2000-06-03  A2XMFX1BR0IJFJ  0061073717   \n",
       "1       5     False  2000-05-06   ATKPYXA8XFKGJ  0061073717   \n",
       "2       1      True  2015-02-19  A1V6B6TNIC10QE  0143026860   \n",
       "\n",
       "                               reviewer_name  \\\n",
       "0  Jonathan Reed (jonathan.reed2@virgin.net)   \n",
       "1                                 Gwen Bates   \n",
       "2                          theodore j bigham   \n",
       "\n",
       "                                       reviewer_text  \\\n",
       "0  This calender is brilliant and has plenty of g...   \n",
       "1  This calender really is great.  In addition to...   \n",
       "2                                              great   \n",
       "\n",
       "                              summary vote  \\\n",
       "0                      Futurama rules    2   \n",
       "1  A great gift for any futurama fan!  NaN   \n",
       "2                            One Star  NaN   \n",
       "\n",
       "                                    title           brand  \\\n",
       "0  Workout Headphones by Arena Essentials   HarperCollins   \n",
       "1  Workout Headphones by Arena Essentials   HarperCollins   \n",
       "2                           Black Diamond  Swedish Beauty   \n",
       "\n",
       "                                 rank    main_cat  \\\n",
       "0  3,235,148inBeautyamp;PersonalCare(  All Beauty   \n",
       "1  3,235,148inBeautyamp;PersonalCare(  All Beauty   \n",
       "2  1,462,563inBeautyamp;PersonalCare(  All Beauty   \n",
       "\n",
       "                                         description       also_view also_buy  \\\n",
       "0                                                NaN             NaN      NaN   \n",
       "1                                                NaN             NaN      NaN   \n",
       "2  ['This is the NEW PURPLE BOTTLE that just came...  ['B000LXTNMW']      NaN   \n",
       "\n",
       "  price similar_item details  \n",
       "0   NaN          NaN     NaN  \n",
       "1   NaN          NaN     NaN  \n",
       "2   NaN          NaN     NaN  "
      ]
     },
     "execution_count": 8,
     "metadata": {},
     "output_type": "execute_result"
    }
   ],
   "source": []
  },
  {
   "cell_type": "code",
   "execution_count": 13,
   "metadata": {},
   "outputs": [
    {
     "data": {
      "text/html": [
       "<div>\n",
       "<style scoped>\n",
       "    .dataframe tbody tr th:only-of-type {\n",
       "        vertical-align: middle;\n",
       "    }\n",
       "\n",
       "    .dataframe tbody tr th {\n",
       "        vertical-align: top;\n",
       "    }\n",
       "\n",
       "    .dataframe thead th {\n",
       "        text-align: right;\n",
       "    }\n",
       "</style>\n",
       "<table border=\"1\" class=\"dataframe\">\n",
       "  <thead>\n",
       "    <tr style=\"text-align: right;\">\n",
       "      <th></th>\n",
       "      <th>product_id</th>\n",
       "      <th>title</th>\n",
       "      <th>brand</th>\n",
       "    </tr>\n",
       "  </thead>\n",
       "  <tbody>\n",
       "    <tr>\n",
       "      <th>0</th>\n",
       "      <td>0061073717</td>\n",
       "      <td>Workout Headphones by Arena Essentials</td>\n",
       "      <td>HarperCollins</td>\n",
       "    </tr>\n",
       "    <tr>\n",
       "      <th>1</th>\n",
       "      <td>0061073717</td>\n",
       "      <td>Workout Headphones by Arena Essentials</td>\n",
       "      <td>HarperCollins</td>\n",
       "    </tr>\n",
       "    <tr>\n",
       "      <th>2</th>\n",
       "      <td>0143026860</td>\n",
       "      <td>Black Diamond</td>\n",
       "      <td>Swedish Beauty</td>\n",
       "    </tr>\n",
       "  </tbody>\n",
       "</table>\n",
       "</div>"
      ],
      "text/plain": [
       "   product_id                                   title           brand\n",
       "0  0061073717  Workout Headphones by Arena Essentials   HarperCollins\n",
       "1  0061073717  Workout Headphones by Arena Essentials   HarperCollins\n",
       "2  0143026860                           Black Diamond  Swedish Beauty"
      ]
     },
     "execution_count": 13,
     "metadata": {},
     "output_type": "execute_result"
    }
   ],
   "source": [
    "df_products = df[['product_id', 'title', 'brand']]\n",
    "df_products.head(3)"
   ]
  },
  {
   "cell_type": "code",
   "execution_count": 12,
   "metadata": {},
   "outputs": [],
   "source": [
    "df_data = data.df\n",
    "df_data"
   ]
  },
  {
   "cell_type": "code",
   "execution_count": 14,
   "metadata": {},
   "outputs": [
    {
     "data": {
      "text/html": [
       "<div>\n",
       "<style scoped>\n",
       "    .dataframe tbody tr th:only-of-type {\n",
       "        vertical-align: middle;\n",
       "    }\n",
       "\n",
       "    .dataframe tbody tr th {\n",
       "        vertical-align: top;\n",
       "    }\n",
       "\n",
       "    .dataframe thead th {\n",
       "        text-align: right;\n",
       "    }\n",
       "</style>\n",
       "<table border=\"1\" class=\"dataframe\">\n",
       "  <thead>\n",
       "    <tr style=\"text-align: right;\">\n",
       "      <th></th>\n",
       "      <th>reviewer_id</th>\n",
       "      <th>product_id</th>\n",
       "      <th>rating</th>\n",
       "      <th>title</th>\n",
       "      <th>brand</th>\n",
       "    </tr>\n",
       "  </thead>\n",
       "  <tbody>\n",
       "    <tr>\n",
       "      <th>0</th>\n",
       "      <td>A2XMFX1BR0IJFJ</td>\n",
       "      <td>0061073717</td>\n",
       "      <td>5</td>\n",
       "      <td>Workout Headphones by Arena Essentials</td>\n",
       "      <td>HarperCollins</td>\n",
       "    </tr>\n",
       "    <tr>\n",
       "      <th>1</th>\n",
       "      <td>A2XMFX1BR0IJFJ</td>\n",
       "      <td>0061073717</td>\n",
       "      <td>5</td>\n",
       "      <td>Workout Headphones by Arena Essentials</td>\n",
       "      <td>HarperCollins</td>\n",
       "    </tr>\n",
       "    <tr>\n",
       "      <th>2</th>\n",
       "      <td>ATKPYXA8XFKGJ</td>\n",
       "      <td>0061073717</td>\n",
       "      <td>5</td>\n",
       "      <td>Workout Headphones by Arena Essentials</td>\n",
       "      <td>HarperCollins</td>\n",
       "    </tr>\n",
       "    <tr>\n",
       "      <th>3</th>\n",
       "      <td>ATKPYXA8XFKGJ</td>\n",
       "      <td>0061073717</td>\n",
       "      <td>5</td>\n",
       "      <td>Workout Headphones by Arena Essentials</td>\n",
       "      <td>HarperCollins</td>\n",
       "    </tr>\n",
       "    <tr>\n",
       "      <th>4</th>\n",
       "      <td>A1V6B6TNIC10QE</td>\n",
       "      <td>0143026860</td>\n",
       "      <td>1</td>\n",
       "      <td>Black Diamond</td>\n",
       "      <td>Swedish Beauty</td>\n",
       "    </tr>\n",
       "    <tr>\n",
       "      <th>...</th>\n",
       "      <td>...</td>\n",
       "      <td>...</td>\n",
       "      <td>...</td>\n",
       "      <td>...</td>\n",
       "      <td>...</td>\n",
       "    </tr>\n",
       "    <tr>\n",
       "      <th>313259234</th>\n",
       "      <td>A24KQ9RVU81L87</td>\n",
       "      <td>B01HJEGTYK</td>\n",
       "      <td>2</td>\n",
       "      <td>FESHFEN Scrunchy Scrunchies Synthetic Hair Bun...</td>\n",
       "      <td>NaN</td>\n",
       "    </tr>\n",
       "    <tr>\n",
       "      <th>313259235</th>\n",
       "      <td>A24KQ9RVU81L87</td>\n",
       "      <td>B01HJEGTYK</td>\n",
       "      <td>2</td>\n",
       "      <td>FESHFEN Scrunchy Scrunchies Synthetic Hair Bun...</td>\n",
       "      <td>NaN</td>\n",
       "    </tr>\n",
       "    <tr>\n",
       "      <th>313259236</th>\n",
       "      <td>A24KQ9RVU81L87</td>\n",
       "      <td>B01HJEGTYK</td>\n",
       "      <td>2</td>\n",
       "      <td>FESHFEN Scrunchy Scrunchies Synthetic Hair Bun...</td>\n",
       "      <td>NaN</td>\n",
       "    </tr>\n",
       "    <tr>\n",
       "      <th>313259237</th>\n",
       "      <td>A24KQ9RVU81L87</td>\n",
       "      <td>B01HJEGTYK</td>\n",
       "      <td>2</td>\n",
       "      <td>FESHFEN Scrunchy Scrunchies Synthetic Hair Bun...</td>\n",
       "      <td>NaN</td>\n",
       "    </tr>\n",
       "    <tr>\n",
       "      <th>313259238</th>\n",
       "      <td>A24KQ9RVU81L87</td>\n",
       "      <td>B01HJEGTYK</td>\n",
       "      <td>2</td>\n",
       "      <td>FESHFEN Scrunchy Scrunchies Synthetic Hair Bun...</td>\n",
       "      <td>NaN</td>\n",
       "    </tr>\n",
       "  </tbody>\n",
       "</table>\n",
       "<p>313259239 rows × 5 columns</p>\n",
       "</div>"
      ],
      "text/plain": [
       "              reviewer_id  product_id  rating  \\\n",
       "0          A2XMFX1BR0IJFJ  0061073717       5   \n",
       "1          A2XMFX1BR0IJFJ  0061073717       5   \n",
       "2           ATKPYXA8XFKGJ  0061073717       5   \n",
       "3           ATKPYXA8XFKGJ  0061073717       5   \n",
       "4          A1V6B6TNIC10QE  0143026860       1   \n",
       "...                   ...         ...     ...   \n",
       "313259234  A24KQ9RVU81L87  B01HJEGTYK       2   \n",
       "313259235  A24KQ9RVU81L87  B01HJEGTYK       2   \n",
       "313259236  A24KQ9RVU81L87  B01HJEGTYK       2   \n",
       "313259237  A24KQ9RVU81L87  B01HJEGTYK       2   \n",
       "313259238  A24KQ9RVU81L87  B01HJEGTYK       2   \n",
       "\n",
       "                                                       title           brand  \n",
       "0                     Workout Headphones by Arena Essentials   HarperCollins  \n",
       "1                     Workout Headphones by Arena Essentials   HarperCollins  \n",
       "2                     Workout Headphones by Arena Essentials   HarperCollins  \n",
       "3                     Workout Headphones by Arena Essentials   HarperCollins  \n",
       "4                                              Black Diamond  Swedish Beauty  \n",
       "...                                                      ...             ...  \n",
       "313259234  FESHFEN Scrunchy Scrunchies Synthetic Hair Bun...             NaN  \n",
       "313259235  FESHFEN Scrunchy Scrunchies Synthetic Hair Bun...             NaN  \n",
       "313259236  FESHFEN Scrunchy Scrunchies Synthetic Hair Bun...             NaN  \n",
       "313259237  FESHFEN Scrunchy Scrunchies Synthetic Hair Bun...             NaN  \n",
       "313259238  FESHFEN Scrunchy Scrunchies Synthetic Hair Bun...             NaN  \n",
       "\n",
       "[313259239 rows x 5 columns]"
      ]
     },
     "execution_count": 14,
     "metadata": {},
     "output_type": "execute_result"
    }
   ],
   "source": [
    "df_data = df_data.merge(df_products,how=\"left\", on='product_id')\n",
    "df_data"
   ]
  },
  {
   "cell_type": "code",
   "execution_count": 15,
   "metadata": {},
   "outputs": [
    {
     "data": {
      "text/html": [
       "<div>\n",
       "<style scoped>\n",
       "    .dataframe tbody tr th:only-of-type {\n",
       "        vertical-align: middle;\n",
       "    }\n",
       "\n",
       "    .dataframe tbody tr th {\n",
       "        vertical-align: top;\n",
       "    }\n",
       "\n",
       "    .dataframe thead th {\n",
       "        text-align: right;\n",
       "    }\n",
       "</style>\n",
       "<table border=\"1\" class=\"dataframe\">\n",
       "  <thead>\n",
       "    <tr style=\"text-align: right;\">\n",
       "      <th></th>\n",
       "      <th>reviewer_id</th>\n",
       "      <th>product_id</th>\n",
       "      <th>rating</th>\n",
       "      <th>title</th>\n",
       "      <th>brand</th>\n",
       "    </tr>\n",
       "  </thead>\n",
       "  <tbody>\n",
       "    <tr>\n",
       "      <th>2</th>\n",
       "      <td>ATKPYXA8XFKGJ</td>\n",
       "      <td>0061073717</td>\n",
       "      <td>5</td>\n",
       "      <td>Workout Headphones by Arena Essentials</td>\n",
       "      <td>HarperCollins</td>\n",
       "    </tr>\n",
       "    <tr>\n",
       "      <th>3</th>\n",
       "      <td>ATKPYXA8XFKGJ</td>\n",
       "      <td>0061073717</td>\n",
       "      <td>5</td>\n",
       "      <td>Workout Headphones by Arena Essentials</td>\n",
       "      <td>HarperCollins</td>\n",
       "    </tr>\n",
       "  </tbody>\n",
       "</table>\n",
       "</div>"
      ],
      "text/plain": [
       "     reviewer_id  product_id  rating                                   title  \\\n",
       "2  ATKPYXA8XFKGJ  0061073717       5  Workout Headphones by Arena Essentials   \n",
       "3  ATKPYXA8XFKGJ  0061073717       5  Workout Headphones by Arena Essentials   \n",
       "\n",
       "           brand  \n",
       "2  HarperCollins  \n",
       "3  HarperCollins  "
      ]
     },
     "execution_count": 15,
     "metadata": {},
     "output_type": "execute_result"
    }
   ],
   "source": [
    "test_reviewer_id = \"ATKPYXA8XFKGJ\"\n",
    "df_data[df_data['reviewer_id']==test_reviewer_id].sort_values(by = 'rating',ascending=False)[:20]"
   ]
  },
  {
   "cell_type": "code",
   "execution_count": null,
   "metadata": {},
   "outputs": [],
   "source": []
  }
 ],
 "metadata": {
  "kernelspec": {
   "display_name": "Python 3",
   "language": "python",
   "name": "python3"
  },
  "language_info": {
   "codemirror_mode": {
    "name": "ipython",
    "version": 3
   },
   "file_extension": ".py",
   "mimetype": "text/x-python",
   "name": "python",
   "nbconvert_exporter": "python",
   "pygments_lexer": "ipython3",
   "version": "3.7.6"
  }
 },
 "nbformat": 4,
 "nbformat_minor": 4
}
